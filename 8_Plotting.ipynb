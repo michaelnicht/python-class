{
 "cells": [
  {
   "cell_type": "code",
   "execution_count": 2,
   "metadata": {},
   "outputs": [
    {
     "data": {
      "text/html": [
       "<style>\n",
       "\n",
       "body {\n",
       " counter-reset: h2counter;\n",
       "}\n",
       "h1 {\n",
       " counter-reset: h2counter;\n",
       "}\n",
       "h2:before {\n",
       " content: counter(h2counter) \".\\0000a0\\0000a0\";\n",
       " counter-increment: h2counter;\n",
       " counter-reset: h3counter;\n",
       "}\n",
       "\n",
       "\n",
       "</style>\n"
      ],
      "text/plain": [
       "<IPython.core.display.HTML object>"
      ]
     },
     "execution_count": 2,
     "metadata": {},
     "output_type": "execute_result"
    }
   ],
   "source": [
    "from IPython.core.display import HTML\n",
    "def css_styling():\n",
    "    styles = open(\"./styles/custom.css\", \"r\").read()\n",
    "    return HTML(styles)\n",
    "css_styling()"
   ]
  },
  {
   "cell_type": "markdown",
   "metadata": {},
   "source": [
    "### BEFORE YOU DO ANYTHING...\n",
    "In the terminal:\n",
    "1. Navigate to __inside__ your ILAS_Python repository.\n",
    "2. __COMMIT__ any un-commited work on your personal computer.\n",
    "3. __PULL__ any changes *you* have made using another computer.\n",
    "4. __PULL__ textbook updates (including homework answers)."
   ]
  },
  {
   "cell_type": "markdown",
   "metadata": {},
   "source": [
    "1. __Open Jupyter notebook:__   Start >> Programs (すべてのプログラム) >> Programming >> Anaconda3 >> JupyterNotebook\n",
    "1. __Navigate to the ILAS_Python folder__. \n",
    "1. __Open today's seminar__  by clicking on 8_Plotting."
   ]
  },
  {
   "cell_type": "markdown",
   "metadata": {},
   "source": [
    "# Plotting\n",
    "\n",
    "# Lesson Goal\n",
    "\n",
    "To use the Matplotlib Python package to visualise results. "
   ]
  },
  {
   "cell_type": "markdown",
   "metadata": {},
   "source": [
    "# Objectives\n",
    "\n",
    "Matplotlib is the most widel used Python module for plotting.\n",
    "\n",
    "It's functionality is huge.\n",
    "\n",
    "Today's objective is to:\n",
    "- introduce the core functionality of Matplotlib as a basis that you can build on. \n",
    "- focus on tasks where plotting *programmatically* can be advantageous over other *computational* plotting methods. \n",
    "\n",
    "Use online resources including the Matplotlib Gallery (http://matplotlib.org/gallery.html), or Github (http://gree2.github.io/python/2015/04/10/python-matplotlib-plotting-examples-and-exercises), as a source of tutorials and sample code for plotting. \n",
    "\n",
    " "
   ]
  },
  {
   "cell_type": "markdown",
   "metadata": {},
   "source": [
    "## Why we are studying this:\n",
    "\n",
    "Plotting is one of the most important computational tasks used by  engineers and scientists.  \n",
    "\n",
    "Plots are used for:\n",
    "\n",
    "- checking computed results visually\n",
    "- understanding data\n",
    "- presenting data\n",
    "\n",
    "\n",
    "\n",
    "\n"
   ]
  },
  {
   "cell_type": "markdown",
   "metadata": {},
   "source": [
    "## Packages\n",
    "We will be using:\n",
    "- Numpy for numerical computation.\n",
    "- Matplotlib to produce figures and animations. \n",
    "- Ipywidgets to make our plots interactive"
   ]
  },
  {
   "cell_type": "code",
   "execution_count": 3,
   "metadata": {
    "collapsed": true
   },
   "outputs": [],
   "source": [
    "import numpy as np\n",
    "\n",
    "# Plotting and animation\n",
    "import matplotlib\n",
    "from matplotlib import animation, rc\n",
    "import matplotlib.pyplot as plt\n",
    "import matplotlib.cm as cm\n",
    "%matplotlib inline\n",
    "\n",
    "# Interactive plotting\n",
    "try:\n",
    "    import ipywidgets\n",
    "except ImportError:\n",
    "    try:\n",
    "        !{sys.executable} -m pip -q install ipywidgets\n",
    "        import ipywidgets\n",
    "    except ImportError:\n",
    "        !{sys.executable} -m pip -q --user install ipywidgets\n",
    "    finally:\n",
    "        !jupyter nbextension enable --py widgetsnbextension\n",
    "        print(\"You will need to refresh your browser page\")\n",
    "from ipywidgets import interact\n",
    "\n",
    "# Viewing animations in the notebook\n",
    "from IPython.display import HTML\n",
    "\n",
    "# Plotting in 3D\n",
    "from mpl_toolkits.mplot3d import axes3d\n",
    "\n",
    "# Viewing .gif animations in the notebook\n",
    "from IPython.display import Image\n",
    "from IPython.display import display"
   ]
  },
  {
   "cell_type": "markdown",
   "metadata": {},
   "source": [
    "## Line and Scatter Plots\n",
    "In the last seminar you learnt to use basic line and scatter plots.\n",
    "\n",
    "This section will discusss different ways that you can manipulate the appearance of these plots.\n",
    "\n",
    "For a sample data set of values of $x$ and corresponding values of $f$:"
   ]
  },
  {
   "cell_type": "code",
   "execution_count": 4,
   "metadata": {
    "collapsed": true
   },
   "outputs": [],
   "source": [
    "x = [-1, 3, 4, 8 , 10]\n",
    "f = [-1, -2, 7, 13 , 1]"
   ]
  },
  {
   "cell_type": "markdown",
   "metadata": {},
   "source": [
    "We can produce a line plot.."
   ]
  },
  {
   "cell_type": "code",
   "execution_count": 5,
   "metadata": {},
   "outputs": [
    {
     "data": {
      "text/plain": [
       "[<matplotlib.lines.Line2D at 0x7f0aa0173c50>]"
      ]
     },
     "execution_count": 5,
     "metadata": {},
     "output_type": "execute_result"
    },
    {
     "data": {
      "image/png": "[encoded data removed]",
      "text/plain": [
       "<matplotlib.figure.Figure at 0x7f0ab8e719e8>"
      ]
     },
     "metadata": {},
     "output_type": "display_data"
    }
   ],
   "source": [
    "plt.plot(x, f)"
   ]
  },
  {
   "cell_type": "markdown",
   "metadata": {},
   "source": [
    "...or a scatter plot by adding the `formatstring 'o'`..."
   ]
  },
  {
   "cell_type": "code",
   "execution_count": 6,
   "metadata": {},
   "outputs": [
    {
     "data": {
      "text/plain": [
       "[<matplotlib.lines.Line2D at 0x7f0aa005a208>]"
      ]
     },
     "execution_count": 6,
     "metadata": {},
     "output_type": "execute_result"
    },
    {
     "data": {
      "image/png": "[encoded data removed]",
      "text/plain": [
       "<matplotlib.figure.Figure at 0x7f0aa01b3e48>"
      ]
     },
     "metadata": {},
     "output_type": "display_data"
    }
   ],
   "source": [
    "plt.plot(x, f, 'o')  "
   ]
  },
  {
   "cell_type": "markdown",
   "metadata": {},
   "source": [
    "...or a line plot with data points by adding the `formatstring '-o'`."
   ]
  },
  {
   "cell_type": "code",
   "execution_count": 7,
   "metadata": {},
   "outputs": [
    {
     "data": {
      "text/plain": [
       "[<matplotlib.lines.Line2D at 0x7f0a952dd198>]"
      ]
     },
     "execution_count": 7,
     "metadata": {},
     "output_type": "execute_result"
    },
    {
     "data": {
      "image/png": "[encoded data removed]",
      "text/plain": [
       "<matplotlib.figure.Figure at 0x7f0aa009e550>"
      ]
     },
     "metadata": {},
     "output_type": "display_data"
    }
   ],
   "source": [
    "plt.plot(x, f, '-o')  "
   ]
  },
  {
   "cell_type": "markdown",
   "metadata": {},
   "source": [
    "Notice the statement `[<matplotlib.lines.Line2D at 0x30990b0>]` appears each time (the numbers on your computer may look different). \n",
    "\n",
    "This is a handle to the line that is created with the last command in the code block (in this case `plt.plot(x, y)`). \n",
    "\n",
    "You can avoid printing this by putting a semicolon after the last command in the code block (so type `plot(x, y);`). \n",
    "\n",
    "(It can be useful to store this handle in a variable - we will discuss this later)."
   ]
  },
  {
   "cell_type": "markdown",
   "metadata": {},
   "source": [
    "The `plot` function can take many arguments.\n",
    "\n",
    "Summary so far, `plot` can take:\n",
    " - One argument `plot(y)`, which plots `y` values along the vertical axis and enumerates the horizontal axis starting at 0.\n",
    " - Two arguments, `plot(x, y)`, which plots `y` vs `x`.\n",
    " - Three arguments `plot(x, y, formatstring)`, which plots `y` vs `x` using colors and markers defined in `formatstring`.\n",
    " \n",
    " "
   ]
  },
  {
   "cell_type": "markdown",
   "metadata": {},
   "source": [
    "Using the `formatstring` argument we can chnage:\n",
    " - the colour of the plot\n",
    " - the style of the markers\n",
    " - the style of the line"
   ]
  },
  {
   "cell_type": "markdown",
   "metadata": {},
   "source": [
    "In the example below:\n",
    " - `r` makes the plot red\n",
    " - `x` makes the markers crosses\n",
    " - `-` makes the line solid"
   ]
  },
  {
   "cell_type": "code",
   "execution_count": 8,
   "metadata": {},
   "outputs": [
    {
     "data": {
      "image/png": "[encoded data removed]",
      "text/plain": [
       "<matplotlib.figure.Figure at 0x7f0a95281e10>"
      ]
     },
     "metadata": {},
     "output_type": "display_data"
    }
   ],
   "source": [
    "plt.plot(x, f, '-xr');"
   ]
  },
  {
   "cell_type": "markdown",
   "metadata": {},
   "source": [
    "Note the semi-colon when calling the `plot` function."
   ]
  },
  {
   "cell_type": "markdown",
   "metadata": {},
   "source": [
    "Available colours, maker styles and line styles can be found in the matplotlib documentation. \n",
    " - Colour: https://matplotlib.org/2.0.2/api/colors_api.html\n",
    " - Marker style: https://matplotlib.org/api/markers_api.html\n",
    " - Line style: https://matplotlib.org/devdocs/gallery/lines_bars_and_markers/line_styles_reference.html"
   ]
  },
  {
   "cell_type": "markdown",
   "metadata": {},
   "source": [
    "The `plot` function also takes a large number of keyword arguments. \n",
    "\n",
    "For example, to plot a line with width 6 (the default is 1): "
   ]
  },
  {
   "cell_type": "code",
   "execution_count": 9,
   "metadata": {},
   "outputs": [
    {
     "data": {
      "image/png": "[encoded data removed]",
      "text/plain": [
       "<matplotlib.figure.Figure at 0x7f0a9522a0b8>"
      ]
     },
     "metadata": {},
     "output_type": "display_data"
    }
   ],
   "source": [
    "plt.plot(x, f, '-xr', linewidth=6);"
   ]
  },
  {
   "cell_type": "markdown",
   "metadata": {},
   "source": [
    "Remeber keyword arguments must always appear after regular arguments when calling the function.\n",
    "\n",
    "Documentation of all available keyword arguments can be found here: https://matplotlib.org/api/_as_gen/matplotlib.pyplot.plot.html#matplotlib.pyplot.plot"
   ]
  },
  {
   "cell_type": "markdown",
   "metadata": {},
   "source": [
    "Other methods such as `legend`, `xlabel`, `ylabel` and `title` can be used to add useful information to a plot."
   ]
  },
  {
   "cell_type": "markdown",
   "metadata": {},
   "source": [
    "### Adding labels, legend and title. \n",
    "The location of the legend can be set the the 'best' in terms of not obscuring data. \n",
    "\n",
    "The position of the legend can also be set expllicitly instead. The location codes acan be found here: https://matplotlib.org/api/legend_api.html\n",
    "\n",
    "Using the $ sign can be used to italicise a string.\n",
    "\n",
    "The font size of all strings in the figure can be selected."
   ]
  },
  {
   "cell_type": "code",
   "execution_count": 10,
   "metadata": {},
   "outputs": [
    {
     "data": {
      "image/png": "[encoded data removed]",
      "text/plain": [
       "<matplotlib.figure.Figure at 0x7f0a951a4ef0>"
      ]
     },
     "metadata": {},
     "output_type": "display_data"
    }
   ],
   "source": [
    "# Use the label kwarg to create a name to use in the figure legend. \n",
    "plt.plot(x, f, '-xr', label=\"data 1\")\n",
    "\n",
    "# Legend\n",
    "plt.legend(loc='best', fontsize=12)\n",
    "\n",
    "# Axes labels\n",
    "plt.xlabel('$x$', fontsize=20)\n",
    "plt.ylabel('$f$', fontsize=20)\n",
    "\n",
    "# Title\n",
    "plt.title(\"Simple plot of $f$ against $x$\", fontsize=18);"
   ]
  },
  {
   "cell_type": "markdown",
   "metadata": {},
   "source": [
    "Note the semi-colon when calling the `title` function."
   ]
  },
  {
   "cell_type": "markdown",
   "metadata": {},
   "source": [
    "### Setting the axis limits\n",
    "Example: plot the funstion $sin(x)$ for 100 equally spaced values of x between $0$ and $4 \\pi$ (inclusive). "
   ]
  },
  {
   "cell_type": "code",
   "execution_count": 11,
   "metadata": {},
   "outputs": [
    {
     "data": {
      "text/plain": [
       "<matplotlib.text.Text at 0x7f0a951b7d30>"
      ]
     },
     "execution_count": 11,
     "metadata": {},
     "output_type": "execute_result"
    },
    {
     "data": {
      "image/png": "[encoded data removed]",
      "text/plain": [
       "<matplotlib.figure.Figure at 0x7f0a9514eac8>"
      ]
     },
     "metadata": {},
     "output_type": "display_data"
    }
   ],
   "source": [
    "num_points = 100\n",
    "x = np.linspace(0, 4*np.pi, num_points)\n",
    "f = np.sin(x)\n",
    "\n",
    "# Plot graph\n",
    "plt.plot(x, f);\n",
    "\n",
    "# Label axis\n",
    "plt.xlabel('$x$')\n",
    "plt.ylabel('$\\sin(x)$')\n",
    "\n"
   ]
  },
  {
   "cell_type": "markdown",
   "metadata": {},
   "source": [
    "The zero on the x axis is offset by an unknown amount. \n",
    "\n",
    "We can improve the appearance of the plot by specifying the $x$ limits:"
   ]
  },
  {
   "cell_type": "code",
   "execution_count": 12,
   "metadata": {},
   "outputs": [
    {
     "data": {
      "text/plain": [
       "(0.0, 12.566370614359172)"
      ]
     },
     "execution_count": 12,
     "metadata": {},
     "output_type": "execute_result"
    },
    {
     "data": {
      "image/png": "[encoded data removed]",
      "text/plain": [
       "<matplotlib.figure.Figure at 0x7f0a9514ebe0>"
      ]
     },
     "metadata": {},
     "output_type": "display_data"
    }
   ],
   "source": [
    "# Plot graph\n",
    "plt.plot(x, f);\n",
    "\n",
    "# Label axis\n",
    "plt.xlabel('$x$')\n",
    "plt.ylabel('$\\sin(x)$')\n",
    "\n",
    "# Use the start and end values in x as x limits \n",
    "plt.xlim(x[0], x[-1])"
   ]
  },
  {
   "cell_type": "markdown",
   "metadata": {},
   "source": [
    "### Multiple Plots\n",
    "Plots can be overlaid by called `plt.plot(...` multiple times."
   ]
  },
  {
   "cell_type": "code",
   "execution_count": 13,
   "metadata": {},
   "outputs": [
    {
     "data": {
      "image/png": "[encoded data removed]",
      "text/plain": [
       "<matplotlib.figure.Figure at 0x7f0aa0089198>"
      ]
     },
     "metadata": {},
     "output_type": "display_data"
    }
   ],
   "source": [
    "# Plot sin(x) and cos(x), and add label for each\n",
    "plt.plot(x, np.sin(x), label=\"$\\sin(x)$\");\n",
    "plt.plot(x, np.cos(x), label=\"$\\cos(x)$\");\n",
    "\n",
    "# Label the x-axis\n",
    "plt.xlabel('$x$');\n",
    "\n",
    "# Add legend\n",
    "plt.legend();\n",
    "\n",
    "# Use the start and end values in x as x limits\n",
    "plt.xlim(x[0], x[-1]);"
   ]
  },
  {
   "cell_type": "markdown",
   "metadata": {},
   "source": [
    "### Saving a Plot\n",
    "A plot can be saved as a file for your to use e.g. in a report.\n",
    "\n",
    "A file name should be given.\n",
    "\n",
    "The file type is specified using the file extension.\n",
    "\n",
    "`/` can be used to seperate the names of nested folders.\n",
    "\n",
    "In the example below, the graph is saved as a pdf and a png file in the `img` folder in your directory. \n",
    "\n",
    "Run the code in the cell below then open the folder `img` using the file browser on your computer to verify that the files were generated by noting the time stamp shown for each file. "
   ]
  },
  {
   "cell_type": "code",
   "execution_count": 14,
   "metadata": {},
   "outputs": [
    {
     "data": {
      "text/plain": [
       "<matplotlib.figure.Figure at 0x7f0aa0131470>"
      ]
     },
     "metadata": {},
     "output_type": "display_data"
    }
   ],
   "source": [
    "# Save plot to file\n",
    "plt.savefig(\"img/my-plot.pdf\")\n",
    "plt.savefig(\"img/my-plot.png\")"
   ]
  },
  {
   "cell_type": "markdown",
   "metadata": {},
   "source": [
    "__Try it yourself__\n",
    "<br>In the cell below:\n",
    "- create a green line plot of the function $tan(x)$ using the range of $x$ from the last example. \n",
    "- add a blue triangular marker at $x=\\frac{\\pi}{2}, \\pi, \\frac{3\\pi}{2}, 2\\pi, \\frac{5\\pi}{2}, 3\\pi, \\frac{7\\pi}{2} and 4\\pi$.\n",
    "- label the axes\n",
    "- save the figure as a .jpg file in the `img` folder in your repository.\n"
   ]
  },
  {
   "cell_type": "code",
   "execution_count": 15,
   "metadata": {
    "collapsed": true
   },
   "outputs": [],
   "source": [
    "# tan(x)"
   ]
  },
  {
   "cell_type": "markdown",
   "metadata": {},
   "source": [
    "## Bar charts and Histograms\n",
    "### Bar charts\n",
    "To represent data as a bar chart, for example, the number of students in each year of a degree program:"
   ]
  },
  {
   "cell_type": "code",
   "execution_count": 16,
   "metadata": {
    "collapsed": true
   },
   "outputs": [],
   "source": [
    "year_groups = ('B1', 'B2', 'B3', 'M1', 'M2')\n",
    "num_students = (500, 332, 425, 300, 200)"
   ]
  },
  {
   "cell_type": "code",
   "execution_count": 17,
   "metadata": {},
   "outputs": [
    {
     "data": {
      "image/png": "[encoded data removed]",
      "text/plain": [
       "<matplotlib.figure.Figure at 0x7f0a94f1e128>"
      ]
     },
     "metadata": {},
     "output_type": "display_data"
    }
   ],
   "source": [
    "# Create an array with the position of each bar along the x-axis\n",
    "x_pos = np.arange(len(year_groups))\n",
    "\n",
    "# Produce bar plot\n",
    "plt.bar(x_pos, num_students);\n",
    "\n",
    "# Replace the x ticks with the year group name\n",
    "# Rotate labels 30 degrees\n",
    "plt.xticks(x_pos, year_groups, rotation=30);\n",
    "\n",
    "# Add axis labels \n",
    "plt.xlabel('year group');\n",
    "plt.ylabel('number of students');"
   ]
  },
  {
   "cell_type": "markdown",
   "metadata": {},
   "source": [
    "## Histograms\n",
    "\n",
    "We can visualise the distribution of the values using a histogram.\n",
    "\n",
    "In a histogram, data is sorted into intervals (bins) along the horizontal axis. \n",
    "\n",
    "The number of values that fall within a 'bin' is then displayed on the vertical axis."
   ]
  },
  {
   "cell_type": "markdown",
   "metadata": {},
   "source": [
    "To create a histogram we first need a data set. \n",
    "\n",
    "For example we can use Numpy to generate a data set with:\n",
    "- a normal (Gaussian) distribution\n",
    "- a mean value of zero \n",
    "- a standard deviation of one\n",
    "- 4000 random values\n"
   ]
  },
  {
   "cell_type": "code",
   "execution_count": 18,
   "metadata": {
    "collapsed": true
   },
   "outputs": [],
   "source": [
    "# loc=mean, scale=stddev, size=num samples\n",
    "x = np.random.normal(loc=0.0, scale=1.0, size=4000)  "
   ]
  },
  {
   "cell_type": "markdown",
   "metadata": {},
   "source": [
    "We can visualise how `x` is distributed, using 20 bins. \n",
    "\n",
    "Matplotlib creates 20 bins of equal width, and computes the number of entries in each bin. "
   ]
  },
  {
   "cell_type": "code",
   "execution_count": 19,
   "metadata": {},
   "outputs": [
    {
     "data": {
      "image/png": "[encoded data removed]",
      "text/plain": [
       "<matplotlib.figure.Figure at 0x7f0a94f1ff98>"
      ]
     },
     "metadata": {},
     "output_type": "display_data"
    }
   ],
   "source": [
    "# Produce histogram with 20 bins\n",
    "n, bins, patches = plt.hist(x, 20, facecolor='green');\n",
    "\n",
    "# Add label\n",
    "plt.xlabel('value')\n",
    "plt.ylabel('frequency')\n",
    "\n",
    "plt.show()"
   ]
  },
  {
   "cell_type": "markdown",
   "metadata": {},
   "source": [
    "To view a list of:\n",
    "- the bin intervals\n",
    "- the number of values in each bin. "
   ]
  },
  {
   "cell_type": "code",
   "execution_count": 20,
   "metadata": {},
   "outputs": [
    {
     "name": "stdout",
     "output_type": "stream",
     "text": [
      "[ -3.98399210e+00  -3.58566523e+00  -3.18733836e+00  -2.78901149e+00\n",
      "  -2.39068462e+00  -1.99235775e+00  -1.59403087e+00  -1.19570400e+00\n",
      "  -7.97377130e-01  -3.99050259e-01  -7.23387211e-04   3.97603484e-01\n",
      "   7.95930356e-01   1.19425723e+00   1.59258410e+00   1.99091097e+00\n",
      "   2.38923784e+00   2.78756471e+00   3.18589159e+00   3.58421846e+00\n",
      "   3.98254533e+00]\n"
     ]
    }
   ],
   "source": [
    "print(bins)\n"
   ]
  },
  {
   "cell_type": "code",
   "execution_count": 21,
   "metadata": {},
   "outputs": [
    {
     "name": "stdout",
     "output_type": "stream",
     "text": [
      "[   1.    4.    3.   22.   54.  133.  245.  376.  574.  623.  602.  506.\n",
      "  382.  254.  135.   59.   21.    4.    1.    1.]\n"
     ]
    }
   ],
   "source": [
    "print(n)"
   ]
  },
  {
   "cell_type": "markdown",
   "metadata": {},
   "source": [
    "__Try it yourself__\n",
    "<br>In the example above try changing the number of bins and run the cells again to see the change in the bin intervals and number of values in ech bin. "
   ]
  },
  {
   "cell_type": "markdown",
   "metadata": {},
   "source": [
    "## Interactive plots\n",
    "By using interactive plots we can explore the influence that changing different parameters has on an output.\n",
    "\n"
   ]
  },
  {
   "cell_type": "markdown",
   "metadata": {},
   "source": [
    "As a simple example, we will plot\n",
    "\n",
    "$$\n",
    "f(t) = t^{\\alpha} \\sin(\\omega t)\n",
    "$$\n",
    "\n",
    "where $\\alpha$ and $\\omega$ are parameters. \n",
    "\n",
    "We will create two sliders allowing us to change the value of $\\alpha$ and $\\omega$ and observe the change in $f(t)$"
   ]
  },
  {
   "cell_type": "markdown",
   "metadata": {},
   "source": [
    "Interactive plots be can created using module `ipywidgets` module which we imported at the start of the notebook. \n",
    ">```Python\n",
    "try:\n",
    "    import ipywidgets\n",
    "except ImportError:\n",
    "    try:\n",
    "        !{sys.executable} -m pip -q install ipywidgets\n",
    "        import ipywidgets\n",
    "    except ImportError:\n",
    "        !{sys.executable} -m pip -q --user install ipywidgets\n",
    "    finally:\n",
    "        !jupyter nbextension enable --py widgetsnbextension\n",
    "        print(\"You will need to refresh your browser page\")        \n",
    "from ipywidgets import interact\n",
    "```\n",
    "\n"
   ]
  },
  {
   "cell_type": "markdown",
   "metadata": {},
   "source": [
    "We write the code to generate the plot as usual.\n",
    "\n",
    "We encasulate the code to generate the plot within a function."
   ]
  },
  {
   "cell_type": "code",
   "execution_count": 83,
   "metadata": {
    "collapsed": true
   },
   "outputs": [],
   "source": [
    "def plot(ω=1, α=0):\n",
    "    \"A plot of the function f(t)= (t**α)*np.sin(ω*t)\"\n",
    "    t = np.linspace(0, 2*np.pi, 200)\n",
    "    \n",
    "    \n",
    "    \n",
    "    # Axes labels, ω and α must be cast as strings to use value in title\n",
    "    plt.xlabel('$t$')\n",
    "    plt.ylabel('$f$')\n",
    "    plt.title(r\"$\\alpha$ = {}, $\\omega$ = {}\".format(α, ω))\n",
    "    plt.plot(t, (t**α)*np.sin(ω*t))\n",
    "    \n",
    "    plt.show() "
   ]
  },
  {
   "cell_type": "markdown",
   "metadata": {},
   "source": [
    "To generate symbols α or ω type `\\omega` or `\\alpha`, pressing  `Tab` key at the end."
   ]
  },
  {
   "cell_type": "markdown",
   "metadata": {},
   "source": [
    "The `interact` function, takes the following arguments:\n",
    "- the plotting function \n",
    "- a tuple for each plotting function parameter with the maximum and minimum value (incluseive) and the step size between each possible value)"
   ]
  },
  {
   "cell_type": "code",
   "execution_count": 84,
   "metadata": {},
   "outputs": [
    {
     "data": {
      "application/vnd.jupyter.widget-view+json": {
       "model_id": "ecdafefa6ca7416fa247ce25605100f1",
       "version_major": 2,
       "version_minor": 0
      },
      "text/plain": [
       "A Jupyter Widget"
      ]
     },
     "metadata": {},
     "output_type": "display_data"
    }
   ],
   "source": [
    "interact(plot, ω=(-10, 10, 0.25), α=(0, 2, 0.25));"
   ]
  },
  {
   "cell_type": "markdown",
   "metadata": {},
   "source": [
    "You can now adjust the values by moving the sliders.\n",
    "\n",
    "The new values appear as the title to the plot."
   ]
  },
  {
   "cell_type": "markdown",
   "metadata": {},
   "source": [
    "## Animated Plots\n",
    "\n",
    "Plotting can be a very useful way to visualise what is happening in a dynamic physical system. \n",
    "\n",
    "Matplotlib can be used to create animated plots showing the chnage in a system over time."
   ]
  },
  {
   "cell_type": "markdown",
   "metadata": {},
   "source": [
    "We will use the `animation` and `rc` subpackages.  \n",
    "\n",
    ">from matplotlib import animation, rc\n",
    "\n",
    "We will also use a package to allow us to view the animated output within jupyter notebook.\n",
    "\n",
    ">from IPython.display import HTML\n",
    "\n",
    "These packages were imported at the start of this notebook."
   ]
  },
  {
   "cell_type": "markdown",
   "metadata": {},
   "source": [
    "Let's start with a very simple example to learn how to build an animation.\n",
    "\n",
    "We will then move onto an example of a physical model that you may study in one of your other subjects. \n",
    "\n",
    "This is a the full code to produce an animated sin wave:"
   ]
  },
  {
   "cell_type": "code",
   "execution_count": 24,
   "metadata": {
    "scrolled": true
   },
   "outputs": [
    {
     "data": {
      "text/html": [
       "<video width=\"432\" height=\"288\" controls autoplay loop>\n",
       "  <source type=\"video/mp4\" src=\"data:video/mp4;base64,AAAAHGZ0eXBNNFYgAAACAGlzb21pc28yYXZjMQAAAAhmcmVlAABeT21kYXQAAAKuBgX//6rcRem9\n",
       "5tlIt5Ys2CDZI+7veDI2NCAtIGNvcmUgMTQ4IHIyNzQ4IDk3ZWFlZjIgLSBILjI2NC9NUEVHLTQg\n",
       "QVZDIGNvZGVjIC0gQ29weWxlZnQgMjAwMy0yMDE2IC0gaHR0cDovL3d3dy52aWRlb2xhbi5vcmcv\n",
       "eDI2NC5odG1sIC0gb3B0aW9uczogY2FiYWM9MSByZWY9MyBkZWJsb2NrPTE6MDowIGFuYWx5c2U9\n",
       "MHgzOjB4MTEzIG1lPWhleCBzdWJtZT03IHBzeT0xIHBzeV9yZD0xLjAwOjAuMDAgbWl4ZWRfcmVm\n",
       "PTEgbWVfcmFuZ2U9MTYgY2hyb21hX21lPTEgdHJlbGxpcz0xIDh4OGRjdD0xIGNxbT0wIGRlYWR6\n",
       "b25lPTIxLDExIGZhc3RfcHNraXA9MSBjaHJvbWFfcXBfb2Zmc2V0PS0yIHRocmVhZHM9MSBsb29r\n",
       "YWhlYWRfdGhyZWFkcz0xIHNsaWNlZF90aHJlYWRzPTAgbnI9MCBkZWNpbWF0ZT0xIGludGVybGFj\n",
       "ZWQ9MCBibHVyYXlfY29tcGF0PTAgY29uc3RyYWluZWRfaW50cmE9MCBiZnJhbWVzPTMgYl9weXJh\n",
       "bWlkPTIgYl9hZGFwdD0xIGJfYmlhcz0wIGRpcmVjdD0xIHdlaWdodGI9MSBvcGVuX2dvcD0wIHdl\n",
       "aWdodHA9MiBrZXlpbnQ9MjUwIGtleWludF9taW49MjUgc2NlbmVjdXQ9NDAgaW50cmFfcmVmcmVz\n",
       "aD0wIHJjX2xvb2thaGVhZD00MCByYz1jcmYgbWJ0cmVlPTEgY3JmPTIzLjAgcWNvbXA9MC42MCBx\n",
       "cG1pbj0wIHFwbWF4PTY5IHFwc3RlcD00IGlwX3JhdGlvPTEuNDAgYXE9MToxLjAwAIAAABL7ZYiE\n",
       "AC///vau/MsrRwuVLh1Ze7NR8uhJcv2IMH1oAAADAADVayF8oYJVUBjgvNA9NyX0pOD8+0aEKaS/\n",
       "W+kRxFrWNzf+eSO4TQp9X9rSQjTItyhp18FcAAFYwPSb9MNj7345mZM2SCpqc/4dq8TkXuq00M8Q\n",
       "OvVEaAcaB8dFKy0nxv6lS/KsJVTGkw7kt4VpUBgOXNkT5vbbHpQLGFTaisacVyNWLNCImwHFb8yP\n",
       "CePMeSBVDHNL2XEMBl5TMwvoCjHau9D7RwBgcKfh2rz+BOgXuunyP8n78SBHX2YS9/lTVsUPVMzG\n",
       "LNxfvZecE5fhiqSuvtFQDPgaVLXZbeoO85oh4ZAnrx8itOqWDDaRmiI0BFP8Sq6+LZ0CjvnoE7/S\n",
       "DZjm5DXL3c1fWFQQWXF3enmOeIfPtNwAABGHNGPtgy+Op+pATlL/x7pbX3TbzLm5jX7zDnXsPT9C\n",
       "Ezy0T5J9vl0L81Nz1wcjuuAAANlC66FoXlsClhtzbcUtq8DImZZbTpnxmjoJ8+OVhb6V5OJGLw6o\n",
       "rtUXNVslFxPb4pLFAN1T6/3VSVgg4rExc6fp7b6ZA/rwh1zncBQeC+BPwWWGZWjKT520x8pMfUSi\n",
       "OUU1dOEPrsefWBB62d02HffLPASIU3KYcuVLGP9/AlkV+d7HQI7tH+Tup1aGArUFHb5qLfzKLsTF\n",
       "UjahiNVIMErlGfCKhNztvSsYyHNO6c+Fqdz7Y/ot9ghWeMksuj+9qGEzxIvovPXKBqMbEsombUwn\n",
       "kc4DqbrkZbK4gLDWjgeBTQbIw5Z9JvAruoDMmK7M1bWCfpt5u87a9zBSuVyOzaW29hxzgHP5B7ls\n",
       "KId2xuTTuSaHMHvZHLpi3JabgWaS+NN7a3+89ky0MUK3lq1uyRSl29LYCD/QviFKh7D1wfeYoxEJ\n",
       "tv5juWmZJyVamy1Y3L44+Jdg4MDrv0Hc4y1TtkGFlTJFWyd2DYONbmXqfp7TjjYc126bHXun2vDr\n",
       "LuP3nGLzQ+3fSlX5QZBMBBNxqmeFR9pfPzdv6tGFr4ZRf9PTnyTOcDUKQO9KekOzdHruh7DGhG8A\n",
       "2QPkDDuPscywFNfAFaepkeYPl42ARmpqOukvK4wcXWbJ1P8PspfN326rpK/kWPGQloStsMm5t8mq\n",
       "oUv4M1LSABlfoclQ1iZFwVf8HVqKPUkRI+e1v8KnhnA0ivFqqk1OUutb2bGvKcETlEEb7PfOZGsy\n",
       "gSyOfl2rruFIeBzmrFj8XIuofWycOAKQz0xqFLVt/RPfJpgwKKwGh0t07XPZpsDQt7srRKXdKvAu\n",
       "uQuzLXcGzTWRmPoxarrP418Lz9QvO2kz9GutMP0vKNnUo2IECMRQeqfTl2Dp4zYyF2qK9vUwhw/+\n",
       "mFZkgEIatWa9ZyHozf+z5YRc+RDu7dz7Hb2DMzd1NyR1II9Yz46bODpVaOL/qW514gJ7kpoHQUkT\n",
       "Iw5xdJs9gLQpqNhENWPeldqaznFXPvV/yVQGzOl98gGaM6SpsB3Oww3b3mUEsLREn7cDE6zqGg4a\n",
       "dluZj52Z0py+bdZWBc/3zVcuAfeVfDPFT17joDXPDePe4BLqW62OhGZh0PYgYAJs7QRPdUOkfDgf\n",
       "FnpYDJR4MFsX9B4B2tZ7u9pNOYO578j7L+xGnUXrjNmmkdql6FQFYPhpYmcu/iRrz1vhKudIRF8s\n",
       "kBhjW48DI74gVwJfCRv+1piKe2RLWxcUcp3Z+wG1nZCpz+o77JED4/w5YN6KC8tYnk8JkHOwzsy0\n",
       "GiNaWPR7LHUzIZwlwZDsH2v9ZoMkHy9PXwPCz91y5AxLDwRkVhsJRNTMsK+segyW9pYnVxPyYpiv\n",
       "rxTul0gegIBot8S35piaICJSKydEayA6Jfl5LN1nf/zTeL04ozqrGsN2Hbo2FGgbkRWY9FfpPxn2\n",
       "rOZH329qDANcvGD69lVnsDtIc8888DiMtRsNnQzynKWMrAndLq7KgbvXKkV5oVBsVPuqCiF0hbCz\n",
       "qGjN6kXo3pvlYE9uyhbQhfqGo+kPb9lNDYG5EvMC0oNCX/UUO+ZuWARHMakWFFnLwpeBVQIs0h69\n",
       "SJ1jOCcsbgF4CWhpiPRowBkLrFJ6JC7g5oNwKydbYma0x5x+A39PHG7xcwDYXxxSEiGqZgr1UT93\n",
       "kNhr601VNriuR1hvOQ2K89TZW7PUTSsK5AmDXkcnfhMyS+gvENFetvvw/SgFL6b0G8mLqnbtYIC5\n",
       "5xopNXyA326XOM83IBBxco4thil0VQJTTE3dYjZDJ4zx3NDcTy1Ft2y+t+5sRFh1I2wk4+uRNVt4\n",
       "fmE2R32+0r2dcrsut8bq//BZO19WGVaH/YHm9dH7vYui7wu6v3hHHV9UpZmN9TbH68oYEMa9Yr9/\n",
       "DvwM0R3EzCLAMUzLXqfQgRwqg2ILi42N+yClUFq4knFCxl+2lzWGAZWJRQNTMz7+nTlENYhpMjYu\n",
       "g0Cu/lG8eJbSvIVAMbE0p9tb1vvNZx5r8laPwp+PHpEuOhBmToSbFZE/Aw87tHP1MWuGDGpVujkG\n",
       "SQ9oeu5Iakifn308/Li6CCsXIbKGbokCQ4bb3E9crVdn/dqQqKreaNo2fXXqvsWLHnbC3mAVKtd7\n",
       "AtluCNCKYN1rvjM/dzYd9HRFBRnUIysxVs3wU2qwUcQ3HFwOXvXB/HLpAJMFWuib7AiSunBC0/1S\n",
       "oHBjNJLHFbMv+aeaTlHXrVjGITgIsJ3Y12EW8z5DWo8PmdxXrkOKLEM0i/8zLtq4Lkq+hVDL7B8w\n",
       "pNSjcemqoOHnHb+BZ8MCPsqAPceEUOC5XdzxDvcOqEfmT1n7slUuphwWTyl605Nux3zj8PN8+AlY\n",
       "kk/yrbFDbL7OVbXPjKqOpq38bcrQ1XiCShw+Ofzv2U/FCa/TVYqrk5cEUeaWoE3FMSIzJRk54OG6\n",
       "D70SMXxVe8uFzUj2odZ+58If5MbEwyL2pLOn8zuDsZIrmGYbmsa36ztvR6/u0t66ejXDWi9p/2rD\n",
       "vFGUc/XOWQsty3ACpaFtv/OgAsQoxPdubdHTArv+IiDgjKV+1JlziWLdrQfGJsb7wv2qhZcCGP7W\n",
       "jdQRzFMv6Z6EsL0+RlUQRegu7ctrQ+LLByVA6NM8SLtWV4nRuXtcWdCFEf7tzkRp1zgxnKo8R60W\n",
       "OcyLlhA/c/BwASzwaZfJ8AX5703I9ntuCIRyXMFgGXXvF8aW2EPThfGX2MpHlnhqBvNpyXMV0ut5\n",
       "vAjO2AkTbS8U6NfyyrNTEhVo0WVJOHDvayIWoNVrhEuje7l5/HHBYhtPV79FQN7FhGI4RWebJZ/g\n",
       "YS3NFXIA175XPSGd0+a6+qKVLsrdhCamPrn+vhuN1gpCasMLuQYqv7yTv2pam6jd/0/hGt9GG4VU\n",
       "bQlLH7TxZT/tyjCbxh9DMPqBroW1v9LQGkF5C9pYx11hj+84Bqx4eURspAebKRU7l+Jbxl81+mTe\n",
       "paC8pkG3Olq88Xa4KAjYej5x+uKZpDfKSD/R26lR9vdUz1VpjoZ0U+qd+SwBvQtpL7yuHMf552a2\n",
       "pLQWyjF8KKGr0A68WLrfT8eKCIvs/ULsqe4v+Ofwf4PXV30uPdbNxPtbGElAYEUnC3Iv6I0NpP6o\n",
       "FHbE4rVWt8fCgXX2XOcHmTHv3SRk0BwiS0j5GYq11mvONgAM4Y/pZkRq5xwDjh98tlztfMDUAU5a\n",
       "c5H4IY4ozkC6a5yoPCpz9q6gF5pFpSij7EcZ1SZuecGnVxcCPUP+80JN2axgEpwRhDOLyTMcD9bR\n",
       "/enW0a48A45l0m/cSr83NTvnSN0H2HjZ+QtlpUqHzkFj55fXIBSg2fvT9HUyNmnEk3MXxdet30Cu\n",
       "vu8d8L/Nmyl6QqI2l/z4z7XJAiBLGzPhgK1TGV/plhq8snfwHfX/3yAJFAAqbAfKJ+mgrrlqmWJL\n",
       "LtjD0g1/4OSfvVGYj4aASAMXJsSnx4A2xsxMBG65t5zMyFv6nzLNF18vCVzocTyQJXGj27v2iB3+\n",
       "O4H86L4/hswJgT1abAgRBBH6bvHn69Bv+oFfeHPSVMGCvCT/HoTnTeXHnhNOT6/ifrreotMraMFj\n",
       "EdY89EXoGVvrA4eoXHljz9rvFKgP5xH+TrdNuJ5yjGwgioSneN/k13VPO7FbxDc8Jh/NjFnXe6x/\n",
       "1lKiBlRuxhMVKGdGgUE0B7/HXUtVHdbQXwBS8R16dKcChXrk6s3wAsWtuxEQgkeWypax3qCqXL1F\n",
       "vLbTFzoQIG87qStCoVnGQYGa3xaK6wk7h4bxLM/nHmoNCwPtt+gAANS4WTnTOlQ6Ub5/h/Umy1SD\n",
       "FmAQlL5cG4xvwGnANtmRZCj7zEat/5l+Z4aOKX6+JquJPumX5DhvoqS5/cFQjfTDkX1bZJVaSu8K\n",
       "RPis4Byjr2ThVxEoD8r740NAR8YMTriHJ8RznDPJL8h8+HCwfRMwXSHMoNje9I2xRkSD+4f+iNtZ\n",
       "KXegTJ7gvkcF3HSSSUlF/CfkPnfW7+omQk//417lR91LBEJBzOZvYsE6gjZIWk2EdxxDrmlr4nHO\n",
       "NCG3+LPoVXtA8hftM6qY4nmLlqnOPPS+EyOKNSnp9g9z/tm65sVeDk+waykPmvPjP2kEjs7rIILd\n",
       "Y/+lBxdOGRnc1WZ6+cP0rdcFXzZLcIBntTaw48zGPW84qFYwFwsu4VBj6WNUKZGn/hE8cfsrrzFw\n",
       "RE+L8HuwfXo5j1vy6Lza/8Xu8oowe2iVlnPt2bpbcfkKPgNzgbdGUZjhaDeduT1Hqp1nt5bZricR\n",
       "C7Enz2WkRLF+fjSRzYEC7bJuOyGk4H6akPB0dJSjcz7p1U16cFgL1FX7dVFFGH/ecanjfmbT6WX3\n",
       "7GO+ATEg2OhswyMn1vLSFDyx1veT2G7u6JezLN4+E+5GiBvJGoFVXITIVRnnGdCv5K4r9lCay/A2\n",
       "t/akAY+YSWO02od5z2roPAdYKiGM9bt5Fq34/IVo/rCKYPkP9hjaARHMfgzubhlqSJjPbfTo5Ayv\n",
       "JCML5n9KYRe1x+KAoGpv3HmEft6PvM9uc9cW0ix99MBdCoYLce8Y/yEuhFtpSMohBmR9nThLAYVk\n",
       "7b3m27GcGpcYWqsxo7W1q1QNKLSgFk5TeLamn3JGY/vcKBr9n+GaBCptXnfDfFM8ZZwrQt17HLAk\n",
       "F0PbAQURR+in33BsSlKbL6PItN3jtAj094aa6jHKI11k8i8Eia8BXqGHORWk8Vnd5A5S1LzEsGXl\n",
       "vuEDlJJbykx4nBruddIz+o5sVPJ29BrdmIyBJ8PZXtSseMyMzK0f4IpC5AZzBChEq61dRKRXcJp9\n",
       "i+cSgkrApbAfMbBhpueg8ZcyGiwIerIb6gPOuGUTV96RZbZLd+n6PfRE2HIEJQB6bN+K95p74+5c\n",
       "BvyKIcAd110F01H+Ka0NilKUcnvt+iLkgt3bumQHE/6lWV8Wdzl81rpXP7aRO5tqI1UATjDlJLN5\n",
       "gkNjKiV0HOqg8G+fCSgw/YsL9u57o3klIJrKUwxz1h43nv3UCD0OY8SROzYdHRpLm7gGM8brE1zl\n",
       "S2GSzKWXtb30klJ/CkQlmVhVk4grtXUAilZKeoKHW+KAVwuWfzLs1P5KGZdkbvSkX4N591ZhdRz8\n",
       "r8D+41FNPnnSvMRXknM/GM/0ba/4Jpb7QfV4AcEepP3U0PgaZUdLZMzvXIJI+cUPnawZsw0//WKi\n",
       "mln29Nqot+89OZ7kQzleDs5d85XhGbl+Ep1FkynXZ7+yBg55/3p83L65EmVqPJFeP10ZGUM9LGvv\n",
       "jO5dgMc2paVOtfT8dzVQ8jKJJLmUv0SGL5pn8uC6r8nDdm/cUsxsTc/6B96Ng8r4iQLfIz9RlT7R\n",
       "vb9dZiYniSq07V5zkAMzYkZWiG1SnNP4muvSZYRqZuC90rKpv2d3KQ5mrp2gvoFcCWMJUK5g1rMw\n",
       "AEOij5Xi/DhbgskpRJztU6fpVVjQ1+qlEO97xoRS9YkHGkWwKCHaaE4hDzph3vUg9puaaFdd0zOW\n",
       "j9fi8dsjmkuHZjxJrvFBlvIIhBXDHOtlwaZujOipMaVQU8lhhE6G5XlL4Ahq1TQZZ8RJr59/3QUt\n",
       "s0HxyBJCe4ETUmTAlnimHqp9QPPcjY4KhIDHs+mcjcKJ2JSdihh2hM2IUIAuxogn7SBj0c00Tys3\n",
       "Z3gcXjJh4Ht//GPrR3HKoE+5KzvOk3CMe+D9Yu0+Xe0uLtGk5WuaAeExtBbFPFHPMp3mGc3OfIRD\n",
       "0+Sl0m0xUcBfKdoATIXDgl8XgfBqRa+zt+9jmX62BgzuRz0ZU/9VxCoJU0e0yC1ZUDFFuTPAOLLP\n",
       "SLn9KFamxeKKcoDjJ0/2DgOZ4sWRWoGST0DfvMOJoW1qZc8lzs4E48W9BN51xC7Nu6uStUG+rAXj\n",
       "cjA4oDuJRwtUPDe31IJ8M0bZ8FNMhRyMEl6K6J8Ite4QRZesiqkxliHvXnezsD9S/iXEguQfNqpH\n",
       "/elDyL718S6zDV4JEoAza2XZIRgC4xnefiWdS0x9K5wPIYdMX47SaOx3/Rk2urL56y2O/12AAAMK\n",
       "Pg4MFbxRX/vUjsEAAAGHQZojbEL//oywA3lbkALVn2SM41ftpb1akY3rfJtPI37WZnq2wnjAGoV0\n",
       "QAFZJdZxCu/p/pibMH2ngH3gJfSToyUq4CNJ5TPeB7F4B2NhCu4kGh3i1hf4I8g33oOYu9BXobJp\n",
       "eJv5SqX+hHgYTZKiHp7u7plTguiJJNu/tWkZVT8DBQtho76yyfnr3kWM3Lwkm6X9F8MjyZMCftS7\n",
       "ACUQ+fPco6up3Ah5/JrBEIfq42MtbgaXQpJF82RwK93X0wEWsV4rEq47+jUJYNydix5SG/r00LMB\n",
       "IhabpILU6rFxaoT0aQB93rZ7gt4js9oScZrUOM7/2plVSK62+7u3Uo97ERkjUxacr4lg24YSpP22\n",
       "5HDjqRCxq4er3aaXd7g9KJu60Vno5oo7zNAVKUm8lkSST5cUxwc3IdjeSWGPwMx/A51O9gau9b0M\n",
       "8mWlWu4PD5ziqKTU3lfdGiyPtheIqJV4DRYXa5EWoetD32bBr//CCV4pZ9jl7zn9KMWf8CmSCNR3\n",
       "gD2B9hkBJwAAAKBBnkF4hH8AR2Dv1N5/xHFzD0BzGCnKaEyRw9oIDJfTaR44xyuilvcRn3KOdoV1\n",
       "gWKjT8y0VWWLUcfACc/D5hwvsJMVTOJsgSJytCI3n31rr2OejXHJXonDCddJYevIVIGSqczTbOJJ\n",
       "TpoOs9qC4cSYfhf+N4zCNlO1drywy1dTj4qgykFvIwmf3PmVJf/S1zKjj9Dj5I/rsew8tjPUq8CB\n",
       "AAAAkwGeYmpH/wBpn+3AaDJGL4do1+QwPOiPNIekSu5sOidhRQpFySVfmVQoIqqcxVBGbAR7EOoV\n",
       "zLSoaKeQL9DsfXvIoKhwxYkYQR4NlP8Cwb0VUPjZRBIBEflIzj9SYjIjlZg2PQqySgCljaVeRvV5\n",
       "ZLZFBZhSK+3pTHlGMZO2Bh4JMXAcGBiUhhvZH6V/sdhIXP0FJAAAAXRBmmdJqEFomUwIX//+jLAA\n",
       "3j26IBNKKeqgwBKW7nRczYbsACQwbFhvkFIUQomW+MJi5On+ULdrlf5B61NgxEsZqOVirOxnNkRK\n",
       "qHBmSiTK9w5ba1TjRmqz6MqB4ZfFtCG2rjagIqE4SJ01FawL3h6NJPOyo4XZgFTatC7Gy3vXSukg\n",
       "SA3Uh4G4ycNvsBITTdJ3nF4jSBQc657j1UuX5jBDf0ztGCUa7IeSomc5gyrMz/is9FJ+6p+SacsK\n",
       "BYG2nPAut1pX/heHdH3E4DKYxJN3l5jbXE5n6Yp9oKDslRRVyFD7AsAos9iBsM1pfb3WWWcGoJgc\n",
       "ab4/fZ6OhjXVZlfbLUR2BZRTLcV/b00w2XDSUvVttAGUFuB5dTNLGQCP3czS8taO0r9fcxry1h5a\n",
       "qrdM8/W+pxe0gejt+15/m9K3FVSOjer93MIIMYmWoW0JN92RRJVyV/0IIwVsmkumotyMlvgDxg+n\n",
       "pn1z/IfoBFFg/tJdMtEAAACvQZ6FRREsI/8AQVcb4ebdoi5jIoSxPBpGeqNBJjMA+jSpeLbexhI1\n",
       "jeCTB5tAndMJWYFKQ7R2kykJLihzAjWFa3pqsMNhYOZ+LOn24l3FQt3Modo2HhaXcYbYi7zypmlp\n",
       "CnZPzhUgjSKGnTjMCwPde/Ku4kXjOy9R16WexMnUOF8yjh2SBic+PKzoJAL9JH95x5SzA6XzbIbn\n",
       "xuptEA4dYh8tggRjeBXSX7zBlP2O2wAAAGkBnqR0R/8AaY14VjL58pFFAPhvVpr40gULXU9SO5OW\n",
       "NcX2NnVAgNvcTAlrKcEysp81VWmWIpY4ATejJTKrOLgbMRBRdhXH3Pk7HV542LBF2+048Nv3SUTY\n",
       "68htYTcvVC+6xgsV7nOFjUEAAAB9AZ6makf/AGlx+iVTscdBSxFk1oSpQjqAA0F4mBB0IVXPJIkF\n",
       "60Y/Dj2HDmGrWoIT6HlYUylzADNuwYWQLDBLRzZt0uMvU0BRPyknZQAfhOI8PAwsi6yh+ZVlGrSp\n",
       "7ma6dvqd9X1rLNjZIvWbX9fcDrF9KioIf2HUKZ0roacAAAE8QZqqSahBbJlMCF///oywANBwnPc5\n",
       "lsu1lH2qG6KaXgRKb6bqA07YygmoEIQpsIGRNHzg3i0cYjK+cUSXB7PmtnRHb9yrAX7BrLPrWuW3\n",
       "5Cb26X7xZZff/TPR4IiaxLDIO9tu2Ko2zk28pNnHsqLjSsCAWnfxmh8jioa54k505FW1mXPFWcwa\n",
       "PHFygjMi1fDbDdGxVwYwzpA6Hx/myH6UYp1ADm+FwjmrDL6KROjizfK9H+OMiCj1AlOKCX6CAMf5\n",
       "/3Y9MIt7UeJWdCRqiaunrkQGS5/UffO0YnXAcOG9oMuYH1GLWfhAhmjwxFj81SlCzJcjq0Lm1JdT\n",
       "2u1qI3ohBib7WcM/5HdR5a8ID3Y5raQYCD1nznFt59GPU1ZOZZBZ7II+wDkOtGaRToXKYi5P7d+4\n",
       "C8ieyT8cilSsYAAAAJZBnshFFSwj/wBBVxvj/kgcbayPrcHLfMY7emAnCxLmvFONF2NWg3BXK4zd\n",
       "9UGAJZPY/pqiLDm548AKj3OhoywAy+wSyAjDuh8r5vfj+RdmDM2GfbO52olBpuXoHugGyU4pFAS9\n",
       "z1NV07Z19Y36I8x6K5heZNyNNEykq7vIYtw+rC1IIkYOlPf4VeuOV3UQ9EacCJfcywQAAACPAZ7p\n",
       "akf/AGl5DHf9eJR6H1I0zs8fTgSn3Xzb/rDn2wfBZi0PQ3OyD/KVYPc6ZtXyBTlrdm/TpFv/eWuX\n",
       "Gw72DVUoN92ZSEhpafX8yawAfhDt4hsgYT5hXjLRmpY44kBD2zJ9b01JCSHu8tQia0bFs4rG2yNf\n",
       "b5NBInUCvIUQk1GB2H8I2d3802fdpwSp5GEAAAEaQZrtSahBbJlMCGf//p4QAMjawAP8yoApCeRp\n",
       "gl5obktpG6m/WygAh9QLHEFdVI+jTzTOHT9I7c1bwPfk0YvQW7hKwynCEDziMOBJX5Sbv8RxCo3K\n",
       "rjQctaZ4MhQUjzKf37e2PfENImUD4lv25+ASRku6useJLnB2hvO34zLwjioQItbOQP/u/ztCQhHF\n",
       "KGWGaiXhTt5EfBbzrVwx4JgYWxSEqH8amnAwbL7iX8gly7RqEJyJSRp0C3SRX9jMwXPKKvWdDtKs\n",
       "2hSJ33hlGBblXkQ4nFSmkbEY7sowcdBfUkWtiVQnMEnv5uQCOz+6MijeWTiPDrqmozB0xz5MfA0z\n",
       "4EkMVB3ZuMEn+8yRllj10q+8f3y3xM9e7BiAAAAAnUGfC0UVLCP/AD94mVKl5xALm4lU6cI+Dvrr\n",
       "K3kPJWVVbh/fSA3rpqNMpPpUFQZb15zSjOEAuV3az2FUy1N/+QOJqQ1D5tM1jxd8iKmpAC2kl7wl\n",
       "vqpBJInaZzcjBcFnM9K4zgRByf/mf09fvjj3RhX/C2doZGhkWrZWGGtfQmwj1ff6QP9XGGIdyJ6t\n",
       "/zkzRyZRCxKjHUAHlC5j+SEAAAB/AZ8sakf/AGbx+QdKWkqNB1a/pMZS+rYfZy0N/xtpV9H3DeSK\n",
       "Du/LaWs4HNAISSyXapRd585xsUYXGG/lbCoprX2j4euP7KTiYxUNtR4Py0nZ6YlczPniR4hU9tsF\n",
       "LFhLmZykbmyIa1XAeCWOKAMfdto6JprlDetV3V0YOvD1vQAAAU5BmzFJqEFsmUwIX//+jLAAyiyO\n",
       "nhTaAC9ELMORiXbpZP0ZZL/Pe/c6/g8cDYDTCNZHoH9EcDGLiuOwBKXpScQxNc1xien7CBE7kOlq\n",
       "Lcr7RmCRm/TEaYaicganqVXxnzlCF2ykmueBqZGryrtUd/iKKh6B74yUTkfX1BoKBCPbY3VnSQSx\n",
       "cC/NOhlhvuGedZLU8r/NAoTca5/+fLojhKJxuTsiEmfg+V7pxeqKhJjSlRgSqJZDk3DIQeC1u6fa\n",
       "uUB3CSO0H+7tQqYeQjDzuY3oUPJ1hAAA4e89LuEDJ/2wHiaDriyaoV5MDlVLcP6BwAghHHOwEr3L\n",
       "FCa4KDMjByOP3UJY9lpvHeda+w9nwLiW5v4F9sOZic6JQBDyh9FVe6Gjw9WjB2t8Uxpcks6bubrw\n",
       "A7P5nTNblZVXYkeAt+PyuA2YnwZ0q8vw/cuAvnLBAAAAnEGfT0UVLCP/AD+N0EELSWjac8/f2HoJ\n",
       "r1CNoPlP3zKd9aRadkX92jtIJL0gYGONnF6j8rzvR08BxRieg9A6TnzLbxUDoFRVAfuAcM64vGhO\n",
       "hoNk5UAUZob6ADpxd2ZQKz/cqu12QvqMr+5fjR6zJf3rMWke7AAcTAAAAwAF7QxubiaO9vliZRDs\n",
       "1iebbmGVA3NHbGfWLuuCbtNabQAAAGMBn250R/8AZw14VjMGK7efdQCcu4DSuYuNUgy4pWgwfXkJ\n",
       "pi3LPqPy+IpmSrGVM2RsBM24v/e5bAPaFGmrQpoD+c/qJy4EonUKx0EI99RRfaXE80thJ0/oYmkh\n",
       "6AtK/GyBl9AAAABnAZ9wakf/AGbx+tI8zqd3PQ0lGqO2/PC3sn3dENRpjTxyNn8Jl8/BfH8y5yW0\n",
       "pbfjo6oidljWSp/wlWOcIkpKlH7kWqllMcdpSIhi3zaiGSQei+zKDrNVlwGfMDGoDkRRfL2L3iWh\n",
       "KgAAAThBm3RJqEFsmUwIZ//+nhAAyfCc6z/8eZu8WexgDFt4ua/jS9AEmZYTYgt52imvMndIxe4A\n",
       "iwpbHi5oWRthWDLtmzrjLEsWNzPuDkpe6hLjZGN1Fpjt4XS/Rjd84pT6XCx4ZhluJXEzCEJEPXV9\n",
       "FVLedH2bo6esgSxTfb8/hn+5ZbxG/i3ky/pRr2bgmPWpAg+Da8x2KS9aplQ7SyXAD9yrqzI6z3c8\n",
       "LvkTD58Ujce0Mfsxv5sLLDPbfdID7xeqSL5rhMMlAi0OPauFzIgnQ/KOdcjTpRLVrZljCfa+Wc3R\n",
       "9Rvtxv72d0NQemXLfDP/U1pGpVKbnNDY7zSRufRzO2iiWOh9cgcUmfFR0jmaLLNq1Joqkm3+etfU\n",
       "m2lB5BQ3RTmzGXrCR0zkRXl/m+cQwQKkOxlp+Z5pG8EAAAB7QZ+SRRUsI/8AP46KXUfX3bZlN1V/\n",
       "HBav/SRS6Z5HIHK4VYL9vXVoCgFfpiJ7LFYZSGa3iPQnnuVLbY10q9Yjr9h7ysmqJuQoN0CT+akE\n",
       "liAFAHX+6X37O2tnyXGnIeBrivAS1Yr+0JFOJlRNIqySGqUn6BiP0GRqqPqEAAAAiQGfs2pH/wBm\n",
       "/ZAXgsO/N6BS0GX+CnBlpti42fNkCeepmUqOv7WhFDhgAwNdRj5Fo+YS6oZh5Mhfyv+XtGCccnqj\n",
       "SnOwBomM57lIKJCzUDnprlZmPNh5X1RDThPrtxRdsGV6UJ99JNUG9+NN7fbAAfh4k7+7s01pa0DI\n",
       "IfxBbEq65YR+0mMhhQSUAAABcEGbuEmoQWyZTAhn//6eEADDz6HVzo/A+AOM0zHrufscSCZQxkAJ\n",
       "tYGIBxT4uBi9W21f7md10JSa6SNZ4FU3bK8KK3l7OdN067eCEoccLGs+mrQmHcfnRn6JRe/6EAAE\n",
       "QRfTdA9it/9D/sMt0J562SL6uWE/+90Z9bg9/OJG2VXcUNZGUtgIz0MpQKeuRIV5/zgHNCAP7cGF\n",
       "UbdR/oAb2Qsr0zDe7nV8rO9414gPkJv9Vxr/0d36LvsPk/vkfyWWZods9yxurIrdI/U1yCwezxRy\n",
       "HJZc2hyW/g416tqr3s2rXEchbeYz8iiNc39cu/uKRUgv/WZAa7FFdtoYMmgxZSbDZi5AQpGFPvXG\n",
       "vDHQvYK2885uguFTeMBp0mooTOr4gNEKrsccUy6O5qPQ9vPg7ZDsWxAp03mzfKwQzx0qOTH6JtHq\n",
       "LFPWwulr7u4w2d20kgykIomrYWZvLJnc3N+oZJ/eZKHBAYl6y8t/anvtFj5hAAAAukGf1kUVLCP/\n",
       "AD4YtXvO20ajEvOaFNOzbHcl+VJ8KSgwANRMZxenLUxGRnRrM1ejPclsTrqb7SrpW87DAj0c52qB\n",
       "TulyeUSOSrfT9/KttrZwnowfIW2o+521Arh6Vhjy8a61Ws1XzFxmuWPPrdzfXOPV6kEbE3dwBqU9\n",
       "bBsbNCIrXNwqMU+8woMtxfyyQiv4Xr00f5PXQQM+u5iylbVNBfOg7FSEDyuf9VMv7NexM4LSm8En\n",
       "m6Q01gWy0AAAAHEBn/V0R/8AZGlzxHds77Uagb8l6vszDRZCMlRiNi70Q7HmeVslKMVV1wBuNXpw\n",
       "KmZ0Wut6Hq5r1yy94OUMCBub7jVYNxiWqHFEKM0olOIoekhPwcANbbi4HXMYKsT1Pf1EQgej07KS\n",
       "gGPIvyNlRk+nbQAAAGgBn/dqR/8AZLpOnp5zu3LRz/QhQ3Muf41TaX8IJkfmOHsJR8E4N4t7eGfb\n",
       "Umz334loyPgBVhvQ++8RD0ovVPlXg9qXhAcg9MROG2jasxVolOTwsTohd8LqP8ZVYdlaKKXGJW/s\n",
       "bPM1AwAAAXtBm/xJqEFsmUwIZ//+nhAAw9rEWUq7uHBBVoAOHcWC/gBVdZJfokv0nVQQODBFqhGq\n",
       "d//SqBkPIn/GC/yZk/GLVuuc4GbFm41WRqxLTuoAAAMAFcJ5kmo/tWS02UxDZ15ciBn0lrfr7Yqf\n",
       "mDcB/Z1iVySMwRIXzOuiKNpaz+TkoNg/loZBgupQSiQI7CxDqHGfEZnYGV8fgRcn87BdfVRWgpxi\n",
       "x5aZiZWABknI8m2IvRnognN36kR3n+FLMq1WFuljKAM3ocCOdjIFezFmZdFN9894xqDEpbL+fToh\n",
       "zk+jeuB6bXZ9x8yL30sgMpcl3NaylOYrmDTHnulg7w3gaKTDlK/ahktu/gAAG0MMkCCmi2GQsFBm\n",
       "1VxNKdkXCQTlG1stxaTajAQmNOe5Qwf+03ODkmzgXstRA8flZCe1mULEhGePC9RC3LWGB90gKfLB\n",
       "fWtGaryIddJKr4KE3bCQPD4TYxC+76C6oMx7reMSk4Db3z8zGCImbEOu/IE9AAAAfkGeGkUVLCP/\n",
       "AD4YmYueuxoNheO96zoInXl7GqUPgbWRsQ4dPRiFfKKH5veL/o5WRc/RR87/PBJX5jLzQQvGvTV6\n",
       "Ls8wuwZW+qh5jR6SAwGPNLKu0TvwEdfgBUsLxh8AcZVF8pWj71qbtoc4tSRjTZSJQzVG7zVfQjta\n",
       "qof03QAAAFMBnjl0R/8AZI14VjMFq/E52Ua9Gb8AEgFt+hXD73hCZn40EFtG+GZA4pbjaScMQXn+\n",
       "hhsFm1nGrMy5C0x+6wzKy5IDcXZ64pfve33gn3lYRieSkAAAAHEBnjtqR/8AZHH6IwIkZEbaMCuG\n",
       "SFOHn4oPwsgaiHuYo1OUGaEZyKfeOmL05IRzmkTWqjQxL5AKRD1OxqyNQBfFVvyqFc41ajMG4zla\n",
       "gJxKvVPxP+2f8U1VmOmSztKnuX4hPhEpsv3jxmOXBJislfVDIQAAAZZBmiBJqEFsmUwIX//+jLAA\n",
       "xnCc/bMwpgBm1gTemHFsB6jkGUREIOnhOfm8jZwhn3CBp8eh6KYklNXerv/O3MswXQFh/YjwDYSe\n",
       "z+Cuvq6qgZ9wAAADAtsANDA3uzVYTNkzS2fyk0BQsV2n9+mTq6CrUSFsxGklak6AFC7nC0N6MSBU\n",
       "RUBxufT8x58X0IAFIN3ZqivMfVvqFmAWhk0E+EI6a08IwkZQwdeoAgi6nRf+HLf+iXxQaWzY8tBh\n",
       "NGGOz+WUQOosYCt9JdOPaWJ4nKbwfoQM2ScHJ+HuIm4R2jTVht2w5Im0zUhiAoUDi2GHVehdoIT6\n",
       "JH233e9eJlbKQoVH3HiB0ZXe0g+X73cFKq3SIYqCGikN5//s13ShElYwXYrGkBK1rN9K02XdPc3v\n",
       "JYzzgiilFyJEyNMIdFxBBWE3Z7EiwaeftdNQ5vXAowqokBPQL8Ep9a+a+bRYERJtVxL4O6qzG6vP\n",
       "wgfcmZx8gtHHKdM8OXs1G/3WX6t/r5KRVVg5QPUogYsRa82SiBrCs5ncIAdYUhnhAAAAhkGeXkUV\n",
       "LCP/AD4f+Yc9RaZX4szVJEliGx4d7DN2HeLyIzUN8E1bQCrrt5XaQ7iN7VZen4/PMzB/SWRiAkIz\n",
       "kfvFUoUHPorgHCw5iOO2WtqNN9N6q3NSn9xF6t6zwpVFbWP+/IwAs9e4eJDorKW20R6P8MEwKjSX\n",
       "oVSSzC0rCQJHx1r3RXxwAAAAUgGefXRH/wBkcCrb7sS30G8C9LMZti1jjX3BMGAvCk72dcvyV7cH\n",
       "Rgs0IBQzZM/tLY2bEOe7MGjCfXG3z8VmpDGs3/ZpElIiQVpuoaEoUUpTZowAAABoAZ5/akf/AGHx\n",
       "+QcyzTh+B/5u6CZwvmUIQUQiCXVgfB8GJ9493qhRDVh2ob/Y4bAuKkKCGatxOWszqg7UEJb44a8W\n",
       "uRXxfpGIRndw6ECcFEcFiKO4r0MRlR5gKWBI7G35uE1yL9dvE5cAAAFlQZpjSahBbJlMCGf//p4Q\n",
       "AL6u9f7B5Z7De7T0uxq3AYgCJfINplDIDziW10nqDPKDGa3sWKMZdy9dyHjWMJP2LKqOkUSLOAY0\n",
       "ARWvvC3DBil3WN1lRJakpWn9nFV/8Ldaa9KzoNKVLmFlwKv6p6OVa5JJWpWr1oQUakgPJZgg+uV/\n",
       "I6diofvjasJeOOqILqlmwMVgNZGvSMyqzVxVyv1+Wq1/uNwhtPf7d0LaDsanJXiS+72Z0BhNgNQ2\n",
       "wJ/jbVW6U3dq38MheDIQ/5eUBrwdZJgmXq89tImvDObfEXF4aFkzsMGyohEqDufFkIavJfVQApIP\n",
       "+KpGwCjf93QMo1+n1oDaBJGalAv0No7GUkjfy9PHyLJyNOsPwwTorM/zDD0F98wuSMK+9OEPxMDw\n",
       "CZZoApWpN4pMJh4t65lJa7H5krI4bwvGs3pqrGTBfGhbXzoaBRMlSCB/NwOIwLztNJO5HZ5xCa7g\n",
       "AAAAjUGegUUVLCP/ADzOil1H1++vqlicCLFzatx4Cse8hETCQY50Jyh5CTFgrVOzwoMMoGBmtBil\n",
       "nFp4dUkLqjcEUF+JopPji9aoHfB6I6eVBF1EEhPQ+kGLwYmorGeGeIBkL6NhLG8FAjfJrGNqSMoI\n",
       "ggNbgAC217iiIuMa85dyrrvDZHEPKihHTt7JUQ6CzQAAAHwBnqJqR/8AYfH5BzLNL4Tfu5n3l1im\n",
       "I9D+qHbndHVw5SvDwH4v/qDpoemQs597B9DPY9+sv8DQNFLqRQYjStVivV4lzMNeLkIcl20l2QTV\n",
       "V0eNVUs0oyYcR+QjeVxuoJx+pDe0b6LYEM4xgLf2idKsjjj/xgNiY4dy0WFkAAABr0Gap0moQWyZ\n",
       "TAhf//6MsADBcJz9sy203Ga4hWyVYEHPzdzwBx+AQMFVYAAdQ3dsp4iyVhL7Mh0DgXrQuouGDMJC\n",
       "2w2tydYtnU71SdGVret0POFimnwwgSptGl+7MOIjqp9PwMzCpUG84bFcVIgUdmhNVkc0aZNq7fP0\n",
       "cnSpYfu8s69swzs0RU/7LssbY76xpf3LIKOdxXM7OKzcPJv+nvWwpphdXFL8h5Yl7woa5VKhhdXu\n",
       "EcU/lXSyDLNPFq1jdjfEooNC1AqhwmAgPLchC+8nqckm/YQ4UsXy9f/c/0ezHxiM0VTHM78KrYml\n",
       "MlmrLTVRSx9zBnY6ZLikYcpvoXTlR6deHK0ICvPC6RNFXmrxX6lTIhEI63azAdS4dVfbsAVK/PGr\n",
       "ZEmuFpMYjDkZg3vbaZhvKL5R0Qe5OwtvA9V5mQtLHt/B/gWMqIvBatW0abyTeWX//eGwPT/1V1YA\n",
       "bgpal8WyGQ3pFfzqO53HfVWqeThBno/EKyQFNzTFs4Gl2lk3ovZR9MS+WV4ctZ0ri4CDVM/G3Rtm\n",
       "o996Hs68gRwcxNMWqQwW1yrR93zHiCWXAAAAoEGexUUVLCP/ADy4tXvrKjk2ZiSp43XibU2ncWnZ\n",
       "hWe0nwA3MOkrtjMZmPySx2glPX1iZveIO7ZckoPFvdPoGXjAo85hJr/dwsthSYzUIf35WtSwnNp4\n",
       "QZIBg7nb3OIHaAvSvtJqRQBbUwny8CxTWCKlLOwZyiHO/DbD/qKNbZfDZle8NA/idr5ASY9PQnA7\n",
       "k3PWl+vC96SKuP5VpHTeBUMAAABfAZ7kdEf/AGImGZ5oanckQqajInNDtTy8btfxHGHGdaaK9Fzv\n",
       "C/pxog3NcvIDC9YDwHQ/gNWrQZRf4jjgQR7AH/NSKTBJMqvDqisKeCPlSIU+fElEBoYTVB6Y+JYO\n",
       "jZEAAABjAZ7makf/AGH+Op1PTChwSLBRZFUTye7GEgvH1/13Nd7wNRa2VcrmJCMEZxV4gLCG8wie\n",
       "w/hpPO4++m9OwgiPFW78dg08yY7wggJu58a0JcbR/bpn9w9C4+Nalzj0B2kwz2XdAAABMEGa6kmo\n",
       "QWyZTAhn//6eEAC51vX+we4VI/JtkCEEAH+RkKg1nLAjMBkwHJSGWUyQEyUo6+3DgwW8KZNavWQ6\n",
       "s3yHsI/2kCO56LxG4Zo8aT8OeWjaY+TGUcHJhn9RbCIRTxLljOI6EQ7bGl73nHYapNE4OWMEe/KF\n",
       "5KCyR5dJcj0BrffcaMR3hnguKhorZWG5EVgAaaqaQW7++oPIsVCjINroBxmTp298al+SKjtT3w6p\n",
       "3xcHEc5xQYPpzJRnRyrzFEWgpjftsSRjZ5eDgIJ8Qz/FWNdF5pFIavDbYikobzPgvQPYiu1vSmEi\n",
       "PjKV6bhldfE2/AB2gJeaK3FQ3tYdBbKwPZkRx0ODPC+ulPMXKPEi64jvhsPyvcZRSwcvJUC5aO2E\n",
       "LYrJtcuk7OjcFOlUZsAAAAB/QZ8IRRUsI/8AO26KeV2irSY0yrwM3CWvMB6xzRBm/htOhrmwJTET\n",
       "boWoIyhA5KaCb3ryYgR6Y7SBGsA1NehUA/CRI3d0k6a3n9k+Frg+76XhQ2N46miX8FIMSCH19y3c\n",
       "Uxu4LkquGcViJlKrAQrE2eJ/RbgPsXqLvXPOFOSBVAAAAH8BnylqR/8AX5/tFQJbGMur45qjaFkb\n",
       "NxyA9/sptM4ITXS+2cnHz/IX9yVo+i+NU69+hoilH4wRxLi6gADavDty+7OSSPLn6ZjM3ACauhdd\n",
       "AZa+tZDFQHzh9hbtyM2a13CHF4OkYOTi7HzJjD/86XGke9DzBtTeo9fSQt2Cf7mBAAABhkGbLkmo\n",
       "QWyZTAhn//6eEAC596HkyAGplSXYBo9PPNvdp6BpcBn6F+zrhstTbUeihe6A5jLneFSd1Mzhe5DM\n",
       "AEXcAAqqhkWIpYql+zp3yekdj71asGusQm05EsG1TyAB6pxkYkgsNAIX1jQOna89bqoPCe2ntNTi\n",
       "d88/zVatz7NjZHoSjQrl14dUPhH9YRfHPO3rS8dyMArCbBTpWWQ0luh/cqjJ+AzUQkHEDH9NyZ74\n",
       "AXHBAHGMIzrcyRXRBcVOXzHPbB2JfCN6bOLvmiza9K8GPSgppEVW+H0gtrCUUWRAH3NjHPxVLJyL\n",
       "IJNuoEn0+PumAmHd2rnSMvu6lqzR2LHrr5QFAxyzuwph5iC4FklrNRqPNWsQvJ+WBKSExmJ4/rws\n",
       "APf1ov+Gaw0fWMef89gjesdlhrzKEvLlCrm6sxeIylezUAVtF7+mWPxw44h9Pj3R4zpPn+MFML1M\n",
       "6QN0ehmszBo+Lz7QsepLjWKBMZp/Y9mNj7+U6fiGqipZ3zTt7KGeYDjNgAAAAK1Bn0xFFSwj/wA7\n",
       "bdyZC3APDWUlBaSfNa6JeOoLgDqiexz2cbjJVbYjJJiMvWfTeaQqCEUYUnkzwAqrs/qo2MzSEK6R\n",
       "mK7kIGfU1Zt1YFmcsdI9wglbBh7cmWRq9ThQ9Jvo7B+7x9fw5ox3/eGb7HHwJmdAaLsPfvh5x/g1\n",
       "WZwXpDDs/EBo6qV47d4eCTyncPz0oRn6HzdHEzx7J2zbydFH+hf+fn/wzdrVtdwoFAAAAGUBn2t0\n",
       "R/8AX414VjMGGREAJidyV+wVAJ1kSO32NlAL8uQ12rAidTJK99orvrEuGN/CYE2NOKvzPsS4pIGk\n",
       "V1IAJxewu0UYlUMGxfRUWU4UzJ3g9OCD++4BZlzLzyl6l2PlTTBTDQAAAHoBn21qR/8AX3H6JV4U\n",
       "pP277RwjUkl8kJbR0BDUNarzIoKmHsKpkKSOcDEc+LRH1vqoyuytTCVxpF5kGXxTmi/9FP0nYDwj\n",
       "nkeP/paFuowxDJiI9+TLPJpnpWQUkZd5BwU7pIjn0/sWtoWj5Yi4H+CStNCuTrOjKIITcQAAAWJB\n",
       "m3JJqEFsmUwIZ//+nhAAuvMud84hTjHtvR58BQRgEpMaRi3U1cFQKK+ilHg6BFiPv8IXbr6dyuRR\n",
       "RwT+NGk78ugUAIxxmrvFOHNHdxS8xp67I9ZLIr7NEn0hd3QYNxwoxwcnH+Wk5gsDVW2bhFu11i8g\n",
       "yXB1p6fAnecLYhDaBL1M5ISAShv+DFxMl9ApOQ4zsbAVIjRpV9ZxydcpZyxem77kJuec1s3TNDye\n",
       "e0Tc6HOoWtzzv8+wzv7Gus3cyvVsSb437Lvp3+xfL7/LtLWb5UFByD7P4TROGnoolN9Kupcsv9zU\n",
       "V8/2WePdimUcFwXgtAFbOGx0WhBbqfSJc0TC0XNJd/VaeLqYZHKwfl4UYyBeoKLSmubt3+LdUYQs\n",
       "sijjckZ1sXr5ZkPbqoor0241gzg4hVAZ2InC44J8S7lDUEYMHJeP1cZFrAJwyuaXvMNIGMpxuLTR\n",
       "T3jIih0KvZto2YEAAACaQZ+QRRUsI/8AO1/GGuL9c8YxXReIwheZ7N/etIsp9FxrW8SNSOsVoi2f\n",
       "RWbQWUd8a0EAwqILixJoYzwGGA5owQgn/njvwoALqLgL5q/Sec62+iQ+eY4DarZ0uka5X+W+cFWk\n",
       "YCMnbP171q5XMqHKyuRiGMuI3ACmdFXcHkoltKhJmW2ZzHU0Gej3GBa8q1EXj1HFtIzTtr9XOAAA\n",
       "AGkBn690R/8AX6YZICzkmrCgVOv8KQue+3nxHXxDBP5Y5rM4AKgN6gQRuC99OKCv+Bw5pIzwsmG/\n",
       "QiTwghpCnvwWlmkEiZg23Ewp+nY23/5xUIa2yRGtXVtwlxmRBa0/mi0DLT/Reyy4s4AAAABuAZ+x\n",
       "akf/AF0IZf0jrSVGg6+VgtHlUgHFSYgJ2znTmHwuefKUVDwmGx26yS+OuXeYrgEtLen97KgWpaOR\n",
       "u5KeTwo47/WpzBNxiqYERXK962eaKZ7kPfgXpEDf0Pe+CfyI8To/uclVJKIje1u+px0AAAGsQZu2\n",
       "SahBbJlMCGf//p4QALWCxD/oADo+QL2hCkwr93lSgIU1tMH1s1ln4y3P5rR8verR/afhSvdx50gT\n",
       "/aiHEcz3pCmar6bSnUZk5I9BI+U9TTkSIPfE6/F7kAog7qX0vBQPkR00GPXEvAFgCwgF1PycQBUC\n",
       "anlKDdBYad05+HvpJ9qdcFYRfd/8PYJ1+DoEs+sVwVFoKEp0dmeFu90gXfBhymu7289o4LbUAc9H\n",
       "0b3/NahUk+F6PFUvkQ5v78c9bMq/PdF2VYLPpdB7ugjbjx6dkzhvba/MeQsW542e7CTMSftKpfEc\n",
       "XwxziriqIG0KKKH7sC+3feayu/hbdtpe5axYBPurYEDsWg16UObFz9n6obMWjsa3d3JH64TMyGWI\n",
       "KXdl5psExovPRuiPRgXa3ZFVLrZBOJ1wBtRTyy0gvB6pGUZdxN2m8iw3mhYCRhQID12YtVUZVaRr\n",
       "2xs9KWC0AAADAAJMFdxQoCr7+U9kIgmYeVDVaYBEj18rD0I1PqmVKkzDBK453xKHHxTsMg89Xi9V\n",
       "ryFOeAKmiSHEJmYkJwv7zyG3cAPK82+jiFYAAACUQZ/URRUsI/8AOfi1UxQPiM72AhcL5IL7Wn8y\n",
       "GUo2KymQ8COdgmC+Nkq15Ww2oRaGbQmaMlJi2fINmSRfEjACD4qdv7Ed0WDYNU3XEtwUblJdjTUw\n",
       "qwhoJ1C30cR6GkmwPdgRgArb+IUqETnRgZg1aiToUVpbenWOXQEnCSPXQ8GgZqZU/AdS88CqMTBM\n",
       "JI9crMHYaAAAAGUBn/N0R/8AXSCGpNlcK/E52IGGiDeloRhitB9BhjB8hF4U/9K0GJlbAxgAJ20u\n",
       "AxgHCTlj4AwLyC15DaaARkeFrvxCAbFecHIit7cWWaZbpc82ztYfYoae7vmGHK5Ea5m9HJxn7QAA\n",
       "AH8Bn/VqR/8AXQhmvm/JooYgqUwWrjPrC55uNX6xKSS3g5L7yRGew7opaDgxb3sjvOtroU6ASiR4\n",
       "UyAB/OxTZNIWTcKE5uxq3F5VwrU/tSeYcTc0nJP9t720ymMRgAqtcK6vr/1I9JSmt5e9kZvkWfdp\n",
       "eoLcUSQbgnHAkKJxBEAZAAABgkGb+kmoQWyZTAhn//6eEAC2cy51pDWPOilPvXbQA+8GwCWJt21V\n",
       "V8Ytznh24KQUGPspeKVrqAOJHX8bMkQ/wvbhzA6yQ/fLw1YwAbUQ6j5dMzVP3P3Wj7ZjVCLXvKDY\n",
       "ikuTWs/pLCld5cC71nmaetGb4MepA69RJHRfcX7jxxPoCMEvxHLTCnTJP++l2ghXe6GyHp0p36A3\n",
       "H8Jo83ihHsi7K5IFLHMBYzjUciSe5y1rcT2jyctBUVu3b0l58wgYQx8qrUiSU53AnkKjvOH4hTkz\n",
       "G8u5lv5N/yp8K1x/jaq9eCsKYdvhst/6VF9GSAT6NfbF6Eg0R9S3FMhPWLXz6/SYrh7tcpFh2opP\n",
       "cZyCd3aDNwSMIkuGZ4/CkwCh6VvYZX9Vi5QecvKz33COMjefQjW7kABEfHr1p/rJDBs9X9NJKhSM\n",
       "5DRVjriNyqYoEI21sMZJb/JQtn2udxDLYq78JZ/yhf4Ja2FtqQ/W8+0PbshgxRmKo6j4+CdMl6lS\n",
       "Aq9fZ85hAAAAf0GeGEUVLCP/ADoN0ED2sA8NL5gmQuA3J8N704iSZrLfxzOXh0J7AG6+AEtSjR5m\n",
       "qP3u+sEIQEsupDSkaPVcyVQMJHvomn1kWsq1dChIspYptue4Y6Rx/unVPDPDZsuP619HiTyTV6L5\n",
       "10YLp1hgNWpgrAC2bI/fjsBOr/DvP+EAAAB4AZ43dEf/AFz/XSopgR5QugnKHodWwSM78sU9J6CB\n",
       "EJoguMkPCXPy4NdkvkehlsFIKZi5APembmV/dcrJAu0oUVan9W1i3l2aDG94K85n+J3aLMSfVElO\n",
       "rGVYtfNvKgOiKBJwxJbGB2FFAk4afJrhrpjhU0HYDGEQAAAAdgGeOWpH/wBdE3qdT0wocEeKN5/M\n",
       "i++7+ayIisu5497JsBDSvJBvTqdWSTq7wGrOOB/UZR3v8tcT1MOMQbsG2xV3IYslxjZsTYm8FU0K\n",
       "ZfDX4gk6M4m0QHfmpx2NTRK7A3mAIolA77AlAcZIe6zKCaIR0XD+L98AAAFYQZo+SahBbJlMCGf/\n",
       "/p4QALGq9EJqNcIZfhQQBywx4ZDWBXCl8fTbYOfz52nmxT8Grj+H2e3vlYFlqKu+yLbg7/z+4vxq\n",
       "o4g/R/qEcUjpGXrbyzdOSPUGwrmNW9PMW7mfA1EIW5wGijfyUD+9hv18ZYUlD+drt0kEp2naggHL\n",
       "IhrfpD+mquu24X7mbd9n6gmHaBSqMOvN5LPyf9uOReNPKawiGgx1I/GVyvOM2VAVY7930l8IMgNY\n",
       "1w/NBzgmRxBri2Gax9wULkTeC5T0q09pqxavrlx4HUvqyWzz55+szbS85a9GdnZ7GaJecF2kt6tj\n",
       "FVcjj+NTvYkkBrXl2Uqpudd2i7gZ9YjWkKl4pOXbXJuSBa9cWZFJwJmiSQnATbsRtMEcAfM6IDqm\n",
       "pxOAf9AMJuXS7P2IdiE7yqfJEZ70KmEdUdf3GVMl1k7xPtrY4njkFil4z/7LMuEAAACZQZ5cRRUs\n",
       "I/8AOLZDnd7CW64yutA9WWyXRjSLloWuD1dhwJkBhKJAq8rio0+9Ohv1AAE4dK4JHUkeFunlhUlb\n",
       "5aWaFNcGoZ1kU3NoaoUlhiiW7G+7QFiDqClMGl51uNa9EKL9AYMBvp+onC7gzDUSDFtF2ZHkCnAE\n",
       "xEBaAZHG56pIbVENWslPSgjZcFMe/Nof1uQ/MXoZDLrHAAAAgAGee3RH/wBav1zcdUf3OoXgypzi\n",
       "XzD0fI1kkYi962GvZh7sACZyJmbHYR3BmRLWaFett5Xlr87Co73xGt5netuOuRWSdt463WSlbzT1\n",
       "F1RDgN+px3Cx8S3+cgbCMprw9y2h6bFsjA36dhlHiqY5HaPMMlBA1bhyyBZV+Xt3ErfNAAAAdAGe\n",
       "fWpH/wBayOmC/2XGMBhXYODRFH8LIkKQ79lRv+TIN3EhbsbhQEk8BLrfY2KBRLUe7SkXHTnZIRRK\n",
       "4iutsNnaEbIUfiGS7nC5axCdyfjxa+njRJ74/U9hQe+mI+AgmJ0QvnfMbrwxNZTiJnHrDaibFWKA\n",
       "AAABdUGaYkmoQWyZTAhf//6MsACyef6mfQQPBds/vlF/9dK+P14YBM8qD6afgbbaPWiw9H3t9WaG\n",
       "9Usa6K8HvSpg9AG6PrMKjUWtNQUPiS4tTMR8z7OiJuo9ZENAp10P0P74VQAl19CEZdE3vuTL4Fkg\n",
       "5PWcRww+XvAAHjZjkzta8mktvqRiW8zcjap9lmuOSsKQDGRhuTdJ3auin1ZOIXp9QmJOGi6Yl2vO\n",
       "tlKHoK/25eM3ktJtXSMfpuvBk0fX0qcwpcCxXOCFv73enhjDqVtUgIFjdxYAbnEJlG3MWnGDGUJz\n",
       "M06zx4P2Zs1ssjhw/aEDdyosdG+XwRdb1aquiH2gUCz4gv7mBuXEvzyNA9re5gAAAwCU6i0YB+/R\n",
       "MdkQM0LzKOokRaP5EJhtl+CuXLXG8PwIgIAAOFJfMrORwe43w5ihhFMYYVXsJw0IHmNkvqk7Ggg1\n",
       "eMZzWi/ZaPaoUo1+rleHAegDyEUnL8Qy7B82+YY9yo52TLIAAACjQZ6ARRUsI/8AOJiZUqTPbo5R\n",
       "ktfD8dtIAiyySVAuEx/gDdqXLRqey37/J1rgBnjTGa3lRf6VszGgFkDaSaVCMcPA+oR3Y8frZiQx\n",
       "vgv1PTtwvSn2VwBBDFGdkKoEanh9IPR8PMwFG7fUzOjXMBmO7ycstdsz7N6zJreQ2aMOqNVRQ0O9\n",
       "S0muJ+cTPULb7Fc/YHhJFF9CfKBKDDaSuF8GiWp+QQAAAGIBnr90R/8AWuCGpNlbq9M/R1dDTioK\n",
       "ezSJ45fRyL6hvNBBJMT04MRlRKzVlqKCV0EL8pgN+yrZ55RAxYOKARX/7+eI+qumNVJFAjPtXUwA\n",
       "hC8MGmU576EJjKUHmHT4SAGTsAAAAG4BnqFqR/8AWshl/RhBR1h7fmychE2U5nD3zqXZaEi9OoPA\n",
       "3W8Cj1rj5GUOAbnpd6o3Q+bF687zeMmLpgABwIOTOIgWAN8uwuztXIv0dhlcVYnMvsVE3ZvaVaJ5\n",
       "iUuHL249CWawKPJzExLnpdttqQAAAWpBmqVJqEFsmUwIZ//+nhAA17zowAmroY+ND0k4QMUJVmmf\n",
       "LDIPMgYIpYTxWdSTUZ0kEbyML0x4fbbkXS2x6n+v6adiwSrLck+hjoaeIPw2I+IYvU0mBPc7eZ3Y\n",
       "m6IUcNvGumKVbMke/bKQRQCCfA2gwBvXEhWTtcJ3Py8kxzFp/r74ZEwn4+5CoUgPSZsGxmVcFl+k\n",
       "3d8hlx2bqPFVBPzkwFlrP1l4DivA10rSMWDRriqJwmYet5eIIQM5gGa3LF+WYRBDeLbGr4aLof4M\n",
       "KqC4yreAp+fDX45DLtauhdpIkvweQqY9q3VjI00ZxjixdgfYdgBASCYB4Yj8EguDZ5TiXFXGPLds\n",
       "03MrxNgKM2r07EyvWPjpTEdBk0Rc1f1FXezIRoKoX06bGJAfTtkKAFVGYatBcIJzStR3PqkQoQ0j\n",
       "jjq07ujiXuEUZLU5DOz7Zi0MT4jFiPixa15BmHwFZOiQpP7Mc2z/pRUWvwAAAIFBnsNFFSwj/wBF\n",
       "eWcSQwJqxhjDKl/HQjJezlPWjxOXy3cCf9dIsSX8JxPtQZrkxvGaxqm64xOBxbKGYR+F4XVuHdfx\n",
       "cQtIJ0ioIAK68u0eP5zzQYjRs0OVtS2ol5Z5Ri74B22QZq8boReCvNJchxjY+Tfq65nlBILLQzs4\n",
       "cGqsJ1UAAACBAZ7kakf/AG20CYsUAE7c4/jzry7+t0QSLW+j5kx3nE+VGMd3gvD9Gu53Msl5AWPL\n",
       "RxR3zwkBAGHug4BjPm5d8FKc9xCV8l1eqMerT8e7quU9cqPnVfp2eXNTL1KZhMnlOutsAz3EsV+l\n",
       "3dnZyzs1xU04Wa+EM/dhdz968Bh4C5QPAAABikGa6UmoQWyZTAhn//6eEADX1BhgAnF7HxoeYPDu\n",
       "ORNIP04mPlhOY6tzfJQjRvwiDvS/rw1BGT42Wn4toQaOGL6VlI2MmLeRdRkeiIMXiBrumCX5rEA8\n",
       "AmWaPvvieE1HXyV3aykgPFTLRE/J2nHySbFXDtXBLn2Od45xWpT7nn6w4h5MCifgqvnvTSPKTU+t\n",
       "+2GxI1z9b05TjunzdDUAQf061taHUMEdEsGX1rrktXBQhyrycMgLNSUX85sXn3jQ7+CbFZmAVVoF\n",
       "t72GyEi0nStt9uwY02dx143I7tT8mCUiW+slWq/Skcv+ORAt7eZ45kaNkNNJAUxtmwic8mm3+yUL\n",
       "OJjz3WTab87/p8e5BEWPmgGw87tUhrx/ZvDJN6F848VLhRo0OHS9t5dfTxJ3o+hCNQegzNdTY99o\n",
       "kQe5b10C4N+XptiNAC6J27quVZm5T56qcenyMKBcPX2Xs+QwUMxy5DgJTfyF50kgVhvd7/AX+E7D\n",
       "0ndEo0w/4I6qgOs/sl5nLpXpCQh9Z4EAAAChQZ8HRRUsI/8ARLY9LsDdhagAJTBdJ/dtAVdm1EPV\n",
       "Blr+0QTFgE6vaoWd2G+mrR9dLvRzYYCxGnHv4yeY7uqCK3xRnQOzlzppq+N8UNkT41f8UD9kqW5S\n",
       "ya0M0moqcn8kc+DDmykz+8RjrZnS48Z+Th5+Tyuvm+CTxNG9BEHwXxyPrPyMVbHVWz6od8+/GOGp\n",
       "rrMuSG0p7fywBGcDI/Bv0OkAAABuAZ8mdEf/AG2wDfe9IATVbPcokoAb8Kz1uU5LiHJelbOtXezu\n",
       "52PI4bgLFJi4sbTn5XgdaL903X9ATdvODm9wTI4FLLimnOHw0yXsbIF3zwQfsM06AnoU16MRiod7\n",
       "nvpS/02zk23/Vp3/NyMkmAQAAABcAZ8oakf/AG1AitqkfFmTTqTx0+rjcSufdXl/FHxU6BRANpFp\n",
       "Hko8t3GNxDcEcFUWI6QYqrA1buMq8HFsS2dlnKWXFBrJYlMcD5VyIyI3pE8d0VBR84bvobc/YoAA\n",
       "AAFFQZstSahBbJlMCF///oywANkZq94H3qAA3k7OTY+PVJQR9GyKuXd7aeDDdLHXCSnNQ8FfCk60\n",
       "SMOrvT6bzzSAEZawSTAACXlh1FAuSuANdSLxjhcGssRmTeIGjFGOWETmM/2Khiv1nSQLFOZUv88B\n",
       "XNDo7NCyvSYWvICyhDPuIi4ODB6X+XDWGgrNFn2urUmgf/C+q1cGE6aQ7w7TaNOHeILJ+CUBASZQ\n",
       "SX660BckkD4xA6R0Edhx0szHZLtgQpYYaNiz0/fJLRPO/QRHwr7lYyMGLehzISSTbSotf2acPLcj\n",
       "KHeWJ0cvxD9QojY98tUGHyeXY8RTNtpmgPuBDuodwETagACFTTyN11KKcYnVD8MhRPZAiXDZc4s4\n",
       "3fy053CIXOi0dgK7TomffgmGh6Ouu8SGXBVRjr8Qr2gNEa3RAvmrohMN7QAAAG1Bn0tFFSwj/wBF\n",
       "NB3QmEy/KZef2kHqGK3F9kgtIaLTVRaOJXWYKgxAUSywYOxDUKim7AYEHCEB1Ur5ieZ4FKm0qG7H\n",
       "tU9ZyYHm52UeFXf+Q94zIeaxe14WCq4RhdVY67Eh6/pfECOnD+Cr3lEmAAAAZAGfanRH/wBuQIYU\n",
       "iAF6gwshKIz8uA+ZCUrjTosgSXJ62jubSp9dGeGeQnGVGw1xbAyTVUA4XfsTnhMLGe35QTUrTyjX\n",
       "P+hNLPAR1b3IKxIW9yO8DumjhTaMr+yLzYkX0tvznaEAAABkAZ9sakf/AG5Cv0BaFGXnyAqAj60L\n",
       "bURPfQ9buCHbtct9oTMWPH0RE0uAXS2+1oNjZ6n0pyajvyqtr7FMuYlY+IdKDwoAqOYCSCyNOFVL\n",
       "2T9qGQS2lEsC8VypPzfZ/DGPQYY7GQAAAWFBm3BJqEFsmUwIX//+jLAA2TydgBtY3DM3zDDj1P6c\n",
       "51hVkvCrbtPNiBLcR5B9N6H2kEGCfa3uKyRNlEcMQ2b3TyxaZzvSNp8Y3/Q3WCNc6PHuv6R0vaTd\n",
       "x1a8fcy/Bue6jvpFAo3KLLclhe7+IL6NhAHIhsWgibVdan+/lt8az4gkUOtw+qmKIz4p2F8Uc66i\n",
       "qzYUccDYPhQyZN/DJoT2/3ttYCoeQ2kgCYVyp/19vQ2jnyEdkckGjsTclZM8BE276ib37zpZ3edG\n",
       "IoIJxdANKyeDngekaxIu8WcLb5Re7QiFsTZIbmg5lhbrQ/D0BkXjHix7oKTNrYnNGP1d0A4fOnZ5\n",
       "wnBN0/I6eUHXn1Kk8ycPzjd37T5SR57S4Po8PUjk2LSb0neldQNpJ4A0OUHoB9GBVP1g1yICSFtw\n",
       "4/uwg7EC4hPqCbOtfkBA8satsEbbVEHpRLrJZgsrxQRTJdbyvwAAAGZBn45FFSwj/wBDdaPLYfvf\n",
       "Z4h9osmQGPfk4iVdBBTU5n/Is0u1/JreiPsKVl3NpMQAcJNJrYYNu7idnjoGtuhn/b944sawska1\n",
       "guVbY91BIzkZS7Nwcrmr/zos7x2I/u5o93GnmncAAAB0AZ+vakf/AGvx+uPHjs9WCeoP9zG5jZTv\n",
       "fAYSzUUvW+041jnyzGhdPN9cl3KkBg8mwrmnDYU9MO2CIBXrgW/PXuQd9fIo4qqe/q3iStop5n5O\n",
       "rv1hhy/GtffJXZnHyKT4Xr+2iAXhqocPBFMf1lrs7NBMCjAAAAFeQZu0SahBbJlMCF///oywANnF\n",
       "gIUaoAC4ubbYZoFp4AzjQB7J1OSnoc1f1nGi6MwC2DJg6R25mg21zO2zNUiqh0ZYjZ0/Fzrbq+8p\n",
       "KEoOA7o8imrQtFx7g/0e3yc6GtnZ5WH5cAk5tI+dQvzxRe6ox7XkpEr97X04tdmk2GE8fH4nif/x\n",
       "dgDBSiqlY7sn1FO8hMwrQR81BcxYXry68ZbK/qQa50T00ers5FQTgPhXrGzMQj5Hp9JOXcK6RG6k\n",
       "qMTT8ZwoF27GMx+yPsKjD43Wumxo+ktP2JrfX5XqOX1by/mfh0S22fcQX80JD7r+bbx/oHwFP5lq\n",
       "Hide0wplLbye38Y1ok4/RzlkgU8V6G2P4xsODq1CBlY7L3qvLeMTshB+6TnvWL+f83oM86B5WrC1\n",
       "DQjhOHqWiKV8qUl4XdG5rgDjRGHB/VDNe2guZm9MFyvyp920tMMrme9JdGJ8f4AAAACdQZ/SRRUs\n",
       "I/8ARTQcqkQAJ27nTblBsqFKNKC/O8BBVGhgdBECNNA6cJu7VoYJeFXI4Hb0iObt8DJ6eJ20zPWd\n",
       "89fAl5u1nCljZeNpB0T9UtPSip9P8TI+/OPL3qNyUTKym90e9AQ31nq1mjBmLFItWSXe0upCtxtF\n",
       "lyC5fZ+il/ts20iF2zV4WNGdzamwir38FJh0GDTteiz9kNdYgQAAAIABn/F0R/8AbbA10gIAJsGo\n",
       "bWtcXCfTGb3Q+70UU6yW8YUOuzI2q44fe6IijFwSsJmFXIATZLG/u9c6OYUBvjMvHLCU/vJXzi1Z\n",
       "/Q4BdyoOuou5wQeEusPxDoWq0tx3cgefD0PH/7I5aaePna9j8oJ6ea0iEU0nExFIl8Dj8n1gCAAA\n",
       "AHcBn/NqR/8AbZKL8vHsAB/GUraRKK44dNIpVUeC9+NcHoXJfxxgxlRlDZsPhJ8rgvyHPEEs2UVU\n",
       "fjJQzUMbobcKhZcVeBmv6AXFGmlBGUX7i3oNX4JCTp4dsT0qv9y14P3hyjie98/vdOGNFA5L9441\n",
       "8wNLg9pyoQAAASZBm/hJqEFsmUwIX//+jLAA2Y9OeqwAcb1J30OVmIgVOiu5o1ylbmkGAuWlnnRf\n",
       "wPO5LLkhf8No68oM+0nqQ/TzBTCaSmYlP0tR1X8hz/VAGB/e+Heod+0RuLwZHXzLDtTXJuKXmZUs\n",
       "0/IcbkVcS+qF1ecdVA4+zrghqRiWw+8SJVAui7JPXjgiBQaGqJeslVcGETiej0CtmoE6XUstSfuT\n",
       "V1aWUfJFatJpWj89HEGIEH6ZPlRAWeJUvq8+KjLwBmpx96YQTcieGFRGHSPHmCIu4p0Ujq46Ulfx\n",
       "cmyMjux51B+I/lC0gTidSPCTcVyy1+34XPeJCoY/U8gWSnOMa+7TKx8zFkxmvc0U3O2f716JriVt\n",
       "pz5v82pc3V9jtGTxJwJEoVLNeTcAAABsQZ4WRRUsI/8ARTQXna9DpSV1BYNE9JmfDQX4um1uh/g6\n",
       "g7r31UoshbMktfjwV2Q3t6OO7hDjnrUhpddLqJNiOBi7+HfoBb6vY4HOh0g47SGgn5UibLFVXQcI\n",
       "DsOn/5/3HLTPrxBSLV5ZX5NwAAAAcQGeNXRH/wBt7qb3THnShSMNcuHASEdXPCxK2tBxee57vGBY\n",
       "wZMO7qk9Ut90xYTpQgDW9XYLEtDbRqeOK+tiOpixGJV4PD655iRVel3rz2fUby0or3FYxMdV2Y/A\n",
       "VRFP1oOoYlKBw6MrX0vb315vTSYxAAAAZgGeN2pH/wBtV0hSyVYZ/kd4LvKSyO/gB+RuO1S4YctR\n",
       "7ASN50Q6mJA0Eg9xDMjBISo2B/jkMrFkxEYRIERilJCciARRXMmL2zlYgvX+Q0H3d3ONksu7naNb\n",
       "Y/jhcR9wUojAoSNOjwAAAPRBmjtJqEFsmUwIX//+jLAA2Z8pNYEAbxT9KVVFs0/dT0/ruHaq9eza\n",
       "PFLY0eBhoZ/GuJlTzCWsV7+N1JmRik2Upgu/Y7wAAAMBqkzOhAXpLFH5u0zutv/qjvKxxEYrU+ls\n",
       "Swd2vkdeCCyfIkWJUagWr275/+8y2n9ahjnSNF0K9OaPIdeoRv/LbeLyya1jP8OI8HzRWYEUWaCx\n",
       "kNQDBgN2STJUmXdJhmP+POWoACKBgqh0iURSoHp395HYEuIrJOd3KH+fJDobSVfahO7bfnRm9/w2\n",
       "saxzjECjKO9MfEFw3EPnXNPe5J2meHYnElfLrWf7RmGnAAAAi0GeWUUVLCP/AERz+CJR28ThWu/k\n",
       "4smS0DqIf3uwR4EfaXPeSmB+gJQCvLXvW/q1rBRid07jmowf4p/LuWSp5TQdhT0zczTaiRAsIrOj\n",
       "in+fLbEyobGvnTC11YvbOIe4O9YJENMrTUKoidyY9RwEt5SguTP58NzncerFVuLItiistSx3lqU4\n",
       "mwE0DWEAAAB9AZ56akf/AG59kBN/wOcXPiUFlvR+AuuC5z6CzUxlZgWobxMAjRCm1hsM0D1acGNY\n",
       "hjw/iRACXt7XqzLXGxfRMhG32BhQgFbeENOMTBiwpkyrLEu2UoIFjB8eEgAagY81QgYUJpiZdM6t\n",
       "G7eWONgo2AqZoaXRhgbrX+uGySgAAADnQZp/SahBbJlMCFf//jhAAzZ5wlJcjVZgCBHZX+c/PPXD\n",
       "bjUuLsOsXwjr6SXDBXU2F/3G5uIpLqCs47MsTDFnm5YNUL7f/HkpkXlq6zScsRO6+GN8K7jPlKJO\n",
       "Yu4Tei4DvpzBIMDUPdqPU+9SNEG+10Ema7k7ea/HsD047XEAWCr6l7Tcn7KQqkVdvyHWMlOBXR6P\n",
       "lnGxB2/EebWUkaeaWvSK7kui/lpiVvkhHeQcfgAAAwAPxq7K6mxf9XKWtjAMWJgRsaMFTVasGzii\n",
       "WyHgTB4XKHssqejQBDPlXulEwODi+7oxwoB5AAAAo0GenUUVLCP/AEN0pnJIqvOGA6f2JTQ3LVt/\n",
       "s4DJvp9hiVCzlLKWIz/Y8ae8hBDj+I91poAJ21hz7HsSc3U0epBNcMhvXbOqrVGpGk0nOboquKdz\n",
       "zdWoQsEZ8qQmJhjThRRqCsI6sDtuBO4S/pzWUjicD8oVHo1kJet+GuDV83Cco9SiDf4Ld701cf9Z\n",
       "3Z8raf2HvV1DEmlb/EGMiaSyVYDcZXUAAABqAZ68dEf/AGwmGaHSeWw0AeouY4OL1MCROa//KkeN\n",
       "O7SP8W6+7zkXdAABOL14L6V+/NqOmQ3Ez6vs2P2fgbpzx4wuqRJEbULl368hrYK0U8uofAP83vkz\n",
       "m3wMoAfoRW9vew4STcjOLRuNuAAAAG0Bnr5qR/8AbDpOnp5ztHYe/Q/NcddkqRx6Uwv/SjMAEMaf\n",
       "YjsWNp3gAE1FWHgZAeGQcSYDVWKu+qge9tI5uIDGgHkXRTE35KStO9U8bswMNc7g5Y/lUDA8skuQ\n",
       "2F9TUejWnn1m82gbWl8v0PLIAAAAkEGao0moQWyZTAj//IQAMPL0+BYStbhyHdprnZ2qjQbiW7KZ\n",
       "sf5tBtngbNy5evVLFcMFuzCDArQI5Z1H+5If4QwAmroXfRptM9nxwaKSdOi6c/reCeBOYweR57RL\n",
       "o2jmsvEDrXQ39qYNkczdj3ygCYbUPZr7TMiqzimdzC5wnvrEdCvILrP89+FsxksJQRsE9QAAAH9B\n",
       "nsFFFSwj/wBDV2vx4JwiXdz74PTuXnksczrVEn18u/O9+COO01P0sBhExaGLEFm3c6fQdps5sGPQ\n",
       "EnFluJIYn/4gBZyCKCv1wy6p/t4bZE8eoS8oaRuW5L+sK03E3SeErI9qr4uemokFoB7yOgxuI7gE\n",
       "lQypq1Le4yp0asC6AAAAeQGe4HRH/wBr6XPEgEEdPRnNwW8YsWzCMLnd3/mEthDfcm4NS64HqiC0\n",
       "3qKMJa0eM2SbxjeVC8ietWKybAOFBPmx+Nlrneikvo3H+Fw2Hc4aHMy+vG3OUjUegAy/8xUSEuVq\n",
       "Sd7qtuylxBHHSLosL33pBX/Gz+tNK1EAAABiAZ7iakf/AGwfo1k9Pn34GkKT134Dscwb+dG7viH1\n",
       "aS8CqmYw994JdgswmlFvNqRzxDOa+dLq/oZ7nnwjra0CcvZpcufqFI2oNx1GhLqMk+aVjNGq77Rg\n",
       "64flfA8F7hVYpHQAAAeWbW9vdgAAAGxtdmhkAAAAAAAAAAAAAAAAAAAD6AAAB9AAAQAAAQAAAAAA\n",
       "AAAAAAAAAAEAAAAAAAAAAAAAAAAAAAABAAAAAAAAAAAAAAAAAABAAAAAAAAAAAAAAAAAAAAAAAAA\n",
       "AAAAAAAAAAAAAAAAAgAABsB0cmFrAAAAXHRraGQAAAADAAAAAAAAAAAAAAABAAAAAAAAB9AAAAAA\n",
       "AAAAAAAAAAAAAAAAAAEAAAAAAAAAAAAAAAAAAAABAAAAAAAAAAAAAAAAAABAAAAAAbAAAAEgAAAA\n",
       "AAAkZWR0cwAAABxlbHN0AAAAAAAAAAEAAAfQAAACAAABAAAAAAY4bWRpYQAAACBtZGhkAAAAAAAA\n",
       "AAAAAAAAAAAyAAAAZABVxAAAAAAALWhkbHIAAAAAAAAAAHZpZGUAAAAAAAAAAAAAAABWaWRlb0hh\n",
       "bmRsZXIAAAAF421pbmYAAAAUdm1oZAAAAAEAAAAAAAAAAAAAACRkaW5mAAAAHGRyZWYAAAAAAAAA\n",
       "AQAAAAx1cmwgAAAAAQAABaNzdGJsAAAAs3N0c2QAAAAAAAAAAQAAAKNhdmMxAAAAAAAAAAEAAAAA\n",
       "AAAAAAAAAAAAAAAAAbABIABIAAAASAAAAAAAAAABAAAAAAAAAAAAAAAAAAAAAAAAAAAAAAAAAAAA\n",
       "AAAAAAAAGP//AAAAMWF2Y0MBZAAe/+EAGGdkAB6s2UGwloQAAAMABAAAAwGQPFi2WAEABmjr48si\n",
       "wAAAABx1dWlka2hA8l8kT8W6OaUbzwMj8wAAAAAAAAAYc3R0cwAAAAAAAAABAAAAZAAAAQAAAAAU\n",
       "c3RzcwAAAAAAAAABAAAAAQAAAuhjdHRzAAAAAAAAAFsAAAABAAACAAAAAAEAAAQAAAAAAgAAAQAA\n",
       "AAABAAAFAAAAAAEAAAIAAAAAAQAAAAAAAAABAAABAAAAAAEAAAQAAAAAAgAAAQAAAAABAAAEAAAA\n",
       "AAIAAAEAAAAAAQAABQAAAAABAAACAAAAAAEAAAAAAAAAAQAAAQAAAAABAAAEAAAAAAIAAAEAAAAA\n",
       "AQAABQAAAAABAAACAAAAAAEAAAAAAAAAAQAAAQAAAAABAAAFAAAAAAEAAAIAAAAAAQAAAAAAAAAB\n",
       "AAABAAAAAAEAAAUAAAAAAQAAAgAAAAABAAAAAAAAAAEAAAEAAAAAAQAABAAAAAACAAABAAAAAAEA\n",
       "AAUAAAAAAQAAAgAAAAABAAAAAAAAAAEAAAEAAAAAAQAABAAAAAACAAABAAAAAAEAAAUAAAAAAQAA\n",
       "AgAAAAABAAAAAAAAAAEAAAEAAAAAAQAABQAAAAABAAACAAAAAAEAAAAAAAAAAQAAAQAAAAABAAAF\n",
       "AAAAAAEAAAIAAAAAAQAAAAAAAAABAAABAAAAAAEAAAUAAAAAAQAAAgAAAAABAAAAAAAAAAEAAAEA\n",
       "AAAAAQAABQAAAAABAAACAAAAAAEAAAAAAAAAAQAAAQAAAAABAAAFAAAAAAEAAAIAAAAAAQAAAAAA\n",
       "AAABAAABAAAAAAEAAAQAAAAAAgAAAQAAAAABAAAFAAAAAAEAAAIAAAAAAQAAAAAAAAABAAABAAAA\n",
       "AAEAAAUAAAAAAQAAAgAAAAABAAAAAAAAAAEAAAEAAAAAAQAABAAAAAACAAABAAAAAAEAAAUAAAAA\n",
       "AQAAAgAAAAABAAAAAAAAAAEAAAEAAAAAAQAABQAAAAABAAACAAAAAAEAAAAAAAAAAQAAAQAAAAAB\n",
       "AAAEAAAAAAIAAAEAAAAAAQAABQAAAAABAAACAAAAAAEAAAAAAAAAAQAAAQAAAAABAAAFAAAAAAEA\n",
       "AAIAAAAAAQAAAAAAAAABAAABAAAAABxzdHNjAAAAAAAAAAEAAAABAAAAZAAAAAEAAAGkc3RzegAA\n",
       "AAAAAAAAAAAAZAAAFbEAAAGLAAAApAAAAJcAAAF4AAAAswAAAG0AAACBAAABQAAAAJoAAACTAAAB\n",
       "HgAAAKEAAACDAAABUgAAAKAAAABnAAAAawAAATwAAAB/AAAAjQAAAXQAAAC+AAAAdQAAAGwAAAF/\n",
       "AAAAggAAAFcAAAB1AAABmgAAAIoAAABWAAAAbAAAAWkAAACRAAAAgAAAAbMAAACkAAAAYwAAAGcA\n",
       "AAE0AAAAgwAAAIMAAAGKAAAAsQAAAGkAAAB+AAABZgAAAJ4AAABtAAAAcgAAAbAAAACYAAAAaQAA\n",
       "AIMAAAGGAAAAgwAAAHwAAAB6AAABXAAAAJ0AAACEAAAAeAAAAXkAAACnAAAAZgAAAHIAAAFuAAAA\n",
       "hQAAAIUAAAGOAAAApQAAAHIAAABgAAABSQAAAHEAAABoAAAAaAAAAWUAAABqAAAAeAAAAWIAAACh\n",
       "AAAAhAAAAHsAAAEqAAAAcAAAAHUAAABqAAAA+AAAAI8AAACBAAAA6wAAAKcAAABuAAAAcQAAAJQA\n",
       "AACDAAAAfQAAAGYAAAAUc3RjbwAAAAAAAAABAAAALAAAAGJ1ZHRhAAAAWm1ldGEAAAAAAAAAIWhk\n",
       "bHIAAAAAAAAAAG1kaXJhcHBsAAAAAAAAAAAAAAAALWlsc3QAAAAlqXRvbwAAAB1kYXRhAAAAAQAA\n",
       "AABMYXZmNTcuNTYuMTAx\n",
       "\">\n",
       "  Your browser does not support the video tag.\n",
       "</video>"
      ],
      "text/plain": [
       "<matplotlib.animation.FuncAnimation at 0x7f0a9507ce48>"
      ]
     },
     "execution_count": 24,
     "metadata": {},
     "output_type": "execute_result"
    },
    {
     "data": {
      "image/png": "[encoded data removed]",
      "text/plain": [
       "<matplotlib.figure.Figure at 0x7f0a94cc1358>"
      ]
     },
     "metadata": {},
     "output_type": "display_data"
    }
   ],
   "source": [
    "# Creates a figure window. \n",
    "fig = plt.figure()\n",
    "\n",
    "# Creates axes within the window\n",
    "ax = plt.axes(xlim=(0, 2), ylim=(-2, 2))\n",
    "\n",
    "# Empty object (no data opints) to animate e.g. a line \n",
    "# Name must end with a `,` comma.  \n",
    "line, = ax.plot([], [], lw=2)\n",
    "\n",
    "# Animation function: called sequentially\n",
    "# i = frame number.\n",
    "# Sine wave generated, phase shift proportional to i\n",
    "def animate(i):\n",
    "    x = np.linspace(0, 2, 1000)\n",
    "    y = np.sin(2 * np.pi * (x - 0.01 * i))\n",
    "    line.set_data(x, y)\n",
    "    return (line,)\n",
    "    \n",
    "# Animates the data; 100 frames, 20ms delay between frames, blit=True : only re-draw the parts that have changed.\n",
    "anim = animation.FuncAnimation(fig, animate, frames=100, interval=20, blit=True)\n",
    "\n",
    "# sets the animation dsiplay format to html which the non-Python parts of this notebook are written in.\n",
    "rc('animation', html='html5')\n",
    "\n",
    "# Plays the animation \n",
    "anim\n",
    "\n",
    "# Saves the animation as a .mp4 file\n",
    "# 15 frames per second\n",
    "# 1800 bits of data processed/stored per second\n",
    "# writer = animation.writers['ffmpeg'](fps=15, bitrate=1800)\n",
    "# anim.save('img/sin_movie.mp4', writer=writer)"
   ]
  },
  {
   "cell_type": "markdown",
   "metadata": {},
   "source": [
    "### Simulating Physical Systems: Spring-Mass System\n",
    "If you are studying an enginerring related subject, you will most likely study simple harmonic motion; a type of periodic motion or oscillation motion.\n",
    "\n",
    "For this oscillation to happen, the restoring force is directly proportional to the displacement and acts in the direction opposite to that of displacement.\n",
    "\n",
    "\n",
    "\n"
   ]
  },
  {
   "cell_type": "markdown",
   "metadata": {},
   "source": [
    "A typical example of this is a mass attached to a spring.\n",
    "\n",
    "<img src=\"img/spring_mass_system.gif\" alt=\"Drawing\" style=\"width: 500px;\"/>\n",
    "\n"
   ]
  },
  {
   "cell_type": "markdown",
   "metadata": {},
   "source": [
    "If we assume that:\n",
    " - the spring is ideal (it has no weight, mass, or damping losses)\n",
    " - there is no friction \n",
    " \n",
    "we can use a simple equation to give the position of the mass, $x$, as a function of time, $t$:\n",
    "\n",
    "$x(t) = A cos(\\omega t - \\phi)$ \n",
    "\n",
    "where:\n",
    "<br>$A$: Maximum amplitude (displacment from initial position), defined by the initial conditions of the system.\n",
    "<br>$\\phi$ : Phase (the initial angle of a sinusoidal function at its origin)\n",
    "<br>$\\omega$ : Angular frequency (frequency of oscillation expressed in radians)\n",
    "\n"
   ]
  },
  {
   "cell_type": "markdown",
   "metadata": {},
   "source": [
    "Angular frequency\n",
    "\n",
    "$\\omega=2\\pi f = \\sqrt{\\frac{k}{m}}$\n",
    "\n",
    "where\n",
    "<br>$k$ : spring constant\n",
    "<br>$m$ : mass (kg)\n",
    "<br>$f$ : frequency (Hz)"
   ]
  },
  {
   "cell_type": "code",
   "execution_count": 91,
   "metadata": {},
   "outputs": [
    {
     "name": "stdout",
     "output_type": "stream",
     "text": [
      "2.2360679775\n"
     ]
    },
    {
     "data": {
      "text/html": [
       "<video width=\"432\" height=\"288\" controls autoplay loop>\n",
       "  <source type=\"video/mp4\" src=\"data:video/mp4;base64,AAAAHGZ0eXBNNFYgAAACAGlzb21pc28yYXZjMQAAAAhmcmVlAACJGW1kYXQAAAKuBgX//6rcRem9\n",
       "5tlIt5Ys2CDZI+7veDI2NCAtIGNvcmUgMTQ4IHIyNzQ4IDk3ZWFlZjIgLSBILjI2NC9NUEVHLTQg\n",
       "QVZDIGNvZGVjIC0gQ29weWxlZnQgMjAwMy0yMDE2IC0gaHR0cDovL3d3dy52aWRlb2xhbi5vcmcv\n",
       "eDI2NC5odG1sIC0gb3B0aW9uczogY2FiYWM9MSByZWY9MyBkZWJsb2NrPTE6MDowIGFuYWx5c2U9\n",
       "MHgzOjB4MTEzIG1lPWhleCBzdWJtZT03IHBzeT0xIHBzeV9yZD0xLjAwOjAuMDAgbWl4ZWRfcmVm\n",
       "PTEgbWVfcmFuZ2U9MTYgY2hyb21hX21lPTEgdHJlbGxpcz0xIDh4OGRjdD0xIGNxbT0wIGRlYWR6\n",
       "b25lPTIxLDExIGZhc3RfcHNraXA9MSBjaHJvbWFfcXBfb2Zmc2V0PS0yIHRocmVhZHM9MSBsb29r\n",
       "YWhlYWRfdGhyZWFkcz0xIHNsaWNlZF90aHJlYWRzPTAgbnI9MCBkZWNpbWF0ZT0xIGludGVybGFj\n",
       "ZWQ9MCBibHVyYXlfY29tcGF0PTAgY29uc3RyYWluZWRfaW50cmE9MCBiZnJhbWVzPTMgYl9weXJh\n",
       "bWlkPTIgYl9hZGFwdD0xIGJfYmlhcz0wIGRpcmVjdD0xIHdlaWdodGI9MSBvcGVuX2dvcD0wIHdl\n",
       "aWdodHA9MiBrZXlpbnQ9MjUwIGtleWludF9taW49MjAgc2NlbmVjdXQ9NDAgaW50cmFfcmVmcmVz\n",
       "aD0wIHJjX2xvb2thaGVhZD00MCByYz1jcmYgbWJ0cmVlPTEgY3JmPTIzLjAgcWNvbXA9MC42MCBx\n",
       "cG1pbj0wIHFwbWF4PTY5IHFwc3RlcD00IGlwX3JhdGlvPTEuNDAgYXE9MToxLjAwAIAAAAqbZYiE\n",
       "ADf//vbw/gU2O5jQlxHN6J0zH78VuLo0N73OAAADAAA33OZE/sqTBubAAALzSvgvF/zAwXm1m8Pp\n",
       "iuCxrBPnBTHA525LplJt3A/jGdv8TpZgMnYTKHiP6i1vmjHzvzNNbs2/gkl3D8Pc7LCLCfpG5bzR\n",
       "affWcgs0zOhIuGSq7YrRUruOXBNFhA6cR4CrUUFF942UYRZPZAdX6HBSd5mourHrLw9HDSxTSP12\n",
       "HLoQ71oDCtsnTKZ7oBMnXYEgRqxXPsZPlli2/KaZ1ltyHwC/xpfbMpR9Sg+vwMgo0ir6zDf+ooM4\n",
       "geJKq4Ek373+zZbTREcbzu9oqrgADQ/XLN/Wu5VS/oME3++UTjHProSZ5/3DCFue5sIqgAANmNhq\n",
       "hmNcre/kuOwyAbswZt+SnQ7sJ4xyBv1nUZxngmQRaFUw0eYpaurBLhtR1c35ZQWYtnM08yuHEnko\n",
       "hryWm0QQmzG2dBHv3Zp60jacqMUEiqK1jqlN3e2g1+YkRC2bAd2cwm7tg+lD+z9WyDO50W7OI1gQ\n",
       "t75icZ4DosXZ6rweukSzCINqwvecq3c0iXUfQDHh8uMcNFDOVL6DZE9Sqt0BVVdo/n7vwqLYstoS\n",
       "kdhBM3uyjOm4XJ88YyoPMBKWGeW0GQT4FRhnfeRCU0UTFD3722r81GNUpuLEJYUE8bJsKmeAn4Tw\n",
       "K7PMLrU7hiuKtlN4ft4qpWPjRzE9Lj5dbytBI0xiNomXdJ7vO3JfClJNyPBsGpuoLnQeS4svN+MD\n",
       "fE2gspUDwBhDL0mOHXRHqH/1YVzgutyeDSHsoe56r3Gesd3LAXhISL4ExXuTSi6A9gf0zp9umhtj\n",
       "53AG14MYfr32uQGLwcuQ03duses1la8jK6dgzhqjb8YqW6VfQYryzZhBU/KuFsMdUS5h4MGu8YQi\n",
       "NADLsfSpCNLOdrgn9gw09JUrhbZgcUwCOfsSm0yNqy2fwZkbusVU1/O0fxf6jFZDH3aJ/6o0DJEG\n",
       "4Xt8aTiPjSgx3TjCFp/+IYurOsEivB0jd0tW+pJnJ9couStH/uYbzJiT7Eu17Q97e9BbyUjk75Fi\n",
       "0Vx0+pQIVTcxyH0UKs2t5zDHvCHOqNASm6P+JHLhZUHsx0m1/x3KkoJtZDC1QixTY8LAfNBhqbLg\n",
       "/SMkZi4O5aePiuLBEXgRmNDYX5n6U6nr0D7ZwyK/z4MQhWQ7fg4wi22roOR9Ak7QAAzd4va0aQDY\n",
       "GVB930W/HfUg9rPvo++WZhpes8vI0Pmvi2Q3hzRd2D9b+dwvs+Q5cl0DGQ+zH4HaZax5kYNWdh7P\n",
       "+WRte4/p6yLCsl8DifIlC1rZqhpCw+9sJN/BUmmGJa8BzaRE0a0JpVMVi7oycvdVM4JpLcqYAEcP\n",
       "yBj6+VJwLEI+NerJOeKeE/7bMUVi/FH7/FZJSRDd3Sqv0KDM20940gjYuMz+IviJozJyrZtzfooM\n",
       "MeZOfjObN9meXxQPn/hMW5nuLsqxwKxF1NRKlhPVNYBICxYe2t5FqK4wc2pyAj89ayagqr6/YBVg\n",
       "TSLxoGXxB5b+7velJupLOLosCvTD7sLPpj41Hj5zMNAOolgUbYA7fHQdLWLweYOl3iQbwCOAX3oN\n",
       "PZQdWh0NKaboxRvOQvWWdPdSRtxxCBIOJAarrY1oCm7k/ZSXXw6+gD7YmswyJ4IQ4rooSZ423OO/\n",
       "QiBDwrg+iF+AjP6ljdI6NQBKGXdUr1SXgp7wgKzD4z3JqIy0/zEL2OizZJ0bfsPuCMoTxumjKfQp\n",
       "X3qj8qRzqVCOadx+HbGMDTe0IWROChq4GNbLnu8t3mSP9eeFZo1QgFMJxqK2Gmm36sD2/3aqkC2j\n",
       "m+FHNLd6qtfZuyCom805JFQ6BD0AmhqSbsk/mP+Rcqo9A3FkQF+K7N5DPwa9ATi/1L0DX/P7zRqZ\n",
       "XXf/VJFzhLpXnfKCZqVsdP7QRdZNHoMRgyPFLfK40F3SP8UQG6nJaHPfV/Q+EXddBCk8EbNs9Sw6\n",
       "DUcU+W7Xg8GNdHp/EFF6Wg9IGhrDsoCShd0oCqAhMi5xxritHYIffmav1J9AhtCP60C0cjIHekyW\n",
       "wXX4IQgF1cihz06qDGqFhk09WgIapRzf3BlQV1CpxnXDTsWZi0NrzCK9oOjSPQ6nDH8iIXFNamkF\n",
       "ylcVyAZGRNHz4SQr67TyNg3ElqafNt8HkW/wr9JaG0ZOvUj0joMVQ5BsCsgeCc7ZsFQdMVZmTC6h\n",
       "eOCRaujOCjlcxBBp6fFHqRyg8jtoH5f6P8LyzlK+25ZLwtPxefyDywt1JjEa41Al82mCBT2jkEJO\n",
       "cchj1W+c08ETydfqY+9DvkCkvPknr75Qwr2CK8Tnfe9ycc+5IezSmZo5oNX6A0XZkT/OBkvt9TNd\n",
       "fJSW/ZP44mSgN0XeorGC+lQX7C+v/SERbOMf7cEn6lu+wRNzMW3+p6hu3ze206D9P25wZZEbQkyn\n",
       "s22kItuG3OTjpbEaod4BIhghA2iRZAHF83vfXUX5ysGA3AWsrvjU2OucU7BTvu8YjKM6qCPMlq6/\n",
       "XxZcdJWw1oxyqQanGyeARFzcXyHHnO3I6Gc+ksGncv0TFg+xyl7T3Zyz1hlzo2OaWIbEI/6BBJus\n",
       "PlVbh3CqPaqPM5z6FVE9TvQi1jeMW5c+5cuChSAJTxszQROOqkEE38TFLz4rXxYunvMm6ms4Y8Ek\n",
       "axEePRiyNTsVhw08a1f7xacQb3GoD7tIOZu3iKMc0UC43qok9nR9/BTCe0oP5DO/O+ivkDJvcBQp\n",
       "PQ3o7ufXNzjouUsgOzb96WPM1Q1tGkbFpq6dckytUfuvar4eDcGc8JoXKNIFWob72iRk2++9ssNZ\n",
       "o9yoZy0wGMK5FtwppkmqorvcyoTHmvuElJqLoTPzAlrwvo5YsailuQ/IZKCeEdRWRQfG0P6A6sCN\n",
       "K5a5l/liI7eTz7XC0hGivJxoEreDF4KtG3tbK/LgXhX1wBxpAytbCFnDfRh8g1O+j+H/6/HgqJ/I\n",
       "DjZllmfB8Jso7ipiFARgLrydehzN2gO0LN55RvK3niy4HiTFT4yMhc0vjacIlk0GcZKqtTElW9YZ\n",
       "YTZUfdy/if7SJislGqEAP+5KB+Dc6tpDjNH74sawX9CxP5GZoZ7Xdg93OGX0iGRCgCrF6MPtqp1Y\n",
       "WTIK7JM5DLkJnPT4BdjYrAmrzRe1MMDyHY4TR09/SEN/zGCoXkuf09leBJhG2ku6usuZ5IWcirKG\n",
       "R25MjJ3rxZd98CPFjKKNp5sEwH8sLYVnStXHFXXBBy4BXw5775uIIAeDHRsriS8E4K/QyekRw9DN\n",
       "eViGp7kwFM2EFjNByz1+wT443YG4BxhHkqCHfLl/52GfLbuIXb3VE8HOSYn/8qQDDoLA9RsJP7Xi\n",
       "THV83TjtxixX68Nvi/xXlWZqStKZVfhXxhF46JobGFzP49SHSNX5IipE6iBkyrTX0AsLCAdbhpxO\n",
       "hcyVPpV0xGisP5/3bzyD7cqf3KRP0+zRNfoCJphBMh3/1LK9ft2d8zYOoboEZxJ/5uR8mGzIh6W0\n",
       "2QHD683lH1eRe87YggYM6o8sk49ndZt8sy/Bonp21MDNs8CIt3GIAznnqveJVnA9wxUcHwJRhrCX\n",
       "YlkM9FN0y6o40/VUPxEJjgpzrLzVVC8Gs4DZgIreycLBAAABkkGaIWxDv/6plgCANYFQBWD4fFoe\n",
       "HE/hH0HWVxCy9mUsdWzx4Ztf/ytQiFKh/WOq6PWeOPJKf0ANzGP8p1rZ+AChshlViRXwhjVc2PlI\n",
       "h79TSxrQVkfcFxE5GpIc2dVHbrb/xyMC5e1hz2xtv6A65INvu3l6c7UsPJ8YIAIMiHz820mvatzf\n",
       "6flk915hqeqm9gN1m02e4L8+vtykWOAha8bB1FyGOhb//8sItw84sOYYnjyAb7UOXqOYdI231BEK\n",
       "0N2JyFESIIfKgs2NyaWMJzsL3cqJoNqWvsSrwvFemHzRQecVVaDM7rlB3Ft5ZNZuzqYYmhTk58Xe\n",
       "pCTKS9blC386eNtCjDdOmE9zmmoVW+cKpDVMup9+D2JZIFhlg0He6ibykX1d3PETw2HyWIUgI2hk\n",
       "w+N+0/2Y8ZjdwtxxUxJ6Pv31A2IapDCbCHam49V/Y8Zyaepo46KlfYEAypvx54sqd3Vjp1c3IcbB\n",
       "M2chp7+SvLUtMo9BuaZE2Xub2IJIT/DPVtYy6vF/aOxrLeeDa6px3AAAAJVBmkQ8IZMphDv//qmW\n",
       "AALNwt8DOfCZ+GlcgOA20+Vvy9E+/BIB7FQ3ILvJkhpeQ828jzwLnAws2paPmk+WvelsXdT1BX4e\n",
       "/d/oM9QZZZ+IqJHVzbCNCCzuSdPYNmGY8BH9mTzd0YohxbjzPLrUGZcX+MwNQDGj3HFj1L0tJX6V\n",
       "qG/XtmZJffeUlkWDhnND+mXUFl99mQAAADJBnmJqU8L/ATbzmEx5TRyPTt3Pu9vIXUOkaaoMvxKX\n",
       "FlYP/7l0EFdS11cdptn/U161YAAAACcBnoNqQr8ABHddyo5YXmUmoABOFS/GUwJTWwVwq6eX2cj2\n",
       "pYBJHY0AAABNQZqFSahBaJlMCHf//qmWAAVwZ+01IWlH4CkTeGneyRXDf7jFSB/ABoaEuXPehBcc\n",
       "jbqe/dzovz1nF3guT69zJyoGdelNKSEvycDQ7FUAAAByQZqoSeEKUmUwId/+qZYAFk+Rg/7ACMp8\n",
       "S8anb2xVFlzzU6veTfhHZdKnfwWgFw7yHhDNo5XA38ihe6Hrd//0l+VxkLL5+Ao/VexGoyG8zfuG\n",
       "G1KZsds5BbcgxIXK/+ySVTRVYVfDr198KKyl31eEXHYxAAAAKEGexkU0TC//ATbi5+aSsfI9KAcp\n",
       "lGOuXeHju4cDmII82ETC8sby68EAAAAbAZ7nakK/ACO67lRjTTjT1eOMTSpNuct/ZumAAAAAPkGa\n",
       "6kmoQWiZTBTw7/6plgBW9/wgXny4mQ9qvgDnZQrBPpxv38WPcmh/JwF9es0zA4Fl+mKhIu7Y0Blb\n",
       "v0DAAAAAGwGfCWpCvwBHddfyryvCq4Lb6BckdZ/jpMrT5wAAAFVBmw5J4QpSZTAhv/6nhACsAoX1\n",
       "pJssDLoACslOLGHKuqfnsO2YOpNBxdfL+RD6cN1HNug1ysaFysCWI5dDnvReI5sVPRMXZsSAnAQj\n",
       "lo0uvYDDUiAvAAAAJkGfLEU0TDP/AOKjTVpc7J4mI8KE6YIYNlqkI+dbSAOqYgEtDrtAAAAAHAGf\n",
       "S3RCvwCKxJBUnl3kQ2bH8sHyRQ7AV9dFTH0AAAAYAZ9NakK/AIr1Yx9RXtRJvRhZw0c60hFJAAAA\n",
       "SkGbT0moQWiZTAhv//6nhABYfQZuig7kNHxOFyL/gN+hpuFAO253nbk3plKqfeF5sCvA60ZYwd4r\n",
       "C19pm2i3vHqkDJN1VZB2raP7AAAAOEGbcEnhClJlMCG//qeEAFj94TYp+/U9hS5fRbOs85c9et3y\n",
       "xkFljepkt+dwFKrj9uuPZk2/lBiwAAAAOEGbkUnhDomUwIb//qeEACx+8BcA5vQAoHKWuwxh42R3\n",
       "43CB3DBzHneI/vmoFbe7yiFmXL82ODFdAAAAN0GbsknhDyZTAhv//qeEACte0V8J58rHZ1ge1K/3\n",
       "UJExj4RIBF2ffbj0felXqmVD14L2nasdasEAAAA8QZvTSeEPJlMCG//+p4QAFa9or4Tz2GMbSRm7\n",
       "qMAEE9K9/et/WZFoNZC6bRTYAaDPrYely8JZ1Nzjc0TQAAAANEGb9EnhDyZTAhv//qeEAAsfvCWP\n",
       "gbKNhjaSB3cs2YhfaHKMtoZ0nRqxoBzHjXwsCI85KisAAABdQZoVSeEPJlMCHf/+qZYAAs3PPIoh\n",
       "FHr/Ax3HdALuiTKlj1m9visWdBEFG8s15c4W1Ubla1VH5oskfruviGVA1j1KQ+3YjCWra9GFXBnu\n",
       "kPXqGQkVi2CTFzVLj//PAAAAQ0GaN0nhDyZTBRE8O//+qZYAAWb4BsjjvOdCGdDoLuwOnZGMVY9p\n",
       "4iCqDMnRv6uwrF00LWpfcOD4akYk7JMXr61hmDAAAAAaAZ5WakK/AAI7ITktUSeY1XslxPLb3siy\n",
       "6bkAAABGQZpZSeEPJlMFPDv//qmWAACzfAo/vkkzfuCO5PecepBLD3rIEKmkU1IQHemAk4snHxSm\n",
       "AIzyOVZpH3K+WwrWo5XYxDKlgQAAABsBnnhqQr8AAR2QnJbRIsdYgftha63ZAvlUPtgAAABPQZp7\n",
       "SeEPJlMFPDv//qmWAABZRn68f5aCBrPtVFlk54E3BKZJIDML67IbTFNRbjO0PCVj6zAJBj2ffy3a\n",
       "TmX7QGovBhfl/cC1ii0psAQ9eQAAABsBnppqQr8AAI7bxlHmZaxpuVxIrQ6Soyf3sh4AAAAwQZqe\n",
       "SeEPJlMCHf/+qZYAALJ8hXCLQSZ4iJsepTzNgeqb58W2CEeAQ0NMnnYIonUVAAAAIUGevEURPC//\n",
       "AADTKZDR3c9DElCNmSdDcpJ2cSOy+J8KywAAABoBnt1qQr8AAR3XfXwqSIuHLaZfiIH8g49a3AAA\n",
       "AExBmsBJqEFomUwU8O/+qZYAAs390iGxsOwZEQmNYeh+OhjHpYNgrJ2i3lt3wqPpKEMG4Qc9bP4d\n",
       "2M6G0uxjpe68wZupSSiprwPDv0GAAAAAHQGe/2pCvwAEV13MLSZ5plPZVQ4Ke/rwV4zpaTlBAAAA\n",
       "WkGa40nhClJlMCHf/qmWAAsyAFrgLL4bqUAN116mEkJrUOG/z8JPryqltgfnzisFWaFCxVDh1Wj0\n",
       "DzBQdJAnExhd0+iHqAh2IaMEALTtLMXdpmDP2Bs6Ug5ywgAAACJBnwFFNEwv/wANMpkNG+BOxcyg\n",
       "1KYmDx4D+6m+Yyqj5Gb/AAAAHAGfImpCvwAR3XcqMaXJ4APf9hNr+8a073yc2BAAAABWQZsmSahB\n",
       "aJlMCG///qeEAKv3syNIb1Sfdh36Y2gQM6U2XGmUDQn0rAd5X+IiLLp+W93JYBfBH4YJvrXYvH5F\n",
       "KrWdmZdTI1fCvLYkjguR7U6GGH2T2VEAAABBQZ9ERREsL/8ANMpkNHd0D5B910BYprONwhE3Oq9c\n",
       "9PXAH8I/812XlbALbhFAlwIndGWa1s7Zl8LQ09yceDiYGpEAAAAaAZ9lakK/AEd11/KzxAPn7rwA\n",
       "+B1TEmwWafMAAAA5QZtoSahBbJlMFEw3//6nhACr+hLht7wA6X4+3vJe5UfejnMsOmUJkH39EFRy\n",
       "zhSq4EtySh8C3LFRAAAAGQGfh2pCvwCK2wi9G3fHTFxrkIdgY4pLHVAAAAA7QZuJSeEKUmUwIb/+\n",
       "p4QAq/rGsABrX0V+AshoKesDFKUzdP8bij3tqYJ6O9g7yQXwJrx4vOHkzEN4QjAAAAA1QZurSeEO\n",
       "iZTBTRMN//6nhACsCGYsEhMB0m1t0Xdl5vpJ3g/OsA2YZXaqnl8OO9WSowXVSZkAAAAgAZ/KakK/\n",
       "AIrIT1at5A3aJMiO2S0XhspGSxeAmtAUAhsAAAA/QZvMSeEPJlMCG//+p4QAWP3gLf72T+Xuld/4\n",
       "V3bKAE/0NHZwVZfrBFTk/D2w603aklISW7q3HZuyPCd8LXowAAAAMkGb7UnhDyZTAhv//qeEACx8\n",
       "y7BEDX5m78AYc8fe45xW20NlJWrRrVtgkLflQZdmFDFhAAAARUGaDknhDyZTAhv//qeEACte0V6g\n",
       "alPAxauL5xn+2bwoLUgGojN5tYGwqNCSxYBcWMKjC5KfmAz8Xiwq+kqo3hwB/2o4gQAAAElBmi9J\n",
       "4Q8mUwId//6plgALN8A2RxzbuCPeJQBGGOyw5AP3q3gMWnz/POuP9hQU/gWYNSn0kHj9zZw0gKEU\n",
       "vnS3ohW/EAGsuc2DAAAANkGaUEnhDyZTAh3//qmWAAWbnnkWLPBSuhrnsviC6du7MlQewK+lvAr5\n",
       "SxKMp7RM7golDoLgAwAAAHtBmnNJ4Q8mUwId//6plgACzfANkcedhg3iFwHaMZMlDAALP6boWjmw\n",
       "a0A3R7b8s4zDAaKEKS7zp20H9eYDT3WOaD01qlx+oSkUtEbDYo41tqPVxs+uuiqNk96Pq0D12VOI\n",
       "CHyv9MqRB4aXwdnWn3PV/cJsKnwC4rW3lGAAAAAjQZ6RRRE8L/8AA0wX+vUVvaq9GUto5PJvoUr6\n",
       "Izjs3P6CO+EAAAAiAZ6yakK/AAI7IArtWyGYSkZrBWXnorlb5CC5XFof/pPY4AAAAFNBmrVJqEFo\n",
       "mUwU8O/+qZYAALN8AX2BTKuiGJRL4EEWvbRANQkPOZ+Fud/JsIwd5D3N00hh1lnnCg9jhXBJF4Pl\n",
       "/LegmsOIPNlGLrFPefN4dUT+DAAAABkBntRqQr8AAR2QnJaoV9AYBFg9SPQyLLzdAAAAW0Ga2Unh\n",
       "ClJlMCHf/qmWAACt/HW3YADZSf119os/zUK0nyYszYG3pVgfqtqJgt+tg+M4qeEA5Z8z9qjJNxt5\n",
       "VRgDEjHMACmkdObUhNWwxt5fE0xBp3iGf3mEsxMAAAAmQZ73RTRMM/8AAJrcQDU6MYYwYXILNW5D\n",
       "5q7MmD7JPrUflr2UaFkAAAAVAZ8WdEK/AACOubFCMkpyaqR7V6BPAAAAHAGfGGpCvwABHddyo5o7\n",
       "LTpjwYuiW5ilitJr8kAAAABKQZsbSahBaJlMFPDf/qeEAALD6KsswOYtX/3SgHxMUtpfxQTNu0Wr\n",
       "3JgeDdndvTTERx1WL3HtHwotA8XBv4PSP+2cY+QzN0PUg40AAAAcAZ86akK/AAI7ruVHLC2tiKiq\n",
       "1lGkkmwPuMqkwAAAAFRBmzxJ4QpSZTAh3/6plgACt/H1uwBVADSsWNalVIDLZw+f2MxgpHspjJtp\n",
       "6Lx9YZNQK2C+22pUdJR0K68OGNrDnEp9bhz9BGIdt7JIfrr2Tp+igYEAAABrQZtfSeEOiZTAhv/+\n",
       "p4QAFjQ/BgqGAXi/pjai6GpKk8aG88OOF6LB9qzWNuiV3is59RQwl4kx5VQO+Qh9YuilwW9uHggK\n",
       "TaHu75HOFDkqFH2smMyoyeBXOyNVo5pZ/2VuLtRy/kuRda0lK5MAAAAgQZ99RRE8L/8ADTKZDR3Z\n",
       "YIV+KYkrIJc0nQzwwUWzmLAAAAAeAZ+eakK/ABHddyo5YX+oRUw8m6EMDck4dhnzazbQAAAAUUGb\n",
       "gEmoQWiZTAh3//6plgAWT49wcvp2fEADQATIL/4/qypPVgNa4wG+7R86tdNVIrwWEbUv4Nn56MB+\n",
       "qCI4TvBKeKyA4cvApXnq3pT5fk51gQAAADNBm6FJ4QpSZTAh3/6plgArfx3qsBeuthDV4iLAEMGs\n",
       "FEzdir4O/6EtOBIcn5X3oMDXycAAAABeQZvDSeEOiZTBTRMO//6plgBXfR4Yq/KjGNaO4HnbZqyC\n",
       "IbmIkwhY4lsSW2CKErX24ZRSPVaymHUSQ9oh3hyQED42kd7vK6+M+ZL0UxoEkL/JUb0ZYMMVcGHA\n",
       "KZCBjQAAABoBn+JqQr8AR21GJIaAbHsx5w4d3q6eofCbgAAAACpBm+dJ4Q8mUwId//6plgAsnxzf\n",
       "qIWuWFcvpPpwJfDzaGCKyl8v1/2mMccAAAAfQZ4FRRE8M/8AS3CJDdb/uY8m/oou7H4B+ObD70xd\n",
       "wQAAABoBniR0Qr8AisTm52KKlyWMa+re3fUuqqWhGwAAABsBniZqQr8AishPVr6pU3T5y0oNx/Fj\n",
       "okkNU6sAAABOQZoqSahBaJlMCG///qeEAFj94C4OWF7wVhmWBum55aUmVHL9wBPVE1lgD6ZfvqGG\n",
       "bVbhMeQma/a4qcIsq3JdwOCRrrhdQIq6/PafOmSAAAAAMUGeSEURLC//ADTBbiDkIpU1nyStAHWt\n",
       "WCAdcMBLg9ZrpEQZMplUkK5vCz2MJkywcIAAAAAkAZ5pakK/ACOyHzioJMpIAhFDEGTwFbShq0fl\n",
       "0VnKjXWphG3tAAAAPkGaa0moQWyZTAhv//6nhAAWP3hLHv/GOgFpegHFA/Qbwb84dPllys/Dme9c\n",
       "N5wvzHnN0gBlFgtBYsiMCfH+AAAANEGajEnhClJlMCG//qeEAAsfvCWPf+Mi2Y2kdA7whrf+0iR9\n",
       "ZwaH1ROrVl/1wu1tG3zj1boAAAA+QZqtSeEOiZTAhv/+p4QABY/eE2Kfe6ql/O3hAesmaCt2NacT\n",
       "wfDmYjr/nnw0pCKNOW1nqHPBu4m9b3fdclsAAAA1QZrOSeEPJlMCHf/+qZYAAWbnnjBHvEbnaJAG\n",
       "x5wjNYw6Is/1tuGEFzWoH2V8pynqhignvycAAABrQZrvSeEPJlMCHf/+qZYAAV33EmhPUQsbcBwJ\n",
       "nlwlg/hSK3NzPdjlGiYXPf0nS2SPNehq64HpvsNugZw+WK/9hnLA1PHNlBli0sO4xNqY1nzsCGtT\n",
       "Zvw03NXt02sLh/63BVMsMdSUDVhUmUcAAABIQZsRSeEPJlMFETw7//6plgAAs3wDZHHnYB6/IBgD\n",
       "BpiA2P7W0NpZc85J1768PLYdANDXKasbIGd59uXjSyJcjxJPgpHb7cWeAAAAGgGfMGpCvwABHZCc\n",
       "ltEix1iB+2FrrdkC+aSYAAAAOUGbNEnhDyZTAh3//qmWAABZPnWYEuEIpDQyqZq4+1jwveMArDrg\n",
       "obGcBk1hdJJiNj0UwHv9nKWKMQAAAB5Bn1JFETwv/wAAaYxOWjfinbV0o7v2c48uzEtSLhIAAAAW\n",
       "AZ9zakK/AACO67lRzLlYP22s/XVh4AAAAEpBm3hJqEFomUwIb//+p4QABWPRmkQ4O8AOnHxNpfJ2\n",
       "coJbVAMmUKAOso0m5PtJXWiINDfch7jWc0TygxF8Ap+AbZnTvdj0iBKpzQAAACBBn5ZFESwz/wAC\n",
       "W3EA/jqhsDTmNGUWnoM7S+/38Gb/LAAAABkBn7V0Qr8AAR3wgjKeriZwqtryeDoskp9BAAAAJwGf\n",
       "t2pCvwAEV13MLUR5Muzd9c3MiBXq151a4D/N+Q0BIoyEHr4aCwAAAGJBm7lJqEFsmUwId//+qZYA\n",
       "BW99CRcSs1FzPSHRVXzuxsHhNv+TIUV7QBFk6Z/nJ1enUY2pDIpMKtvXv/1c9iCYYb3Q+LvbDAxg\n",
       "qLPfqpP9G0InI3ALWaiPP53KTkO7ne2AgAAAAE9Bm9tJ4QpSZTBRUsO//qmWAAsyAFIyvAHRuCAa\n",
       "6HeNZBBMBWotXCGeYga+20AOScxLMMVeJnJn2XqhNwgUbPT9Onv/pqvXj9Uwwe5FyNVZAAAAJgGf\n",
       "+mpCvwAR3XcqOaP/cWvb4tuNu9h6Zd1SckpyfhDPjKY636SAAAAATkGb/EnhDomUwId//qmWABZR\n",
       "DmpVuNPV3xEkAcLjc+ITece8uZgAkVTWGD7uUs2etUT6zdZYwgcbx5eHbt6tKGN/s4f1hHyMM1NI\n",
       "LdIhbQAAAD5BmgBJ4Q8mUwId//6plgBW/kSkWAvXWw4wf+2cDBtHJEDUrLNULEX2iNbYK7qq2fsj\n",
       "092h2PGwp5LWi27/QQAAADFBnj5FETwz/wBLbiAfxwX1+cfdFXEA8apHePO6qnzpi54sjMmEfhxE\n",
       "Gn1jr+uCJM3AAAAAGQGeXXRCvwBHfCCgie06M/dVteTxchQ+wm4AAAAZAZ5fakK/AIrruYWkuIvz\n",
       "ygLKrut4XftHzQAAADNBmkNJqEFomUwIb//+p4QArAKEWCQlwGaF06zD8quth3MF/5Pfx3/nY3bc\n",
       "y5whZyNVqFgAAAAcQZ5hRREsL/8AZxmyml5R1xG8bDHyshuyKdhiwQAAABkBnoJqQr8AishPVprS\n",
       "3a8U1aekcK/4DxIWAAAAU0GahEmoQWyZTAhv//6nhABY/eAImJR6fKLhcURnESCGYts7fZaC1ywB\n",
       "6IIWRTu95AhZE2YjgcfWTf5IFkhFLeD/rVIS++ixDwdwSdhvvaIIfTjhAAAALUGapUnhClJlMCG/\n",
       "/qeEACx8y7BEDX5msInh4dbKWRRUGIPHwG4KJSgxJCZNWQAAADJBmsZJ4Q6JlMCG//6nhAArHoX0\n",
       "ag2NQSFc3+e7wQKeIDTuuugBDQXiCXRXhHyWnt40EQAAADxBmudJ4Q8mUwIb//6nhAAWP3hLHwNl\n",
       "GwxtJA7uWbMQu/9OGe3kecPNc1zJio13PXiWy2AZsIXUZi9tfMEAAAA3QZsISeEPJlMCHf/+qZYA\n",
       "BZvgG6S4JXCsPq4+OSVP8xjoP9AGZdvIXuJdQm759q0ZRDQmOKwkwAAAADpBmypJ4Q8mUwURPDv/\n",
       "/qmWAALN8A2Rx51ODd1SBtLY75RU1b/hy+x0CRmjmCpWWentTNYjRGianoLAAAAAHQGfSWpCvwAE\n",
       "dkJyPxbvkVzEVzeDZEJwaVnrIogFAAAAaEGbS0nhDyZTAh3//qmWAAFd9xJoT1ELG3AcBWu2C8ij\n",
       "3Uhy9GT2r6T2YT3CwZX7rd0j2UY/gzVks6S4NyOY0qL6NAVq5nKEi9xYuHf/qM2D+sWJq+ThR1rd\n",
       "CasQtX/9A0hpqmLh7jSAAAAAS0GbbUnhDyZTBRE8O//+qZYAALN8A2Rx52AewKaC3gRtNMOTuiUg\n",
       "7XYnoIepJtIuwHlhIWQ+CgpZ92Svn2NuM8ezH5Uh9oFClvcxmAAAABkBn4xqQr8AAR2QnJaoaDAx\n",
       "hKs9SPQyLLzdAAAAT0GbkUnhDyZTAh3//qmWAACt76PYHHjvdTx0DGJbiWnTg8ONe84kP6LC3Lqd\n",
       "CL8j8QA0svvYAbYeXMFHbhWcFbHR3K44mr5FNJ5HY0AJzXUAAAAnQZ+vRRE8M/8AAE1wdL9me3S8\n",
       "ZEYMs+vFj6Qr6ak+E37PKIrjVJ9tAAAAFQGfznRCvwAAjrmxQjJKcmqke1egTgAAABgBn9BqQr8A\n",
       "AI8GU+WKjKwREKArBE93L4AAAABKQZvTSahBaJlMFPDv/qmWAAFm/ukQc52Sd+qPYpj6Huv3lvs/\n",
       "2DMDkhpq+dXRXix1qXjKvdFZttm6hx1cgEJcZP23As0t1HjxsUEAAAAyAZ/yakK/AAIrruYWkzgb\n",
       "LcfIoPL90UeaO9ImxHph4pi+gm+bHDrMFsoTu+5fAikpeysAAABFQZv2SeEKUmUwId/+qZYACt7/\n",
       "hKIkzmRqfmCz5U7RhYoIQ5rPjaCVQFujv/e13A85SjzOKPyBOQRLc7SJppJP4ZDPNV2wAAAAIEGe\n",
       "FEU0TC//AAaZTIaO7NvllGx7xhImjJuWmIvSgAqlAAAAGwGeNWpCvwAI7ruVHLC/1CKmHk3Qhgbk\n",
       "uYXgSwAAAJRBmjpJqEFomUwId//+qZYAVv7ajItaQG+fpEz4q2MFStOpiHzNl9t/PpgEnTrT5tXp\n",
       "Odq4YfsF40h2qE+5Oj0uWZdB5rfqIzV5+p61JhtZcLmA1x2boaQicy2UdFXltlqqj3JpcsWb2zrB\n",
       "tzvtGVShlwWSh83khGCuHVOojWuijAXnpE+8BPGZj/rG47DfiscBxarNAAAAL0GeWEURLDP/ACa3\n",
       "EA1Ofzb0KjnHwARiMR5m7hO+m67hI6Zio6gCHzJkniJG+0LhAAAAGwGed3RCvwAjvgxoBSoBQX0p\n",
       "a6w7xpXnaF2vmAAAABwBnnlqQr8AR3XX8rPEA+fuvAD4HVMSbBwwItdxAAAAUUGafUmoQWyZTAh3\n",
       "//6plgBW/jrbsABpnoW8ZmZpx5NLsK7brCx3rtmhb8GUi1hcTS/SGg2uhx1LCcQgpKt5n9tkqnKf\n",
       "ViePVckt8L7LZXzJWAAAAB1BnptFFSwv/wBnFMh+HjAmehFU61gzRlVq9iAm4QAAABQBnrxqQr8A\n",
       "ishPVov2u7fitnFGNQAAADdBmr9JqEFsmUwUTDf//qeEAKwJ5pqVxYlvcxPgIj4cjYWySl65byos\n",
       "3/kkpL2oeQ4grbjifKMgAAAAGwGe3mpCvwCKyE9WmtLdrxTWQ6KYmM5RJ+oDVgAAADVBmsFJ4QpS\n",
       "ZTBSw3/+p4QAWP3hLHv/GOgNfnz16J8g/+12OAlLWiB5C2rMzZ6K6cD6UFLTQQAAABkBnuBqQr8A\n",
       "R2QyK+p0m+/3tNMh9NRnBAJuAAAAK0Ga4knhDomUwIb//qeEACx+8JY9/4x0AeJff4VvlDBV38oJ\n",
       "3xp7Plk43vMAAAAyQZsDSeEPJlMCG//+p4QAFj94DzGpEafy90iq+BFZDjW/mLQBHoUz0F7KXEtn\n",
       "WbkDkRwAAABiQZslSeEPJlMFETw3//6nhAALH7wlj4GyqzEHnetfINgDM9kZ4+c0cSzhbI7BAN2+\n",
       "3AmkJAskvKGkk6knCjIvBKW8IxzoycZ0TPz4vb6ydHej7x6P8vbp5Oz1q2gxLSq2ckEAAAAeAZ9E\n",
       "akK/AAjshOS1RSFjn6zdE8tveyLL8S0DdUiBAAAAM0GbRknhDyZTAh3//qmWAAK77iTQnqP8YAG4\n",
       "38CtEMKWIYV7itOORkqzuzhrczlBW4yBWQAAAFdBm2dJ4Q8mUwId//6plgABXf62EIpv7JdiPwto\n",
       "hY260rLozYC+11jWThTg0yf967hmgAsFzJOXCUEF55q1LOhLcg1/0304qdJhRaA8+MZOvZy4PL7K\n",
       "7I0AAAA4QZuLSeEPJlMCHf/+qZYAALN7y30BzsOCQ+07TQ0fdHoHxV4gVDxoNxroqCP5d/JSSeE5\n",
       "IP72l3AAAAAfQZ+pRRE8M/8AAJrFT6QT0w1CDgE+SFrdUdBtsRhUTgAAAB0Bn8h0Qr8AAR1zcmhJ\n",
       "Z1eTyQjVp5ul2toAfzES5wAAABUBn8pqQr8AAI7ITktJzRKTtmMDicAAAABJQZvNSahBaJlMFPDv\n",
       "/qmWAACt76EnQ5CQKv9VEq52OemntnB60JUUftNeGTBIQjDQiDechuGvaGIirK013ElXcUtOwL9f\n",
       "fzfu2gAAABgBn+xqQr8AAI8GU+WKjKwREKArBE93L4EAAAA2QZvvSeEKUmUwUsN//qeEAALHzLsB\n",
       "g1vZJaHzHox7Cqs9EYw3Q/g574knNtfHtvt00xkqXNcVAAAAGwGeDmpCvwACK67mFpM4GynsqocF\n",
       "Pf14K+M3gQAAADlBmhBJ4Q6JlMCHf/6plgACt76EnQ5Kc8PaprIJJx6jfZgqlgIl0NKCA3Fb3SAu\n",
       "0CIO/xu6GR2yVzMAAABaQZoySeEPJlMFFTw7//6plgAFk+RGXsAGED3oGzRc6qFqSD/KN3eK6hyI\n",
       "4mQmhjTVzREztfa75u/owF+aRMhanlKv59Q2Xbse9C7RG+WiQDR6xVYWUiKWa8NYAAAAHAGeUWpC\n",
       "vwAI7ruVHLC/1CKmIFlGkkmwPuMpNMEAAABRQZpTSeEPJlMCHf/+qZYAFb3/CAolLrOZGBxogN/O\n",
       "slc1YihCNlARe1wgdm8BaOJ+/e499ZEQfMQVn4q8CVz85RLBUFWYBsjJlUfE2RTWfB6rAAAAXkGa\n",
       "d0nhDyZTAh3//qmWAFb30II/aKvuuU7i+kamXuUBvz6yzzXkGt4ePMqM7KT6NtViQtKmTHz8ZqqO\n",
       "x8nSmjm2ebdo3nuxeLXZT7aFTgiCDvkvWfcyHEPcj5oWOSsAAAAtQZ6VRRE8M/8AJrcQG9Ca7eeE\n",
       "NB/l78FiofdPrtQRNFJcJecq2qO3wnqvQE3BAAAAGgGetHRCvwAjvf4Om93ietSOyA8Zsgw2cfYm\n",
       "AAAAGwGetmpCvwBHem3BUl1LyXC6mlyRbNyLUGcF3QAAAEhBmrpJqEFomUwIb//+p4QArAgwA/fD\n",
       "h3SbPzJvc6iF1bH3EJXcubXya9UF7ciGmJIavsIfUyIbUpFfL/cnMCcevhk2a+hgNNMAAAAaQZ7Y\n",
       "RREsL/8AZwyHTqnpsets/h9Pj7jaIpIAAAAfAZ75akK/AIr1Ud8cXtOpvRfqwYkbWDiowd/7VzUP\n",
       "SQAAAEdBmvtJqEFsmUwIb//+p4QArPtFYG8iRz/4BABP4HL5mMw4kDjEbIGe67fIkvq9R59bCqaW\n",
       "Es/wXfZ2HUJoA06KQ/w/ap/gYAAAAC1BmxxJ4QpSZTAhv/6nhABY+ZdgL9s8PFklP/719lU8b/uZ\n",
       "J+0IsueW1nVOgwMAAAA1QZs9SeEOiZTAhv/+p4QAVr2ivUDUp4BzegQc0rqQtYR//XpdytytGxw+\n",
       "pQbyBnjN2b9IlYkAAAA/QZteSeEPJlMCHf/+qZYAFm+AM0JbXrX3SQ4UbEAMG2uVPhim07QUzBm9\n",
       "WtCuQpJkd/coRvNk7oVQmNw1XSG4AAAAWEGbYUnhDyZTAhv//qeEABY/eEse/8aJLXukrS+dgBKR\n",
       "HOacbS4dVrUJ8TlvhNpUplN7ylUcYGiibtsYtChMZTRLBnNgRqSqdBt5CAy4aZhzxOQgbngEKnwA\n",
       "AAAdQZ+fRRE8L/8ADTBf69RXFwL32i4qMcvWXuhvytsAAAAbAZ+gakK/AAjshOR+Ld+5ue6u5YbI\n",
       "hODSo8CAAAAAO0GbokmoQWiZTAhv//6nhAAFa9or1A1KeA7nwvUY3+fWpm0RKzHIIg2vX18ZQbID\n",
       "cPeOyeAPnf0lxfp9AAAAPUGbw0nhClJlMCG//qeEAALH7wFwHiJ/L3SvhbVacx5xHI42IEH4CV4J\n",
       "rwULm+J6rtkcQ4qBSP5eJW4oFoAAAAByQZvkSeEOiZTAh3/+qZYAALNzzxbNJQLaOVBTEAQ54W9j\n",
       "lhUKrZ9KvjfIy5zp0HvmAFQuQkmzfSJboptC3YRgEDujWab2jZYBUF8RZZSoz0PPplxfsVVqK56x\n",
       "JvaC1QYw6Sd7zhpp1hqH5xiO2XeoWF9RAAAAUEGaBUnhDyZTAh///qmWAACu/j+gD4rdTAS3S4mP\n",
       "+sLlANj6kyn74Qb2LWhw/tK9h3rvb2olLbBxnQO4etStPE3+ltJm/L9oW4/MDocLG2cxAAAAOkGa\n",
       "KUnhDyZTAh3//qmWAACt7/hZ+YWmtBV08jVgGsCbMg6lRR7YXKa+uCMNCMfaPxsnB9rlcvm4R0EA\n",
       "AAAdQZ5HRRE8M/8AAE1wezaulVkDzjF7lwmuPIrxqjkAAAAVAZ5mdEK/AACOubFCMkpyaqR7V6BO\n",
       "AAAAGAGeaGpCvwAAjvT8Le0qzCj2WTgGKFuRzAAAADJBmm1JqEFomUwId//+qZYAAsnyMuiLUkON\n",
       "D/DoYQBD0KFA8PrE6mZXwn/DZCmc+u54wQAAACFBnotFESwz/wACa3EA1OiOxxSRl32mDh0FB3nA\n",
       "SxJjm8AAAAAcAZ6qdEK/AAIr4MjvFqzw2q2RscIJ4ZtdyzMa4AAAABsBnqxqQr8ABHddyo5YXmUR\n",
       "UnumjoMDclzC8KsAAABAQZqvSahBbJlMFEw7//6plgALJ8iUiLSi40Cw6GUNAFycO+yl13UScLP1\n",
       "qHe0kVma+g8aU0h1lkw3CMKg/t3ptwAAACUBns5qQr8AEd13Kjlhf6hFTECyjSSTYH3G2dNqquRN\n",
       "rx7/33ixAAAARkGa0knhClJlMCHf/qmWACyfItn+X07PiABxfz5PDxmcG726S6GEGg3AaCjlv4wY\n",
       "wylSXWmgE44D+yTzwi6pRr6BF3CoxHoAAAAtQZ7wRTRML/8ANMpkNHdlggiopl7QKaESiBRlZ0G4\n",
       "zMQV4m9s5/Wk+2IYNsqAAAAAHAGfEWpCvwBHddyo5o/ldakPiJxL+vL7LMQGMCEAAABOQZsWSahB\n",
       "aJlMCG///qeEAKz/IwlMpFqVSBUxt+h07xa8BIrKr5Z4GKU79SIvZH8/dZi79njCTh/LGXGo0rBc\n",
       "9d9veTbD6Yxy0NwjQMrZAAAAL0GfNEURLDP/AEtpS+mg64hXNUZREwjtlfmls7goahgGElBBoDxf\n",
       "gn41SVKssqBgAAAAHAGfU3RCvwCK+DI7jPxCPhRYUkaVQIE7e1ath4UAAAAZAZ9VakK/AIr1UUS1\n",
       "yq6/dH6zlXkkhBRjQAAAAFdBm1dJqEFsmUwIb//+p4QArAhlyc3hHx9wVgGNPX3ni0tNf9I/Auc8\n",
       "/RqCxe4JBJD8XCn4uUdcxzqrYY0/JoHQQ2/7zzLmcuvUhSnLlMcloEeeQdqcBOEAAABDQZt4SeEK\n",
       "UmUwIb/+p4QAWPmXYC/bPDyjACgnP64SlSn/96+yqINtj7IkfvU5IPjxa6PMjNBgM1jI1iL6pxqS\n",
       "IvwwYQAAAEZBm5lJ4Q6JlMCG//6nhABWvaK9QNSnf/h6AaCj/QCaHd3tcPLlPZazgAH+kRePLyBA\n",
       "i4TMnT1AEh1ALOJlC3xjJ9m3Y98wAAAAYUGbuknhDyZTAh3//qmWABZvgGvCmJfyoxjWhiJRFi9o\n",
       "DX0V1CAGO4rT7Prave6xuoe8Lm5NtOTo9Qme08cuFo3J5ZoZLxBS1nH43fBuyA39NeXVfVRPzAri\n",
       "FFOmuAkNCjkAAABLQZvcSeEPJlMFETw7//6plgALN8A2Rxzb3uEAfVSKGdywI1JkgI4O7a4E/Uup\n",
       "+2mma2wk6QKUl3PHT1ReMlAIktn6yrWaNTNmOd+AAAAAGgGf+2pCvwAR2QnJaopCxz9ZuieW3vZF\n",
       "lwm5AAAAU0Gb/knhDyZTBTw7//6plgAFd9xJlQ6juz1QCkHsEiGJ5agEV0c1Bh5v1v08IaMP51Vg\n",
       "ejfBhBifvCoEUG7wIGx2Kf5+djoRduayVRn9erOlVSNhAAAAIgGeHWpCvwAIrIT1aKyDEpdomppX\n",
       "MAE1P8lDVJCGqU8GSUAAAABGQZofSeEPJlMCHf/+qZYAAWbnnjhli0qarUCjXY9X7dyjABoFGhzx\n",
       "ZMgaXzFJuKHpCDLeF9Tt2Mm+nirI3vIet9rbY6xJwAAAADJBmiNJ4Q8mUwId//6plgAAs3wK/uqW\n",
       "A1hNoNWuOhCwDruiNG6O2oL4K7DAyiFUnGDpgQAAABxBnkFFETwz/wAAmsVPpBPW5Z+jYG7d7rAm\n",
       "eUGYAAAAGwGeYHRCvwABHXNyaElod1F8kmz/j3t/JnitwQAAABwBnmJqQr8AAI7bo3ejAAE4JAc0\n",
       "j50rpc4r19BOAAAAZkGaZkmoQWiZTAh3//6plgAAsmc//qmt4fCMiucNVt96+bPe4pNZY/Du8fVv\n",
       "CcoMBhtTBUuSgw81aKJgzhTA/kxTzN3zU7TONstMdANRl3gLQzXpr6SZtZ8VWoiK9/f/um9pu1xH\n",
       "gQAAAB1BnoRFESwv/wAA0ymQ0d3QzWEB2Eh2SlyuKZLf4QAAAB0BnqVqQr8AAR3XcqOWFZfunPLE\n",
       "XgXRf0xS6YjSgQAAAFVBmqlJqEFsmUwId//+qZYAAsnyLxCLUAAcACoaN/6kuGIHw7J+OlsksfcT\n",
       "bl2RSJbq/P0tzvFS+9Qyy50WNF4uBLZe/PLug+WSab8dtMv157syAn1BAAAAKEGex0UVLC//AANM\n",
       "pkNHdm3yyjYvOZqV2tFwqEsBFwFmrFyGPbTTkiwAAAAcAZ7oakK/AAR3XcqOWF/qEVMQLKNJJNa5\n",
       "LFEtTAAAAFtBmupJqEFsmUwId//+qZYABZPj63y+VZAC1g8/UflqKc48ehjw+EP7nCzg9qi0cVb1\n",
       "gD9rmAFDJujotr82uO1SUSM7/rQ+knPFm7O84fZNVleWvrMkNkLXm1axAAAAekGbDUnhClJlMCHf\n",
       "/qmWACuqcMBHmb1IYGCrMuqVY5UVmuKG3FIWG1lQ4hMuTSOKUWyShE0gxE6/4EZ0vM/mLcf0gdgm\n",
       "bpKhZDO73b3OUJMS8hTMcCQYFaMsTGobiWqsDVktA0Xm3NFUMlMzQPo2CgtQYU6tpXphlv2oAAAA\n",
       "MkGfK0U0TC//ABplMho3wJ7jVzb23ALR79fP0EviESVJGYdTOV+3RVOX+cbkNVp0yttUAAAAHAGf\n",
       "TGpCvwAjuuv7CuWUcyeKv5fkAFUj42Gci9UAAABDQZtRSahBaJlMCHf//qmWAFb+QzNYC9dbDT4/\n",
       "6+MZvihpEWNY2cqZmeIczn6FMyPbeDpVUvenyZX/J8b+LFo0wxJfCQAAACtBn29FESwz/wBLbnvQ\n",
       "+JvEjZ8WRIoeEp29brxVbbOIeivzzPCe5sFuHLOrAAAAGwGfjnRCvwBHg/q2h9VGVzjWtKUDEJd9\n",
       "aDlG/AAAABcBn5BqQr8AitvF+EV6QoXKuefS/k4RSQAAAEtBm5NJqEFsmUwUTDf//qeEAKwIZcnN\n",
       "4R8gpAtfAEBXEzEkw7vBAJXHm3TAAKfBSk21Tud7vCYguDgOU+GhBSLlT61MhLKfdwD27zEAAAAa\n",
       "AZ+yakK/AIr1BG323gBJjm7eEGt4ZggMMWAAAAA2QZu1SeEKUmUwUsN//qeEAFj94Sx7/xjoDIh6\n",
       "ARI6eW1xFJu/nKor1ObSWFoGvT/nkQtwtzkgAAAAHwGf1GpCvwBHZD5uOSHDT6vX/Mp0hWhr1s80\n",
       "u9HqQ7sAAABRQZvXSeEOiZTBRMN//qeEACx+8JY9/40SS2HbehtRQSAcuGD4sqsQm+H4Lbl8KdK8\n",
       "HRqPyFv/mJ+ij2KlsSFaN3+DQ5J/poxJ+R/ewqVP2aYkAAAAHgGf9mpCvwAjshOS1RSFjn6zdE8t\n",
       "veyLLnEtA3VIgQAAAE1Bm/hJ4Q8mUwIb//6nhAALH7wFwLXanLvoUAxHGH41buv95TfCW1lqcoOC\n",
       "orYf8iKDrHy1qXzcr2AGNGPNFCsddO/X5eE0YZdk2pQ/kQAAAEhBmhlJ4Q8mUwIb//6nhAAKyFS/\n",
       "nfkA+eE8EEXKM3UxfjUeAM/3RjjV+a8vu86YAbJC6i8pO0C2ssdIjbCM3MKNDgXZPiLx/agAAABS\n",
       "QZo6SeEPJlMCG//+p4QABWvaK9QNSngWl6AReVwBbHiiAvdud4ec2Jk+xQgCQemcgjrgRfDkvlP2\n",
       "vaAQcm9yJWd/luZH/ePi8a8LOA8kk+URzQAAAFNBmltJ4Q8mUwId//6plgABZvgGvCjaQn4qDpRG\n",
       "0sD6AT2IqQNzQevaA8B5xgW3Q7Qit2P5DkXrpjdKGhwXvZF/78ftkvdZKoi2fbAb7Z3enl+pgAAA\n",
       "AExBmnxJ4Q8mUwId//6plgAAs3PPGCOwBgK1zYMcMNCGxATPNQt6l53Edh+gE+lMxQqwoXdcT2Fh\n",
       "YQZ/3k/U/8K+VdPj2Y7Zv7z9LcUJAAAAXEGagEnhDyZTAhv//qeEAAFa9or1A1Kd/+nNtEAQ8yCr\n",
       "vEv7EEOz4khbXCQEhdUv3uZyOBAvwxHUVGzaM73HMIS9pltV40TdsEYHU6dVV4R4IMPGGkasSyui\n",
       "qU6fAAAAK0GevkURPDP/AACWxU/ubx+Q4pACRZgntecgZotQrPvOq+YGWurWGCozdIYAAAAbAZ7d\n",
       "dEK/AAEVc2N7padfs249KZLaQ3Dp6BOAAAAAGwGe32pCvwAAjtsIvRk5KxIFgj1/qdKmrd6SwQAA\n",
       "ADlBmsFJqEFomUwId//+qZYAAFmP/idlB7/iZv+/fL2QBwuN3BXoJaG+KOCRjrCGC40taNUkK5s4\n",
       "dYAAAAA3QZrkSeEKUmUwId/+qZYAArfyKPw8nlaNnuIz8XSmkXkjH+abTA9rrQ0aKkzfHDg9YbXr\n",
       "oHnKTQAAACFBnwJFNEwv/wABplMho7ssD036IwFaklXa44WiHYWImoAAAAAcAZ8jakK/AAI7ruVH\n",
       "LC5wCKj0ExphgbkueoMokwAAAGtBmyVJqEFomUwId//+qZYABXBn7G1jybjvDgBPwZpPaajbJh68\n",
       "FewDt/oVvpB3AlntRaXkwtAt3W9H+sUXmF4bY5KGr7dxZ8+YTkSe9CAy/OvT6sY+D4qERehHx2nJ\n",
       "zfQaJ+4XXIMuC/MfyQAAAFBBm0hJ4QpSZTAh3/6plgAVxrJUruyAKdV3tHqlACZ1Ow0I4Pt+rxcy\n",
       "xVjmN/j0EhF5V3qZ9+TdOtW85HPM0YzLE/M+addhrpypj0MOsZliYQAAAChBn2ZFNEwv/wAZxTIf\n",
       "h1+EQNWOd5UZIFUvSw+QiuaJEEnVSQ+MCoNBAAAAIAGfh2pCvwAiuu5haixS5T2ifmoiM1mKhQcv\n",
       "/qNKInfgAAAASEGbiUmoQWiZTAh3//6plgArgz9vas3wxx/6Bi87tWCxp3C7+sPtM7aQXh9SuoX5\n",
       "hZ2Aqp/GmxwF+UgWj++8K4AFiOEqeS1DXQAAAEFBm61J4QpSZTAh3/6plgBW/kNv7AAV9zZbXMnF\n",
       "oa8k/rYazUHXzbONfiTgO8Wq23YgUkZQ6eVGzYXVgYUXre7tiwAAAC1Bn8tFNEwz/wBLN98Ev4bc\n",
       "C/Hr7Nk9BVSzB0CTKg20VL2QySNefD7YegDE8SwAAAAgAZ/qdEK/AEdiLpiqK2M/OOGxdirjqcJ0\n",
       "DgWU1Nu7BswAAAAbAZ/sakK/AIrbxfhFekKF84AA3R12RG2t4lGNAAAATEGb70moQWiZTBTw7/6p\n",
       "lgBXAmiuH67r/bcAiy60Snz382zXuzyiEa0fIVydTyaLAxWh+ylIwWbYKiIbhuxPZ6tTWRNoV3ZX\n",
       "eYg0CmkAAAAeAZ4OakK/AIr1BG323e0Zuu+gMiIYRZ50sOcRELvRAAAAN0GaEUnhClJlMFLDv/6p\n",
       "lgAs3wBmhFf+GlEj6LX58ftI3xBw671aCCaii3433WughPUccb7CY+AAAAAeAZ4wakK/AEdkMing\n",
       "mVYXdc9cWRcb5v8HZ0cqBBnzAAAAZUGaNEnhDomUwIb//qeEACx+8JY9/40SWvdJWlzEMYK49R4U\n",
       "nsCPgRt9oe+/Gsdgbb5WZdQTqVwcreVPfVEOAoverxUdCWxYgKZhYLbjeYPo9hMmmrbOvNo6jJJc\n",
       "L5dD2ZLl54SpAAAAJEGeUkUVPC//ABpgwIWg/mkxt5ftXo93mvM1wtg4ZeWPSiINqgAAABkBnnNq\n",
       "Qr8AEdkMjIOdIU1/ngVpZp9PcUONAAAAO0GadUmoQWiZTAh3//6plgAFd9xJlQ6fbwxhTkki1liW\n",
       "rByJmFMIiM3YHVqmecxyb2rMFdODdQvQKifDAAAARkGalknhClJlMCHf/qmWAALN7yOjk4bs5Ej3\n",
       "JGACf8bkkK36f3t02nahDGI6WBI+4xmul3j6aCvvLSLDIjUApSrDX4l4LK4AAABQQZq4SeEOiZTB\n",
       "TRMO//6plgABZvgGyOObfCZ7DXEOwZEE2LOABn8xGZMyZFcOaSrvW96i3zbQXxkvDPrfWnTvAq1c\n",
       "oNH0KiQuVZ9/mvpNRJ8AAAAaAZ7XakK/AAI7ITktUSeY1XslxPLb3siy6bkAAAAoQZrZSeEPJlMC\n",
       "Ff/+OEAAFI9YUnFfTAKyOA4oRv0vCUfevcbnFgR1gAAADD1liIIABH/+94gfMstp+TrXchHnrS6t\n",
       "H1DuRnFepL3+IAAAAwAWnJlD+2HHTlrDQABD6G/hKyD4APNf3mcOEPK+G9GGJDQjLYEnU15flEnW\n",
       "sLYDXKKN59kkE9jyvLvjy/0TSAKk1myiY/ikeEf0WdOb9VFTD6ESZzCAUi/V+uDO6pIrYb9KK3RH\n",
       "yPQvhAo28R2fe6aWpJQw1SviLhkntLEPqcjq0nV77/c+pUiSFXuppGJYlifoM/ZBv/ChDHrO7Xa1\n",
       "teyli2bpzTu+jGw2anzKInfcOnJgpUtIpBHFNsExyU7G4pj3p85/AH9SGNGFy7Ki9sMMlKSunF3w\n",
       "/JC6cAq6jvlVMxPGqfX4YpGq1C82zKUYAFmzHGd8L5x25JTt5DffWd+1ZOPctk+x40pLtMhusgGJ\n",
       "GbPC2RNlQGCwT+MNmzvbu8YzqCp0DLoInbhDg3550DjHmTrUSrdAUkscKVrF9fZMXmPHVvWL5BBV\n",
       "0HeffVJz2a085YYjJR1p5BZeP3hrFCqRkEpVuB/3RSuOg0LU48AVd32pTYCTV4XmtHyzDJREl4uZ\n",
       "M4KVTLtzdaAHanonIp+nT5WR4sp3Y7BSg3ytCLONffV/3Pz7bEYWo5RadY2bSDAM95YW/pbFPtpO\n",
       "dZt13yLoDCNF1THMEd5RjKpYUtggDcPBwjEC5kmb6X77nv1uu+Zkw8l60uG075p09cZ7p19FfJh8\n",
       "aqntQG0dKfnS4Dxx5KRj8Dd4N+d/EPOYa+hhUGNG9RV0m6Q0JMU0JTuU0ryD7YB0+A3pp//4xYBi\n",
       "oSHo0p1XUymnKrWKa7Q9peJdA1F23fWoVZtfLyiQ97eIvciOpGbBiC+W/kGJO1WGTDHp3zGQPKE5\n",
       "S0EDt6eiDwqiOKTnY+1X9LF9ApxKxnQB5mmMXHOhHcj9mFnqywuPQi8dtLEX19BHHNpUWrUE0/iC\n",
       "4//fKEPnU4Q7ZCjSGD8swDRgy7uVkXPTQojh1kRu979vbzYrc/l/it7iMG2WFfmz4etEi19+1di0\n",
       "Amf3XdzhCZR5ffL5hxDw85RGAU2h3mv/p4nu+MMD3AfjAb0JZ0Ngw6WR3C+oOzeMC1y9+Du2/e7T\n",
       "rha96WMf3h45xThQVYs4pH+1DYzFE15hzgBR0ZKULTB4kUQz8vxM1f4lP8pqB0NuvDklxuKMigKJ\n",
       "O623yxFU6LoFSWVTV9pSM/x3zjEYRKQSc1VUvCy9jZWqBQM5r+SvQ/Rwdt5P6sQWogHZ5idiE4bI\n",
       "gCc4YTpYJvlW/6/j40MszcXhyu/1FI5XoysJssXGiCZrhau1BiSYgF+u+i6iR++HHt2Jwwd5OhWb\n",
       "MXnOJkl8nOTm0Ab+qeQZeG+Rx+ZDTBzEuKgCA+oBausjT7FYflb8i3jU+F42fBsZChzcO79qHzt9\n",
       "NeylR0d8TovummHPCgK4NQbUyYtlc/eek5MjA+OtOlMNehNoG8k/eShbjYdQJn92pBULvlOYsnzH\n",
       "OKHizIhT7x3Qwuvb+n9LNcqBSJnpSkd8E8Oh/zMsLaTAY2gf7rqEfvAlIJqz1JidnHr2eLWh6wl5\n",
       "JzNOpAn0B5wVy1E3efKGcn53C6rYI4NFg33pgHNJ98MmIE0xmjyZMhEY87DAx8C0zyvdUFyykEyN\n",
       "iYqZW3xqS36YxWgNcjYFgGYVGA93xih5M9YDjeGBHPuma1lmg0XCwOPrV89aUy2LM+z17QfxmgpZ\n",
       "PYSmDU12XuU0X8C7AolKt61IcxJS2dNO0286KPf78n3R+bn9kVSI+1coLO50vVA80hAFIS7IMtNp\n",
       "IfDtMT9abfue1pE9qvPEu2WO0hnGzWoNG/wm2cvz0Lb+4yuVHEJ6BnVzcSOcHl6Od+x7Py8jDifK\n",
       "l+HY0c2eSY0MR6Y6vgE+IcZE642Qx32ydkS3/WYWe0boci97dwV+6cEtY1J7woS94ypU/tcpXi65\n",
       "cj6pz5QnFTl15//PcgB7SGm1fKwXln5JFYKC7NsfAqE6MMLAioKl5tnRLG/zgipcDQrm34fgpVW7\n",
       "OQ0p5w/VlppM+9P8A7X/khaO1I4lEVkiyABN7RSYvOual42BcO3nWaTxhXFfzuyUeDI9BYxDkaLe\n",
       "sfaMDXH7dqxir1coMPSxjyED19Q4mc9KeagC0pwH/2QVlwOhNULFcFtZkkQ60c3T9drry981JWpX\n",
       "DbglBh4JMU6rg1kssn//+m7b7X9h8hIOemNsRL2p6ME9Yh9cqSZl3zXOOEiOFLPeFfnTbbYwLM5W\n",
       "2xDLcSweSkIUY8ew3CcITz7uP67jHyRv2mHHWwEDvaFui0HRsICglACY+vw6aF/u41OckzK376U7\n",
       "d2Ncj+S/hks0nmKmSt0IDai2KiRmP4K8Q9Ibs5ic3YkJ/OXalifCGURvwb2Cg+NisxtLIfOJeLOx\n",
       "n202gbSj0Ecoe++K3gmHvi3v9muWsS/fWal1AQWI5OnccD/fuDniu2AM51q0GlYaD4RAYHUuq4oF\n",
       "QAQw8t95civVTZpFUqPKTAHDlbaTb5Ri3hqDwKhPaz4cu8StjVgIcIP8drVVVBI/j8HLXp46IsHT\n",
       "zXhbf7qAbdkwSMt+f5m1GETtz/yGWJbiKVcRfJteKlX03cCagwEmY2pMtoCUsxm0BjxNkpLXxNd8\n",
       "jODRwyViBA7JrBlIJppAgfDyJdyNhhFf55c+4z/JMKq3Jo0LZ99U8ZpPtw8WXm/LHbaXEzNoo+zR\n",
       "3YgB8MSHTSRwkf9A3WTgjsP5uXLob0XOlaWnzCknzT2FTvLE2Wl+rHk8BlLBq2e+krhyZaEap3Nc\n",
       "5T3KlD4DzkmhmSpXbXXyZ9EzzWncFMjW11T9TEmqQz7rz1MdeDr4642v+qnHcXi6htUEWS7voD8R\n",
       "mZCZNrY7XZx+wKLQH4oyPeprYiV3hXsN0ih3g93dX6dQsm4lRZPFEwr4WcOdIAge9YPcpLF33vEj\n",
       "5ee+Ud9cqUyadb6jrQ4eZxy9e+4ZoY+t8GZ4jTSKueOgZ3PzaffawMLHaQjwF6uLw+90pIFBdyD3\n",
       "XyWuVXFhF8zFiwxK13+b7bLEnOmp8q3ydeTRP0Q09B45/imMon56/XWrcSyxkIlUAw4/sxaBNzxw\n",
       "Yxv6Iykysdn4GbIgI4qA/69vIpVp5CTZfvIFBJ1WtRo1ZJ2QFUBHTqLVmVV6wY85HpNSpvt7JFtf\n",
       "TcM6Am2gpvaVEIHmjicJZ20+2HKejyAbW7OTiryAjR/eb6tpl/lps5Qej9aRX+C7BlWWyYpbQ6sp\n",
       "dsOv29/rcEwCnpFA+1TzQ8elGSW6d+C6WD93lO0FSGEY0lpp7AnT6M7xR8MU2RPxU40cMurgEsgO\n",
       "MPseibLb3hQybrP2GkmsolIVnrrzLATi977aNcF3w/jNDZkLIixYaqQFPRLySVSBV2LB+/hsNcjm\n",
       "mX96XqWoK1taLnLhCoN3zUUgrK6gd+25skLbDBzmLUXH4DWTlFVsVZzXcNrhLL0SoJbkpZHgvxFM\n",
       "878M5X3nnMnbfGHkKVT1GlvVlChIY3lmEsESe9vWE+gMNPwUscnzDNKfaLBHIgSOcyXIxLsUoEWb\n",
       "mYakaRaKWNEqsPuaDp5yUzH3MKd/CdQZA3sYo2r/BGVtvPliOYCCypXO9piU13JeHy0Gg1O2Zuvp\n",
       "oZRivho6SmxSzwi02O5YhJrzZii5sGRZArhXXqgNKuimO6h1/+4R3C4lDSsWIdMP1haFJMgxF6YR\n",
       "aB8/ALUX9RzJ6bsFHT/4pg0T1SkOV3O1o8TEGpHEvtPdNJPnD2OLRR6cL0gXmoaFhGf72YqCC+1v\n",
       "4FQYU8S9ZNadAs3OQvzJY9UpWRpIC6yxiLb2pP1T29emIi2QiGtEMKUP54tkIvFSQ1+H/ec+i0Xk\n",
       "S9LSmN8ckyfVcWtXoLoYehhbDB85hLcxiVW7Z+pI2jhTkE6HzuWnZ5XYlhZOqm//iFCrgiKNl3LU\n",
       "HKGqoLYYJeUka5Dku0i28779Vbujcib5v8C8w9FKupLEe3J8dD1pxmew+1ZYqQB/lLYCHdbgv/6J\n",
       "xZOO50FrgAinqpdmUaQ1xLC7Jj028ML3dRf9ewJTW8kFO3ig+ziPIBgp9qrdT+fRabIvz3wmgmHx\n",
       "QnhimtXKvqkpROOqCuUhqgPzl8MjldcL2s+09YUgSH4mTlnjjUxi8RVi9zuHDntOQ98POeDl7/EK\n",
       "TZ6b9S4WH2DSzjZLT0QHYDH9MycyuAAA3osAKcA/AHvBAAABVkGaImxDv/6plgAOOwLQD5+Gi/3K\n",
       "Eq3KbKVhZjCqN2yvyNMt4N1UzaKnTrnit+S+5PctPS33GmUpNSzdSHYiOQjiQ3E+eUjZGzUXCqfa\n",
       "WfBcSo/Lh2Z+/2ztPlJ9mjVFHKHV7EiLrWIGiaisA79Jnv7kXTi6W3cHb/XRzDI9sRjj+3m+3iEK\n",
       "CKtZ6EU3TNmHWvoeShgQH51uPnIdFjtykmGRq1WynA/khElmzWTnpS6yaHMSSyX7QZ8M4f7SfeJs\n",
       "NzFjkrGbtapy1g+CzHaxL3/K42Ns1v/5VpaHecUWlqXr41YpvSV9CLJ78Tr1YlK+EEApsek9etup\n",
       "8sJJV+gXZKDttm6wVw1Srt+Q8Tk5rrieprO2bkAKGnZfNeMpDN1fg6N3LST0Fc7ZmUahjCx3qrTE\n",
       "T5v+Qj3zjaSOEYmnRihJasx7hT0kx2w4Drpiu5uIPvFU/qNlRAAAADEBnkF5Cv8AF0ads2/W8sgb\n",
       "rt1nDGYhq3B4QpvCKEGwJWfwckmS/g24PEgf2C5JxCehAAAAT0GaRDwhkymEO//+qZYAALN/dIhs\n",
       "bDsGRI9rrvhXHgSUnns1QL6WJqglRJ5hGrdOx8aZRG6neQqseEgsVrlzWAgBdHSL4brkOUklBfrK\n",
       "q8MAAAAmAZ5jakK/AAEV13MLSZN1+hN6hjrbycAsW4gpl7pokHFLoJCPNNwAAAA5QZpnSeEPJlMC\n",
       "Hf/+qZYAAsnyLpXl9Gc3E0vhvccPUQ2aKP6fNyABqOiMyWQ+Rt+fOcwnplKbO+5/AAAALEGehUUR\n",
       "PC//AANMpkNHdm3yyjYvIwKzQR3LTEVKHXykMx2bdwSpQxpC/RuBAAAAIQGepmpCvwAEd13Kjmj+\n",
       "V1qQ+InLmk7hM1fb/WW4FMuRnQAAAG1BmqpJqEFomUwIb//+p4QAK15+oLZmF+KSp+6RVH0ATF+w\n",
       "CCvUgAA1gr6g/KanINw/9ewxzlm/5TdExd0FaT4oaNj2hHKiCli8AnNd0AZ3bRAb6bK0r7EGJN0g\n",
       "w4t4bE2DKDnj71eiUm4qzrKFAAAAK0GeyEURLC//AA0ymQ0b4E7FzKqHdUVFbd8IXnpizkQjg6kn\n",
       "w64sIztAzoAAAAAeAZ7pakK/ABHddf4Hk7T78QeAcuKunkaV1joETKgxAAAARkGa60moQWyZTAhv\n",
       "//6nhABWQQwYmpeJFT2b2EIpz4hRIBqhzwJrqWFwJ04dzlTg+GIlyee9WEbqdcXnxcBJXbF7yxEC\n",
       "EV0AAAA2QZsMSeEKUmUwId/+qZYAK38d6osg2D8dr5yP/QLR/a2br2QKNlQ+ZpkBwABYC3Lg5Ga8\n",
       "H0iRAAAAQkGbL0nhDomUwId//qmWAFb+P61gCqAI39VS5+Ehd+DLr1Xo73z7b8hzx32cfHEWzdgp\n",
       "B9zhlbHdFZY+7+NgGUlkwQAAAChBn01FETwv/wBnFMh+G+B0U7GjF0RCSS79XL6QWzpqfI49PHLo\n",
       "8jqgAAAAHAGfbmpCvwCK2wjgo2mlLeH9JVnpqb6rbnK0pi0AAABRQZtySahBaJlMCG///qeEAKwC\n",
       "Zn8Jn3a3q46jwuncNrdgOWWN5eaGPov5GaFmfxc/5VZo5OK6jMtczvZ10mLGK4tIooV/KbWVp/nH\n",
       "kj8ZpMWBAAAAI0GfkEURLC//AGcZhz77V1oSVA46Eakc92RYJWLsOcB3B3W9AAAAHwGfsWpCvwCK\n",
       "yE9WreQN2iUF6o698obfbBZa3QMgwIAAAABKQZuzSahBbJlMCG///qeEAFj94Sx7/xjn/+HoAwdi\n",
       "OeJe/dcGVmGHMg19qPeJuD4M7FYHCt5ddDPo6f3CQui/LzxTlopeqwRNEsEAAABOQZvUSeEKUmUw\n",
       "Ib/+p4QALH7wFwLg1tnXWkib83mOfabzB6XewaRD+KwNoLTmw/xObnugTnQxK5OAXRAXeWkiL+DH\n",
       "iBqLduGPG5vshXzhAAAAUEGb9UnhDomUwIb//qeEACo+0WXzu5Ze/legBAl7RMxBT0DHiqXyFq9L\n",
       "rPpJonLir1sWOnmVpOqxoTMfO/i/noNF2FyiTYNO6dZU5gwPZOv9AAAAOEGaFknhDyZTAhv//qeE\n",
       "ABWQqX5LBwop7/3F2Hi+yyyolK7wcMsRdbghHAI7SmKMK1NMqXmCr7pEAAAAQ0GaN0nhDyZTAhv/\n",
       "/qeEAArXtFfCeewxg6sAHCVr+N+BRAXvNIr4uFkPWsIqQa2NxNn0zn+NNXo419LOHQMaATGmqsAA\n",
       "AAAyQZpYSeEPJlMCHf/+qZYAAs3wDZHDl8KuCPfE+fApQ55SfUeH8OQCLpjbCG0QDbPz90EAAABW\n",
       "QZp6SeEPJlMFETw7//6plgABZvgGyOPOwFenhFqxwAK/d5hhG0T6iU77690vDaaH2VX9GxeFGmgs\n",
       "quB7phEW7Ca1g+i0A3rZuw+Rh5fx9fQ37ehTINwAAAAaAZ6ZakK/AAI7ITktUSeY1XslxPLb3siy\n",
       "6bgAAABIQZqbSeEPJlMCHf/+qZYAAK77iTQ0Q4J90xeJoRJVSmLIL0OmlTe84yaeyI8ycFwekC0I\n",
       "bhrpam5T5cW2AFMiHyOWv1SUOsrxAAAAU0GavknhDyZTAh3//qmWAABZPi4pwAX0+P/fbOZaQNgQ\n",
       "HR6EpQNMZhl4BzviJ/PJ+x+nNh0gxyCWnDd/ZEt9n9j13lMLkVTCVEkaK8ZbegsNGlPgAAAAGEGe\n",
       "3EURPC//AABpgv9djjFWkv/qERtQkQAAABsBnv1qQr8AAI7bxfg96AJkTfKuGmWj/nBuUsEAAABl\n",
       "QZrgSahBaJlMFPDv/qmWAACt/HmPYAEYz0i6uu7VQpw12mso03pD+F0oDK036KSL2gjqDf5P5tCH\n",
       "OnMx7qlubaJm0m91ldp5yP24+6I0t36Wp+2XW4m6TqkVnV9p/x0Fp54JrwsAAAAaAZ8fakK/AAEV\n",
       "13MLVdyQunLOsBG/CII4EZMAAABaQZsDSeEKUmUwId/+qZYAAsnyLpPYERGr8tGiSe4Q+pA9xHYr\n",
       "XGgIrOqN2KFmX5q5+nRrzwPdyq/ndqrj+o/Mxx/5zvpvt4o/2RU2hiCX/7OezZs8YHankH2mAAAA\n",
       "I0GfIUU0TC//AANMpkNHdm3yyjYvIwKzQTD3VEccVLvxV0AlAAAAHgGfQmpCvwAEd13Kjmj+V1qQ\n",
       "+InLmk7hM1fb/WWmtwAAADlBm0RJqEFomUwId//+qZYABXBn7TUhaUfgKRN4Rt+ACidXn4dwN61h\n",
       "Co9xwREmJdPc/wUs+c19j0wAAABjQZtnSeEKUmUwId/+qZYAFk+Rg/7ACaOTjANkB4/bxQ2QNWRb\n",
       "YbtPkT6JvDZ/HFNyYYgFwyhdTLkbWRLIyaQ2jO3ovTyIKztdLuRyGzN8uOXoCwnLLn7Dw1K1BNsW\n",
       "9H1ABHRQAAAAH0GfhUU0TC//ABplMho7ssEK/FMvaBYoiUQKYHBv6SEAAAAcAZ+makK/ACO67lRy\n",
       "wucAio9BMaYXrxH1S6zwWAAAADtBm6lJqEFomUwU8O/+qZYALJ8hHqLPuQzwU6GUNAFzAeMLDJLq\n",
       "YjenLd1ZyUy7dAKTiYJ23NOz9YT/0QAAABsBn8hqQr8AR3XX8q8rwquC2+gXJHWf46TK0+YAAABP\n",
       "QZvNSeEKUmUwIb/+p4QAq+qBCjEU6H9oRdo4NCCs1jsrw286+QzLhP4pj4IRAtK2oZQRPFuEUAs3\n",
       "5KlwkMpcHWgECVoRusaXJKoJGLYKhwAAACVBn+tFNEwz/wBLaS4RGh1xBkxemURLrt1ozHgh2Ogq\n",
       "0MDueErBAAAAGwGeCnRCvwCKxJBUnl3kQ2bH8sHyRQ7AV6x1QQAAABgBngxqQr8AivVjH1Fe1Em9\n",
       "GFnDRzrSEUkAAAAzQZoOSahBaJlMCG///qeEAFh9BRWMEyONGp9/cQ57t4FGV9twgbGkbHqqa5cu\n",
       "TaAMNJmAAAAAR0GaMEnhClJlMFESw3/+p4QAWP3hLHxC5kIyccKiiyis1uEUPNl3DJI4u8PAD7T4\n",
       "baGxST460+4f6XaHTj7E52FaQL/69k34AAAAGgGeT2pCvwBHZCclqib/G9Zl0K5N3t/5SAm5AAAA\n",
       "OkGaUUnhDomUwIb//qeEACte0V6galPAxB0BpJ+ScCSkwD0/AVdwf5XYPzhQb+tk+zNzktgSSwmi\n",
       "lvwAAAA8QZpySeEPJlMCG//+p4QAFa9or1A1KpBBiYzD/fRDne1rW0joPRxwBh6mt/fsTgBYYHF4\n",
       "8No34JXPWfEgAAAAS0Gak0nhDyZTAhv//qeEAAsfuKdQFYM6Aecvv++hQBPf1qlr/egdApObRNJC\n",
       "3XgktOROqfs1RuUND9SZpVDb8tgDmvvzvP8s2+yJwQAAAD5BmrRJ4Q8mUwId//6plgACzc88YJBu\n",
       "9+aAbGxOr4VdYPTI5P8hINzxMpQ9kq1vPTm8Xtqjw3GmljFSjmw/BwAAACxBmtZJ4Q8mUwURPDv/\n",
       "/qmWAAFm+AbI45t3BIyGdpo3mOjsqC+CuwwMnmjRmQAAABwBnvVqQr8AAjshOS1RJ7LWxnmchGBS\n",
       "66Elehh1AAAATEGa+EnhDyZTBTw7//6plgAAs3wKPmh9rZUEPHuT2Bh7C5nTIHLw1LY290tNAVSr\n",
       "hr4T6WLJwNqiSbC6zQUITa+2HPVp/OlGyZ5eW+AAAAAbAZ8XakK/AAEdkJyW0SLHWIH7YWuqw04A\n",
       "xZJhAAAAK0GbGknhDyZTBTw7//6plgAAWUZ+vH+WhNMRWuXHUNywScpMrKooZV5jaDAAAAAYAZ85\n",
       "akK/AACO28ZR5mWsOqG5LLWOZidsAAAALkGbPUnhDyZTAh3//qmWAACyfIVwi0EmeIidCe1RjqlP\n",
       "uXYTjeNPRPaxk+L9hmsAAAAvQZ9bRRE8L/8AANMpkNHdz0PIM78gcw4Z2f5/x7A+i0qlMg3lmykn\n",
       "wBT4LHNlJYAAAAAbAZ98akK/AAEd11/QJyy2Vdvbg1MAe+WRlNUvAAAAP0Gbf0moQWiZTBTw7/6p\n",
       "lgACzf3SIbGw7BkRCY1h6H46GXs9oYUbotS5RWhTiMWv14XFhkG7XcFpNX+q7TLYYQAAABsBn55q\n",
       "Qr8ABFddzC0meaZT2VUOCnv68FeMxSoAAABcQZuCSeEKUmUwId/+qZYACzIAWuAsvhupQA1UvmEh\n",
       "Y8f4SFs3+TR3js+kDjmqs0KFiqHDqwzcbxmUVRLjW0yCQDj8wCpLjnG6uBNjY/Navv6PO1bmCyZN\n",
       "iRsM1LEAAAAfQZ+gRTRML/8ADTKZDRvgTsXMoNSmJg8eA/upvmC+mAAAABwBn8FqQr8AEd13KjGl\n",
       "yeAD3/YTa/vGtO98nNgRAAAASUGbxUmoQWiZTAhv//6nhABYfRhy7Rczv1P9TnxWYaXMNaqG8SiH\n",
       "4b7lsG/af20QTx7SgXIjlx3elIUpSZmiluemZvgNqE3DisEAAAApQZ/jRREsL/8ANMpkNHd0D5B9\n",
       "1fjTjXXnhGwa4z882Tci1T1EYNNxb1gAAAAaAZ4EakK/AEd11/KzxAPn7rwA+B1TEmwWafMAAAA5\n",
       "QZoHSahBbJlMFEw3//6nhACr+hLht7wBQNJDE2k3n0xPbQ3evVqudISkhxhR5aIqPkxZ1RiCDkZh\n",
       "AAAAGgGeJmpCvwCK2wi9G3fHTFxrkIdgYxrfpY6oAAAASUGaKEnhClJlMCG//qeEAKv6xrAAa6X4\n",
       "lr5TVcvg+hzg7uqPeYEvbUtnhUzlBCEUWnXC/yjB6nzKGtITdx9kIOAcXOB0hu0PAZkAAAAzQZpK\n",
       "SeEOiZTBTRMN//6nhACsCGYsEhMB0m1t0XdmN1JzNiBoChTiDEUriYAVLWoctUasAAAAHwGeaWpC\n",
       "vwCKyE9WreQN2iTIjtkqEXSXpyutgOqcsu8AAAA4QZprSeEPJlMCG//+p4QAWP3gLgABv5C2Qm9T\n",
       "YAKZEJUg8fYgxcLxzmb7iDkKORhGNBYTvAsryJkAAABAQZqMSeEPJlMCG//+p4QALHzLsEQNfkpT\n",
       "0J3ARUF//sBN+C/fhspL7flkfTGOmg/pj+TjENRINzYSzhJfcSPRMQAAAENBmq1J4Q8mUwIb//6n\n",
       "hAArXtFeoGpTwLS+m7pWEXTuGvIEQHunmMkgO3dlLebM4iQFOsGRbNYbiOMUlTBthZDaOtWBAAAA\n",
       "P0GazknhDyZTAhv//qeEABY/eEse/8Y6AeR6AaA0//2/77Y/XjNOdKCJ05tOJXVNh81odv3S8v1C\n",
       "Kw+1FfnqwAAAADNBmu9J4Q8mUwId//6plgAFm+AL7AplOrhyxyLtvnn8RT/PB6GrSjbiU9RKESmL\n",
       "OGbCOIAAAAB4QZsRSeEPJlMFETw7//6plgACzfANkcc29l/T/YikXLYAE9dlTNkCYQSg1uqRIedR\n",
       "dyjASd1sa7cpAIcDcdFP9SwidlfNTOM20Fzn2GJ/3bTYd3glgdovzy/Yew9UwkwbjVQXcLGDiVmo\n",
       "tXIrY+x1zeZYw4rJjoJ5AAAAGgGfMGpCvwAEdkJyWqJv8b1mXQrk3e3/lIm4AAAAN0GbMknhDyZT\n",
       "Ah3//qmWAAFd9xJlQ6fbwvHjlIULD9NRc7/xKRZCrDj1+hqQFQ0AfFhuZCMaEnwAAAB4QZtUSeEP\n",
       "JlMFETw7//6plgAAs3wBfX5Op1cOWORbabiVQ8qFYQG3CMqdnbpH1G/kV4GzYn5u1G56uLmU+vIG\n",
       "Vf74isXS38s7ISIuMS4VdacaXZTP5LzKPZWAq+tCQjUiF4UlNc6nTTXHbcFC75g9oQz/ta2N4sWf\n",
       "AAAAGgGfc2pCvwABHZCcltEix1iB+2FrrdkC+aSZAAAATkGbeEnhDyZTAh3//qmWAACt/HW3YADR\n",
       "7sKF9O+98wXpA61Dr2vXWWYedNNvw/4iXkXHVEtMsExfrOW0nLak5xSCy1f4DjK5SDwCnwNS0QAA\n",
       "AClBn5ZFETwz/wAAltxAP470YN+dkqcNGor2qhCM5AcAawEabyH0WdPYgAAAABUBn7V0Qr8AAI65\n",
       "sUIySnJqpHtXoE4AAAAcAZ+3akK/AAEV13MLVdyQz21tYpemgV1EsunZIQAAAC9Bm7pJqEFomUwU\n",
       "8N/+p4QAAsPoqzm8dv8cATf453Bld6Ugj/Xj+0xTD/1V82TqMAAAABwBn9lqQr8AAjuu5UcsLa2I\n",
       "qKrWUaSSbA+4yqTAAAAAQkGb20nhClJlMCHf/qmWAAK38fW7AFUANJsDWxtIHvIQnT2zq6uq26Vk\n",
       "rsTuDXWgSc5SSde1IslNe68PjJ6zLdDQwQAAAFlBm/5J4Q6JlMCG//6nhAAWND8GCoYBcoPyRtPQ\n",
       "0N54WVlUrvho06ReWf5zt4ij5lE9jyqgd8hD6xdFaw6MgCX6oyMzTV58On1T+r+v+4rfHr6zXCpP\n",
       "haVaKAAAAB9BnhxFETwv/wANMpkNHdk+EhX7Ym5nbAjJQYAdugCTAAAAHgGePWpCvwAR3XcqOWF/\n",
       "qEVMPJuhDA3JOHYZ82s20QAAAE9Bmj9JqEFomUwId//+qZYAFk+Pb2wAjAlLEQmpA9/e+JZsMkr6\n",
       "GfAV1GbDFRFdNOnGbjNTgANacjr/8rEb78u7uc3/ugfr97pwdIApslWrAAAAKEGaQEnhClJlMCHf\n",
       "/qmWACt/HeqwF662ENX/XxjN/O0zNcl3ihjcZ6EAAABZQZpiSeEOiZTBTRMO//6plgBW+fGl7N9I\n",
       "yUi5F9qSjTvOOvC5npsSeJ7AU1KH8IepytYUr05RSADuP0dXzMNeT3fSx6ZfYCaMHWhoEgMui6j6\n",
       "3Q+nWpmOl/YAAAAaAZ6BakK/AEdtRiSGgGx7MecOHd6unqHwm4EAAAApQZqGSeEPJlMCHf/+qZYA\n",
       "VMJ10WYvQnDtDuXFGRVmjK3AhyFcG4Zr7s0AAAAhQZ6kRRE8M/8AS3CJDdb/uY8m/oou7GNpXRfw\n",
       "uUCjSJWAAAAAGQGew3RCvwCKxObnYoqXJYxr6vJFEY4w6YAAAAAbAZ7FakK/AIrIT1a+qVN0+cs9\n",
       "YYtN3xy+SGXBAAAATkGayUmoQWiZTAhv//6nhABY/eAuDy+e8FYZlgftAMtKTKjl+4AnjK2rQtWD\n",
       "GsN5WQt8JwfoFEyQYNbpLEzbB/0MnOf6o6cvN6TAvl3ksAAAACNBnudFESwv/wA0wX+v7b1TxfAW\n",
       "7Vi8jRdhYTFnGzpz+5YwEQAAACwBnwhqQr8AI7IfOKgkykgCEUMQZO/wgLkiMk8jyFM/9wIl/pJ5\n",
       "CGjIUxLdgAAAAD9BmwpJqEFsmUwIb//+p4QAFj94Sx8DZRsMHVsAjA+F+GhKDU2mBVLXnHWCZg50\n",
       "RcNeHEBkmielajD+cM2NNq0AAAA/QZsrSeEKUmUwIb/+p4QACx+8JY+Bso2GNeQgGNS5cO6X2hZF\n",
       "2ID7LJoIHV/H1roiJvnJ8KSYccrVb15NmNuhAAAAKUGbTEnhDomUwIb//qeEAAWP3hLHtf8R0MRs\n",
       "Lb/vD94kvD3wtggpcySBAAAANUGbbUnhDyZTAh3//qmWAAFm554wR7xG53VZRoiz8110RUBcwrN1\n",
       "KyUyNmOQ4h9Nto+l1yCNAAAAeUGbjknhDyZTAh3//qmWAAFd9xJoT1ELG3AcCNGjX62FVJFbm6B8\n",
       "njyNjhVHrmywM7IR5o2dCGmDtpZyvUvuB/ZGOa61uyGLx0czw2lMW3s5Ff4UUuWWRDushGQnFJ34\n",
       "usmF47D6zqs+7J+7nNxnm92vjWm2ah2wmmYAAABWQZuwSeEPJlMFETw7//6plgAAs3wDZHDl8KuC\n",
       "Pew3zoAWhbqVg0rrQKDdLVGXhj4FGZ02emi6QB5iclSDN7Bf1alT6PN9GpO508gAaeTles6YQXu+\n",
       "sC0AAAAZAZ/PakK/AAEdkJyWqGgwMYSrPUj0Miy83QAAAEBBm9RJ4Q8mUwId//6plgAArjWNnwot\n",
       "9Xh2CMoThV4AafdAfM3Qma7o4LIpG/bU4eqXHVxDPqLoAvbXtnRyWrOAAAAAIEGf8kURPDP/AACW\n",
       "3EA/jvRfk1K9LqPCxfmU8EnMNOJgAAAAFQGeEXRCvwAAjrmxQjJKcmqke1egTwAAAB4BnhNqQr8A\n",
       "ARXXcwtV3HaLVoq36hEsch1zIycbZOEAAABCQZoWSahBaJlMFPDv/qmWAAFb+QrhFoJQH4fm///r\n",
       "5h+3Rt2zwHP7wVwIslFpatwsq5e7HeWnarvNuFRFXuiGIHvxAAAAHAGeNWpCvwACK67mFpM4Gy3H\n",
       "yKDy/dFHmjvpY8AAAAA3QZo4SeEKUmUwUsO//qmWAAVLfRQ3jshHp7nMVclFGSIaurfadot/go3a\n",
       "7DHe10NQk8Rm6coPIAAAAB4BnldqQr8ABHddf4Icso5k8n7zBjGRMH1UIJG1OmEAAABIQZpaSeEO\n",
       "iZTBRMN//qeEABYfRfVmADijreHj/zZdDHZvwEvr0QFbODMyw/2iDuzqhdyCCaGA9i8SU8y53AR1\n",
       "T8DMzrqVGpHIAAAAHgGeeWpCvwAR3XcqOWF/qEVMPJuhDA3JiNZerVhQgAAAAClBmntJ4Q8mUwId\n",
       "//6plgAWT49wRZTsZnB0MIfajntz3Brfe/iFkpJNwQAAAFdBmp1J4Q8mUwURPDv//qmWACyfITz2\n",
       "AC+o4vMtvYdxYuRtWPIlLCCWJj0nJWNOGIbIcsRPetL4hOs35fzf412OvPWl6++9wtbcZuwVHICZ\n",
       "K7U3u+JdXSQAAAAeAZ68akK/AEd11/KzxAPn7rwA+B05/b23GWc+cNmBAAAAREGaoUnhDyZTAhv/\n",
       "/qeEAKz/IwiXz8jorymc6Ft6/vdBD8KWc62fQ9jg2oKVUC1VTyaUdnZEvWprXTZNAmOK+4uqowGB\n",
       "AAAAHkGe30URPDP/AEtpIURodcQKxemURLrt1cuQd08JWAAAACMBnv50Qr8AivgyO8WS7CErOx+i\n",
       "l6uxEkdXfiAAJxb/UuiImQAAABgBnuBqQr8AivVjH1Fe1Em9GFnDRzrSEUkAAABRQZriSahBaJlM\n",
       "CG///qeEAFiE7G2AHD0GTKbbudZq6RD/mV9td9gsdhCacaEzdWiLfGGeEspvpjYlUm6jhnV2ol+C\n",
       "kn+pSbYCUVeogdrzrPRBAAAAW0GbA0nhClJlMCG//qeEAFj94DzF7U++a1WAHerMQlcwEqkkImfH\n",
       "+HhEQCn3Mb+zdoUtmChUBLKsfhJs++ySRTkc80bNewTdzhLLS0m/cfGz6I2N3qby2g4ToMEAAABC\n",
       "QZskSeEOiZTAhv/+p4QAVH8cHrERe9h6XgB2ngKEKPW1bb2IbvmlqAklOMofqvHr7dS/fIzkv/G8\n",
       "xOrJFdOXgLggAAAATkGbRUnhDyZTAhv//qeEACshUtBiCiy9o7f0wBU2mS7BuJ1Vxj3DSSdErarx\n",
       "UMn5zNyrmoxyG3qYd2kz44AAwqYmtWlv/CcOlzAx/iYapgAAADNBm2ZJ4Q8mUwIb//6nhAAWP3FO\n",
       "oCsGeYIMD0AiQtLxc7zGSQs4pOGA7CWaeYPU8tFuimkAAAA8QZuHSeEPJlMCHf/+qZYABZvgC+wJ\n",
       "8cSm+0WsPSA9cci7eRLaJCKXouspbqRVO+ch+WAqpV6FbWeHnzyAAAAAV0GbqUnhDyZTBRE8O//+\n",
       "qZYAAs3wDZHHnU4N3VIG0tjvlFC7kFhwFEGSLEhD6O0aXhZHgEeNq9oadCT+Ke43pwCgl4wrNZGo\n",
       "0QaOS3ev/ZBqp0FzuwJ+wQAAAB0Bn8hqQr8ABHZCcj8W75FcxFc3g2RCcGlZ6yKIBAAAAGRBm8pJ\n",
       "4Q8mUwId//6plgABXfcSaE9RCxtwHAVw4nxlboye1hDl1H9FxsCtcLTqr1MKxq34qhcGZP/hlMng\n",
       "4/qQq+xZLKo2GOhBT1vzo8pGivebkOP/eYCxE3ewNAIBHOl5r2XNAAAAVEGb7EnhDyZTBRE8O//+\n",
       "qZYAALN8A2Rx52AewKaC3gOEwA4KLnV/i82qlM0lJfjGeLwCz30nOkqORANJe35lolQhUtpTz70L\n",
       "RMpzB8fEVSi27rfnvwAAABkBngtqQr8AAR2QnJaoaDAxhKs9SPQyLLzdAAAATkGaEEnhDyZTAh3/\n",
       "/qmWAACt76HPXoOqyuCnY9fhdBhvt/KioWuuZDH5Okf4gBpZfewA2x6lRqvqsMfvHFFjU9N6mUhg\n",
       "hblNdMic5ZqOcQAAACBBni5FETwz/wAATXB0vq7O13r/ot8DbizfSnHmtqMXwAAAABUBnk10Qr8A\n",
       "AI65sUIySnJqpHtXoE4AAAAZAZ5PakK/AACPBlPlioysERCq/3xqwB+k4QAAAD1BmlJJqEFomUwU\n",
       "8O/+qZYAAWb+6RBznZJ36o9imPoe7QYx5SZnufhX7gYgsGPLBzN2PirBeUcmU7kSwGzGAAAAMgGe\n",
       "cWpCvwACK67mFpM4Gy3HyKDy/dFHmjvSJsR6YgqfDvihOjeqVlmC1YNrVC5+mJsrAAAARkGadUnh\n",
       "ClJlMCHf/qmWAAre/4Sh485kan3Wb/KgVSz5Wo8o/gd6EaZpPt0d/72u4HnKU15EG3ATkES3O0ia\n",
       "aST+GQzzVdsAAAAfQZ6TRTRML/8ABplMho7s2+WWBBe5roJCJSs73DO93QAAABsBnrRqQr8ACO67\n",
       "lRywv9Qiph5N0IYG5LmF4EsAAAB0QZq5SahBaJlMCHf//qmWACyfIzYdgBGJDhNeiyWZJIAhhRFc\n",
       "bZ7X7I/ZMhNJZ08A0i9KKfxMHIhJxcBv5B7JlH5BNayBNWMLRAKFEW9duZrdVGZyOm8YMt8l31LQ\n",
       "XU3v7KUlh0rZsRXqH+DMpNbO8Y9arMAAAAAgQZ7XRREsM/8AJrcQDU5/NvQqOXwhgQdOUEylSbDW\n",
       "xYAAAAAbAZ72dEK/ACO+DGgFKgFBfSlrrDvGledoXa+ZAAAAHAGe+GpCvwBHddfys8QD5+68APgd\n",
       "UxJsHDAi13AAAAA5QZr9SahBbJlMCG///qeEAKvq9MKatZ3+asGn6u7/uLyAgxZzCzTQL2siJYoU\n",
       "fSn51/AneJxqznBAAAAAH0GfG0UVLDP/AEtpDmRodcP1BemURLrt1cuQdof4NmEAAAAYAZ86dEK/\n",
       "AIr4Mjua1OZsMxG5n8EYUoKSAAAAFQGfPGpCvwCK67mFqMFqJ01N4fsOmQAAAEFBmz9JqEFsmUwU\n",
       "TDf//qeEAFj5l2AwPP8AHKYC3Blfg1VhpdG7ZZ1NChSRWuqD7w/xgwOw2O0whf3NAeVtmwPTQQAA\n",
       "ABsBn15qQr8AR3pjEnl3ZvMumexnxpRbDNX8xQsAAABsQZtASeEKUmUwIb/+p4QAVjz7a0x3EH7i\n",
       "Y2LocWtlZdFNM1zo/wAP/epHXc4IqClSzARvanqoCdOBIxh1+78wJEkdgurqS2TqvLaPUxyZfBC3\n",
       "G2ZdP5TvpEgoGbrxqu45rh81iWHBvidLe7DBAAAASEGbYUnhDomUwIb//qeEACx+8JY+IXMhGTTQ\n",
       "SV4RUucIcnkMDea60RPesWisaVvrJq7LTENNuRVaj64sSWovIDbvxNwh5ft3oAAAAERBm4JJ4Q8m\n",
       "UwIb//6nhAAWP3hLHv/GOgHmZlcgCDriZiSaa3wkf3ZyZS59H3hm3g44k+Pqxaag1gkxFqCQjMX7\n",
       "BGBEgQAAAEFBm6NJ4Q8mUwIb//6nhAALH7wlKO1v19KcquYoL/+CrAUxOgHnL7/vByFjawSJ/A4x\n",
       "BW03al8b4AWCk26xOXejcQAAAGZBm8RJ4Q8mUwIb//6nhAAFj94C4FpegDUapSRgwZ9F0vfWBTqE\n",
       "9Xkql0Z97PfB46ZwvDlhxsPziH4+eKiP/NznwN+QUtDvJeelGxRA5dYBXZ7cy0d9O4WFOCKrUAQu\n",
       "X0tns/Qwz/IAAABGQZvlSeEPJlMCHf/+qZYAArvuJNCeo/xgAbjfwK0QwpQxFe+r00eprcmefz8Q\n",
       "XsWbYHuh8Wfv45cmACIpBVx6/ElTejERzAAAAF9BmgZJ4Q8mUwId//6plgABXfcSaGjftELG29oE\n",
       "w+BIhVlz00oC0t0+RpN/5jQzWVgTfS+7dAbiZBDJzXVhZWOvnmAUTOkVuXGv44CyfobJ9Sd8vlh9\n",
       "Vy3Bw2XTZLZMIQAAADZBmipJ4Q8mUwId//6plgAAs3vLfP/L4z8Eh9yfPpoKHK9TiYvep8ADS9BM\n",
       "TOAYDs+4BMTpEMAAAAAcQZ5IRRE8M/8AAJrFT6QT0wWN4r5u3e6wJnlBmQAAAB4Bnmd0Qr8AAR1z\n",
       "yoraPAg0Fw6vu3y0+K/kr7XDPJwAAAAVAZ5pakK/AACOyE5LSc0Sk7ZjA4nBAAAAPEGabkmoQWiZ\n",
       "TAh3//6plgABZueeMEiUn6KOXNIt/2xyqNYL4pMCd88f/7XdPX9xQVCrOwsP61pZYOo/EwAAACZB\n",
       "noxFESwz/wABLbiAfx1Q2W7TzusbHpiXUHW8JdihWKvopDbOfQAAABoBnqt0Qr8AAI8HnPm5LsVV\n",
       "F0BFkRt7lRS9sQAAAB0Bnq1qQr8AAiuu5har26KokBmaEjhXrPNaavjOoAAAADVBmq9JqEFsmUwI\n",
       "d//+qZYAAqW+ihvHZCPT3OYq5KKMce1zVlNs7/BRu12HFcldfn1bKE3gzwAAAGRBmtFJ4QpSZTBR\n",
       "UsO//qmWAAre/4QDG6mcyM+bDkoDZADqpzVYO3Dvt3iqbjulnxYx6NZSzQ/GvJqq8wACsxwgWlh9\n",
       "Qt9iY7l7Y+bGBOGScDQequoBSbi82vHkvbK+l5gpOBXvAAAAHAGe8GpCvwAI7ruVHLC/1CKmIFlG\n",
       "kkmwPuMpNMAAAABaQZr0SeEOiZTAh3/+qZYAK3voeOoXzhnW5jgaJdO5ANnpdEf/mArdJ1sdyUNr\n",
       "t13TQCUyJGcjA77BrWufY6/DMGkdHfAJQkuSyjQnC9iqmgaP+P+Jlf9SlibXAAAAJUGfEkUVPC//\n",
       "ABplMjpABy+yGF3MzLhC0vs0Pv3ADfEBofKh6sEAAAAiAZ8zakK/ACO66/sK5ZRzJ4q8WS/yVCgx\n",
       "iXWsDRcc+gDXqwAAAFRBmzhJqEFomUwIb//+p4QAq/oqMhwd4AVjlX8ozPnftoxVYXu0ZGtE/URd\n",
       "MalpjaxaWLPirCVW8KaVwVS7NyhBmwGELigOyY8345KLJ0PTWet6dMEAAAAdQZ9WRREsM/8AS24g\n",
       "H8cE14sH4SPhiVCvKUIY6YAAAAAaAZ91dEK/AEeD94n+0gDnJLJhIghLvqG0F3AAAAAeAZ93akK/\n",
       "AIrbxfhFekKFyrnnNeVi2GIQAtgicQz5AAAAUkGbekmoQWyZTBRMN//+p4QAq/oWnKn3FhH2KTPA\n",
       "AlRhPOl/5+YxG2lAlIJhUZdk00coec+WRgVqogL+TDJd0jWqImiDE3ilCkf50X8Y8D7qBYAAAAAd\n",
       "AZ+ZakK/AIrIT1a+pDP2oAWUG9vvTw6+seEgNWAAAAArQZubSeEKUmUwIb/+p4QAWPmWdXCfgAE+\n",
       "lz/+9fZVPHV8lqPFa2EddsoUjQAAAEZBm7xJ4Q6JlMCG//6nhABWvaK9QNSrMYqz0CVOfzSuaSHj\n",
       "Owr4sCH30c7/+mhRI7oL+8PZirBrCAF5L1kb05eNJl84YamYAAAAMkGb3UnhDyZTAh3//qmWABZv\n",
       "gC+vahTrr149kAKB3GgngqkBj2VkC8R1HaqvVQw4dPRDAAAAT0Gb4EnhDyZTAhv//qeEABY/eEse\n",
       "/8aJLXukrS+YMEGJTQAQoBQ4T5lIozYoaez9yxFBOa5KkkcLAra56mVxjQ80cpJRdhpsLzz0ielo\n",
       "2IkAAAAgQZ4eRRE8L/8ADTBf69UPpTprEfYv7OuysU4L5r86vfsAAAAeAZ4/akK/AAjshOR+Ld+5\n",
       "ue6u5YbIhODSq6sfs7RxAAAASEGaIUmoQWiZTAhv//6nhAAFa9or1A1KrmrorK2RcTGdEpHw6vo5\n",
       "LyQrTMAYp3sM9igggkRjEWgYUlRPOZX9gh079pjj+tDNNAAAAFZBmkJJ4QpSZTAhv/6nhAACsehm\n",
       "oqfcWEfYwlMAOHhzfhnz7jWcE8cU7VBcPRf5ZpeNbxBGqYbrxkFJCarouT+Tlsx9ElcLbq0v1Y4a\n",
       "uvKKmcPl6Cz55wAAAEFBmmNJ4Q6JlMCHf/6plgAAs3PPGIOKMFmQARTuR10e5ZKtoyETfpNc9sNO\n",
       "5ivYILGTmDla+gllfFpTPHI/Q4DUwQAAAEFBmoRJ4Q8mUwId//6plgAArvuHuiD7TPXrWML2nMwo\n",
       "uv+Qv/tbXVslAEgJx7J5R2TWQwoBZJiK1AOgmeO0dj7iBgAAAEZBmqhJ4Q8mUwId//6plgAArvo8\n",
       "FZ3QvxSOtjSs9pC1IdpM2gm1aaCu/VlU7Yx1rAUjSP4tmIIIlleDLEnrt3FCStwzR5SAAAAAHEGe\n",
       "xkURPDP/AABNcHs3aLN0h5EYNdzYoeHh2LEAAAAVAZ7ldEK/AACOubFCMkpyaqR7V6BOAAAAGAGe\n",
       "52pCvwAAjvT8Le0qzCj2WRWsjDJnMQAAAE1BmupJqEFomUwU8O/+qZYAAVv5CetgCqAGce4McUTN\n",
       "kwAQUJdz3zGKe2xgWDYKG9JrEq/ZXVy+aZCqpvaf5GjeWKwZ9LEJ/v/9ImeyFAAAAB0BnwlqQr8A\n",
       "Aiuu5har26KokBmaEjhcppHA3lVYdQAAAFBBmwtJ4QpSZTAh3/6plgABZPj3BLBXmpgAIROBnSic\n",
       "YK4W4MWtLm4wXwRKXTcQWPb/4HgB5a3GNDGke/xFUf5RFAjPSl4lDfKRVhQYx+UuYQAAAEpBmy5J\n",
       "4Q6JlMCHf/6plgALJ8jF12AGteoqe+pA96YP9nq/vNKpLA03UeFXzikBu2y27fikFfFoT+xEQP/s\n",
       "YxJzZsDAZahyiJJigQAAACNBn0xFETwv/wANMpkNHdm3yywIL3Ngs+IHyHRo0b59vUwgkQAAABwB\n",
       "n21qQr8AEd13Kjlhf6hFTECyjSSTYH3FEHmqAAAAYUGbcUmoQWiZTAh3//6plgAsnyLZ/l8f4APq\n",
       "c6MhznyoOCA1sN4TA1UK8at8JryI/rA+V7DP4PXP+/XEtJT+7BQeW+O2UKzRX7rTsb/tplfLVgGv\n",
       "eqk/ik5PsiIIzJcLcdAAAAArQZ+PRREsL/8ANMpkNGtrMV8SCltxxkS8JYp5YYnsHQHuR5yWD2QC\n",
       "M4TUgQAAABwBn7BqQr8AR3XcqOaP5XWpD4icS/ry+yzEBjAgAAAATEGbtUmoQWyZTAhv//6nhACx\n",
       "cy6/1kJSefpwQPf8d6BLE2R1Vt6jdjlZe6xOijnjBOdfBteQQ150pd76b9wZvAKwVuNZVN6FUwHf\n",
       "8cAAAAAfQZ/TRRUsM/8AS2lL6aDriFc1RlES67daNL7ILsVLuQAAAB0Bn/J0Qr8AivgyO4z8Qibm\n",
       "f7eFATlnRfgEhSsqYQAAABsBn/RqQr8AivVR3xxe06m9F+rAqCtYKjHWEbEAAABQQZv2SahBbJlM\n",
       "CG///qeEAKwIZixQGzSPj7dZDVmf3tLxAqvX+xhootLUluzAcXGpf1WiDieNYlliMwW3T4p8UNx2\n",
       "Cfd/WQI7FnnXTX8Y6YAAAAA8QZoXSeEKUmUwIb/+p4QAWPmXYC/bPDyjABURvGckuf/3r7Kogy3I\n",
       "RqEaXkfuRxZ6BrCM3c4Jfr9x+6vQAAAARkGaOEnhDomUwIb//qeEAFa9or1A1KeAc3oBq+LF/H6G\n",
       "aEQL5ukX/jCi3yvmMLHdSjboMbqKpK1kz+0DxMzCuMtdn0Hpk1cAAABCQZpZSeEPJlMCHf/+qZYA\n",
       "Fm+Aa8KeHpxpS7fE1BgTuOg92+7PdzDtMS6ZZN4qdjd0Vuer38dOegXmaAk723dWTA2SAAAAYkGa\n",
       "fEnhDyZTAhv//qeEABY/eEsfA2VWavz1wMgMgCUiOc042VpbRNWHGSCS8/c7+BiuWTcWQMIG+xfF\n",
       "Lh4qOLudkdqcxgTdUDTOaPG0MK91Qc4XoJEiI8R+keGc02+Q4TtgAAAAIEGemkURPC//AA0wX+vV\n",
       "D6U6axH2NDaJz1caFzwWr8UxAAAAGQGeu2pCvwAI7IZGQc6Qpr/PArSzT6e4oo0AAABKQZq9SahB\n",
       "aJlMCHf//qmWAAK77iTQnqIWOTj2CWJi7Ism5Rsh84Gdecyl1wfUGPZiuXTw2j9ZZUAIqnGXYFBS\n",
       "lc3lOc2UR18OIGUAAABKQZreSeEKUmUwIf/+qZYAAWbnnlh3Y08YBNe0egBhA3vogb8m18RLV0rS\n",
       "YYfdUHawgglHQLoECp9gStZuoeIv2jIU1SiIT0cW9ZkAAAApQZriSeEOiZTAh3/+qZYAALN8Cv7J\n",
       "JM37gkUYOMetvtJq6LogfEmKtOEAAAAfQZ8ARRE8M/8AAJrFT6QT1uWfo2Bu3e6wJobiBZoQzQAA\n",
       "ABsBnz90Qr8AAR1zcmgtZML6LaZ7SSl/DOY1tIQAAAAcAZ8hakK/AACO26N3ZIPzPbqq/Z398xCA\n",
       "KMmMvwAAAF5BmyVJqEFomUwId//+qZYAALJ8gT9hFL8N42x0mezlAOgd59GftFisjWG6vctUO/hk\n",
       "36DgoVivERQnwyk5pyV617Xz2OFkTwUbopOt/ubALbdPm+nYP//g56MElJzBAAAAJUGfQ0URLC//\n",
       "AADTKZDR3dDNYQHYSHZJ5MgkwFysRTPtGiL5vcAAAAAfAZ9kakK/AAEd13KjlhWX7pzyxF4F0X91\n",
       "wyGTLlQ0oAAAAFNBm2hJqEFsmUwId//+qZYAAsnyLw7YAL7bgAn70IAD+Gmz4tN8EQPomEcy5fa3\n",
       "rBvibJp03a9rm/4UVZkPtrGNDb9xdNOqW1jeFmvH/NdPrrNG1QAAACBBn4ZFFSwv/wADTKZDR3Zt\n",
       "8ssCBnjXQSD6mWIKvAEwuAAAABwBn6dqQr8ABHddyo5YX+oRUxAso0kk2B9xlNTBAAAASkGbq0mo\n",
       "QWyZTAh3//6plgAVv5GH5YC9dbDyinVtAMLCrEZyjmTjMtAY+rTZVe0QxJlYAqtLTBGf1GR6/dB2\n",
       "jHNmtxNAlVHFwPhAAAAAKUGfyUUVLC//ABnFMh+HX4RAzuRlc1seTKcPmM8locuDsr9CjGWWZTvN\n",
       "AAAAHgGf6mpCvwAiuu5haiPJl2bvrm5kWn2LCvRKnL0b1wAAAC9Bm+9JqEFsmUwId//+qZYAVv5F\n",
       "mlgL11sO0f/r4xm/naZmuS7zlSmBtb5nZtxngQAAACpBng1FFSwz/wBLbiAfxwYU+bo0zoxeDRR8\n",
       "qorWpxWO4gBXHlswQOJxGW0AAAAfAZ4sdEK/AEd8GNAKU3+CwXK0HUGttFgWWGTl6utPmAAAACAB\n",
       "ni5qQr8Aiuu5haTB+/P81DHZ7Ksgoo+GecquLWCkgAAAADVBmjJJqEFsmUwIb//+p4QArAJmfwmG\n",
       "AJgMbD4NMo4L3H2jjkS66m4qftkyEmmzaOn23swfEQAAACBBnlBFFSwv/wBnGas6SBHW6bx53sOi\n",
       "aWqRvlxutwA9IAAAABoBnnFqQr8AiwmorwcYOVaPFhxVwZeIOswbMAAAAC9BmnRJqEFsmUwUTDf/\n",
       "/qeEAFj94Sx7/xjoDIsvwCiN8oYKu/lBO+NPZ8snGdSegQAAAB0BnpNqQr8AR2Q+bjkhxMNvXbwl\n",
       "iVSUXfWYj6NZdwAAADNBmpZJ4QpSZTBSwz/+nhAArXu/VP8eEv1SOqL6XcCuEQnArNNJtb2rAhnh\n",
       "9J1ADpu9xV0AAAAeAZ61akK/ACOyE5LVFIWOfrN0Ty297IsucS0DdUiAAAAAKUGat0nhDomUwIZ/\n",
       "/p4QACte71QOZQrttG1poujB93jAy5zEfxVms/KwAAAAMkGa2EnhDyZTAhn//p4QACoAAhnBU691\n",
       "tTMnyj3xF1bmEgRMzEOsNUK7/jAZN3ow9A9/AAAAL0Ga+UnhDyZTAhX//jhAAFI9YUnFfST8yzgZ\n",
       "pVQAUlsZVEZuIrYasq2ih/E8pTCAAAAW4m1vb3YAAABsbXZoZAAAAAAAAAAAAAAAAAAAA+gAAGGo\n",
       "AAEAAAEAAAAAAAAAAAAAAAABAAAAAAAAAAAAAAAAAAAAAQAAAAAAAAAAAAAAAAAAQAAAAAAAAAAA\n",
       "AAAAAAAAAAAAAAAAAAAAAAAAAAAAAAIAABYMdHJhawAAAFx0a2hkAAAAAwAAAAAAAAAAAAAAAQAA\n",
       "AAAAAGGoAAAAAAAAAAAAAAAAAAAAAAABAAAAAAAAAAAAAAAAAAAAAQAAAAAAAAAAAAAAAAAAQAAA\n",
       "AAGwAAABIAAAAAAAJGVkdHMAAAAcZWxzdAAAAAAAAAABAABhqAAABAAAAQAAAAAVhG1kaWEAAAAg\n",
       "bWRoZAAAAAAAAAAAAAAAAAAAKAAAA+gAVcQAAAAAAC1oZGxyAAAAAAAAAAB2aWRlAAAAAAAAAAAA\n",
       "AAAAVmlkZW9IYW5kbGVyAAAAFS9taW5mAAAAFHZtaGQAAAABAAAAAAAAAAAAAAAkZGluZgAAABxk\n",
       "cmVmAAAAAAAAAAEAAAAMdXJsIAAAAAEAABTvc3RibAAAALNzdHNkAAAAAAAAAAEAAACjYXZjMQAA\n",
       "AAAAAAABAAAAAAAAAAAAAAAAAAAAAAGwASAASAAAAEgAAAAAAAAAAQAAAAAAAAAAAAAAAAAAAAAA\n",
       "AAAAAAAAAAAAAAAAAAAAABj//wAAADFhdmNDAWQAFf/hABhnZAAVrNlBsJaEAAADAAQAAAMAoDxY\n",
       "tlgBAAZo6+PLIsAAAAAcdXVpZGtoQPJfJE/FujmlG88DI/MAAAAAAAAAGHN0dHMAAAAAAAAAAQAA\n",
       "AfQAAAIAAAAAGHN0c3MAAAAAAAAAAgAAAAEAAAD7AAAL8GN0dHMAAAAAAAABfAAAAAIAAAQAAAAA\n",
       "AQAACAAAAAACAAACAAAAAAEAAAQAAAAAAQAACAAAAAACAAACAAAAAAEAAAYAAAAAAQAAAgAAAAAB\n",
       "AAAKAAAAAAEAAAQAAAAAAQAAAAAAAAABAAACAAAAAAcAAAQAAAAAAQAABgAAAAABAAACAAAAAAEA\n",
       "AAYAAAAAAQAAAgAAAAABAAAGAAAAAAEAAAIAAAAAAQAACAAAAAACAAACAAAAAAEAAAYAAAAAAQAA\n",
       "AgAAAAABAAAIAAAAAAIAAAIAAAAAAQAACAAAAAACAAACAAAAAAEAAAYAAAAAAQAAAgAAAAABAAAE\n",
       "AAAAAAEAAAYAAAAAAQAAAgAAAAAFAAAEAAAAAAEAAAgAAAAAAgAAAgAAAAABAAAGAAAAAAEAAAIA\n",
       "AAAAAQAACgAAAAABAAAEAAAAAAEAAAAAAAAAAQAAAgAAAAABAAAGAAAAAAEAAAIAAAAAAQAABAAA\n",
       "AAABAAAIAAAAAAIAAAIAAAAAAgAABAAAAAABAAAGAAAAAAEAAAIAAAAAAQAACgAAAAABAAAEAAAA\n",
       "AAEAAAAAAAAAAQAAAgAAAAABAAAIAAAAAAIAAAIAAAAABQAABAAAAAABAAAGAAAAAAEAAAIAAAAA\n",
       "AQAACAAAAAACAAACAAAAAAEAAAoAAAAAAQAABAAAAAABAAAAAAAAAAEAAAIAAAAAAQAABAAAAAAB\n",
       "AAAGAAAAAAEAAAIAAAAAAQAABAAAAAABAAAKAAAAAAEAAAQAAAAAAQAAAAAAAAABAAACAAAAAAEA\n",
       "AAgAAAAAAgAAAgAAAAAFAAAEAAAAAAEAAAYAAAAAAQAAAgAAAAABAAAEAAAAAAEAAAYAAAAAAQAA\n",
       "AgAAAAABAAAKAAAAAAEAAAQAAAAAAQAAAAAAAAABAAACAAAAAAEAAAYAAAAAAQAAAgAAAAABAAAI\n",
       "AAAAAAIAAAIAAAAAAQAACgAAAAABAAAEAAAAAAEAAAAAAAAAAQAAAgAAAAABAAAIAAAAAAIAAAIA\n",
       "AAAAAQAABgAAAAABAAACAAAAAAEAAAYAAAAAAQAAAgAAAAACAAAEAAAAAAEAAAYAAAAAAQAAAgAA\n",
       "AAACAAAEAAAAAAEAAAoAAAAAAQAABAAAAAABAAAAAAAAAAEAAAIAAAAAAQAABgAAAAABAAACAAAA\n",
       "AAEAAAYAAAAAAQAAAgAAAAABAAAEAAAAAAEAAAYAAAAAAQAAAgAAAAABAAAEAAAAAAEAAAoAAAAA\n",
       "AQAABAAAAAABAAAAAAAAAAEAAAIAAAAAAQAACAAAAAACAAACAAAAAAQAAAQAAAAAAQAACAAAAAAC\n",
       "AAACAAAAAAQAAAQAAAAAAQAACgAAAAABAAAEAAAAAAEAAAAAAAAAAQAAAgAAAAABAAAKAAAAAAEA\n",
       "AAQAAAAAAQAAAAAAAAABAAACAAAAAAEAAAYAAAAAAQAAAgAAAAABAAAIAAAAAAIAAAIAAAAAAQAA\n",
       "CgAAAAABAAAEAAAAAAEAAAAAAAAAAQAAAgAAAAAEAAAEAAAAAAEAAAYAAAAAAQAAAgAAAAABAAAG\n",
       "AAAAAAEAAAIAAAAAAQAABAAAAAABAAAKAAAAAAEAAAQAAAAAAQAAAAAAAAABAAACAAAAAAEAAAgA\n",
       "AAAAAgAAAgAAAAABAAAIAAAAAAIAAAIAAAAAAQAABAAAAAABAAAIAAAAAAIAAAIAAAAAAQAACgAA\n",
       "AAABAAAEAAAAAAEAAAAAAAAAAQAAAgAAAAABAAAGAAAAAAEAAAIAAAAAAQAABgAAAAABAAACAAAA\n",
       "AAEAAAYAAAAAAQAAAgAAAAAFAAAEAAAAAAEAAAoAAAAAAQAABAAAAAABAAAAAAAAAAEAAAIAAAAA\n",
       "AQAABAAAAAABAAAIAAAAAAIAAAIAAAAAAQAABAAAAAABAAAIAAAAAAIAAAIAAAAAAQAABAAAAAAB\n",
       "AAAKAAAAAAEAAAQAAAAAAQAAAAAAAAABAAACAAAAAAEAAAYAAAAAAQAAAgAAAAABAAAGAAAAAAEA\n",
       "AAIAAAAAAQAACAAAAAACAAACAAAAAAIAAAQAAAAAAQAABgAAAAABAAACAAAAAAIAAAQAAAAAAQAA\n",
       "BgAAAAABAAACAAAAAAEAAAYAAAAAAQAAAgAAAAABAAAIAAAAAAIAAAIAAAAAAQAACAAAAAACAAAC\n",
       "AAAAAAIAAAQAAAAAAQAACAAAAAACAAACAAAAAAEAAAgAAAAAAgAAAgAAAAAGAAAEAAAAAAEAAAYA\n",
       "AAAAAQAAAgAAAAABAAAEAAAAAAEAAAgAAAAAAgAAAgAAAAABAAAGAAAAAAEAAAIAAAAAAQAACAAA\n",
       "AAACAAACAAAAAAEAAAQAAAAAAQAACAAAAAACAAACAAAAAAEAAAYAAAAAAQAAAgAAAAABAAAKAAAA\n",
       "AAEAAAQAAAAAAQAAAAAAAAABAAACAAAAAAEAAAQAAAAAAQAABgAAAAABAAACAAAAAAQAAAQAAAAA\n",
       "AQAABgAAAAABAAACAAAAAAEAAAYAAAAAAQAAAgAAAAABAAAGAAAAAAEAAAIAAAAAAQAACAAAAAAC\n",
       "AAACAAAAAAEAAAYAAAAAAQAAAgAAAAABAAAIAAAAAAIAAAIAAAAAAQAACAAAAAACAAACAAAAAAEA\n",
       "AAYAAAAAAQAAAgAAAAABAAAEAAAAAAEAAAYAAAAAAQAAAgAAAAAFAAAEAAAAAAEAAAYAAAAAAQAA\n",
       "AgAAAAABAAAEAAAAAAEAAAYAAAAAAQAAAgAAAAABAAAKAAAAAAEAAAQAAAAAAQAAAAAAAAABAAAC\n",
       "AAAAAAEAAAYAAAAAAQAAAgAAAAABAAAEAAAAAAEAAAgAAAAAAgAAAgAAAAACAAAEAAAAAAEAAAYA\n",
       "AAAAAQAAAgAAAAABAAAKAAAAAAEAAAQAAAAAAQAAAAAAAAABAAACAAAAAAEAAAgAAAAAAgAAAgAA\n",
       "AAAFAAAEAAAAAAEAAAYAAAAAAQAAAgAAAAABAAAKAAAAAAEAAAQAAAAAAQAAAAAAAAABAAACAAAA\n",
       "AAEAAAYAAAAAAQAAAgAAAAABAAAGAAAAAAEAAAIAAAAAAQAABgAAAAABAAACAAAAAAEAAAQAAAAA\n",
       "AQAABgAAAAABAAACAAAAAAEAAAoAAAAAAQAABAAAAAABAAAAAAAAAAEAAAIAAAAABgAABAAAAAAB\n",
       "AAAGAAAAAAEAAAIAAAAAAQAABAAAAAABAAAGAAAAAAEAAAIAAAAAAQAACgAAAAABAAAEAAAAAAEA\n",
       "AAAAAAAAAQAAAgAAAAABAAAGAAAAAAEAAAIAAAAAAQAACAAAAAACAAACAAAAAAEAAAoAAAAAAQAA\n",
       "BAAAAAABAAAAAAAAAAEAAAIAAAAAAQAACgAAAAABAAAEAAAAAAEAAAAAAAAAAQAAAgAAAAABAAAG\n",
       "AAAAAAEAAAIAAAAABwAABAAAAAABAAAKAAAAAAEAAAQAAAAAAQAAAAAAAAABAAACAAAAAAEAAAoA\n",
       "AAAAAQAABAAAAAABAAAAAAAAAAEAAAIAAAAAAQAABAAAAAABAAAGAAAAAAEAAAIAAAAAAQAACAAA\n",
       "AAACAAACAAAAAAEAAAoAAAAAAQAABAAAAAABAAAAAAAAAAEAAAIAAAAAAQAABgAAAAABAAACAAAA\n",
       "AAMAAAQAAAAAAQAACAAAAAACAAACAAAAAAQAAAQAAAAAAQAACgAAAAABAAAEAAAAAAEAAAAAAAAA\n",
       "AQAAAgAAAAABAAAGAAAAAAEAAAIAAAAAAQAABAAAAAABAAAIAAAAAAIAAAIAAAAAAQAACAAAAAAC\n",
       "AAACAAAAAAEAAAoAAAAAAQAABAAAAAABAAAAAAAAAAEAAAIAAAAABAAABAAAAAABAAAIAAAAAAIA\n",
       "AAIAAAAAAgAABAAAAAABAAAKAAAAAAEAAAQAAAAAAQAAAAAAAAABAAACAAAAAAEAAAgAAAAAAgAA\n",
       "AgAAAAABAAAIAAAAAAIAAAIAAAAAAQAACAAAAAACAAACAAAAAAEAAAoAAAAAAQAABAAAAAABAAAA\n",
       "AAAAAAEAAAIAAAAAAQAACAAAAAACAAACAAAAAAEAAAYAAAAAAQAAAgAAAAABAAAGAAAAAAEAAAIA\n",
       "AAAAAwAABAAAAAAcc3RzYwAAAAAAAAABAAAAAQAAAfQAAAABAAAH5HN0c3oAAAAAAAAAAAAAAfQA\n",
       "AA1RAAABlgAAAJkAAAA2AAAAKwAAAFEAAAB2AAAALAAAAB8AAABCAAAAHwAAAFkAAAAqAAAAIAAA\n",
       "ABwAAABOAAAAPAAAADwAAAA7AAAAQAAAADgAAABhAAAARwAAAB4AAABKAAAAHwAAAFMAAAAfAAAA\n",
       "NAAAACUAAAAeAAAAUAAAACEAAABeAAAAJgAAACAAAABaAAAARQAAAB4AAAA9AAAAHQAAAD8AAAA5\n",
       "AAAAJAAAAEMAAAA2AAAASQAAAE0AAAA6AAAAfwAAACcAAAAmAAAAVwAAAB0AAABfAAAAKgAAABkA\n",
       "AAAgAAAATgAAACAAAABYAAAAbwAAACQAAAAiAAAAVQAAADcAAABiAAAAHgAAAC4AAAAjAAAAHgAA\n",
       "AB8AAABSAAAANQAAACgAAABCAAAAOAAAAEIAAAA5AAAAbwAAAEwAAAAeAAAAPQAAACIAAAAaAAAA\n",
       "TgAAACQAAAAdAAAAKwAAAGYAAABTAAAAKgAAAFIAAABCAAAANQAAAB0AAAAdAAAANwAAACAAAAAd\n",
       "AAAAVwAAADEAAAA2AAAAQAAAADsAAAA+AAAAIQAAAGwAAABPAAAAHQAAAFMAAAArAAAAGQAAABwA\n",
       "AABOAAAANgAAAEkAAAAkAAAAHwAAAJgAAAAzAAAAHwAAACAAAABVAAAAIQAAABgAAAA7AAAAHwAA\n",
       "ADkAAAAdAAAALwAAADYAAABmAAAAIgAAADcAAABbAAAAPAAAACMAAAAhAAAAGQAAAE0AAAAcAAAA\n",
       "OgAAAB8AAAA9AAAAXgAAACAAAABVAAAAYgAAADEAAAAeAAAAHwAAAEwAAAAeAAAAIwAAAEsAAAAx\n",
       "AAAAOQAAAEMAAABcAAAAIQAAAB8AAAA/AAAAQQAAAHYAAABUAAAAPgAAACEAAAAZAAAAHAAAADYA\n",
       "AAAlAAAAIAAAAB8AAABEAAAAKQAAAEoAAAAxAAAAIAAAAFIAAAAzAAAAIAAAAB0AAABbAAAARwAA\n",
       "AEoAAABlAAAATwAAAB4AAABXAAAAJgAAAEoAAAA2AAAAIAAAAB8AAAAgAAAAagAAACEAAAAhAAAA\n",
       "WQAAACwAAAAgAAAAXwAAAH4AAAA2AAAAIAAAAEcAAAAvAAAAHwAAABsAAABPAAAAHgAAADoAAAAj\n",
       "AAAAVQAAACIAAABRAAAATAAAAFYAAABXAAAAUAAAAGAAAAAvAAAAHwAAAB8AAAA9AAAAOwAAACUA\n",
       "AAAgAAAAbwAAAFQAAAAsAAAAJAAAAEwAAABFAAAAMQAAACQAAAAfAAAAUAAAACIAAAA7AAAAIgAA\n",
       "AGkAAAAoAAAAHQAAAD8AAABKAAAAVAAAAB4AAAAsAAAMQQAAAVoAAAA1AAAAUwAAACoAAAA9AAAA\n",
       "MAAAACUAAABxAAAALwAAACIAAABKAAAAOgAAAEYAAAAsAAAAIAAAAFUAAAAnAAAAIwAAAE4AAABS\n",
       "AAAAVAAAADwAAABHAAAANgAAAFoAAAAeAAAATAAAAFcAAAAcAAAAHwAAAGkAAAAeAAAAXgAAACcA\n",
       "AAAiAAAAPQAAAGcAAAAjAAAAIAAAAD8AAAAfAAAAUwAAACkAAAAfAAAAHAAAADcAAABLAAAAHgAA\n",
       "AD4AAABAAAAATwAAAEIAAAAwAAAAIAAAAFAAAAAfAAAALwAAABwAAAAyAAAAMwAAAB8AAABDAAAA\n",
       "HwAAAGAAAAAjAAAAIAAAAE0AAAAtAAAAHgAAAD0AAAAeAAAATQAAADcAAAAjAAAAPAAAAEQAAABH\n",
       "AAAAQwAAADcAAAB8AAAAHgAAADsAAAB8AAAAHgAAAFIAAAAtAAAAGQAAACAAAAAzAAAAIAAAAEYA\n",
       "AABdAAAAIwAAACIAAABTAAAALAAAAF0AAAAeAAAALQAAACUAAAAdAAAAHwAAAFIAAAAnAAAAMAAA\n",
       "AEMAAABDAAAALQAAADkAAAB9AAAAWgAAAB0AAABEAAAAJAAAABkAAAAiAAAARgAAACAAAAA7AAAA\n",
       "IgAAAEwAAAAiAAAALQAAAFsAAAAiAAAASAAAACIAAAAnAAAAHAAAAFUAAABfAAAARgAAAFIAAAA3\n",
       "AAAAQAAAAFsAAAAhAAAAaAAAAFgAAAAdAAAAUgAAACQAAAAZAAAAHQAAAEEAAAA2AAAASgAAACMA\n",
       "AAAfAAAAeAAAACQAAAAfAAAAIAAAAD0AAAAjAAAAHAAAABkAAABFAAAAHwAAAHAAAABMAAAASAAA\n",
       "AEUAAABqAAAASgAAAGMAAAA6AAAAIAAAACIAAAAZAAAAQAAAACoAAAAeAAAAIQAAADkAAABoAAAA\n",
       "IAAAAF4AAAApAAAAJgAAAFgAAAAhAAAAHgAAACIAAABWAAAAIQAAAC8AAABKAAAANgAAAFMAAAAk\n",
       "AAAAIgAAAEwAAABaAAAARQAAAEUAAABKAAAAIAAAABkAAAAcAAAAUQAAACEAAABUAAAATgAAACcA\n",
       "AAAgAAAAZQAAAC8AAAAgAAAAUAAAACMAAAAhAAAAHwAAAFQAAABAAAAASgAAAEYAAABmAAAAJAAA\n",
       "AB0AAABOAAAATgAAAC0AAAAjAAAAHwAAACAAAABiAAAAKQAAACMAAABXAAAAJAAAACAAAABOAAAA\n",
       "LQAAACIAAAAzAAAALgAAACMAAAAkAAAAOQAAACQAAAAeAAAAMwAAACEAAAA3AAAAIgAAAC0AAAA2\n",
       "AAAAMwAAABRzdGNvAAAAAAAAAAEAAAAsAAAAYnVkdGEAAABabWV0YQAAAAAAAAAhaGRscgAAAAAA\n",
       "AAAAbWRpcmFwcGwAAAAAAAAAAAAAAAAtaWxzdAAAACWpdG9vAAAAHWRhdGEAAAABAAAAAExhdmY1\n",
       "Ny41Ni4xMDE=\n",
       "\">\n",
       "  Your browser does not support the video tag.\n",
       "</video>"
      ],
      "text/plain": [
       "<matplotlib.animation.FuncAnimation at 0x7f0a949cf470>"
      ]
     },
     "execution_count": 91,
     "metadata": {},
     "output_type": "execute_result"
    },
    {
     "data": {
      "image/png": "[encoded data removed]",
      "text/plain": [
       "<matplotlib.figure.Figure at 0x7f0a92041710>"
      ]
     },
     "metadata": {},
     "output_type": "display_data"
    }
   ],
   "source": [
    "# Creates a figure window.\n",
    "fig = plt.figure()\n",
    "\n",
    "# Creates axes within the window\n",
    "ax = plt.axes(xlim=(-2, 2), ylim=(-3.5,3.5))\n",
    "\n",
    "# Two objects to animate\n",
    "line,   = ax.plot([2,1], [4,3], marker=\"\" , ls=\"-\")  # for lines\n",
    "\n",
    "point, = ax.plot([1], [1], marker='o', ms=40)  # for points\n",
    "\n",
    "\n",
    "# Spring data\n",
    "k = 100\n",
    "m = 20\n",
    "w = np.sqrt(k/m)\n",
    "phi = 2\n",
    "A = 2\n",
    "\n",
    "# Position of mass as function of time\n",
    "def fun(t):\n",
    "    global w,phi,A\n",
    "    return A*np.sin(w*t+phi)\n",
    "\n",
    "def animate(i):\n",
    "    \n",
    "    x = fun(i/10) \n",
    "    \n",
    "    line.set_data([0,0], [4, -x])    \n",
    "    point.set_data(0, -x)    \n",
    "    return line, point\n",
    "    \n",
    "# Animates the data; 100 frames, 20ms delay between frames, blit=True : only re-draw the parts that have changed.\n",
    "anim = animation.FuncAnimation(fig, animate, frames=500, interval=50, blit=True)\n",
    "\n",
    "anim\n",
    "\n",
    "# writer = animation.writers['ffmpeg'](fps=15, bitrate=1800)\n",
    "# anim.save('img/spring_movie.mp4', writer=writer)"
   ]
  },
  {
   "cell_type": "markdown",
   "metadata": {
    "collapsed": true
   },
   "source": [
    "## Visualising 2D Arrays\n",
    "\n",
    "Two-dimensonal arrays can be visualized with the `plt.matshow` function.\n",
    "\n",
    "Each square cell represents one element of the array.\n",
    "\n",
    "A colour scale (`plot.colorbar`) is used to indicate the value of each cell.\n",
    "\n",
    "Note that the first row of the matrix (with index 0), is plotted at the top, which corresponds to the location of the first row in the matrix."
   ]
  },
  {
   "cell_type": "code",
   "execution_count": 26,
   "metadata": {},
   "outputs": [
    {
     "data": {
      "text/plain": [
       "<matplotlib.colorbar.Colorbar at 0x7f0a95013a58>"
      ]
     },
     "execution_count": 26,
     "metadata": {},
     "output_type": "execute_result"
    },
    {
     "data": {
      "image/png": "[encoded data removed]",
      "text/plain": [
       "<matplotlib.figure.Figure at 0x7f0a94c96588>"
      ]
     },
     "metadata": {},
     "output_type": "display_data"
    }
   ],
   "source": [
    "x = np.array([[8, 7, 6, 8],\n",
    "              [8, 7, 6, 3],\n",
    "              [6, 6, 5, 2],\n",
    "              [4, 3, 2, 1]])\n",
    "plt.matshow(x)\n",
    "\n",
    "plt.colorbar()"
   ]
  },
  {
   "cell_type": "markdown",
   "metadata": {},
   "source": [
    "The default colour map is used (it is called `viridis`).\n",
    "\n",
    "The highest value in the array is mapped to yellow.\n",
    "<br>The lowest value is mapped to purple. \n",
    "<br>The number is between vary between blue and green. \n",
    "\n",
    "There are many other colour maps available.\n",
    "\n",
    "Doumentation of availble colour maps can be found here: http://matplotlib.org/users/colormaps.html. \n",
    "\n",
    "To change the color map, the `matplotlib.cm` package is used, which we imported and renamed at the strt of the notebook. \n",
    ">`import matplotlib.cm as cm`\n",
    "\n",
    "Specify the name of any of the available color maps with the `cmap` keyword. "
   ]
  },
  {
   "cell_type": "code",
   "execution_count": 27,
   "metadata": {},
   "outputs": [
    {
     "data": {
      "image/png": "[encoded data removed]",
      "text/plain": [
       "<matplotlib.figure.Figure at 0x7f0a94c96e10>"
      ]
     },
     "metadata": {},
     "output_type": "display_data"
    }
   ],
   "source": [
    "plt.matshow(x, cmap=cm.Wistia)\n",
    "plt.colorbar();"
   ]
  },
  {
   "cell_type": "markdown",
   "metadata": {},
   "source": [
    "The keywords `vmin` and `vmax` can be used to explicitly set the maximum and minimum value for the colour scale. "
   ]
  },
  {
   "cell_type": "code",
   "execution_count": 28,
   "metadata": {},
   "outputs": [
    {
     "data": {
      "image/png": "[encoded data removed]",
      "text/plain": [
       "<matplotlib.figure.Figure at 0x7f0a94b1e080>"
      ]
     },
     "metadata": {},
     "output_type": "display_data"
    }
   ],
   "source": [
    "plt.matshow(x, cmap=cm.bone, vmin=0, vmax=20)\n",
    "plt.colorbar();"
   ]
  },
  {
   "cell_type": "markdown",
   "metadata": {},
   "source": [
    "The standard colormaps also all have reversed versions. They have the same names with `_r` tacked on to the end."
   ]
  },
  {
   "cell_type": "code",
   "execution_count": 29,
   "metadata": {},
   "outputs": [
    {
     "data": {
      "image/png": "[encoded data removed]",
      "text/plain": [
       "<matplotlib.figure.Figure at 0x7f0a94a108d0>"
      ]
     },
     "metadata": {},
     "output_type": "display_data"
    }
   ],
   "source": [
    "plt.matshow(x, cmap=cm.bone_r, vmin=0, vmax=20)\n",
    "plt.colorbar();"
   ]
  },
  {
   "cell_type": "markdown",
   "metadata": {},
   "source": [
    "__Try it yourself__\n",
    "<br>Find a colour map you like using the link provided. Change the colours of the examples above to colours that you prefer."
   ]
  },
  {
   "cell_type": "markdown",
   "metadata": {},
   "source": [
    "## 3D Plotting\n",
    "An advantage of plotting compuationally is that we can easily produce more complex figures such as 3D plots.  \n",
    "\n",
    "This can be useful, for example, when visualiing the form of a function with two independent variables.\n",
    "\n"
   ]
  },
  {
   "cell_type": "markdown",
   "metadata": {
    "collapsed": true
   },
   "source": [
    "Many different styles of 3D plot are available.\n",
    "\n",
    "A number of examples can be found here: https://matplotlib.org/examples/mplot3d/index.html "
   ]
  },
  {
   "cell_type": "markdown",
   "metadata": {},
   "source": [
    "Today, we will go through just one example. \n",
    "\n",
    "You can then explore further, using today's seminar as a basis."
   ]
  },
  {
   "cell_type": "markdown",
   "metadata": {},
   "source": [
    "We will plot the function: \n",
    "$$\n",
    "f(x, y) = \\sin(x) \\cos\\left(\\frac{xy^2}{10}\\right)\n",
    "$$\n",
    "as a 3D surface."
   ]
  },
  {
   "cell_type": "markdown",
   "metadata": {},
   "source": [
    "Plotting in 3D requires another package which was imported at the start of this notebook. \n",
    ">`from mpl_toolkits.mplot3d import axes3d`"
   ]
  },
  {
   "cell_type": "markdown",
   "metadata": {},
   "source": [
    "First we create points in the $x$ and $y$ directions at which we want to evaluate the function: "
   ]
  },
  {
   "cell_type": "code",
   "execution_count": 30,
   "metadata": {
    "collapsed": true
   },
   "outputs": [],
   "source": [
    "N = 50  # 50 points in each direction\n",
    "x = np.linspace(-np.pi, np.pi, N)\n",
    "y = np.linspace(-np.pi, np.pi, N)"
   ]
  },
  {
   "cell_type": "markdown",
   "metadata": {},
   "source": [
    "Next, we use NumPy to create a 'grid' of $(x, y$) points: "
   ]
  },
  {
   "cell_type": "code",
   "execution_count": 31,
   "metadata": {
    "collapsed": true
   },
   "outputs": [],
   "source": [
    "X, Y = np.meshgrid(x, y)"
   ]
  },
  {
   "cell_type": "markdown",
   "metadata": {},
   "source": [
    "When printing you may want to round the value of each element.\n",
    "\n",
    "You can do this using the `np.around` function. \n",
    "\n",
    "Example:\n",
    "<br>`print(np.around(X,2), np.around(Y,2))`\n",
    "<br>rounds each value to 2 decimal places."
   ]
  },
  {
   "cell_type": "markdown",
   "metadata": {},
   "source": [
    "__Try it yourself__\n",
    "<br>The easiest way to visualise how `meshgrid` work is to:\n",
    "- try making `N` smaller (fewer points along each axis) in the cell above.\n",
    "\n",
    "<br>\n",
    "In the cell below:\n",
    "- print `X` and `Y` using <br>`print(np.around(X,2))`<br>`print(np.around(Y,2))`\n",
    "- print the shape of `X` and `Y` using<br>`print(X.shape)`<br>`print(Y.shape)`\n",
    "- What happens if N is different for `X` than for `Y`?"
   ]
  },
  {
   "cell_type": "code",
   "execution_count": 32,
   "metadata": {
    "collapsed": true
   },
   "outputs": [],
   "source": [
    "# How does meshgrid work?"
   ]
  },
  {
   "cell_type": "markdown",
   "metadata": {},
   "source": [
    "Hopefully, you can see that by overlaying `X` and `Y` we can dscribe the x,y coordinates of every point on the 3D surface."
   ]
  },
  {
   "cell_type": "markdown",
   "metadata": {},
   "source": [
    "Change the value of `N` to it's original value `N = 50`."
   ]
  },
  {
   "cell_type": "markdown",
   "metadata": {},
   "source": [
    "We now evaluate the function $f$ at each point:"
   ]
  },
  {
   "cell_type": "code",
   "execution_count": 33,
   "metadata": {
    "collapsed": true
   },
   "outputs": [],
   "source": [
    "f = np.sin(X)*np.cos((X*Y**2)/10)"
   ]
  },
  {
   "cell_type": "markdown",
   "metadata": {},
   "source": [
    "The 3D figure is plotted using:"
   ]
  },
  {
   "cell_type": "code",
   "execution_count": 34,
   "metadata": {},
   "outputs": [
    {
     "data": {
      "text/plain": [
       "<matplotlib.text.Text at 0x7f0a948e4128>"
      ]
     },
     "execution_count": 34,
     "metadata": {},
     "output_type": "execute_result"
    },
    {
     "data": {
      "image/png": "[encoded data removed]",
      "text/plain": [
       "<matplotlib.figure.Figure at 0x7f0a9490ee10>"
      ]
     },
     "metadata": {},
     "output_type": "display_data"
    }
   ],
   "source": [
    "# Create a figure\n",
    "fig = plt.figure()\n",
    "\n",
    "# Specify 3D axes\n",
    "ax = plt.axes(projection='3d')\n",
    "\n",
    "# Plot the function as a surface\n",
    "surf = ax.plot_surface(X, Y, f ,cmap=cm.Reds)\n",
    "\n",
    "# Label the axes\n",
    "ax.set_xlabel('X', fontsize=20)\n",
    "ax.set_ylabel('Y', fontsize=20)\n",
    "ax.set_zlabel('Z', fontsize=20)"
   ]
  },
  {
   "cell_type": "markdown",
   "metadata": {
    "collapsed": true
   },
   "source": [
    "## Review Exercises\n",
    "Below are some exercises for you to practise producing plots and figures.\n",
    "<br>Some of the examples require you to generate data using methods we have studied in previous seminars.\n",
    "\n"
   ]
  },
  {
   "cell_type": "markdown",
   "metadata": {
    "collapsed": true
   },
   "source": [
    "### Review Exercise: Simple Plot\n",
    "In the cell below, write a program to:\n",
    "- Plot $y=x^{3}-x^{2}-4x+4$ for $x = -3$ to $x= 3$.\n",
    "- Use a red, dashed line.\n",
    "- On the same figure, plot a black square at every point where $y$ equals zero. \n",
    "- Set the size of the markers to 10.\n",
    "- Label the axes as 'x-axis' and 'y-axis'. \n",
    "- Add a title of your choice.  \n",
    "\n",
    "*Hint: You may have to search online for the function argunents needed for some of these manipulations.* "
   ]
  },
  {
   "cell_type": "code",
   "execution_count": 104,
   "metadata": {},
   "outputs": [
    {
     "data": {
      "image/png": "[encoded data removed]",
      "text/plain": [
       "<matplotlib.figure.Figure at 0x7f0a921f0240>"
      ]
     },
     "metadata": {},
     "output_type": "display_data"
    }
   ],
   "source": [
    "# Simple Plot\n",
    "x = np.linspace(-5, 5, 100)\n",
    "y = x**3 - x**2 - 4*x + 4\n",
    "\n",
    "plt.plot(x, y, 'r--')\n",
    "\n",
    "r = np.roots([1, -1, -4, 4])\n",
    "z = np.zeros(len(r))\n",
    "             \n",
    "plt.plot(r, z, 'ks', markersize=10)\n",
    "plt.xlim(x[0], x[-1]);\n",
    "\n",
    "plt.xlabel('x-axis')\n",
    "plt.ylabel('y-axis')\n",
    "\n",
    "plt.title('First Graph');"
   ]
  },
  {
   "cell_type": "markdown",
   "metadata": {
    "collapsed": true
   },
   "source": [
    "### Review Exercise: Plotting with Conditionals\n",
    "Create an array, `x` with 100 values from 0 to 20, inclusive. \n",
    "\n",
    "Compute $y=\\sin(x)$.\n",
    "\n",
    "Plot $y$ vs. $x$ with a blue line. \n",
    "\n",
    "Replace all values of $y$ that are larger than 0.5 with 0.5.\n",
    "\n",
    "Replace all values of $y$ that are smaller than $-$0.75 with $-0.75$.\n",
    "\n",
    "Plot $x$ vs. $y$ using a red line on the same graph. "
   ]
  },
  {
   "cell_type": "code",
   "execution_count": 96,
   "metadata": {},
   "outputs": [
    {
     "data": {
      "text/plain": [
       "(0.0, 20.0)"
      ]
     },
     "execution_count": 96,
     "metadata": {},
     "output_type": "execute_result"
    },
    {
     "data": {
      "image/png": "[encoded data removed]",
      "text/plain": [
       "<matplotlib.figure.Figure at 0x7f0a94a1c898>"
      ]
     },
     "metadata": {},
     "output_type": "display_data"
    }
   ],
   "source": [
    "x = np.linspace(0, 20, 100)\n",
    "y = np.sin(x)\n",
    "plt.plot(x, y, 'b')\n",
    "y[y > 0.5] = 0.5\n",
    "y[y < -0.75] = -0.75\n",
    "plt.plot(x, y, 'r');\n",
    "plt.xlim(x[0], x[-1])"
   ]
  },
  {
   "cell_type": "markdown",
   "metadata": {},
   "source": [
    "### Review Exercise: Bar Chart\n",
    "\n",
    "Write a Python programming to display a bar chart of the popularity of programming Languages.\n",
    "\n",
    "Set the bar colour green.\n",
    "\n",
    "Sample data: \n",
    "<br>Programming languages: Java, Python, PHP, JavaScript, C#, C++\n",
    "<br>Popularity: 22.2, 17.6, 8.8, 8, 7.7, 6.7\n",
    "\n",
    "Label the x and y axes and add a title."
   ]
  },
  {
   "cell_type": "code",
   "execution_count": 42,
   "metadata": {},
   "outputs": [
    {
     "data": {
      "image/png": "[encoded data removed]",
      "text/plain": [
       "<matplotlib.figure.Figure at 0x7f0a93d012b0>"
      ]
     },
     "metadata": {},
     "output_type": "display_data"
    }
   ],
   "source": [
    "languages = ['Java', 'Python', 'PHP', 'JavaScript', 'C#', 'C++']\n",
    "popularity = [22.2, 17.6, 8.8, 8, 7.7, 6.7]\n",
    "\n",
    "# Create an array with the position of each bar along the x-axis\n",
    "x_pos = np.arange(len(languages))\n",
    "\n",
    "# Produce bar plot\n",
    "plt.bar(x_pos, popularity, color='green')\n",
    "\n",
    "# Replace the x ticks with the year language name\n",
    "plt.xticks(x_pos, languages)\n",
    "\n",
    "# Title and axes labels\n",
    "plt.xlabel(\"Languages\")\n",
    "plt.ylabel(\"Popularity\")\n",
    "plt.title(\"Popularity of\\n Programming Languages\" );\n",
    "\n"
   ]
  },
  {
   "cell_type": "markdown",
   "metadata": {},
   "source": [
    "### Review Exercise: Plotting Functions Interactively\n",
    "\n",
    "Consider the function \n",
    "$$\n",
    "f(x) = e^{x/10} \\sin(ax)\\cos(bx)\n",
    "$$\n",
    "from $x = -4\\pi$ to $x = 4\\pi$.  \n",
    "\n",
    "1. Plot the function when $a = b = 1$. Label the axes.\n",
    "1. Create an interactive plot with sliders for $a$ and $b$, varying from 0 to 2."
   ]
  },
  {
   "cell_type": "code",
   "execution_count": 105,
   "metadata": {},
   "outputs": [
    {
     "data": {
      "application/vnd.jupyter.widget-view+json": {
       "model_id": "e3389c9ff4bd42bf9ce25d4e36844b91",
       "version_major": 2,
       "version_minor": 0
      },
      "text/plain": [
       "A Jupyter Widget"
      ]
     },
     "metadata": {},
     "output_type": "display_data"
    }
   ],
   "source": [
    "# Interactive plot\n",
    "\n",
    "def plot(a=1, b=1):\n",
    "\n",
    "    x = np.linspace(-4*np.pi, 4*np.pi, 200)\n",
    "    plt.xlabel('$x$')\n",
    "    plt.ylabel('$f$')\n",
    "    \n",
    "\n",
    "    f = np.exp(x/10) * np.sin(a * x) * np.cos(b * x)\n",
    "    \n",
    "    plt.plot(x, f)\n",
    "    \n",
    "    plt.xlim(x[0], x[-1]);\n",
    "\n",
    "    \n",
    "interact(plot, a=(0, 2, 0.25), b=(0, 2, 0.25)); "
   ]
  },
  {
   "cell_type": "markdown",
   "metadata": {},
   "source": [
    "### Review Exercise: Plotting Functions Interactively\n",
    "\n",
    "Consider the function we used earlier:\n",
    "\n",
    "$x(t) = A cos(\\omega t - \\phi)$\n",
    "\n",
    "The position of a mass $x$ (relative to it's start position), attached to a spring, as a function of time, depends on the angular frequency $\\omega$ and the phase $ \\phi$ of the system. \n",
    "\n",
    "1. Plot the function from from $t = 0$ to $t = 10$, when $A$ = 5 and $\\omega = \\phi = 2$. Label the axes.\n",
    "1. Create an interactive plot with sliders for $\\omega$ and $\\phi$, varying from 0 to 4.\n",
    "1. Label the axes\n",
    "1. Observe the change in the position of $x$ as a function of time $t$ as you change $\\omega$ and $\\phi$ \n",
    "\n"
   ]
  },
  {
   "cell_type": "code",
   "execution_count": 106,
   "metadata": {},
   "outputs": [
    {
     "data": {
      "application/vnd.jupyter.widget-view+json": {
       "model_id": "038a7461803847a391c39c2e93883a92",
       "version_major": 2,
       "version_minor": 0
      },
      "text/plain": [
       "A Jupyter Widget"
      ]
     },
     "metadata": {},
     "output_type": "display_data"
    }
   ],
   "source": [
    "# Interactive Plot\n",
    "A = 5\n",
    "\n",
    "def plot(ω=2, ϕ=2):\n",
    "\n",
    "    t = np.linspace(0, 10, 200)\n",
    "    plt.xlabel('$t$')\n",
    "    plt.ylabel('$x$')\n",
    "    \n",
    "\n",
    "    x = A * np.cos(ω * t - ϕ)\n",
    "    \n",
    "    plt.plot(t, x)\n",
    "    \n",
    "    plt.xlim(t[0], t[-1]);\n",
    "\n",
    "    \n",
    "interact(plot, a=(0, 4, 0.25), b=(0, 4, 0.25)); "
   ]
  },
  {
   "cell_type": "markdown",
   "metadata": {
    "collapsed": true
   },
   "source": [
    "### Review Exercise: Visualising 2D Arrays \n",
    "Create:\n",
    "- a Numpy 30 by 30 array\n",
    "- with randomly selected integer values for all elements\n",
    "- with an allowable range for each element of 1 to 50\n",
    "\n",
    "Represent the array using `matshow`:\n",
    "- Use a colour map of your choice\n",
    "- Set the colour scale minimum to 1\n",
    "- Set the colour scale maximum to 25\n",
    "- Display a colour scale on the plot"
   ]
  },
  {
   "cell_type": "code",
   "execution_count": 110,
   "metadata": {},
   "outputs": [
    {
     "data": {
      "image/png": "[encoded data removed]",
      "text/plain": [
       "<matplotlib.figure.Figure at 0x7f0a922659b0>"
      ]
     },
     "metadata": {},
     "output_type": "display_data"
    }
   ],
   "source": [
    "# 2D Array plot\n",
    "a = np.random.randint(1, 50, size=(30,30))\n",
    "\n",
    "plt.matshow(a, cmap=cm.BuPu_r, vmin=0, vmax=25)\n",
    "\n",
    "plt.colorbar();"
   ]
  },
  {
   "cell_type": "markdown",
   "metadata": {},
   "source": [
    "### Review Exercise: Animated Plot - Projectile Trajectory\n",
    "\n",
    "A projectile is launched with initial velocity $v$, at an angle of $\\theta$.\n",
    "\n",
    "If we neglect the force of drag on the projectile, it's position in the x and y direction at time $t$ can be found by.\n",
    "\n",
    "$x= vt\\cos(\\theta)$\n",
    "<br>$y= vt\\sin(\\theta) - \\frac{1}{2}gt^2$\n",
    "\n",
    "where gravity, $g=9.81$ms$^{-2}$ \n",
    "\n",
    "<img src=\"img/projectile2.png\" alt=\"Drawing\" style=\"width: 300px;\"/>\n",
    "\n",
    "In the cell below write a program to animate the motion of an ideal projectile when launched:\n",
    " - from an angle of $\\theta$=\n",
    " - with an initial velocity of $v=$"
   ]
  },
  {
   "cell_type": "code",
   "execution_count": null,
   "metadata": {
    "collapsed": true
   },
   "outputs": [],
   "source": [
    "### Review Exercise: Animated Plot - Projectile Trajectory\n",
    "\n",
    "# Creates a figure window.\n",
    "fig = plt.figure()\n",
    "\n",
    "# Creates axes within the window\n",
    "ax = plt.axes(xlim=(0, 100), ylim=(0,100))\n",
    "\n",
    "# Create object to animate\n",
    "point, = ax.plot([1], [1], marker='o', ms=40)  # for points\n",
    "\n",
    "\n",
    "\n",
    "\n",
    "\n",
    "\n",
    "fig, ax = plt.subplots()\n",
    "\n",
    "g = 9.8                               #value of gravity\n",
    "v = 20                                #initial velocity\n",
    "theta = 20*np.pi/180                  #initial angle of launch in radians\n",
    "tt = 2*v*np.sin(theta)/g              #total time of flight\n",
    "t = np.linspace(0, tt, 0.01)          #time of flight into an array\n",
    "x = v*np.cos(theta)*t                 #x position as function of time\n",
    "line, = ax.plot(x, v*np.sin(theta)*t-(0.5)*g*t**2) #plot of x and y in time\n",
    "\n",
    "def animate(i):\n",
    "    line.set_xdata(v*np.cos(theta)*(t+i/10.0))\n",
    "    line.set_ydata(v*np.sin(theta)*(t+i/10.0)-(0.5)*g*(t+i/10.0)**2)  \n",
    "    return line,\n",
    "\n",
    "#Init only required for blitting to give a clean slate.\n",
    "def init():\n",
    "    line.set_xdata(np.ma.array(t, mask=True))\n",
    "    line.set_ydata(np.ma.array(t, mask=True))\n",
    "    return line,\n",
    "\n",
    "ani = animation.FuncAnimation(fig, animate, np.arange(1, 200),\n",
    "init_func=init, interval=25, blit=True)\n",
    "plt.show()\n",
    "\n",
    "\n",
    "\n",
    "\n",
    "\n",
    "# Spring data\n",
    "k = 100\n",
    "m = 20\n",
    "w = np.sqrt(k/m)\n",
    "phi = 2\n",
    "A = 2\n",
    "\n",
    "# Position of mass as function of time\n",
    "def fun(t):\n",
    "    global w,phi,A\n",
    "    return A*np.sin(w*t+phi)\n",
    "\n",
    "def animate(i):\n",
    "    \n",
    "    x = fun(i/10) \n",
    "    \n",
    "    line.set_data([0,0], [4, -x])    \n",
    "    point.set_data(0, -x)    \n",
    "    return line, point\n",
    "    \n",
    "# Animates the data; 100 frames, 20ms delay between frames, blit=True : only re-draw the parts that have changed.\n",
    "anim = animation.FuncAnimation(fig, animate, frames=500, interval=50, blit=True)\n",
    "\n",
    "anim\n",
    "\n",
    "# writer = animation.writers['ffmpeg'](fps=15, bitrate=1800)\n",
    "# anim.save('img/spring_movie.mp4', writer=writer)"
   ]
  },
  {
   "cell_type": "code",
   "execution_count": null,
   "metadata": {
    "collapsed": true
   },
   "outputs": [],
   "source": [
    "### Review Exercise: Animated Plot - Mass and Spring Velocity"
   ]
  },
  {
   "cell_type": "code",
   "execution_count": null,
   "metadata": {
    "collapsed": true
   },
   "outputs": [],
   "source": [
    "### Review Exercise: 3D plotting"
   ]
  },
  {
   "cell_type": "markdown",
   "metadata": {},
   "source": [
    "### Extension Exercise: Plotting System of Simultaneous Equations Interactively. "
   ]
  },
  {
   "cell_type": "code",
   "execution_count": null,
   "metadata": {
    "collapsed": true
   },
   "outputs": [],
   "source": []
  }
 ],
 "metadata": {
  "kernelspec": {
   "display_name": "Python 3",
   "language": "python",
   "name": "python3"
  },
  "language_info": {
   "codemirror_mode": {
    "name": "ipython",
    "version": 3
   },
   "file_extension": ".py",
   "mimetype": "text/x-python",
   "name": "python",
   "nbconvert_exporter": "python",
   "pygments_lexer": "ipython3",
   "version": "3.6.2"
  }
 },
 "nbformat": 4,
 "nbformat_minor": 2
}
