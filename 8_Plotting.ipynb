{
 "cells": [
  {
   "cell_type": "raw",
   "metadata": {},
   "source": [
    "from IPython.core.display import HTML\n",
    "def css_styling():\n",
    "    styles = open(\"./styles/custom.css\", \"r\").read()\n",
    "    return HTML(styles)\n",
    "css_styling()"
   ]
  },
  {
   "cell_type": "markdown",
   "metadata": {
    "slideshow": {
     "slide_type": "slide"
    }
   },
   "source": [
    "### BEFORE YOU DO ANYTHING...\n",
    "In the terminal:\n",
    "1. Navigate to __inside__ your ILAS_Python repository.\n",
    "2. __COMMIT__ any un-commited work on your personal computer.\n",
    "3. __PULL__ any changes *you* have made using another computer.\n",
    "4. __PULL__ textbook updates (including homework answers)."
   ]
  },
  {
   "cell_type": "markdown",
   "metadata": {
    "slideshow": {
     "slide_type": "slide"
    }
   },
   "source": [
    "1. __Open Jupyter notebook:__   Start >> Programs (すべてのプログラム) >> Programming >> Anaconda3 >> JupyterNotebook\n",
    "1. __Navigate to the ILAS_Python folder__. \n",
    "1. __Open today's seminar__  by clicking on 8_Plotting."
   ]
  },
  {
   "cell_type": "markdown",
   "metadata": {
    "slideshow": {
     "slide_type": "slide"
    }
   },
   "source": [
    "# Plotting\n",
    "\n",
    "# Lesson Goal\n",
    "\n",
    "To use the Matplotlib Python package to visualise results. "
   ]
  },
  {
   "cell_type": "markdown",
   "metadata": {
    "slideshow": {
     "slide_type": "slide"
    }
   },
   "source": [
    "# Objectives\n",
    "\n",
    "Matplotlib is the most widel used Python module for plotting.\n",
    "\n",
    "It's functionality is huge.\n",
    "\n",
    "Today's objective is to:\n",
    "- introduce the core functionality of Matplotlib as a basis that you can build on. \n",
    "- focus on tasks where plotting *programmatically* can be advantageous over other *computational* plotting methods. \n",
    "\n",
    "Use online resources including the Matplotlib Gallery (http://matplotlib.org/gallery.html), or Github (http://gree2.github.io/python/2015/04/10/python-matplotlib-plotting-examples-and-exercises), as a source of tutorials and sample code for plotting. \n",
    "\n",
    " "
   ]
  },
  {
   "cell_type": "markdown",
   "metadata": {
    "slideshow": {
     "slide_type": "slide"
    }
   },
   "source": [
    "## Why we are studying this\n",
    "\n",
    "Plotting is one of the most important computational tasks used by  engineers and scientists.  \n",
    "\n",
    "Plots are used for:\n",
    "\n",
    "- checking computed results visually\n",
    "- understanding data\n",
    "- presenting data\n",
    "\n",
    "\n",
    "\n",
    "\n"
   ]
  },
  {
   "cell_type": "markdown",
   "metadata": {
    "slideshow": {
     "slide_type": "slide"
    }
   },
   "source": [
    "## Packages\n",
    "We will be using:\n",
    "- Numpy for numerical computation.\n",
    "- Matplotlib to produce figures and animations. \n",
    "- Ipywidgets to make our plots interactive"
   ]
  },
  {
   "cell_type": "code",
   "execution_count": 5,
   "metadata": {
    "collapsed": true,
    "slideshow": {
     "slide_type": "slide"
    }
   },
   "outputs": [],
   "source": [
    "import numpy as np\n",
    "\n",
    "# Plotting and animation\n",
    "import matplotlib\n",
    "from matplotlib import animation, rc\n",
    "import matplotlib.pyplot as plt\n",
    "import matplotlib.cm as cm\n",
    "%matplotlib inline\n",
    "\n",
    "# Interactive plotting\n",
    "try:\n",
    "    import ipywidgets\n",
    "except ImportError:\n",
    "    try:\n",
    "        !{sys.executable} -m pip -q install ipywidgets\n",
    "        import ipywidgets\n",
    "    except ImportError:\n",
    "        !{sys.executable} -m pip -q --user install ipywidgets\n",
    "    finally:\n",
    "        !jupyter nbextension enable --py widgetsnbextension\n",
    "        print(\"You will need to refresh your browser page\")\n",
    "from ipywidgets import interact\n",
    "\n",
    "# Viewing animations in the notebook\n",
    "from IPython.display import HTML\n",
    "\n",
    "# Plotting in 3D\n",
    "from mpl_toolkits.mplot3d import axes3d\n",
    "\n",
    "# Viewing .gif animations in the notebook\n",
    "from IPython.display import Image\n",
    "from IPython.display import display"
   ]
  },
  {
   "cell_type": "markdown",
   "metadata": {
    "slideshow": {
     "slide_type": "slide"
    }
   },
   "source": [
    "## Line and Scatter Plots\n",
    "In the last seminar you learnt to use basic line and scatter plots.\n",
    "\n",
    "This section will discusss different ways that you can manipulate the appearance of these plots.\n",
    "\n"
   ]
  },
  {
   "cell_type": "markdown",
   "metadata": {
    "slideshow": {
     "slide_type": "subslide"
    }
   },
   "source": [
    "For a sample data set of values of $x$ and corresponding values of $f$:"
   ]
  },
  {
   "cell_type": "code",
   "execution_count": 6,
   "metadata": {
    "collapsed": true
   },
   "outputs": [],
   "source": [
    "x = [-1, 3, 4, 8 , 10]\n",
    "f = [-1, -2, 7, 13 , 1]"
   ]
  },
  {
   "cell_type": "markdown",
   "metadata": {},
   "source": [
    "We can produce a line plot.."
   ]
  },
  {
   "cell_type": "code",
   "execution_count": 7,
   "metadata": {
    "slideshow": {
     "slide_type": "subslide"
    }
   },
   "outputs": [
    {
     "data": {
      "text/plain": [
       "[<matplotlib.lines.Line2D at 0x7fe011a99710>]"
      ]
     },
     "execution_count": 7,
     "metadata": {},
     "output_type": "execute_result"
    },
    {
     "data": {
      "image/png": "[encoded data removed]",
      "text/plain": [
       "<matplotlib.figure.Figure at 0x7fe0384a6c18>"
      ]
     },
     "metadata": {},
     "output_type": "display_data"
    }
   ],
   "source": [
    "plt.plot(x, f)"
   ]
  },
  {
   "cell_type": "markdown",
   "metadata": {
    "slideshow": {
     "slide_type": "subslide"
    }
   },
   "source": [
    "...or a scatter plot by adding the `formatstring 'o'`..."
   ]
  },
  {
   "cell_type": "code",
   "execution_count": 8,
   "metadata": {},
   "outputs": [
    {
     "data": {
      "text/plain": [
       "[<matplotlib.lines.Line2D at 0x7fe01197bc50>]"
      ]
     },
     "execution_count": 8,
     "metadata": {},
     "output_type": "execute_result"
    },
    {
     "data": {
      "image/png": "[encoded data removed]",
      "text/plain": [
       "<matplotlib.figure.Figure at 0x7fe011abd898>"
      ]
     },
     "metadata": {},
     "output_type": "display_data"
    }
   ],
   "source": [
    "plt.plot(x, f, 'o')  "
   ]
  },
  {
   "cell_type": "markdown",
   "metadata": {
    "slideshow": {
     "slide_type": "subslide"
    }
   },
   "source": [
    "...or a line plot with data points by adding the `formatstring '-o'`."
   ]
  },
  {
   "cell_type": "code",
   "execution_count": 9,
   "metadata": {},
   "outputs": [
    {
     "data": {
      "text/plain": [
       "[<matplotlib.lines.Line2D at 0x7fe011916be0>]"
      ]
     },
     "execution_count": 9,
     "metadata": {},
     "output_type": "execute_result"
    },
    {
     "data": {
      "image/png": "[encoded data removed]",
      "text/plain": [
       "<matplotlib.figure.Figure at 0x7fe01198c278>"
      ]
     },
     "metadata": {},
     "output_type": "display_data"
    }
   ],
   "source": [
    "plt.plot(x, f, '-o')  "
   ]
  },
  {
   "cell_type": "markdown",
   "metadata": {
    "slideshow": {
     "slide_type": "subslide"
    }
   },
   "source": [
    "Notice the statement `[<matplotlib.lines.Line2D at 0x30990b0>]` appears each time (the numbers on your computer may look different). \n",
    "\n",
    "This is a handle to the line that is created with the last command in the code block (in this case `plt.plot(x, y)`). \n",
    "\n",
    "You can avoid printing this by putting a semicolon after the last command in the code block (so type `plot(x, y);`). \n",
    "\n",
    "(It can be useful to store this handle in a variable - we will discuss this later)."
   ]
  },
  {
   "cell_type": "markdown",
   "metadata": {
    "slideshow": {
     "slide_type": "subslide"
    }
   },
   "source": [
    "The `plot` function can take many arguments.\n",
    "\n",
    "Summary so far, `plot` can take:\n",
    " - One argument `plot(y)`, which plots `y` values along the vertical axis and enumerates the horizontal axis starting at 0.\n",
    " - Two arguments, `plot(x, y)`, which plots `y` vs `x`.\n",
    " - Three arguments `plot(x, y, formatstring)`, which plots `y` vs `x` using colors and markers defined in `formatstring`.\n",
    " \n",
    " "
   ]
  },
  {
   "cell_type": "markdown",
   "metadata": {
    "slideshow": {
     "slide_type": "subslide"
    }
   },
   "source": [
    "Using the `formatstring` argument we can chnage:\n",
    " - the colour of the plot\n",
    " - the style of the markers\n",
    " - the style of the line"
   ]
  },
  {
   "cell_type": "markdown",
   "metadata": {
    "slideshow": {
     "slide_type": "subslide"
    }
   },
   "source": [
    "In the example below:\n",
    " - `r` makes the plot red\n",
    " - `x` makes the markers crosses\n",
    " - `-` makes the line solid"
   ]
  },
  {
   "cell_type": "code",
   "execution_count": 10,
   "metadata": {},
   "outputs": [
    {
     "data": {
      "image/png": "[encoded data removed]",
      "text/plain": [
       "<matplotlib.figure.Figure at 0x7fe0118cdbe0>"
      ]
     },
     "metadata": {},
     "output_type": "display_data"
    }
   ],
   "source": [
    "plt.plot(x, f, '-xr');"
   ]
  },
  {
   "cell_type": "markdown",
   "metadata": {},
   "source": [
    "Note the semi-colon when calling the `plot` function."
   ]
  },
  {
   "cell_type": "markdown",
   "metadata": {
    "slideshow": {
     "slide_type": "subslide"
    }
   },
   "source": [
    "Available colours, maker styles and line styles can be found in the matplotlib documentation. \n",
    " - Colour: https://matplotlib.org/2.0.2/api/colors_api.html\n",
    " - Marker style: https://matplotlib.org/api/markers_api.html\n",
    " - Line style: https://matplotlib.org/devdocs/gallery/lines_bars_and_markers/line_styles_reference.html"
   ]
  },
  {
   "cell_type": "markdown",
   "metadata": {
    "slideshow": {
     "slide_type": "subslide"
    }
   },
   "source": [
    "The `plot` function also takes a large number of keyword arguments. \n",
    "\n",
    "For example, to plot a line with width 6 (the default is 1): "
   ]
  },
  {
   "cell_type": "code",
   "execution_count": 11,
   "metadata": {},
   "outputs": [
    {
     "data": {
      "image/png": "[encoded data removed]",
      "text/plain": [
       "<matplotlib.figure.Figure at 0x7fe01185dcc0>"
      ]
     },
     "metadata": {},
     "output_type": "display_data"
    }
   ],
   "source": [
    "plt.plot(x, f, '-xr', linewidth=6);"
   ]
  },
  {
   "cell_type": "markdown",
   "metadata": {
    "slideshow": {
     "slide_type": "subslide"
    }
   },
   "source": [
    "Remeber keyword arguments must always appear after regular arguments when calling the function.\n",
    "\n",
    "Documentation of all available keyword arguments can be found here: https://matplotlib.org/api/_as_gen/matplotlib.pyplot.plot.html#matplotlib.pyplot.plot"
   ]
  },
  {
   "cell_type": "markdown",
   "metadata": {
    "slideshow": {
     "slide_type": "subslide"
    }
   },
   "source": [
    "Other methods such as `legend`, `xlabel`, `ylabel` and `title` can be used to add useful information to a plot."
   ]
  },
  {
   "cell_type": "markdown",
   "metadata": {
    "slideshow": {
     "slide_type": "slide"
    }
   },
   "source": [
    "### Adding labels, legend and title. \n",
    "The location of the legend can be set the the 'best' in terms of not obscuring data. \n",
    "\n",
    "The position of the legend can also be set expllicitly instead. The location codes acan be found here: https://matplotlib.org/api/legend_api.html\n",
    "\n",
    "Using the $ sign can be used to italicise a string.\n",
    "\n",
    "The font size of all strings in the figure can be selected."
   ]
  },
  {
   "cell_type": "code",
   "execution_count": 12,
   "metadata": {
    "slideshow": {
     "slide_type": "subslide"
    }
   },
   "outputs": [
    {
     "data": {
      "image/png": "[encoded data removed]",
      "text/plain": [
       "<matplotlib.figure.Figure at 0x7fe0117f37b8>"
      ]
     },
     "metadata": {},
     "output_type": "display_data"
    }
   ],
   "source": [
    "# Use the label kwarg to create a name to use in the figure legend. \n",
    "plt.plot(x, f, '-xr', label=\"data 1\")\n",
    "\n",
    "# Legend\n",
    "plt.legend(loc='best', fontsize=12)\n",
    "\n",
    "# Axes labels\n",
    "plt.xlabel('$x$', fontsize=20)\n",
    "plt.ylabel('$f$', fontsize=20)\n",
    "\n",
    "# Title\n",
    "plt.title(\"Simple plot of $f$ against $x$\", fontsize=18);"
   ]
  },
  {
   "cell_type": "markdown",
   "metadata": {},
   "source": [
    "Note the semi-colon when calling the `title` function."
   ]
  },
  {
   "cell_type": "markdown",
   "metadata": {
    "slideshow": {
     "slide_type": "subslide"
    }
   },
   "source": [
    "### Setting the axis limits\n",
    "Example: plot the funstion $sin(x)$ for 100 equally spaced values of x between $0$ and $4 \\pi$ (inclusive). "
   ]
  },
  {
   "cell_type": "code",
   "execution_count": 13,
   "metadata": {
    "slideshow": {
     "slide_type": "subslide"
    }
   },
   "outputs": [
    {
     "data": {
      "text/plain": [
       "<matplotlib.text.Text at 0x7fe011815f60>"
      ]
     },
     "execution_count": 13,
     "metadata": {},
     "output_type": "execute_result"
    },
    {
     "data": {
      "image/png": "[encoded data removed]",
      "text/plain": [
       "<matplotlib.figure.Figure at 0x7fe01171f6a0>"
      ]
     },
     "metadata": {},
     "output_type": "display_data"
    }
   ],
   "source": [
    "num_points = 100\n",
    "x = np.linspace(0, 4*np.pi, num_points)\n",
    "f = np.sin(x)\n",
    "\n",
    "# Plot graph\n",
    "plt.plot(x, f);\n",
    "\n",
    "# Label axis\n",
    "plt.xlabel('$x$')\n",
    "plt.ylabel('$\\sin(x)$')\n",
    "\n"
   ]
  },
  {
   "cell_type": "markdown",
   "metadata": {
    "slideshow": {
     "slide_type": "subslide"
    }
   },
   "source": [
    "The zero on the x axis is offset by an unknown amount. \n",
    "\n",
    "We can improve the appearance of the plot by specifying the $x$ limits:"
   ]
  },
  {
   "cell_type": "code",
   "execution_count": 14,
   "metadata": {
    "slideshow": {
     "slide_type": "subslide"
    }
   },
   "outputs": [
    {
     "data": {
      "text/plain": [
       "(0.0, 12.566370614359172)"
      ]
     },
     "execution_count": 14,
     "metadata": {},
     "output_type": "execute_result"
    },
    {
     "data": {
      "image/png": "[encoded data removed]",
      "text/plain": [
       "<matplotlib.figure.Figure at 0x7fe0118b6c50>"
      ]
     },
     "metadata": {},
     "output_type": "display_data"
    }
   ],
   "source": [
    "# Plot graph\n",
    "plt.plot(x, f);\n",
    "\n",
    "# Label axis\n",
    "plt.xlabel('$x$')\n",
    "plt.ylabel('$\\sin(x)$')\n",
    "\n",
    "# Use the start and end values in x as x limits \n",
    "plt.xlim(x[0], x[-1])"
   ]
  },
  {
   "cell_type": "markdown",
   "metadata": {
    "slideshow": {
     "slide_type": "subslide"
    }
   },
   "source": [
    "### Multiple Plots\n",
    "Plots can be overlaid by called `plt.plot(...` multiple times."
   ]
  },
  {
   "cell_type": "code",
   "execution_count": 15,
   "metadata": {},
   "outputs": [
    {
     "data": {
      "image/png": "[encoded data removed]",
      "text/plain": [
       "<matplotlib.figure.Figure at 0x7fe01184e198>"
      ]
     },
     "metadata": {},
     "output_type": "display_data"
    }
   ],
   "source": [
    "# Plot sin(x) and cos(x), and add label for each\n",
    "plt.plot(x, np.sin(x), label=\"$\\sin(x)$\");\n",
    "plt.plot(x, np.cos(x), label=\"$\\cos(x)$\");\n",
    "\n",
    "# Label the x-axis\n",
    "plt.xlabel('$x$');\n",
    "\n",
    "# Add legend\n",
    "plt.legend();\n",
    "\n",
    "# Use the start and end values in x as x limits\n",
    "plt.xlim(x[0], x[-1]);"
   ]
  },
  {
   "cell_type": "markdown",
   "metadata": {
    "slideshow": {
     "slide_type": "subslide"
    }
   },
   "source": [
    "### Saving a Plot\n",
    "A plot can be saved as a file for your to use e.g. in a report.\n",
    "\n",
    "A file name should be given.\n",
    "\n",
    "The file type is specified using the file extension.\n",
    "\n",
    "`/` can be used to seperate the names of nested folders.\n",
    "\n"
   ]
  },
  {
   "cell_type": "markdown",
   "metadata": {
    "slideshow": {
     "slide_type": "subslide"
    }
   },
   "source": [
    "In the example below, the graph is saved as a pdf and a png file in the `img` folder in your directory. \n",
    "\n",
    "Run the code in the cell below then open the folder `img` using the file browser on your computer to verify that the files were generated by noting the time stamp shown for each file. "
   ]
  },
  {
   "cell_type": "code",
   "execution_count": 16,
   "metadata": {
    "slideshow": {
     "slide_type": "-"
    }
   },
   "outputs": [
    {
     "data": {
      "text/plain": [
       "<matplotlib.figure.Figure at 0x7fe0117c3b70>"
      ]
     },
     "metadata": {},
     "output_type": "display_data"
    }
   ],
   "source": [
    "# Save plot to file\n",
    "plt.savefig(\"img/my-plot.pdf\")\n",
    "plt.savefig(\"img/my-plot.png\")"
   ]
  },
  {
   "cell_type": "markdown",
   "metadata": {
    "slideshow": {
     "slide_type": "subslide"
    }
   },
   "source": [
    "__Try it yourself__\n",
    "<br>In the cell below:\n",
    "- create a green line plot of the function $sin^2(x)$ (or $(sin(x))^2$) using the range of $x$ from the last example. \n",
    "- add a blue triangular marker at $x=\\frac{\\pi}{2}, \\pi, \\frac{3\\pi}{2}, 2\\pi, \\frac{5\\pi}{2}, 3\\pi, \\frac{7\\pi}{2}$ and $4\\pi$.\n",
    "- label the axes\n",
    "- save the figure as a .jpg file in the `img` folder in your repository.\n"
   ]
  },
  {
   "cell_type": "code",
   "execution_count": 17,
   "metadata": {
    "collapsed": true
   },
   "outputs": [],
   "source": [
    "# line and scatter graphs"
   ]
  },
  {
   "cell_type": "markdown",
   "metadata": {
    "slideshow": {
     "slide_type": "subslide"
    }
   },
   "source": [
    "## Bar charts and Histograms\n",
    "### Bar charts\n",
    "To represent data as a bar chart, for example, the number of students in each year of a degree program:"
   ]
  },
  {
   "cell_type": "code",
   "execution_count": 18,
   "metadata": {
    "collapsed": true
   },
   "outputs": [],
   "source": [
    "year_groups = ('B1', 'B2', 'B3', 'M1', 'M2')\n",
    "num_students = (500, 332, 425, 300, 200)"
   ]
  },
  {
   "cell_type": "code",
   "execution_count": 19,
   "metadata": {
    "slideshow": {
     "slide_type": "subslide"
    }
   },
   "outputs": [
    {
     "data": {
      "image/png": "[encoded data removed]",
      "text/plain": [
       "<matplotlib.figure.Figure at 0x7fe0115a0160>"
      ]
     },
     "metadata": {},
     "output_type": "display_data"
    }
   ],
   "source": [
    "# Create an array with the position of each bar along the x-axis\n",
    "x_pos = np.arange(len(year_groups))\n",
    "\n",
    "# Produce bar plot\n",
    "plt.bar(x_pos, num_students);\n",
    "\n",
    "# Replace the x ticks with the year group name\n",
    "# Rotate labels 30 degrees\n",
    "plt.xticks(x_pos, year_groups, rotation=30);\n",
    "\n",
    "# Add axis labels \n",
    "plt.xlabel('year group');\n",
    "plt.ylabel('number of students');"
   ]
  },
  {
   "cell_type": "markdown",
   "metadata": {
    "slideshow": {
     "slide_type": "subslide"
    }
   },
   "source": [
    "## Histograms\n",
    "\n",
    "We can visualise the distribution of the values using a histogram.\n",
    "\n",
    "In a histogram, data is sorted into intervals (bins) along the horizontal axis. \n",
    "\n",
    "The number of values that fall within a 'bin' is then displayed on the vertical axis."
   ]
  },
  {
   "cell_type": "markdown",
   "metadata": {
    "slideshow": {
     "slide_type": "subslide"
    }
   },
   "source": [
    "To create a histogram we first need a data set. \n",
    "\n",
    "For example we can use Numpy to generate a data set with:\n",
    "- 4000 random values\n",
    "- a mean value of zero \n",
    "- a standard deviation of 1\n",
    "- a __normal__ (Gaussian) distribution (bell curve with 68% percent of values within one standard deviation of the mean)\n",
    "\n"
   ]
  },
  {
   "cell_type": "code",
   "execution_count": 20,
   "metadata": {
    "collapsed": true,
    "slideshow": {
     "slide_type": "-"
    }
   },
   "outputs": [],
   "source": [
    "# loc=mean, scale=stddev, size=num samples\n",
    "x = np.random.normal(loc=0.0, scale=1.0, size=4000)  "
   ]
  },
  {
   "cell_type": "markdown",
   "metadata": {
    "slideshow": {
     "slide_type": "subslide"
    }
   },
   "source": [
    "We can visualise how `x` is distributed, using 20 bins. \n",
    "\n",
    "Matplotlib creates 20 bins of equal width, and computes the number of entries in each bin. "
   ]
  },
  {
   "cell_type": "code",
   "execution_count": 21,
   "metadata": {},
   "outputs": [
    {
     "data": {
      "text/plain": [
       "<matplotlib.text.Text at 0x7fe0115edc50>"
      ]
     },
     "execution_count": 21,
     "metadata": {},
     "output_type": "execute_result"
    },
    {
     "data": {
      "image/png": "[encoded data removed]",
      "text/plain": [
       "<matplotlib.figure.Figure at 0x7fe0115a0a20>"
      ]
     },
     "metadata": {},
     "output_type": "display_data"
    }
   ],
   "source": [
    "# Produce histogram with 20 bins\n",
    "n, bins, patches = plt.hist(x, 20, facecolor='green');\n",
    "\n",
    "# Add label\n",
    "plt.xlabel('value')\n",
    "plt.ylabel('frequency')\n",
    "\n"
   ]
  },
  {
   "cell_type": "markdown",
   "metadata": {
    "slideshow": {
     "slide_type": "subslide"
    }
   },
   "source": [
    "To view a list of:\n",
    "- the bin intervals\n",
    "- the number of values in each bin. "
   ]
  },
  {
   "cell_type": "code",
   "execution_count": 22,
   "metadata": {
    "slideshow": {
     "slide_type": "subslide"
    }
   },
   "outputs": [
    {
     "name": "stdout",
     "output_type": "stream",
     "text": [
      "[-4.04482324 -3.67985955 -3.31489586 -2.94993217 -2.58496848 -2.2200048\n",
      " -1.85504111 -1.49007742 -1.12511373 -0.76015004 -0.39518636 -0.03022267\n",
      "  0.33474102  0.69970471  1.0646684   1.42963208  1.79459577  2.15955946\n",
      "  2.52452315  2.88948683  3.25445052]\n"
     ]
    }
   ],
   "source": [
    "print(bins)\n"
   ]
  },
  {
   "cell_type": "code",
   "execution_count": 23,
   "metadata": {
    "slideshow": {
     "slide_type": "subslide"
    }
   },
   "outputs": [
    {
     "name": "stdout",
     "output_type": "stream",
     "text": [
      "[   3.    1.    3.   13.   42.   70.  150.  231.  366.  501.  554.  539.\n",
      "  515.  421.  290.  164.   82.   39.   13.    3.]\n"
     ]
    }
   ],
   "source": [
    "print(n)"
   ]
  },
  {
   "cell_type": "markdown",
   "metadata": {
    "slideshow": {
     "slide_type": "subslide"
    }
   },
   "source": [
    "__Try it yourself__\n",
    "<br>In the example above try changing the number of bins and run the cells again to see the change in the bin intervals and number of values in ech bin. "
   ]
  },
  {
   "cell_type": "markdown",
   "metadata": {
    "slideshow": {
     "slide_type": "subslide"
    }
   },
   "source": [
    "## Interactive plots\n",
    "By using interactive plots we can explore the influence that changing different parameters has on an output.\n",
    "\n"
   ]
  },
  {
   "cell_type": "markdown",
   "metadata": {
    "slideshow": {
     "slide_type": "subslide"
    }
   },
   "source": [
    "As a simple example, we will plot\n",
    "\n",
    "$$\n",
    "f(t) = t^{\\alpha} \\sin(\\omega t)\n",
    "$$\n",
    "\n",
    "where $\\alpha$ and $\\omega$ are parameters. \n",
    "\n",
    "We will create two sliders allowing us to change the value of $\\alpha$ and $\\omega$ and observe the change in $f(t)$"
   ]
  },
  {
   "cell_type": "markdown",
   "metadata": {
    "slideshow": {
     "slide_type": "subslide"
    }
   },
   "source": [
    "Interactive plots be can created using module `ipywidgets` module which we imported at the start of the notebook. \n",
    ">```Python\n",
    "try:\n",
    "    import ipywidgets\n",
    "except ImportError:\n",
    "    try:\n",
    "        !{sys.executable} -m pip -q install ipywidgets\n",
    "        import ipywidgets\n",
    "    except ImportError:\n",
    "        !{sys.executable} -m pip -q --user install ipywidgets\n",
    "    finally:\n",
    "        !jupyter nbextension enable --py widgetsnbextension\n",
    "        print(\"You will need to refresh your browser page\")        \n",
    "from ipywidgets import interact\n",
    "```\n",
    "\n"
   ]
  },
  {
   "cell_type": "markdown",
   "metadata": {
    "slideshow": {
     "slide_type": "subslide"
    }
   },
   "source": [
    "We write the code to generate the plot as usual.\n",
    "\n",
    "(To generate symbols α or ω type `\\omega` or `\\alpha`, pressing  `Tab` key at the end.)"
   ]
  },
  {
   "cell_type": "code",
   "execution_count": 24,
   "metadata": {},
   "outputs": [
    {
     "data": {
      "text/plain": [
       "<matplotlib.text.Text at 0x7fe01131a518>"
      ]
     },
     "execution_count": 24,
     "metadata": {},
     "output_type": "execute_result"
    },
    {
     "data": {
      "image/png": "[encoded data removed]",
      "text/plain": [
       "<matplotlib.figure.Figure at 0x7fe011206ba8>"
      ]
     },
     "metadata": {},
     "output_type": "display_data"
    }
   ],
   "source": [
    "ω=1\n",
    "α=0\n",
    "t = np.linspace(0, 2*np.pi, 200)  \n",
    "\n",
    "plt.plot(t, (t**α)*np.sin(ω*t))\n",
    "\n",
    "plt.xlabel('$t$')\n",
    "plt.ylabel('$f$')\n",
    "plt.title(r\"$\\alpha$ = {}, $\\omega$ = {}\".format(α, ω))\n",
    "\n",
    "\n"
   ]
  },
  {
   "cell_type": "markdown",
   "metadata": {
    "slideshow": {
     "slide_type": "subslide"
    }
   },
   "source": [
    "We encasulate the code to generate the plot within a function.\n",
    "\n",
    "The parameters we want to vary are given as function arguments."
   ]
  },
  {
   "cell_type": "code",
   "execution_count": 25,
   "metadata": {
    "collapsed": true
   },
   "outputs": [],
   "source": [
    "def plot(ω=1, α=0):\n",
    "    \"A plot of the function f(t)= (t**α)*np.sin(ω*t)\"\n",
    "    t = np.linspace(0, 2*np.pi, 200)  \n",
    "    \n",
    "    plt.plot(t, (t**α)*np.sin(ω*t))\n",
    "    \n",
    "    plt.xlabel('$t$')\n",
    "    plt.ylabel('$f$')\n",
    "    plt.title(r\"$\\alpha$ = {}, $\\omega$ = {}\".format(α, ω))\n",
    "    \n",
    "    \n"
   ]
  },
  {
   "cell_type": "markdown",
   "metadata": {
    "slideshow": {
     "slide_type": "subslide"
    }
   },
   "source": [
    "The `interact` function, takes the following arguments:\n",
    "- the plotting function \n",
    "- a tuple for each variable parameter:\n",
    " - maximum value (inclusive) \n",
    " - minimum value (inclusive) \n",
    " - step size between each possible value"
   ]
  },
  {
   "cell_type": "code",
   "execution_count": 26,
   "metadata": {},
   "outputs": [
    {
     "data": {
      "application/vnd.jupyter.widget-view+json": {
       "model_id": "fedf181776f449fdbdb8accb544d24bd",
       "version_major": 2,
       "version_minor": 0
      },
      "text/plain": [
       "A Jupyter Widget"
      ]
     },
     "metadata": {},
     "output_type": "display_data"
    }
   ],
   "source": [
    "interact(plot, ω=(-10, 10, 0.25), α=(0, 2, 0.25));"
   ]
  },
  {
   "cell_type": "markdown",
   "metadata": {},
   "source": [
    "You can now adjust the values by moving the sliders.\n",
    "\n",
    "The new values appear as the title to the plot."
   ]
  },
  {
   "cell_type": "markdown",
   "metadata": {
    "slideshow": {
     "slide_type": "slide"
    }
   },
   "source": [
    "## Animated Plots\n",
    "\n",
    "Plotting can be a very useful way to visualise what is happening in a dynamic physical system. \n",
    "\n",
    "Matplotlib can be used to create animated plots showing the change in a system over time."
   ]
  },
  {
   "cell_type": "markdown",
   "metadata": {
    "slideshow": {
     "slide_type": "subslide"
    }
   },
   "source": [
    "We will use the `animation` and `rc` subpackages.  \n",
    "\n",
    ">from matplotlib import animation, rc\n",
    "\n",
    "We will also use a package to allow us to view the animated output within jupyter notebook.\n",
    "\n",
    ">from IPython.display import HTML\n",
    "\n",
    "These packages were imported at the start of this notebook."
   ]
  },
  {
   "cell_type": "markdown",
   "metadata": {
    "slideshow": {
     "slide_type": "subslide"
    }
   },
   "source": [
    "Let's start with a simple example to learn how to build an animation.\n",
    "\n",
    "We will then move onto an example of a physical model that you may study in one of your other subjects. \n",
    "\n"
   ]
  },
  {
   "cell_type": "markdown",
   "metadata": {},
   "source": [
    "The set of steps to build an animated plot is:\n",
    "1. Create a figure window\n",
    "1. Create axes within the window\n",
    "1. Create object(s) to animate e.g. a line or point\n",
    "1. Define an animation function for the change you want to see at each timestep\n",
    "1. Use the function `animation.FuncAnimation` to create your animation and give it a name.\n",
    "1. Call the animation name to play it.\n",
    "1. (Save the animation)"
   ]
  },
  {
   "cell_type": "markdown",
   "metadata": {},
   "source": [
    "Example: An animated sine wave. "
   ]
  },
  {
   "cell_type": "code",
   "execution_count": 27,
   "metadata": {
    "scrolled": true
   },
   "outputs": [
    {
     "data": {
      "image/png": "[encoded data removed]",
      "text/plain": [
       "<matplotlib.figure.Figure at 0x7fe0115dd748>"
      ]
     },
     "metadata": {},
     "output_type": "display_data"
    }
   ],
   "source": [
    "# 1. Create a figure window. \n",
    "fig = plt.figure()\n",
    "\n",
    "# 2. Creates axes within the window\n",
    "ax = plt.axes(xlim=(0, 2), ylim=(-2, 2))\n",
    "\n",
    "# 3. Empty object (no data opints) to animate e.g. a line \n",
    "# Name must end with a `,` comma.  \n",
    "line, = ax.plot([], [], lw=2)\n",
    "\n"
   ]
  },
  {
   "cell_type": "code",
   "execution_count": 28,
   "metadata": {
    "collapsed": true,
    "slideshow": {
     "slide_type": "subslide"
    }
   },
   "outputs": [],
   "source": [
    "# 4. Animation function: called sequentially\n",
    "# i = frame number.\n",
    "# Sine wave generated, phase shift proportional to i\n",
    "def animate(i):\n",
    "    x = np.linspace(0, 2, 1000)\n",
    "    y = np.sin(2 * np.pi * (x - 0.01 * i))\n",
    "    line.set_data(x, y)\n",
    "    # single return arguments should be given as a tuple with one value\n",
    "    return (line,)\n",
    "    \n"
   ]
  },
  {
   "cell_type": "markdown",
   "metadata": {},
   "source": [
    "When returning a single argument (e.g. `line`) it is returned as a tuple with one value i.e. `(line, )`."
   ]
  },
  {
   "cell_type": "code",
   "execution_count": 29,
   "metadata": {
    "slideshow": {
     "slide_type": "subslide"
    }
   },
   "outputs": [],
   "source": [
    "# 5. Animates the data; 100 frames, 20ms delay between frames, blit=True : only re-draw the parts that have changed.\n",
    "anim = animation.FuncAnimation(fig, animate, frames=100, interval=20, blit=True)\n",
    "\n",
    "# Set the animation display format to html which the non-Python parts of this notebook are written in.\n",
    "rc('animation', html='html5')\n",
    "\n",
    "# 6. Play the animation \n",
    "anim\n",
    "\n",
    "# 7. Save the animation as a .mp4 file\n",
    "# 15 frames per second\n",
    "# 1800 bits of data processed/stored per second\n",
    "writer = animation.writers['ffmpeg'](fps=15, bitrate=1800)\n",
    "anim.save('img/sin_movie.mp4', writer=writer)"
   ]
  },
  {
   "cell_type": "markdown",
   "metadata": {
    "slideshow": {
     "slide_type": "subslide"
    }
   },
   "source": [
    "### Simulating Physical Systems: Spring-Mass System\n",
    "If you are studying an engineering-related subject, you will most likely study simple harmonic motion; a type of periodic motion or oscillation motion.\n",
    "\n",
    "For this oscillation to happen, the restoring force is:\n",
    "- directly proportional to the displacement\n",
    "- in the direction opposite to the displacement.\n",
    "\n",
    "\n",
    "\n"
   ]
  },
  {
   "cell_type": "markdown",
   "metadata": {
    "slideshow": {
     "slide_type": "subslide"
    }
   },
   "source": [
    "A typical example of this is a mass attached to a spring.\n",
    "\n",
    "<img src=\"img/spring_mass_system.gif\" alt=\"Drawing\" style=\"width: 500px;\"/>\n",
    "\n"
   ]
  },
  {
   "cell_type": "markdown",
   "metadata": {
    "slideshow": {
     "slide_type": "subslide"
    }
   },
   "source": [
    "If we assume that:\n",
    " - the spring is ideal (it has no weight, mass, or damping losses)\n",
    " - there is no friction \n",
    " \n",
    "we can use a simple equation to give the position of the mass, $x$, as a function of time, $t$:\n",
    "\n",
    "$x(t) = A cos(\\omega t - \\phi)$ \n",
    "\n",
    "where:\n",
    "<br>$A$: Maximum amplitude (displacment from initial position), defined by the initial conditions of the system.\n",
    "<br>$\\phi$ : Phase (the initial angle of a sinusoidal function at its origin)\n",
    "<br>$\\omega$ : Angular frequency (frequency of oscillation expressed in radians)\n",
    "\n"
   ]
  },
  {
   "cell_type": "markdown",
   "metadata": {
    "slideshow": {
     "slide_type": "subslide"
    }
   },
   "source": [
    "Angular frequency\n",
    "\n",
    "$\\omega=2\\pi f = \\sqrt{\\frac{k}{m}}$\n",
    "\n",
    "where\n",
    "<br>$k$ : spring constant\n",
    "<br>$m$ : mass (kg)\n",
    "<br>$f$ : frequency (Hz)"
   ]
  },
  {
   "cell_type": "code",
   "execution_count": 30,
   "metadata": {
    "slideshow": {
     "slide_type": "subslide"
    }
   },
   "outputs": [
    {
     "data": {
      "text/html": [
       "<video width=\"432\" height=\"288\" controls autoplay loop>\n",
       "  <source type=\"video/mp4\" src=\"data:video/mp4;base64,AAAAHGZ0eXBNNFYgAAACAGlzb21pc28yYXZjMQAAAAhmcmVlAACJGW1kYXQAAAKuBgX//6rcRem9\n",
       "5tlIt5Ys2CDZI+7veDI2NCAtIGNvcmUgMTQ4IHIyNzQ4IDk3ZWFlZjIgLSBILjI2NC9NUEVHLTQg\n",
       "QVZDIGNvZGVjIC0gQ29weWxlZnQgMjAwMy0yMDE2IC0gaHR0cDovL3d3dy52aWRlb2xhbi5vcmcv\n",
       "eDI2NC5odG1sIC0gb3B0aW9uczogY2FiYWM9MSByZWY9MyBkZWJsb2NrPTE6MDowIGFuYWx5c2U9\n",
       "MHgzOjB4MTEzIG1lPWhleCBzdWJtZT03IHBzeT0xIHBzeV9yZD0xLjAwOjAuMDAgbWl4ZWRfcmVm\n",
       "PTEgbWVfcmFuZ2U9MTYgY2hyb21hX21lPTEgdHJlbGxpcz0xIDh4OGRjdD0xIGNxbT0wIGRlYWR6\n",
       "b25lPTIxLDExIGZhc3RfcHNraXA9MSBjaHJvbWFfcXBfb2Zmc2V0PS0yIHRocmVhZHM9MSBsb29r\n",
       "YWhlYWRfdGhyZWFkcz0xIHNsaWNlZF90aHJlYWRzPTAgbnI9MCBkZWNpbWF0ZT0xIGludGVybGFj\n",
       "ZWQ9MCBibHVyYXlfY29tcGF0PTAgY29uc3RyYWluZWRfaW50cmE9MCBiZnJhbWVzPTMgYl9weXJh\n",
       "bWlkPTIgYl9hZGFwdD0xIGJfYmlhcz0wIGRpcmVjdD0xIHdlaWdodGI9MSBvcGVuX2dvcD0wIHdl\n",
       "aWdodHA9MiBrZXlpbnQ9MjUwIGtleWludF9taW49MjAgc2NlbmVjdXQ9NDAgaW50cmFfcmVmcmVz\n",
       "aD0wIHJjX2xvb2thaGVhZD00MCByYz1jcmYgbWJ0cmVlPTEgY3JmPTIzLjAgcWNvbXA9MC42MCBx\n",
       "cG1pbj0wIHFwbWF4PTY5IHFwc3RlcD00IGlwX3JhdGlvPTEuNDAgYXE9MToxLjAwAIAAAAqbZYiE\n",
       "ADf//vbw/gU2O5jQlxHN6J0zH78VuLo0N73OAAADAAA33OZE/sqTBubAAALzSvgvF/zAwXm1m8Pp\n",
       "iuCxrBPnBTHA525LplJt3A/jGdv8TpZgMnYTKHiP6i1vmjHzvzNNbs2/gkl3D8Pc7LCLCfpG5bzR\n",
       "affWcgs0zOhIuGSq7YrRUruOXBNFhA6cR4CrUUFF942UYRZPZAdX6HBSd5mourHrLw9HDSxTSP12\n",
       "HLoQ71oDCtsnTKZ7oBMnXYEgRqxXPsZPlli2/KaZ1ltyHwC/xpfbMpR9Sg+vwMgo0ir6zDf+ooM4\n",
       "geJKq4Ek373+zZbTREcbzu9oqrgADQ/XLN/Wu5VS/oME3++UTjHProSZ5/3DCFue5sIqgAANmNhq\n",
       "hmNcre/kuOwyAbswZt+SnQ7sJ4xyBv1nUZxngmQRaFUw0eYpaurBLhtR1c35ZQWYtnM08yuHEnko\n",
       "hryWm0QQmzG2dBHv3Zp60jacqMUEiqK1jqlN3e2g1+YkRC2bAd2cwm7tg+lD+z9WyDO50W7OI1gQ\n",
       "t75icZ4DosXZ6rweukSzCINqwvecq3c0iXUfQDHh8uMcNFDOVL6DZE9Sqt0BVVdo/n7vwqLYstoS\n",
       "kdhBM3uyjOm4XJ88YyoPMBKWGeW0GQT4FRhnfeRCU0UTFD3722r81GNUpuLEJYUE8bJsKmeAn4Tw\n",
       "K7PMLrU7hiuKtlN4ft4qpWPjRzE9Lj5dbytBI0xiNomXdJ7vO3JfClJNyPBsGpuoLnQeS4svN+MD\n",
       "fE2gspUDwBhDL0mOHXRHqH/1YVzgutyeDSHsoe56r3Gesd3LAXhISL4ExXuTSi6A9gf0zp9umhtj\n",
       "53AG14MYfr32uQGLwcuQ03duses1la8jK6dgzhqjb8YqW6VfQYryzZhBU/KuFsMdUS5h4MGu8YQi\n",
       "NADLsfSpCNLOdrgn9gw09JUrhbZgcUwCOfsSm0yNqy2fwZkbusVU1/O0fxf6jFZDH3aJ/6o0DJEG\n",
       "4Xt8aTiPjSgx3TjCFp/+IYurOsEivB0jd0tW+pJnJ9couStH/uYbzJiT7Eu17Q97e9BbyUjk75Fi\n",
       "0Vx0+pQIVTcxyH0UKs2t5zDHvCHOqNASm6P+JHLhZUHsx0m1/x3KkoJtZDC1QixTY8LAfNBhqbLg\n",
       "/SMkZi4O5aePiuLBEXgRmNDYX5n6U6nr0D7ZwyK/z4MQhWQ7fg4wi22roOR9Ak7QAAzd4va0aQDY\n",
       "GVB930W/HfUg9rPvo++WZhpes8vI0Pmvi2Q3hzRd2D9b+dwvs+Q5cl0DGQ+zH4HaZax5kYNWdh7P\n",
       "+WRte4/p6yLCsl8DifIlC1rZqhpCw+9sJN/BUmmGJa8BzaRE0a0JpVMVi7oycvdVM4JpLcqYAEcP\n",
       "yBj6+VJwLEI+NerJOeKeE/7bMUVi/FH7/FZJSRDd3Sqv0KDM20940gjYuMz+IviJozJyrZtzfooM\n",
       "MeZOfjObN9meXxQPn/hMW5nuLsqxwKxF1NRKlhPVNYBICxYe2t5FqK4wc2pyAj89ayagqr6/YBVg\n",
       "TSLxoGXxB5b+7velJupLOLosCvTD7sLPpj41Hj5zMNAOolgUbYA7fHQdLWLweYOl3iQbwCOAX3oN\n",
       "PZQdWh0NKaboxRvOQvWWdPdSRtxxCBIOJAarrY1oCm7k/ZSXXw6+gD7YmswyJ4IQ4rooSZ423OO/\n",
       "QiBDwrg+iF+AjP6ljdI6NQBKGXdUr1SXgp7wgKzD4z3JqIy0/zEL2OizZJ0bfsPuCMoTxumjKfQp\n",
       "X3qj8qRzqVCOadx+HbGMDTe0IWROChq4GNbLnu8t3mSP9eeFZo1QgFMJxqK2Gmm36sD2/3aqkC2j\n",
       "m+FHNLd6qtfZuyCom805JFQ6BD0AmhqSbsk/mP+Rcqo9A3FkQF+K7N5DPwa9ATi/1L0DX/P7zRqZ\n",
       "XXf/VJFzhLpXnfKCZqVsdP7QRdZNHoMRgyPFLfK40F3SP8UQG6nJaHPfV/Q+EXddBCk8EbNs9Sw6\n",
       "DUcU+W7Xg8GNdHp/EFF6Wg9IGhrDsoCShd0oCqAhMi5xxritHYIffmav1J9AhtCP60C0cjIHekyW\n",
       "wXX4IQgF1cihz06qDGqFhk09WgIapRzf3BlQV1CpxnXDTsWZi0NrzCK9oOjSPQ6nDH8iIXFNamkF\n",
       "ylcVyAZGRNHz4SQr67TyNg3ElqafNt8HkW/wr9JaG0ZOvUj0joMVQ5BsCsgeCc7ZsFQdMVZmTC6h\n",
       "eOCRaujOCjlcxBBp6fFHqRyg8jtoH5f6P8LyzlK+25ZLwtPxefyDywt1JjEa41Al82mCBT2jkEJO\n",
       "cchj1W+c08ETydfqY+9DvkCkvPknr75Qwr2CK8Tnfe9ycc+5IezSmZo5oNX6A0XZkT/OBkvt9TNd\n",
       "fJSW/ZP44mSgN0XeorGC+lQX7C+v/SERbOMf7cEn6lu+wRNzMW3+p6hu3ze206D9P25wZZEbQkyn\n",
       "s22kItuG3OTjpbEaod4BIhghA2iRZAHF83vfXUX5ysGA3AWsrvjU2OucU7BTvu8YjKM6qCPMlq6/\n",
       "XxZcdJWw1oxyqQanGyeARFzcXyHHnO3I6Gc+ksGncv0TFg+xyl7T3Zyz1hlzo2OaWIbEI/6BBJus\n",
       "PlVbh3CqPaqPM5z6FVE9TvQi1jeMW5c+5cuChSAJTxszQROOqkEE38TFLz4rXxYunvMm6ms4Y8Ek\n",
       "axEePRiyNTsVhw08a1f7xacQb3GoD7tIOZu3iKMc0UC43qok9nR9/BTCe0oP5DO/O+ivkDJvcBQp\n",
       "PQ3o7ufXNzjouUsgOzb96WPM1Q1tGkbFpq6dckytUfuvar4eDcGc8JoXKNIFWob72iRk2++9ssNZ\n",
       "o9yoZy0wGMK5FtwppkmqorvcyoTHmvuElJqLoTPzAlrwvo5YsailuQ/IZKCeEdRWRQfG0P6A6sCN\n",
       "K5a5l/liI7eTz7XC0hGivJxoEreDF4KtG3tbK/LgXhX1wBxpAytbCFnDfRh8g1O+j+H/6/HgqJ/I\n",
       "DjZllmfB8Jso7ipiFARgLrydehzN2gO0LN55RvK3niy4HiTFT4yMhc0vjacIlk0GcZKqtTElW9YZ\n",
       "YTZUfdy/if7SJislGqEAP+5KB+Dc6tpDjNH74sawX9CxP5GZoZ7Xdg93OGX0iGRCgCrF6MPtqp1Y\n",
       "WTIK7JM5DLkJnPT4BdjYrAmrzRe1MMDyHY4TR09/SEN/zGCoXkuf09leBJhG2ku6usuZ5IWcirKG\n",
       "R25MjJ3rxZd98CPFjKKNp5sEwH8sLYVnStXHFXXBBy4BXw5775uIIAeDHRsriS8E4K/QyekRw9DN\n",
       "eViGp7kwFM2EFjNByz1+wT443YG4BxhHkqCHfLl/52GfLbuIXb3VE8HOSYn/8qQDDoLA9RsJP7Xi\n",
       "THV83TjtxixX68Nvi/xXlWZqStKZVfhXxhF46JobGFzP49SHSNX5IipE6iBkyrTX0AsLCAdbhpxO\n",
       "hcyVPpV0xGisP5/3bzyD7cqf3KRP0+zRNfoCJphBMh3/1LK9ft2d8zYOoboEZxJ/5uR8mGzIh6W0\n",
       "2QHD683lH1eRe87YggYM6o8sk49ndZt8sy/Bonp21MDNs8CIt3GIAznnqveJVnA9wxUcHwJRhrCX\n",
       "YlkM9FN0y6o40/VUPxEJjgpzrLzVVC8Gs4DZgIreycLBAAABkkGaIWxDv/6plgCANYFQBWD4fFoe\n",
       "HE/hH0HWVxCy9mUsdWzx4Ztf/ytQiFKh/WOq6PWeOPJKf0ANzGP8p1rZ+AChshlViRXwhjVc2PlI\n",
       "h79TSxrQVkfcFxE5GpIc2dVHbrb/xyMC5e1hz2xtv6A65INvu3l6c7UsPJ8YIAIMiHz820mvatzf\n",
       "6flk915hqeqm9gN1m02e4L8+vtykWOAha8bB1FyGOhb//8sItw84sOYYnjyAb7UOXqOYdI231BEK\n",
       "0N2JyFESIIfKgs2NyaWMJzsL3cqJoNqWvsSrwvFemHzRQecVVaDM7rlB3Ft5ZNZuzqYYmhTk58Xe\n",
       "pCTKS9blC386eNtCjDdOmE9zmmoVW+cKpDVMup9+D2JZIFhlg0He6ibykX1d3PETw2HyWIUgI2hk\n",
       "w+N+0/2Y8ZjdwtxxUxJ6Pv31A2IapDCbCHam49V/Y8Zyaepo46KlfYEAypvx54sqd3Vjp1c3IcbB\n",
       "M2chp7+SvLUtMo9BuaZE2Xub2IJIT/DPVtYy6vF/aOxrLeeDa6px3AAAAJVBmkQ8IZMphDv//qmW\n",
       "AALNwt8DOfCZ+GlcgOA20+Vvy9E+/BIB7FQ3ILvJkhpeQ828jzwLnAws2paPmk+WvelsXdT1BX4e\n",
       "/d/oM9QZZZ+IqJHVzbCNCCzuSdPYNmGY8BH9mTzd0YohxbjzPLrUGZcX+MwNQDGj3HFj1L0tJX6V\n",
       "qG/XtmZJffeUlkWDhnND+mXUFl99mQAAADJBnmJqU8L/ATbzmEx5TRyPTt3Pu9vIXUOkaaoMvxKX\n",
       "FlYP/7l0EFdS11cdptn/U161YAAAACcBnoNqQr8ABHddyo5YXmUmoABOFS/GUwJTWwVwq6eX2cj2\n",
       "pYBJHY0AAABNQZqFSahBaJlMCHf//qmWAAVwZ+01IWlH4CkTeGneyRXDf7jFSB/ABoaEuXPehBcc\n",
       "jbqe/dzovz1nF3guT69zJyoGdelNKSEvycDQ7FUAAAByQZqoSeEKUmUwId/+qZYAFk+Rg/7ACMp8\n",
       "S8anb2xVFlzzU6veTfhHZdKnfwWgFw7yHhDNo5XA38ihe6Hrd//0l+VxkLL5+Ao/VexGoyG8zfuG\n",
       "G1KZsds5BbcgxIXK/+ySVTRVYVfDr198KKyl31eEXHYxAAAAKEGexkU0TC//ATbi5+aSsfI9KAcp\n",
       "lGOuXeHju4cDmII82ETC8sby68EAAAAbAZ7nakK/ACO67lRjTTjT1eOMTSpNuct/ZumAAAAAPkGa\n",
       "6kmoQWiZTBTw7/6plgBW9/wgXny4mQ9qvgDnZQrBPpxv38WPcmh/JwF9es0zA4Fl+mKhIu7Y0Blb\n",
       "v0DAAAAAGwGfCWpCvwBHddfyryvCq4Lb6BckdZ/jpMrT5wAAAFVBmw5J4QpSZTAhv/6nhACsAoX1\n",
       "pJssDLoACslOLGHKuqfnsO2YOpNBxdfL+RD6cN1HNug1ysaFysCWI5dDnvReI5sVPRMXZsSAnAQj\n",
       "lo0uvYDDUiAvAAAAJkGfLEU0TDP/AOKjTVpc7J4mI8KE6YIYNlqkI+dbSAOqYgEtDrtAAAAAHAGf\n",
       "S3RCvwCKxJBUnl3kQ2bH8sHyRQ7AV9dFTH0AAAAYAZ9NakK/AIr1Yx9RXtRJvRhZw0c60hFJAAAA\n",
       "SkGbT0moQWiZTAhv//6nhABYfQZuig7kNHxOFyL/gN+hpuFAO253nbk3plKqfeF5sCvA60ZYwd4r\n",
       "C19pm2i3vHqkDJN1VZB2raP7AAAAOEGbcEnhClJlMCG//qeEAFj94TYp+/U9hS5fRbOs85c9et3y\n",
       "xkFljepkt+dwFKrj9uuPZk2/lBiwAAAAOEGbkUnhDomUwIb//qeEACx+8BcA5vQAoHKWuwxh42R3\n",
       "43CB3DBzHneI/vmoFbe7yiFmXL82ODFdAAAAN0GbsknhDyZTAhv//qeEACte0V8J58rHZ1ge1K/3\n",
       "UJExj4RIBF2ffbj0felXqmVD14L2nasdasEAAAA8QZvTSeEPJlMCG//+p4QAFa9or4Tz2GMbSRm7\n",
       "qMAEE9K9/et/WZFoNZC6bRTYAaDPrYely8JZ1Nzjc0TQAAAANEGb9EnhDyZTAhv//qeEAAsfvCWP\n",
       "gbKNhjaSB3cs2YhfaHKMtoZ0nRqxoBzHjXwsCI85KisAAABdQZoVSeEPJlMCHf/+qZYAAs3PPIoh\n",
       "FHr/Ax3HdALuiTKlj1m9visWdBEFG8s15c4W1Ubla1VH5oskfruviGVA1j1KQ+3YjCWra9GFXBnu\n",
       "kPXqGQkVi2CTFzVLj//PAAAAQ0GaN0nhDyZTBRE8O//+qZYAAWb4BsjjvOdCGdDoLuwOnZGMVY9p\n",
       "4iCqDMnRv6uwrF00LWpfcOD4akYk7JMXr61hmDAAAAAaAZ5WakK/AAI7ITktUSeY1XslxPLb3siy\n",
       "6bkAAABGQZpZSeEPJlMFPDv//qmWAACzfAo/vkkzfuCO5PecepBLD3rIEKmkU1IQHemAk4snHxSm\n",
       "AIzyOVZpH3K+WwrWo5XYxDKlgQAAABsBnnhqQr8AAR2QnJbRIsdYgftha63ZAvlUPtgAAABPQZp7\n",
       "SeEPJlMFPDv//qmWAABZRn68f5aCBrPtVFlk54E3BKZJIDML67IbTFNRbjO0PCVj6zAJBj2ffy3a\n",
       "TmX7QGovBhfl/cC1ii0psAQ9eQAAABsBnppqQr8AAI7bxlHmZaxpuVxIrQ6Soyf3sh4AAAAwQZqe\n",
       "SeEPJlMCHf/+qZYAALJ8hXCLQSZ4iJsepTzNgeqb58W2CEeAQ0NMnnYIonUVAAAAIUGevEURPC//\n",
       "AADTKZDR3c9DElCNmSdDcpJ2cSOy+J8KywAAABoBnt1qQr8AAR3XfXwqSIuHLaZfiIH8g49a3AAA\n",
       "AExBmsBJqEFomUwU8O/+qZYAAs390iGxsOwZEQmNYeh+OhjHpYNgrJ2i3lt3wqPpKEMG4Qc9bP4d\n",
       "2M6G0uxjpe68wZupSSiprwPDv0GAAAAAHQGe/2pCvwAEV13MLSZ5plPZVQ4Ke/rwV4zpaTlBAAAA\n",
       "WkGa40nhClJlMCHf/qmWAAsyAFrgLL4bqUAN116mEkJrUOG/z8JPryqltgfnzisFWaFCxVDh1Wj0\n",
       "DzBQdJAnExhd0+iHqAh2IaMEALTtLMXdpmDP2Bs6Ug5ywgAAACJBnwFFNEwv/wANMpkNG+BOxcyg\n",
       "1KYmDx4D+6m+Yyqj5Gb/AAAAHAGfImpCvwAR3XcqMaXJ4APf9hNr+8a073yc2BAAAABWQZsmSahB\n",
       "aJlMCG///qeEAKv3syNIb1Sfdh36Y2gQM6U2XGmUDQn0rAd5X+IiLLp+W93JYBfBH4YJvrXYvH5F\n",
       "KrWdmZdTI1fCvLYkjguR7U6GGH2T2VEAAABBQZ9ERREsL/8ANMpkNHd0D5B910BYprONwhE3Oq9c\n",
       "9PXAH8I/812XlbALbhFAlwIndGWa1s7Zl8LQ09yceDiYGpEAAAAaAZ9lakK/AEd11/KzxAPn7rwA\n",
       "+B1TEmwWafMAAAA5QZtoSahBbJlMFEw3//6nhACr+hLht7wA6X4+3vJe5UfejnMsOmUJkH39EFRy\n",
       "zhSq4EtySh8C3LFRAAAAGQGfh2pCvwCK2wi9G3fHTFxrkIdgY4pLHVAAAAA7QZuJSeEKUmUwIb/+\n",
       "p4QAq/rGsABrX0V+AshoKesDFKUzdP8bij3tqYJ6O9g7yQXwJrx4vOHkzEN4QjAAAAA1QZurSeEO\n",
       "iZTBTRMN//6nhACsCGYsEhMB0m1t0Xdl5vpJ3g/OsA2YZXaqnl8OO9WSowXVSZkAAAAgAZ/KakK/\n",
       "AIrIT1at5A3aJMiO2S0XhspGSxeAmtAUAhsAAAA/QZvMSeEPJlMCG//+p4QAWP3gLf72T+Xuld/4\n",
       "V3bKAE/0NHZwVZfrBFTk/D2w603aklISW7q3HZuyPCd8LXowAAAAMkGb7UnhDyZTAhv//qeEACx8\n",
       "y7BEDX5m78AYc8fe45xW20NlJWrRrVtgkLflQZdmFDFhAAAARUGaDknhDyZTAhv//qeEACte0V6g\n",
       "alPAxauL5xn+2bwoLUgGojN5tYGwqNCSxYBcWMKjC5KfmAz8Xiwq+kqo3hwB/2o4gQAAAElBmi9J\n",
       "4Q8mUwId//6plgALN8A2RxzbuCPeJQBGGOyw5AP3q3gMWnz/POuP9hQU/gWYNSn0kHj9zZw0gKEU\n",
       "vnS3ohW/EAGsuc2DAAAANkGaUEnhDyZTAh3//qmWAAWbnnkWLPBSuhrnsviC6du7MlQewK+lvAr5\n",
       "SxKMp7RM7golDoLgAwAAAHtBmnNJ4Q8mUwId//6plgACzfANkcedhg3iFwHaMZMlDAALP6boWjmw\n",
       "a0A3R7b8s4zDAaKEKS7zp20H9eYDT3WOaD01qlx+oSkUtEbDYo41tqPVxs+uuiqNk96Pq0D12VOI\n",
       "CHyv9MqRB4aXwdnWn3PV/cJsKnwC4rW3lGAAAAAjQZ6RRRE8L/8AA0wX+vUVvaq9GUto5PJvoUr6\n",
       "Izjs3P6CO+EAAAAiAZ6yakK/AAI7IArtWyGYSkZrBWXnorlb5CC5XFof/pPY4AAAAFNBmrVJqEFo\n",
       "mUwU8O/+qZYAALN8AX2BTKuiGJRL4EEWvbRANQkPOZ+Fud/JsIwd5D3N00hh1lnnCg9jhXBJF4Pl\n",
       "/LegmsOIPNlGLrFPefN4dUT+DAAAABkBntRqQr8AAR2QnJaoV9AYBFg9SPQyLLzdAAAAW0Ga2Unh\n",
       "ClJlMCHf/qmWAACt/HW3YADZSf119os/zUK0nyYszYG3pVgfqtqJgt+tg+M4qeEA5Z8z9qjJNxt5\n",
       "VRgDEjHMACmkdObUhNWwxt5fE0xBp3iGf3mEsxMAAAAmQZ73RTRMM/8AAJrcQDU6MYYwYXILNW5D\n",
       "5q7MmD7JPrUflr2UaFkAAAAVAZ8WdEK/AACOubFCMkpyaqR7V6BPAAAAHAGfGGpCvwABHddyo5o7\n",
       "LTpjwYuiW5ilitJr8kAAAABKQZsbSahBaJlMFPDf/qeEAALD6KsswOYtX/3SgHxMUtpfxQTNu0Wr\n",
       "3JgeDdndvTTERx1WL3HtHwotA8XBv4PSP+2cY+QzN0PUg40AAAAcAZ86akK/AAI7ruVHLC2tiKiq\n",
       "1lGkkmwPuMqkwAAAAFRBmzxJ4QpSZTAh3/6plgACt/H1uwBVADSsWNalVIDLZw+f2MxgpHspjJtp\n",
       "6Lx9YZNQK2C+22pUdJR0K68OGNrDnEp9bhz9BGIdt7JIfrr2Tp+igYEAAABrQZtfSeEOiZTAhv/+\n",
       "p4QAFjQ/BgqGAXi/pjai6GpKk8aG88OOF6LB9qzWNuiV3is59RQwl4kx5VQO+Qh9YuilwW9uHggK\n",
       "TaHu75HOFDkqFH2smMyoyeBXOyNVo5pZ/2VuLtRy/kuRda0lK5MAAAAgQZ99RRE8L/8ADTKZDR3Z\n",
       "YIV+KYkrIJc0nQzwwUWzmLAAAAAeAZ+eakK/ABHddyo5YX+oRUw8m6EMDck4dhnzazbQAAAAUUGb\n",
       "gEmoQWiZTAh3//6plgAWT49wcvp2fEADQATIL/4/qypPVgNa4wG+7R86tdNVIrwWEbUv4Nn56MB+\n",
       "qCI4TvBKeKyA4cvApXnq3pT5fk51gQAAADNBm6FJ4QpSZTAh3/6plgArfx3qsBeuthDV4iLAEMGs\n",
       "FEzdir4O/6EtOBIcn5X3oMDXycAAAABeQZvDSeEOiZTBTRMO//6plgBXfR4Yq/KjGNaO4HnbZqyC\n",
       "IbmIkwhY4lsSW2CKErX24ZRSPVaymHUSQ9oh3hyQED42kd7vK6+M+ZL0UxoEkL/JUb0ZYMMVcGHA\n",
       "KZCBjQAAABoBn+JqQr8AR21GJIaAbHsx5w4d3q6eofCbgAAAACpBm+dJ4Q8mUwId//6plgAsnxzf\n",
       "qIWuWFcvpPpwJfDzaGCKyl8v1/2mMccAAAAfQZ4FRRE8M/8AS3CJDdb/uY8m/oou7H4B+ObD70xd\n",
       "wQAAABoBniR0Qr8AisTm52KKlyWMa+re3fUuqqWhGwAAABsBniZqQr8AishPVr6pU3T5y0oNx/Fj\n",
       "okkNU6sAAABOQZoqSahBaJlMCG///qeEAFj94C4OWF7wVhmWBum55aUmVHL9wBPVE1lgD6ZfvqGG\n",
       "bVbhMeQma/a4qcIsq3JdwOCRrrhdQIq6/PafOmSAAAAAMUGeSEURLC//ADTBbiDkIpU1nyStAHWt\n",
       "WCAdcMBLg9ZrpEQZMplUkK5vCz2MJkywcIAAAAAkAZ5pakK/ACOyHzioJMpIAhFDEGTwFbShq0fl\n",
       "0VnKjXWphG3tAAAAPkGaa0moQWyZTAhv//6nhAAWP3hLHv/GOgFpegHFA/Qbwb84dPllys/Dme9c\n",
       "N5wvzHnN0gBlFgtBYsiMCfH+AAAANEGajEnhClJlMCG//qeEAAsfvCWPf+Mi2Y2kdA7whrf+0iR9\n",
       "ZwaH1ROrVl/1wu1tG3zj1boAAAA+QZqtSeEOiZTAhv/+p4QABY/eE2Kfe6ql/O3hAesmaCt2NacT\n",
       "wfDmYjr/nnw0pCKNOW1nqHPBu4m9b3fdclsAAAA1QZrOSeEPJlMCHf/+qZYAAWbnnjBHvEbnaJAG\n",
       "x5wjNYw6Is/1tuGEFzWoH2V8pynqhignvycAAABrQZrvSeEPJlMCHf/+qZYAAV33EmhPUQsbcBwJ\n",
       "nlwlg/hSK3NzPdjlGiYXPf0nS2SPNehq64HpvsNugZw+WK/9hnLA1PHNlBli0sO4xNqY1nzsCGtT\n",
       "Zvw03NXt02sLh/63BVMsMdSUDVhUmUcAAABIQZsRSeEPJlMFETw7//6plgAAs3wDZHHnYB6/IBgD\n",
       "BpiA2P7W0NpZc85J1768PLYdANDXKasbIGd59uXjSyJcjxJPgpHb7cWeAAAAGgGfMGpCvwABHZCc\n",
       "ltEix1iB+2FrrdkC+aSYAAAAOUGbNEnhDyZTAh3//qmWAABZPnWYEuEIpDQyqZq4+1jwveMArDrg\n",
       "obGcBk1hdJJiNj0UwHv9nKWKMQAAAB5Bn1JFETwv/wAAaYxOWjfinbV0o7v2c48uzEtSLhIAAAAW\n",
       "AZ9zakK/AACO67lRzLlYP22s/XVh4AAAAEpBm3hJqEFomUwIb//+p4QABWPRmkQ4O8AOnHxNpfJ2\n",
       "coJbVAMmUKAOso0m5PtJXWiINDfch7jWc0TygxF8Ap+AbZnTvdj0iBKpzQAAACBBn5ZFESwz/wAC\n",
       "W3EA/jqhsDTmNGUWnoM7S+/38Gb/LAAAABkBn7V0Qr8AAR3wgjKeriZwqtryeDoskp9BAAAAJwGf\n",
       "t2pCvwAEV13MLUR5Muzd9c3MiBXq151a4D/N+Q0BIoyEHr4aCwAAAGJBm7lJqEFsmUwId//+qZYA\n",
       "BW99CRcSs1FzPSHRVXzuxsHhNv+TIUV7QBFk6Z/nJ1enUY2pDIpMKtvXv/1c9iCYYb3Q+LvbDAxg\n",
       "qLPfqpP9G0InI3ALWaiPP53KTkO7ne2AgAAAAE9Bm9tJ4QpSZTBRUsO//qmWAAsyAFIyvAHRuCAa\n",
       "6HeNZBBMBWotXCGeYga+20AOScxLMMVeJnJn2XqhNwgUbPT9Onv/pqvXj9Uwwe5FyNVZAAAAJgGf\n",
       "+mpCvwAR3XcqOaP/cWvb4tuNu9h6Zd1SckpyfhDPjKY636SAAAAATkGb/EnhDomUwId//qmWABZR\n",
       "DmpVuNPV3xEkAcLjc+ITece8uZgAkVTWGD7uUs2etUT6zdZYwgcbx5eHbt6tKGN/s4f1hHyMM1NI\n",
       "LdIhbQAAAD5BmgBJ4Q8mUwId//6plgBW/kSkWAvXWw4wf+2cDBtHJEDUrLNULEX2iNbYK7qq2fsj\n",
       "092h2PGwp5LWi27/QQAAADFBnj5FETwz/wBLbiAfxwX1+cfdFXEA8apHePO6qnzpi54sjMmEfhxE\n",
       "Gn1jr+uCJM3AAAAAGQGeXXRCvwBHfCCgie06M/dVteTxchQ+wm4AAAAZAZ5fakK/AIrruYWkuIvz\n",
       "ygLKrut4XftHzQAAADNBmkNJqEFomUwIb//+p4QArAKEWCQlwGaF06zD8quth3MF/5Pfx3/nY3bc\n",
       "y5whZyNVqFgAAAAcQZ5hRREsL/8AZxmyml5R1xG8bDHyshuyKdhiwQAAABkBnoJqQr8AishPVprS\n",
       "3a8U1aekcK/4DxIWAAAAU0GahEmoQWyZTAhv//6nhABY/eAImJR6fKLhcURnESCGYts7fZaC1ywB\n",
       "6IIWRTu95AhZE2YjgcfWTf5IFkhFLeD/rVIS++ixDwdwSdhvvaIIfTjhAAAALUGapUnhClJlMCG/\n",
       "/qeEACx8y7BEDX5msInh4dbKWRRUGIPHwG4KJSgxJCZNWQAAADJBmsZJ4Q6JlMCG//6nhAArHoX0\n",
       "ag2NQSFc3+e7wQKeIDTuuugBDQXiCXRXhHyWnt40EQAAADxBmudJ4Q8mUwIb//6nhAAWP3hLHwNl\n",
       "GwxtJA7uWbMQu/9OGe3kecPNc1zJio13PXiWy2AZsIXUZi9tfMEAAAA3QZsISeEPJlMCHf/+qZYA\n",
       "BZvgG6S4JXCsPq4+OSVP8xjoP9AGZdvIXuJdQm759q0ZRDQmOKwkwAAAADpBmypJ4Q8mUwURPDv/\n",
       "/qmWAALN8A2Rx51ODd1SBtLY75RU1b/hy+x0CRmjmCpWWentTNYjRGianoLAAAAAHQGfSWpCvwAE\n",
       "dkJyPxbvkVzEVzeDZEJwaVnrIogFAAAAaEGbS0nhDyZTAh3//qmWAAFd9xJoT1ELG3AcBWu2C8ij\n",
       "3Uhy9GT2r6T2YT3CwZX7rd0j2UY/gzVks6S4NyOY0qL6NAVq5nKEi9xYuHf/qM2D+sWJq+ThR1rd\n",
       "CasQtX/9A0hpqmLh7jSAAAAAS0GbbUnhDyZTBRE8O//+qZYAALN8A2Rx52AewKaC3gRtNMOTuiUg\n",
       "7XYnoIepJtIuwHlhIWQ+CgpZ92Svn2NuM8ezH5Uh9oFClvcxmAAAABkBn4xqQr8AAR2QnJaoaDAx\n",
       "hKs9SPQyLLzdAAAAT0GbkUnhDyZTAh3//qmWAACt76PYHHjvdTx0DGJbiWnTg8ONe84kP6LC3Lqd\n",
       "CL8j8QA0svvYAbYeXMFHbhWcFbHR3K44mr5FNJ5HY0AJzXUAAAAnQZ+vRRE8M/8AAE1wdL9me3S8\n",
       "ZEYMs+vFj6Qr6ak+E37PKIrjVJ9tAAAAFQGfznRCvwAAjrmxQjJKcmqke1egTgAAABgBn9BqQr8A\n",
       "AI8GU+WKjKwREKArBE93L4AAAABKQZvTSahBaJlMFPDv/qmWAAFm/ukQc52Sd+qPYpj6Huv3lvs/\n",
       "2DMDkhpq+dXRXix1qXjKvdFZttm6hx1cgEJcZP23As0t1HjxsUEAAAAyAZ/yakK/AAIrruYWkzgb\n",
       "LcfIoPL90UeaO9ImxHph4pi+gm+bHDrMFsoTu+5fAikpeysAAABFQZv2SeEKUmUwId/+qZYACt7/\n",
       "hKIkzmRqfmCz5U7RhYoIQ5rPjaCVQFujv/e13A85SjzOKPyBOQRLc7SJppJP4ZDPNV2wAAAAIEGe\n",
       "FEU0TC//AAaZTIaO7NvllGx7xhImjJuWmIvSgAqlAAAAGwGeNWpCvwAI7ruVHLC/1CKmHk3Qhgbk\n",
       "uYXgSwAAAJRBmjpJqEFomUwId//+qZYAVv7ajItaQG+fpEz4q2MFStOpiHzNl9t/PpgEnTrT5tXp\n",
       "Odq4YfsF40h2qE+5Oj0uWZdB5rfqIzV5+p61JhtZcLmA1x2boaQicy2UdFXltlqqj3JpcsWb2zrB\n",
       "tzvtGVShlwWSh83khGCuHVOojWuijAXnpE+8BPGZj/rG47DfiscBxarNAAAAL0GeWEURLDP/ACa3\n",
       "EA1Ofzb0KjnHwARiMR5m7hO+m67hI6Zio6gCHzJkniJG+0LhAAAAGwGed3RCvwAjvgxoBSoBQX0p\n",
       "a6w7xpXnaF2vmAAAABwBnnlqQr8AR3XX8rPEA+fuvAD4HVMSbBwwItdxAAAAUUGafUmoQWyZTAh3\n",
       "//6plgBW/jrbsABpnoW8ZmZpx5NLsK7brCx3rtmhb8GUi1hcTS/SGg2uhx1LCcQgpKt5n9tkqnKf\n",
       "ViePVckt8L7LZXzJWAAAAB1BnptFFSwv/wBnFMh+HjAmehFU61gzRlVq9iAm4QAAABQBnrxqQr8A\n",
       "ishPVov2u7fitnFGNQAAADdBmr9JqEFsmUwUTDf//qeEAKwJ5pqVxYlvcxPgIj4cjYWySl65byos\n",
       "3/kkpL2oeQ4grbjifKMgAAAAGwGe3mpCvwCKyE9WmtLdrxTWQ6KYmM5RJ+oDVgAAADVBmsFJ4QpS\n",
       "ZTBSw3/+p4QAWP3hLHv/GOgNfnz16J8g/+12OAlLWiB5C2rMzZ6K6cD6UFLTQQAAABkBnuBqQr8A\n",
       "R2QyK+p0m+/3tNMh9NRnBAJuAAAAK0Ga4knhDomUwIb//qeEACx+8JY9/4x0AeJff4VvlDBV38oJ\n",
       "3xp7Plk43vMAAAAyQZsDSeEPJlMCG//+p4QAFj94DzGpEafy90iq+BFZDjW/mLQBHoUz0F7KXEtn\n",
       "WbkDkRwAAABiQZslSeEPJlMFETw3//6nhAALH7wlj4GyqzEHnetfINgDM9kZ4+c0cSzhbI7BAN2+\n",
       "3AmkJAskvKGkk6knCjIvBKW8IxzoycZ0TPz4vb6ydHej7x6P8vbp5Oz1q2gxLSq2ckEAAAAeAZ9E\n",
       "akK/AAjshOS1RSFjn6zdE8tveyLL8S0DdUiBAAAAM0GbRknhDyZTAh3//qmWAAK77iTQnqP8YAG4\n",
       "38CtEMKWIYV7itOORkqzuzhrczlBW4yBWQAAAFdBm2dJ4Q8mUwId//6plgABXf62EIpv7JdiPwto\n",
       "hY260rLozYC+11jWThTg0yf967hmgAsFzJOXCUEF55q1LOhLcg1/0304qdJhRaA8+MZOvZy4PL7K\n",
       "7I0AAAA4QZuLSeEPJlMCHf/+qZYAALN7y30BzsOCQ+07TQ0fdHoHxV4gVDxoNxroqCP5d/JSSeE5\n",
       "IP72l3AAAAAfQZ+pRRE8M/8AAJrFT6QT0w1CDgE+SFrdUdBtsRhUTgAAAB0Bn8h0Qr8AAR1zcmhJ\n",
       "Z1eTyQjVp5ul2toAfzES5wAAABUBn8pqQr8AAI7ITktJzRKTtmMDicAAAABJQZvNSahBaJlMFPDv\n",
       "/qmWAACt76EnQ5CQKv9VEq52OemntnB60JUUftNeGTBIQjDQiDechuGvaGIirK013ElXcUtOwL9f\n",
       "fzfu2gAAABgBn+xqQr8AAI8GU+WKjKwREKArBE93L4EAAAA2QZvvSeEKUmUwUsN//qeEAALHzLsB\n",
       "g1vZJaHzHox7Cqs9EYw3Q/g574knNtfHtvt00xkqXNcVAAAAGwGeDmpCvwACK67mFpM4GynsqocF\n",
       "Pf14K+M3gQAAADlBmhBJ4Q6JlMCHf/6plgACt76EnQ5Kc8PaprIJJx6jfZgqlgIl0NKCA3Fb3SAu\n",
       "0CIO/xu6GR2yVzMAAABaQZoySeEPJlMFFTw7//6plgAFk+RGXsAGED3oGzRc6qFqSD/KN3eK6hyI\n",
       "4mQmhjTVzREztfa75u/owF+aRMhanlKv59Q2Xbse9C7RG+WiQDR6xVYWUiKWa8NYAAAAHAGeUWpC\n",
       "vwAI7ruVHLC/1CKmIFlGkkmwPuMpNMEAAABRQZpTSeEPJlMCHf/+qZYAFb3/CAolLrOZGBxogN/O\n",
       "slc1YihCNlARe1wgdm8BaOJ+/e499ZEQfMQVn4q8CVz85RLBUFWYBsjJlUfE2RTWfB6rAAAAXkGa\n",
       "d0nhDyZTAh3//qmWAFb30II/aKvuuU7i+kamXuUBvz6yzzXkGt4ePMqM7KT6NtViQtKmTHz8ZqqO\n",
       "x8nSmjm2ebdo3nuxeLXZT7aFTgiCDvkvWfcyHEPcj5oWOSsAAAAtQZ6VRRE8M/8AJrcQG9Ca7eeE\n",
       "NB/l78FiofdPrtQRNFJcJecq2qO3wnqvQE3BAAAAGgGetHRCvwAjvf4Om93ietSOyA8Zsgw2cfYm\n",
       "AAAAGwGetmpCvwBHem3BUl1LyXC6mlyRbNyLUGcF3QAAAEhBmrpJqEFomUwIb//+p4QArAgwA/fD\n",
       "h3SbPzJvc6iF1bH3EJXcubXya9UF7ciGmJIavsIfUyIbUpFfL/cnMCcevhk2a+hgNNMAAAAaQZ7Y\n",
       "RREsL/8AZwyHTqnpsets/h9Pj7jaIpIAAAAfAZ75akK/AIr1Ud8cXtOpvRfqwYkbWDiowd/7VzUP\n",
       "SQAAAEdBmvtJqEFsmUwIb//+p4QArPtFYG8iRz/4BABP4HL5mMw4kDjEbIGe67fIkvq9R59bCqaW\n",
       "Es/wXfZ2HUJoA06KQ/w/ap/gYAAAAC1BmxxJ4QpSZTAhv/6nhABY+ZdgL9s8PFklP/719lU8b/uZ\n",
       "J+0IsueW1nVOgwMAAAA1QZs9SeEOiZTAhv/+p4QAVr2ivUDUp4BzegQc0rqQtYR//XpdytytGxw+\n",
       "pQbyBnjN2b9IlYkAAAA/QZteSeEPJlMCHf/+qZYAFm+AM0JbXrX3SQ4UbEAMG2uVPhim07QUzBm9\n",
       "WtCuQpJkd/coRvNk7oVQmNw1XSG4AAAAWEGbYUnhDyZTAhv//qeEABY/eEse/8aJLXukrS+dgBKR\n",
       "HOacbS4dVrUJ8TlvhNpUplN7ylUcYGiibtsYtChMZTRLBnNgRqSqdBt5CAy4aZhzxOQgbngEKnwA\n",
       "AAAdQZ+fRRE8L/8ADTBf69RXFwL32i4qMcvWXuhvytsAAAAbAZ+gakK/AAjshOR+Ld+5ue6u5YbI\n",
       "hODSo8CAAAAAO0GbokmoQWiZTAhv//6nhAAFa9or1A1KeA7nwvUY3+fWpm0RKzHIIg2vX18ZQbID\n",
       "cPeOyeAPnf0lxfp9AAAAPUGbw0nhClJlMCG//qeEAALH7wFwHiJ/L3SvhbVacx5xHI42IEH4CV4J\n",
       "rwULm+J6rtkcQ4qBSP5eJW4oFoAAAAByQZvkSeEOiZTAh3/+qZYAALNzzxbNJQLaOVBTEAQ54W9j\n",
       "lhUKrZ9KvjfIy5zp0HvmAFQuQkmzfSJboptC3YRgEDujWab2jZYBUF8RZZSoz0PPplxfsVVqK56x\n",
       "JvaC1QYw6Sd7zhpp1hqH5xiO2XeoWF9RAAAAUEGaBUnhDyZTAh///qmWAACu/j+gD4rdTAS3S4mP\n",
       "+sLlANj6kyn74Qb2LWhw/tK9h3rvb2olLbBxnQO4etStPE3+ltJm/L9oW4/MDocLG2cxAAAAOkGa\n",
       "KUnhDyZTAh3//qmWAACt7/hZ+YWmtBV08jVgGsCbMg6lRR7YXKa+uCMNCMfaPxsnB9rlcvm4R0EA\n",
       "AAAdQZ5HRRE8M/8AAE1wezaulVkDzjF7lwmuPIrxqjkAAAAVAZ5mdEK/AACOubFCMkpyaqR7V6BO\n",
       "AAAAGAGeaGpCvwAAjvT8Le0qzCj2WTgGKFuRzAAAADJBmm1JqEFomUwId//+qZYAAsnyMuiLUkON\n",
       "D/DoYQBD0KFA8PrE6mZXwn/DZCmc+u54wQAAACFBnotFESwz/wACa3EA1OiOxxSRl32mDh0FB3nA\n",
       "SxJjm8AAAAAcAZ6qdEK/AAIr4MjvFqzw2q2RscIJ4ZtdyzMa4AAAABsBnqxqQr8ABHddyo5YXmUR\n",
       "UnumjoMDclzC8KsAAABAQZqvSahBbJlMFEw7//6plgALJ8iUiLSi40Cw6GUNAFycO+yl13UScLP1\n",
       "qHe0kVma+g8aU0h1lkw3CMKg/t3ptwAAACUBns5qQr8AEd13Kjlhf6hFTECyjSSTYH3G2dNqquRN\n",
       "rx7/33ixAAAARkGa0knhClJlMCHf/qmWACyfItn+X07PiABxfz5PDxmcG726S6GEGg3AaCjlv4wY\n",
       "wylSXWmgE44D+yTzwi6pRr6BF3CoxHoAAAAtQZ7wRTRML/8ANMpkNHdlggiopl7QKaESiBRlZ0G4\n",
       "zMQV4m9s5/Wk+2IYNsqAAAAAHAGfEWpCvwBHddyo5o/ldakPiJxL+vL7LMQGMCEAAABOQZsWSahB\n",
       "aJlMCG///qeEAKz/IwlMpFqVSBUxt+h07xa8BIrKr5Z4GKU79SIvZH8/dZi79njCTh/LGXGo0rBc\n",
       "9d9veTbD6Yxy0NwjQMrZAAAAL0GfNEURLDP/AEtpS+mg64hXNUZREwjtlfmls7goahgGElBBoDxf\n",
       "gn41SVKssqBgAAAAHAGfU3RCvwCK+DI7jPxCPhRYUkaVQIE7e1ath4UAAAAZAZ9VakK/AIr1UUS1\n",
       "yq6/dH6zlXkkhBRjQAAAAFdBm1dJqEFsmUwIb//+p4QArAhlyc3hHx9wVgGNPX3ni0tNf9I/Auc8\n",
       "/RqCxe4JBJD8XCn4uUdcxzqrYY0/JoHQQ2/7zzLmcuvUhSnLlMcloEeeQdqcBOEAAABDQZt4SeEK\n",
       "UmUwIb/+p4QAWPmXYC/bPDyjACgnP64SlSn/96+yqINtj7IkfvU5IPjxa6PMjNBgM1jI1iL6pxqS\n",
       "IvwwYQAAAEZBm5lJ4Q6JlMCG//6nhABWvaK9QNSnf/h6AaCj/QCaHd3tcPLlPZazgAH+kRePLyBA\n",
       "i4TMnT1AEh1ALOJlC3xjJ9m3Y98wAAAAYUGbuknhDyZTAh3//qmWABZvgGvCmJfyoxjWhiJRFi9o\n",
       "DX0V1CAGO4rT7Prave6xuoe8Lm5NtOTo9Qme08cuFo3J5ZoZLxBS1nH43fBuyA39NeXVfVRPzAri\n",
       "FFOmuAkNCjkAAABLQZvcSeEPJlMFETw7//6plgALN8A2Rxzb3uEAfVSKGdywI1JkgI4O7a4E/Uup\n",
       "+2mma2wk6QKUl3PHT1ReMlAIktn6yrWaNTNmOd+AAAAAGgGf+2pCvwAR2QnJaopCxz9ZuieW3vZF\n",
       "lwm5AAAAU0Gb/knhDyZTBTw7//6plgAFd9xJlQ6juz1QCkHsEiGJ5agEV0c1Bh5v1v08IaMP51Vg\n",
       "ejfBhBifvCoEUG7wIGx2Kf5+djoRduayVRn9erOlVSNhAAAAIgGeHWpCvwAIrIT1aKyDEpdomppX\n",
       "MAE1P8lDVJCGqU8GSUAAAABGQZofSeEPJlMCHf/+qZYAAWbnnjhli0qarUCjXY9X7dyjABoFGhzx\n",
       "ZMgaXzFJuKHpCDLeF9Tt2Mm+nirI3vIet9rbY6xJwAAAADJBmiNJ4Q8mUwId//6plgAAs3wK/uqW\n",
       "A1hNoNWuOhCwDruiNG6O2oL4K7DAyiFUnGDpgQAAABxBnkFFETwz/wAAmsVPpBPW5Z+jYG7d7rAm\n",
       "eUGYAAAAGwGeYHRCvwABHXNyaElod1F8kmz/j3t/JnitwQAAABwBnmJqQr8AAI7bo3ejAAE4JAc0\n",
       "j50rpc4r19BOAAAAZkGaZkmoQWiZTAh3//6plgAAsmc//qmt4fCMiucNVt96+bPe4pNZY/Du8fVv\n",
       "CcoMBhtTBUuSgw81aKJgzhTA/kxTzN3zU7TONstMdANRl3gLQzXpr6SZtZ8VWoiK9/f/um9pu1xH\n",
       "gQAAAB1BnoRFESwv/wAA0ymQ0d3QzWEB2Eh2SlyuKZLf4QAAAB0BnqVqQr8AAR3XcqOWFZfunPLE\n",
       "XgXRf0xS6YjSgQAAAFVBmqlJqEFsmUwId//+qZYAAsnyLxCLUAAcACoaN/6kuGIHw7J+OlsksfcT\n",
       "bl2RSJbq/P0tzvFS+9Qyy50WNF4uBLZe/PLug+WSab8dtMv157syAn1BAAAAKEGex0UVLC//AANM\n",
       "pkNHdm3yyjYvOZqV2tFwqEsBFwFmrFyGPbTTkiwAAAAcAZ7oakK/AAR3XcqOWF/qEVMQLKNJJNa5\n",
       "LFEtTAAAAFtBmupJqEFsmUwId//+qZYABZPj63y+VZAC1g8/UflqKc48ehjw+EP7nCzg9qi0cVb1\n",
       "gD9rmAFDJujotr82uO1SUSM7/rQ+knPFm7O84fZNVleWvrMkNkLXm1axAAAAekGbDUnhClJlMCHf\n",
       "/qmWACuqcMBHmb1IYGCrMuqVY5UVmuKG3FIWG1lQ4hMuTSOKUWyShE0gxE6/4EZ0vM/mLcf0gdgm\n",
       "bpKhZDO73b3OUJMS8hTMcCQYFaMsTGobiWqsDVktA0Xm3NFUMlMzQPo2CgtQYU6tpXphlv2oAAAA\n",
       "MkGfK0U0TC//ABplMho3wJ7jVzb23ALR79fP0EviESVJGYdTOV+3RVOX+cbkNVp0yttUAAAAHAGf\n",
       "TGpCvwAjuuv7CuWUcyeKv5fkAFUj42Gci9UAAABDQZtRSahBaJlMCHf//qmWAFb+QzNYC9dbDT4/\n",
       "6+MZvihpEWNY2cqZmeIczn6FMyPbeDpVUvenyZX/J8b+LFo0wxJfCQAAACtBn29FESwz/wBLbnvQ\n",
       "+JvEjZ8WRIoeEp29brxVbbOIeivzzPCe5sFuHLOrAAAAGwGfjnRCvwBHg/q2h9VGVzjWtKUDEJd9\n",
       "aDlG/AAAABcBn5BqQr8AitvF+EV6QoXKuefS/k4RSQAAAEtBm5NJqEFsmUwUTDf//qeEAKwIZcnN\n",
       "4R8gpAtfAEBXEzEkw7vBAJXHm3TAAKfBSk21Tud7vCYguDgOU+GhBSLlT61MhLKfdwD27zEAAAAa\n",
       "AZ+yakK/AIr1BG323gBJjm7eEGt4ZggMMWAAAAA2QZu1SeEKUmUwUsN//qeEAFj94Sx7/xjoDIh6\n",
       "ARI6eW1xFJu/nKor1ObSWFoGvT/nkQtwtzkgAAAAHwGf1GpCvwBHZD5uOSHDT6vX/Mp0hWhr1s80\n",
       "u9HqQ7sAAABRQZvXSeEOiZTBRMN//qeEACx+8JY9/40SS2HbehtRQSAcuGD4sqsQm+H4Lbl8KdK8\n",
       "HRqPyFv/mJ+ij2KlsSFaN3+DQ5J/poxJ+R/ewqVP2aYkAAAAHgGf9mpCvwAjshOS1RSFjn6zdE8t\n",
       "veyLLnEtA3VIgQAAAE1Bm/hJ4Q8mUwIb//6nhAALH7wFwLXanLvoUAxHGH41buv95TfCW1lqcoOC\n",
       "orYf8iKDrHy1qXzcr2AGNGPNFCsddO/X5eE0YZdk2pQ/kQAAAEhBmhlJ4Q8mUwIb//6nhAAKyFS/\n",
       "nfkA+eE8EEXKM3UxfjUeAM/3RjjV+a8vu86YAbJC6i8pO0C2ssdIjbCM3MKNDgXZPiLx/agAAABS\n",
       "QZo6SeEPJlMCG//+p4QABWvaK9QNSngWl6AReVwBbHiiAvdud4ec2Jk+xQgCQemcgjrgRfDkvlP2\n",
       "vaAQcm9yJWd/luZH/ePi8a8LOA8kk+URzQAAAFNBmltJ4Q8mUwId//6plgABZvgGvCjaQn4qDpRG\n",
       "0sD6AT2IqQNzQevaA8B5xgW3Q7Qit2P5DkXrpjdKGhwXvZF/78ftkvdZKoi2fbAb7Z3enl+pgAAA\n",
       "AExBmnxJ4Q8mUwId//6plgAAs3PPGCOwBgK1zYMcMNCGxATPNQt6l53Edh+gE+lMxQqwoXdcT2Fh\n",
       "YQZ/3k/U/8K+VdPj2Y7Zv7z9LcUJAAAAXEGagEnhDyZTAhv//qeEAAFa9or1A1Kd/+nNtEAQ8yCr\n",
       "vEv7EEOz4khbXCQEhdUv3uZyOBAvwxHUVGzaM73HMIS9pltV40TdsEYHU6dVV4R4IMPGGkasSyui\n",
       "qU6fAAAAK0GevkURPDP/AACWxU/ubx+Q4pACRZgntecgZotQrPvOq+YGWurWGCozdIYAAAAbAZ7d\n",
       "dEK/AAEVc2N7padfs249KZLaQ3Dp6BOAAAAAGwGe32pCvwAAjtsIvRk5KxIFgj1/qdKmrd6SwQAA\n",
       "ADlBmsFJqEFomUwId//+qZYAAFmP/idlB7/iZv+/fL2QBwuN3BXoJaG+KOCRjrCGC40taNUkK5s4\n",
       "dYAAAAA3QZrkSeEKUmUwId/+qZYAArfyKPw8nlaNnuIz8XSmkXkjH+abTA9rrQ0aKkzfHDg9YbXr\n",
       "oHnKTQAAACFBnwJFNEwv/wABplMho7ssD036IwFaklXa44WiHYWImoAAAAAcAZ8jakK/AAI7ruVH\n",
       "LC5wCKj0ExphgbkueoMokwAAAGtBmyVJqEFomUwId//+qZYABXBn7G1jybjvDgBPwZpPaajbJh68\n",
       "FewDt/oVvpB3AlntRaXkwtAt3W9H+sUXmF4bY5KGr7dxZ8+YTkSe9CAy/OvT6sY+D4qERehHx2nJ\n",
       "zfQaJ+4XXIMuC/MfyQAAAFBBm0hJ4QpSZTAh3/6plgAVxrJUruyAKdV3tHqlACZ1Ow0I4Pt+rxcy\n",
       "xVjmN/j0EhF5V3qZ9+TdOtW85HPM0YzLE/M+addhrpypj0MOsZliYQAAAChBn2ZFNEwv/wAZxTIf\n",
       "h1+EQNWOd5UZIFUvSw+QiuaJEEnVSQ+MCoNBAAAAIAGfh2pCvwAiuu5haixS5T2ifmoiM1mKhQcv\n",
       "/qNKInfgAAAASEGbiUmoQWiZTAh3//6plgArgz9vas3wxx/6Bi87tWCxp3C7+sPtM7aQXh9SuoX5\n",
       "hZ2Aqp/GmxwF+UgWj++8K4AFiOEqeS1DXQAAAEFBm61J4QpSZTAh3/6plgBW/kNv7AAV9zZbXMnF\n",
       "oa8k/rYazUHXzbONfiTgO8Wq23YgUkZQ6eVGzYXVgYUXre7tiwAAAC1Bn8tFNEwz/wBLN98Ev4bc\n",
       "C/Hr7Nk9BVSzB0CTKg20VL2QySNefD7YegDE8SwAAAAgAZ/qdEK/AEdiLpiqK2M/OOGxdirjqcJ0\n",
       "DgWU1Nu7BswAAAAbAZ/sakK/AIrbxfhFekKF84AA3R12RG2t4lGNAAAATEGb70moQWiZTBTw7/6p\n",
       "lgBXAmiuH67r/bcAiy60Snz382zXuzyiEa0fIVydTyaLAxWh+ylIwWbYKiIbhuxPZ6tTWRNoV3ZX\n",
       "eYg0CmkAAAAeAZ4OakK/AIr1BG323e0Zuu+gMiIYRZ50sOcRELvRAAAAN0GaEUnhClJlMFLDv/6p\n",
       "lgAs3wBmhFf+GlEj6LX58ftI3xBw671aCCaii3433WughPUccb7CY+AAAAAeAZ4wakK/AEdkMing\n",
       "mVYXdc9cWRcb5v8HZ0cqBBnzAAAAZUGaNEnhDomUwIb//qeEACx+8JY9/40SWvdJWlzEMYK49R4U\n",
       "nsCPgRt9oe+/Gsdgbb5WZdQTqVwcreVPfVEOAoverxUdCWxYgKZhYLbjeYPo9hMmmrbOvNo6jJJc\n",
       "L5dD2ZLl54SpAAAAJEGeUkUVPC//ABpgwIWg/mkxt5ftXo93mvM1wtg4ZeWPSiINqgAAABkBnnNq\n",
       "Qr8AEdkMjIOdIU1/ngVpZp9PcUONAAAAO0GadUmoQWiZTAh3//6plgAFd9xJlQ6fbwxhTkki1liW\n",
       "rByJmFMIiM3YHVqmecxyb2rMFdODdQvQKifDAAAARkGalknhClJlMCHf/qmWAALN7yOjk4bs5Ej3\n",
       "JGACf8bkkK36f3t02nahDGI6WBI+4xmul3j6aCvvLSLDIjUApSrDX4l4LK4AAABQQZq4SeEOiZTB\n",
       "TRMO//6plgABZvgGyOObfCZ7DXEOwZEE2LOABn8xGZMyZFcOaSrvW96i3zbQXxkvDPrfWnTvAq1c\n",
       "oNH0KiQuVZ9/mvpNRJ8AAAAaAZ7XakK/AAI7ITktUSeY1XslxPLb3siy6bkAAAAoQZrZSeEPJlMC\n",
       "Ff/+OEAAFI9YUnFfTAKyOA4oRv0vCUfevcbnFgR1gAAADD1liIIABH/+94gfMstp+TrXchHnrS6t\n",
       "H1DuRnFepL3+IAAAAwAWnJlD+2HHTlrDQABD6G/hKyD4APNf3mcOEPK+G9GGJDQjLYEnU15flEnW\n",
       "sLYDXKKN59kkE9jyvLvjy/0TSAKk1myiY/ikeEf0WdOb9VFTD6ESZzCAUi/V+uDO6pIrYb9KK3RH\n",
       "yPQvhAo28R2fe6aWpJQw1SviLhkntLEPqcjq0nV77/c+pUiSFXuppGJYlifoM/ZBv/ChDHrO7Xa1\n",
       "teyli2bpzTu+jGw2anzKInfcOnJgpUtIpBHFNsExyU7G4pj3p85/AH9SGNGFy7Ki9sMMlKSunF3w\n",
       "/JC6cAq6jvlVMxPGqfX4YpGq1C82zKUYAFmzHGd8L5x25JTt5DffWd+1ZOPctk+x40pLtMhusgGJ\n",
       "GbPC2RNlQGCwT+MNmzvbu8YzqCp0DLoInbhDg3550DjHmTrUSrdAUkscKVrF9fZMXmPHVvWL5BBV\n",
       "0HeffVJz2a085YYjJR1p5BZeP3hrFCqRkEpVuB/3RSuOg0LU48AVd32pTYCTV4XmtHyzDJREl4uZ\n",
       "M4KVTLtzdaAHanonIp+nT5WR4sp3Y7BSg3ytCLONffV/3Pz7bEYWo5RadY2bSDAM95YW/pbFPtpO\n",
       "dZt13yLoDCNF1THMEd5RjKpYUtggDcPBwjEC5kmb6X77nv1uu+Zkw8l60uG075p09cZ7p19FfJh8\n",
       "aqntQG0dKfnS4Dxx5KRj8Dd4N+d/EPOYa+hhUGNG9RV0m6Q0JMU0JTuU0ryD7YB0+A3pp//4xYBi\n",
       "oSHo0p1XUymnKrWKa7Q9peJdA1F23fWoVZtfLyiQ97eIvciOpGbBiC+W/kGJO1WGTDHp3zGQPKE5\n",
       "S0EDt6eiDwqiOKTnY+1X9LF9ApxKxnQB5mmMXHOhHcj9mFnqywuPQi8dtLEX19BHHNpUWrUE0/iC\n",
       "4//fKEPnU4Q7ZCjSGD8swDRgy7uVkXPTQojh1kRu979vbzYrc/l/it7iMG2WFfmz4etEi19+1di0\n",
       "Amf3XdzhCZR5ffL5hxDw85RGAU2h3mv/p4nu+MMD3AfjAb0JZ0Ngw6WR3C+oOzeMC1y9+Du2/e7T\n",
       "rha96WMf3h45xThQVYs4pH+1DYzFE15hzgBR0ZKULTB4kUQz8vxM1f4lP8pqB0NuvDklxuKMigKJ\n",
       "O623yxFU6LoFSWVTV9pSM/x3zjEYRKQSc1VUvCy9jZWqBQM5r+SvQ/Rwdt5P6sQWogHZ5idiE4bI\n",
       "gCc4YTpYJvlW/6/j40MszcXhyu/1FI5XoysJssXGiCZrhau1BiSYgF+u+i6iR++HHt2Jwwd5OhWb\n",
       "MXnOJkl8nOTm0Ab+qeQZeG+Rx+ZDTBzEuKgCA+oBausjT7FYflb8i3jU+F42fBsZChzcO79qHzt9\n",
       "NeylR0d8TovummHPCgK4NQbUyYtlc/eek5MjA+OtOlMNehNoG8k/eShbjYdQJn92pBULvlOYsnzH\n",
       "OKHizIhT7x3Qwuvb+n9LNcqBSJnpSkd8E8Oh/zMsLaTAY2gf7rqEfvAlIJqz1JidnHr2eLWh6wl5\n",
       "JzNOpAn0B5wVy1E3efKGcn53C6rYI4NFg33pgHNJ98MmIE0xmjyZMhEY87DAx8C0zyvdUFyykEyN\n",
       "iYqZW3xqS36YxWgNcjYFgGYVGA93xih5M9YDjeGBHPuma1lmg0XCwOPrV89aUy2LM+z17QfxmgpZ\n",
       "PYSmDU12XuU0X8C7AolKt61IcxJS2dNO0286KPf78n3R+bn9kVSI+1coLO50vVA80hAFIS7IMtNp\n",
       "IfDtMT9abfue1pE9qvPEu2WO0hnGzWoNG/wm2cvz0Lb+4yuVHEJ6BnVzcSOcHl6Od+x7Py8jDifK\n",
       "l+HY0c2eSY0MR6Y6vgE+IcZE642Qx32ydkS3/WYWe0boci97dwV+6cEtY1J7woS94ypU/tcpXi65\n",
       "cj6pz5QnFTl15//PcgB7SGm1fKwXln5JFYKC7NsfAqE6MMLAioKl5tnRLG/zgipcDQrm34fgpVW7\n",
       "OQ0p5w/VlppM+9P8A7X/khaO1I4lEVkiyABN7RSYvOual42BcO3nWaTxhXFfzuyUeDI9BYxDkaLe\n",
       "sfaMDXH7dqxir1coMPSxjyED19Q4mc9KeagC0pwH/2QVlwOhNULFcFtZkkQ60c3T9drry981JWpX\n",
       "DbglBh4JMU6rg1kssn//+m7b7X9h8hIOemNsRL2p6ME9Yh9cqSZl3zXOOEiOFLPeFfnTbbYwLM5W\n",
       "2xDLcSweSkIUY8ew3CcITz7uP67jHyRv2mHHWwEDvaFui0HRsICglACY+vw6aF/u41OckzK376U7\n",
       "d2Ncj+S/hks0nmKmSt0IDai2KiRmP4K8Q9Ibs5ic3YkJ/OXalifCGURvwb2Cg+NisxtLIfOJeLOx\n",
       "n202gbSj0Ecoe++K3gmHvi3v9muWsS/fWal1AQWI5OnccD/fuDniu2AM51q0GlYaD4RAYHUuq4oF\n",
       "QAQw8t95civVTZpFUqPKTAHDlbaTb5Ri3hqDwKhPaz4cu8StjVgIcIP8drVVVBI/j8HLXp46IsHT\n",
       "zXhbf7qAbdkwSMt+f5m1GETtz/yGWJbiKVcRfJteKlX03cCagwEmY2pMtoCUsxm0BjxNkpLXxNd8\n",
       "jODRwyViBA7JrBlIJppAgfDyJdyNhhFf55c+4z/JMKq3Jo0LZ99U8ZpPtw8WXm/LHbaXEzNoo+zR\n",
       "3YgB8MSHTSRwkf9A3WTgjsP5uXLob0XOlaWnzCknzT2FTvLE2Wl+rHk8BlLBq2e+krhyZaEap3Nc\n",
       "5T3KlD4DzkmhmSpXbXXyZ9EzzWncFMjW11T9TEmqQz7rz1MdeDr4642v+qnHcXi6htUEWS7voD8R\n",
       "mZCZNrY7XZx+wKLQH4oyPeprYiV3hXsN0ih3g93dX6dQsm4lRZPFEwr4WcOdIAge9YPcpLF33vEj\n",
       "5ee+Ud9cqUyadb6jrQ4eZxy9e+4ZoY+t8GZ4jTSKueOgZ3PzaffawMLHaQjwF6uLw+90pIFBdyD3\n",
       "XyWuVXFhF8zFiwxK13+b7bLEnOmp8q3ydeTRP0Q09B45/imMon56/XWrcSyxkIlUAw4/sxaBNzxw\n",
       "Yxv6Iykysdn4GbIgI4qA/69vIpVp5CTZfvIFBJ1WtRo1ZJ2QFUBHTqLVmVV6wY85HpNSpvt7JFtf\n",
       "TcM6Am2gpvaVEIHmjicJZ20+2HKejyAbW7OTiryAjR/eb6tpl/lps5Qej9aRX+C7BlWWyYpbQ6sp\n",
       "dsOv29/rcEwCnpFA+1TzQ8elGSW6d+C6WD93lO0FSGEY0lpp7AnT6M7xR8MU2RPxU40cMurgEsgO\n",
       "MPseibLb3hQybrP2GkmsolIVnrrzLATi977aNcF3w/jNDZkLIixYaqQFPRLySVSBV2LB+/hsNcjm\n",
       "mX96XqWoK1taLnLhCoN3zUUgrK6gd+25skLbDBzmLUXH4DWTlFVsVZzXcNrhLL0SoJbkpZHgvxFM\n",
       "878M5X3nnMnbfGHkKVT1GlvVlChIY3lmEsESe9vWE+gMNPwUscnzDNKfaLBHIgSOcyXIxLsUoEWb\n",
       "mYakaRaKWNEqsPuaDp5yUzH3MKd/CdQZA3sYo2r/BGVtvPliOYCCypXO9piU13JeHy0Gg1O2Zuvp\n",
       "oZRivho6SmxSzwi02O5YhJrzZii5sGRZArhXXqgNKuimO6h1/+4R3C4lDSsWIdMP1haFJMgxF6YR\n",
       "aB8/ALUX9RzJ6bsFHT/4pg0T1SkOV3O1o8TEGpHEvtPdNJPnD2OLRR6cL0gXmoaFhGf72YqCC+1v\n",
       "4FQYU8S9ZNadAs3OQvzJY9UpWRpIC6yxiLb2pP1T29emIi2QiGtEMKUP54tkIvFSQ1+H/ec+i0Xk\n",
       "S9LSmN8ckyfVcWtXoLoYehhbDB85hLcxiVW7Z+pI2jhTkE6HzuWnZ5XYlhZOqm//iFCrgiKNl3LU\n",
       "HKGqoLYYJeUka5Dku0i28779Vbujcib5v8C8w9FKupLEe3J8dD1pxmew+1ZYqQB/lLYCHdbgv/6J\n",
       "xZOO50FrgAinqpdmUaQ1xLC7Jj028ML3dRf9ewJTW8kFO3ig+ziPIBgp9qrdT+fRabIvz3wmgmHx\n",
       "QnhimtXKvqkpROOqCuUhqgPzl8MjldcL2s+09YUgSH4mTlnjjUxi8RVi9zuHDntOQ98POeDl7/EK\n",
       "TZ6b9S4WH2DSzjZLT0QHYDH9MycyuAAA3osAKcA/AHvBAAABVkGaImxDv/6plgAOOwLQD5+Gi/3K\n",
       "Eq3KbKVhZjCqN2yvyNMt4N1UzaKnTrnit+S+5PctPS33GmUpNSzdSHYiOQjiQ3E+eUjZGzUXCqfa\n",
       "WfBcSo/Lh2Z+/2ztPlJ9mjVFHKHV7EiLrWIGiaisA79Jnv7kXTi6W3cHb/XRzDI9sRjj+3m+3iEK\n",
       "CKtZ6EU3TNmHWvoeShgQH51uPnIdFjtykmGRq1WynA/khElmzWTnpS6yaHMSSyX7QZ8M4f7SfeJs\n",
       "NzFjkrGbtapy1g+CzHaxL3/K42Ns1v/5VpaHecUWlqXr41YpvSV9CLJ78Tr1YlK+EEApsek9etup\n",
       "8sJJV+gXZKDttm6wVw1Srt+Q8Tk5rrieprO2bkAKGnZfNeMpDN1fg6N3LST0Fc7ZmUahjCx3qrTE\n",
       "T5v+Qj3zjaSOEYmnRihJasx7hT0kx2w4Drpiu5uIPvFU/qNlRAAAADEBnkF5Cv8AF0ads2/W8sgb\n",
       "rt1nDGYhq3B4QpvCKEGwJWfwckmS/g24PEgf2C5JxCehAAAAT0GaRDwhkymEO//+qZYAALN/dIhs\n",
       "bDsGRI9rrvhXHgSUnns1QL6WJqglRJ5hGrdOx8aZRG6neQqseEgsVrlzWAgBdHSL4brkOUklBfrK\n",
       "q8MAAAAmAZ5jakK/AAEV13MLSZN1+hN6hjrbycAsW4gpl7pokHFLoJCPNNwAAAA5QZpnSeEPJlMC\n",
       "Hf/+qZYAAsnyLpXl9Gc3E0vhvccPUQ2aKP6fNyABqOiMyWQ+Rt+fOcwnplKbO+5/AAAALEGehUUR\n",
       "PC//AANMpkNHdm3yyjYvIwKzQR3LTEVKHXykMx2bdwSpQxpC/RuBAAAAIQGepmpCvwAEd13Kjmj+\n",
       "V1qQ+InLmk7hM1fb/WW4FMuRnQAAAG1BmqpJqEFomUwIb//+p4QAK15+oLZmF+KSp+6RVH0ATF+w\n",
       "CCvUgAA1gr6g/KanINw/9ewxzlm/5TdExd0FaT4oaNj2hHKiCli8AnNd0AZ3bRAb6bK0r7EGJN0g\n",
       "w4t4bE2DKDnj71eiUm4qzrKFAAAAK0GeyEURLC//AA0ymQ0b4E7FzKqHdUVFbd8IXnpizkQjg6kn\n",
       "w64sIztAzoAAAAAeAZ7pakK/ABHddf4Hk7T78QeAcuKunkaV1joETKgxAAAARkGa60moQWyZTAhv\n",
       "//6nhABWQQwYmpeJFT2b2EIpz4hRIBqhzwJrqWFwJ04dzlTg+GIlyee9WEbqdcXnxcBJXbF7yxEC\n",
       "EV0AAAA2QZsMSeEKUmUwId/+qZYAK38d6osg2D8dr5yP/QLR/a2br2QKNlQ+ZpkBwABYC3Lg5Ga8\n",
       "H0iRAAAAQkGbL0nhDomUwId//qmWAFb+P61gCqAI39VS5+Ehd+DLr1Xo73z7b8hzx32cfHEWzdgp\n",
       "B9zhlbHdFZY+7+NgGUlkwQAAAChBn01FETwv/wBnFMh+G+B0U7GjF0RCSS79XL6QWzpqfI49PHLo\n",
       "8jqgAAAAHAGfbmpCvwCK2wjgo2mlLeH9JVnpqb6rbnK0pi0AAABRQZtySahBaJlMCG///qeEAKwC\n",
       "Zn8Jn3a3q46jwuncNrdgOWWN5eaGPov5GaFmfxc/5VZo5OK6jMtczvZ10mLGK4tIooV/KbWVp/nH\n",
       "kj8ZpMWBAAAAI0GfkEURLC//AGcZhz77V1oSVA46Eakc92RYJWLsOcB3B3W9AAAAHwGfsWpCvwCK\n",
       "yE9WreQN2iUF6o698obfbBZa3QMgwIAAAABKQZuzSahBbJlMCG///qeEAFj94Sx7/xjn/+HoAwdi\n",
       "OeJe/dcGVmGHMg19qPeJuD4M7FYHCt5ddDPo6f3CQui/LzxTlopeqwRNEsEAAABOQZvUSeEKUmUw\n",
       "Ib/+p4QALH7wFwLg1tnXWkib83mOfabzB6XewaRD+KwNoLTmw/xObnugTnQxK5OAXRAXeWkiL+DH\n",
       "iBqLduGPG5vshXzhAAAAUEGb9UnhDomUwIb//qeEACo+0WXzu5Ze/legBAl7RMxBT0DHiqXyFq9L\n",
       "rPpJonLir1sWOnmVpOqxoTMfO/i/noNF2FyiTYNO6dZU5gwPZOv9AAAAOEGaFknhDyZTAhv//qeE\n",
       "ABWQqX5LBwop7/3F2Hi+yyyolK7wcMsRdbghHAI7SmKMK1NMqXmCr7pEAAAAQ0GaN0nhDyZTAhv/\n",
       "/qeEAArXtFfCeewxg6sAHCVr+N+BRAXvNIr4uFkPWsIqQa2NxNn0zn+NNXo419LOHQMaATGmqsAA\n",
       "AAAyQZpYSeEPJlMCHf/+qZYAAs3wDZHDl8KuCPfE+fApQ55SfUeH8OQCLpjbCG0QDbPz90EAAABW\n",
       "QZp6SeEPJlMFETw7//6plgABZvgGyOPOwFenhFqxwAK/d5hhG0T6iU77690vDaaH2VX9GxeFGmgs\n",
       "quB7phEW7Ca1g+i0A3rZuw+Rh5fx9fQ37ehTINwAAAAaAZ6ZakK/AAI7ITktUSeY1XslxPLb3siy\n",
       "6bgAAABIQZqbSeEPJlMCHf/+qZYAAK77iTQ0Q4J90xeJoRJVSmLIL0OmlTe84yaeyI8ycFwekC0I\n",
       "bhrpam5T5cW2AFMiHyOWv1SUOsrxAAAAU0GavknhDyZTAh3//qmWAABZPi4pwAX0+P/fbOZaQNgQ\n",
       "HR6EpQNMZhl4BzviJ/PJ+x+nNh0gxyCWnDd/ZEt9n9j13lMLkVTCVEkaK8ZbegsNGlPgAAAAGEGe\n",
       "3EURPC//AABpgv9djjFWkv/qERtQkQAAABsBnv1qQr8AAI7bxfg96AJkTfKuGmWj/nBuUsEAAABl\n",
       "QZrgSahBaJlMFPDv/qmWAACt/HmPYAEYz0i6uu7VQpw12mso03pD+F0oDK036KSL2gjqDf5P5tCH\n",
       "OnMx7qlubaJm0m91ldp5yP24+6I0t36Wp+2XW4m6TqkVnV9p/x0Fp54JrwsAAAAaAZ8fakK/AAEV\n",
       "13MLVdyQunLOsBG/CII4EZMAAABaQZsDSeEKUmUwId/+qZYAAsnyLpPYERGr8tGiSe4Q+pA9xHYr\n",
       "XGgIrOqN2KFmX5q5+nRrzwPdyq/ndqrj+o/Mxx/5zvpvt4o/2RU2hiCX/7OezZs8YHankH2mAAAA\n",
       "I0GfIUU0TC//AANMpkNHdm3yyjYvIwKzQTD3VEccVLvxV0AlAAAAHgGfQmpCvwAEd13Kjmj+V1qQ\n",
       "+InLmk7hM1fb/WWmtwAAADlBm0RJqEFomUwId//+qZYABXBn7TUhaUfgKRN4Rt+ACidXn4dwN61h\n",
       "Co9xwREmJdPc/wUs+c19j0wAAABjQZtnSeEKUmUwId/+qZYAFk+Rg/7ACaOTjANkB4/bxQ2QNWRb\n",
       "YbtPkT6JvDZ/HFNyYYgFwyhdTLkbWRLIyaQ2jO3ovTyIKztdLuRyGzN8uOXoCwnLLn7Dw1K1BNsW\n",
       "9H1ABHRQAAAAH0GfhUU0TC//ABplMho7ssEK/FMvaBYoiUQKYHBv6SEAAAAcAZ+makK/ACO67lRy\n",
       "wucAio9BMaYXrxH1S6zwWAAAADtBm6lJqEFomUwU8O/+qZYALJ8hHqLPuQzwU6GUNAFzAeMLDJLq\n",
       "YjenLd1ZyUy7dAKTiYJ23NOz9YT/0QAAABsBn8hqQr8AR3XX8q8rwquC2+gXJHWf46TK0+YAAABP\n",
       "QZvNSeEKUmUwIb/+p4QAq+qBCjEU6H9oRdo4NCCs1jsrw286+QzLhP4pj4IRAtK2oZQRPFuEUAs3\n",
       "5KlwkMpcHWgECVoRusaXJKoJGLYKhwAAACVBn+tFNEwz/wBLaS4RGh1xBkxemURLrt1ozHgh2Ogq\n",
       "0MDueErBAAAAGwGeCnRCvwCKxJBUnl3kQ2bH8sHyRQ7AV6x1QQAAABgBngxqQr8AivVjH1Fe1Em9\n",
       "GFnDRzrSEUkAAAAzQZoOSahBaJlMCG///qeEAFh9BRWMEyONGp9/cQ57t4FGV9twgbGkbHqqa5cu\n",
       "TaAMNJmAAAAAR0GaMEnhClJlMFESw3/+p4QAWP3hLHxC5kIyccKiiyis1uEUPNl3DJI4u8PAD7T4\n",
       "baGxST460+4f6XaHTj7E52FaQL/69k34AAAAGgGeT2pCvwBHZCclqib/G9Zl0K5N3t/5SAm5AAAA\n",
       "OkGaUUnhDomUwIb//qeEACte0V6galPAxB0BpJ+ScCSkwD0/AVdwf5XYPzhQb+tk+zNzktgSSwmi\n",
       "lvwAAAA8QZpySeEPJlMCG//+p4QAFa9or1A1KpBBiYzD/fRDne1rW0joPRxwBh6mt/fsTgBYYHF4\n",
       "8No34JXPWfEgAAAAS0Gak0nhDyZTAhv//qeEAAsfuKdQFYM6Aecvv++hQBPf1qlr/egdApObRNJC\n",
       "3XgktOROqfs1RuUND9SZpVDb8tgDmvvzvP8s2+yJwQAAAD5BmrRJ4Q8mUwId//6plgACzc88YJBu\n",
       "9+aAbGxOr4VdYPTI5P8hINzxMpQ9kq1vPTm8Xtqjw3GmljFSjmw/BwAAACxBmtZJ4Q8mUwURPDv/\n",
       "/qmWAAFm+AbI45t3BIyGdpo3mOjsqC+CuwwMnmjRmQAAABwBnvVqQr8AAjshOS1RJ7LWxnmchGBS\n",
       "66Elehh1AAAATEGa+EnhDyZTBTw7//6plgAAs3wKPmh9rZUEPHuT2Bh7C5nTIHLw1LY290tNAVSr\n",
       "hr4T6WLJwNqiSbC6zQUITa+2HPVp/OlGyZ5eW+AAAAAbAZ8XakK/AAEdkJyW0SLHWIH7YWuqw04A\n",
       "xZJhAAAAK0GbGknhDyZTBTw7//6plgAAWUZ+vH+WhNMRWuXHUNywScpMrKooZV5jaDAAAAAYAZ85\n",
       "akK/AACO28ZR5mWsOqG5LLWOZidsAAAALkGbPUnhDyZTAh3//qmWAACyfIVwi0EmeIidCe1RjqlP\n",
       "uXYTjeNPRPaxk+L9hmsAAAAvQZ9bRRE8L/8AANMpkNHdz0PIM78gcw4Z2f5/x7A+i0qlMg3lmykn\n",
       "wBT4LHNlJYAAAAAbAZ98akK/AAEd11/QJyy2Vdvbg1MAe+WRlNUvAAAAP0Gbf0moQWiZTBTw7/6p\n",
       "lgACzf3SIbGw7BkRCY1h6H46GXs9oYUbotS5RWhTiMWv14XFhkG7XcFpNX+q7TLYYQAAABsBn55q\n",
       "Qr8ABFddzC0meaZT2VUOCnv68FeMxSoAAABcQZuCSeEKUmUwId/+qZYACzIAWuAsvhupQA1UvmEh\n",
       "Y8f4SFs3+TR3js+kDjmqs0KFiqHDqwzcbxmUVRLjW0yCQDj8wCpLjnG6uBNjY/Navv6PO1bmCyZN\n",
       "iRsM1LEAAAAfQZ+gRTRML/8ADTKZDRvgTsXMoNSmJg8eA/upvmC+mAAAABwBn8FqQr8AEd13KjGl\n",
       "yeAD3/YTa/vGtO98nNgRAAAASUGbxUmoQWiZTAhv//6nhABYfRhy7Rczv1P9TnxWYaXMNaqG8SiH\n",
       "4b7lsG/af20QTx7SgXIjlx3elIUpSZmiluemZvgNqE3DisEAAAApQZ/jRREsL/8ANMpkNHd0D5B9\n",
       "1fjTjXXnhGwa4z882Tci1T1EYNNxb1gAAAAaAZ4EakK/AEd11/KzxAPn7rwA+B1TEmwWafMAAAA5\n",
       "QZoHSahBbJlMFEw3//6nhACr+hLht7wBQNJDE2k3n0xPbQ3evVqudISkhxhR5aIqPkxZ1RiCDkZh\n",
       "AAAAGgGeJmpCvwCK2wi9G3fHTFxrkIdgYxrfpY6oAAAASUGaKEnhClJlMCG//qeEAKv6xrAAa6X4\n",
       "lr5TVcvg+hzg7uqPeYEvbUtnhUzlBCEUWnXC/yjB6nzKGtITdx9kIOAcXOB0hu0PAZkAAAAzQZpK\n",
       "SeEOiZTBTRMN//6nhACsCGYsEhMB0m1t0XdmN1JzNiBoChTiDEUriYAVLWoctUasAAAAHwGeaWpC\n",
       "vwCKyE9WreQN2iTIjtkqEXSXpyutgOqcsu8AAAA4QZprSeEPJlMCG//+p4QAWP3gLgABv5C2Qm9T\n",
       "YAKZEJUg8fYgxcLxzmb7iDkKORhGNBYTvAsryJkAAABAQZqMSeEPJlMCG//+p4QALHzLsEQNfkpT\n",
       "0J3ARUF//sBN+C/fhspL7flkfTGOmg/pj+TjENRINzYSzhJfcSPRMQAAAENBmq1J4Q8mUwIb//6n\n",
       "hAArXtFeoGpTwLS+m7pWEXTuGvIEQHunmMkgO3dlLebM4iQFOsGRbNYbiOMUlTBthZDaOtWBAAAA\n",
       "P0GazknhDyZTAhv//qeEABY/eEse/8Y6AeR6AaA0//2/77Y/XjNOdKCJ05tOJXVNh81odv3S8v1C\n",
       "Kw+1FfnqwAAAADNBmu9J4Q8mUwId//6plgAFm+AL7AplOrhyxyLtvnn8RT/PB6GrSjbiU9RKESmL\n",
       "OGbCOIAAAAB4QZsRSeEPJlMFETw7//6plgACzfANkcc29l/T/YikXLYAE9dlTNkCYQSg1uqRIedR\n",
       "dyjASd1sa7cpAIcDcdFP9SwidlfNTOM20Fzn2GJ/3bTYd3glgdovzy/Yew9UwkwbjVQXcLGDiVmo\n",
       "tXIrY+x1zeZYw4rJjoJ5AAAAGgGfMGpCvwAEdkJyWqJv8b1mXQrk3e3/lIm4AAAAN0GbMknhDyZT\n",
       "Ah3//qmWAAFd9xJlQ6fbwvHjlIULD9NRc7/xKRZCrDj1+hqQFQ0AfFhuZCMaEnwAAAB4QZtUSeEP\n",
       "JlMFETw7//6plgAAs3wBfX5Op1cOWORbabiVQ8qFYQG3CMqdnbpH1G/kV4GzYn5u1G56uLmU+vIG\n",
       "Vf74isXS38s7ISIuMS4VdacaXZTP5LzKPZWAq+tCQjUiF4UlNc6nTTXHbcFC75g9oQz/ta2N4sWf\n",
       "AAAAGgGfc2pCvwABHZCcltEix1iB+2FrrdkC+aSZAAAATkGbeEnhDyZTAh3//qmWAACt/HW3YADR\n",
       "7sKF9O+98wXpA61Dr2vXWWYedNNvw/4iXkXHVEtMsExfrOW0nLak5xSCy1f4DjK5SDwCnwNS0QAA\n",
       "AClBn5ZFETwz/wAAltxAP470YN+dkqcNGor2qhCM5AcAawEabyH0WdPYgAAAABUBn7V0Qr8AAI65\n",
       "sUIySnJqpHtXoE4AAAAcAZ+3akK/AAEV13MLVdyQz21tYpemgV1EsunZIQAAAC9Bm7pJqEFomUwU\n",
       "8N/+p4QAAsPoqzm8dv8cATf453Bld6Ugj/Xj+0xTD/1V82TqMAAAABwBn9lqQr8AAjuu5UcsLa2I\n",
       "qKrWUaSSbA+4yqTAAAAAQkGb20nhClJlMCHf/qmWAAK38fW7AFUANJsDWxtIHvIQnT2zq6uq26Vk\n",
       "rsTuDXWgSc5SSde1IslNe68PjJ6zLdDQwQAAAFlBm/5J4Q6JlMCG//6nhAAWND8GCoYBcoPyRtPQ\n",
       "0N54WVlUrvho06ReWf5zt4ij5lE9jyqgd8hD6xdFaw6MgCX6oyMzTV58On1T+r+v+4rfHr6zXCpP\n",
       "haVaKAAAAB9BnhxFETwv/wANMpkNHdk+EhX7Ym5nbAjJQYAdugCTAAAAHgGePWpCvwAR3XcqOWF/\n",
       "qEVMPJuhDA3JOHYZ82s20QAAAE9Bmj9JqEFomUwId//+qZYAFk+Pb2wAjAlLEQmpA9/e+JZsMkr6\n",
       "GfAV1GbDFRFdNOnGbjNTgANacjr/8rEb78u7uc3/ugfr97pwdIApslWrAAAAKEGaQEnhClJlMCHf\n",
       "/qmWACt/HeqwF662ENX/XxjN/O0zNcl3ihjcZ6EAAABZQZpiSeEOiZTBTRMO//6plgBW+fGl7N9I\n",
       "yUi5F9qSjTvOOvC5npsSeJ7AU1KH8IepytYUr05RSADuP0dXzMNeT3fSx6ZfYCaMHWhoEgMui6j6\n",
       "3Q+nWpmOl/YAAAAaAZ6BakK/AEdtRiSGgGx7MecOHd6unqHwm4EAAAApQZqGSeEPJlMCHf/+qZYA\n",
       "VMJ10WYvQnDtDuXFGRVmjK3AhyFcG4Zr7s0AAAAhQZ6kRRE8M/8AS3CJDdb/uY8m/oou7GNpXRfw\n",
       "uUCjSJWAAAAAGQGew3RCvwCKxObnYoqXJYxr6vJFEY4w6YAAAAAbAZ7FakK/AIrIT1a+qVN0+cs9\n",
       "YYtN3xy+SGXBAAAATkGayUmoQWiZTAhv//6nhABY/eAuDy+e8FYZlgftAMtKTKjl+4AnjK2rQtWD\n",
       "GsN5WQt8JwfoFEyQYNbpLEzbB/0MnOf6o6cvN6TAvl3ksAAAACNBnudFESwv/wA0wX+v7b1TxfAW\n",
       "7Vi8jRdhYTFnGzpz+5YwEQAAACwBnwhqQr8AI7IfOKgkykgCEUMQZO/wgLkiMk8jyFM/9wIl/pJ5\n",
       "CGjIUxLdgAAAAD9BmwpJqEFsmUwIb//+p4QAFj94Sx8DZRsMHVsAjA+F+GhKDU2mBVLXnHWCZg50\n",
       "RcNeHEBkmielajD+cM2NNq0AAAA/QZsrSeEKUmUwIb/+p4QACx+8JY+Bso2GNeQgGNS5cO6X2hZF\n",
       "2ID7LJoIHV/H1roiJvnJ8KSYccrVb15NmNuhAAAAKUGbTEnhDomUwIb//qeEAAWP3hLHtf8R0MRs\n",
       "Lb/vD94kvD3wtggpcySBAAAANUGbbUnhDyZTAh3//qmWAAFm554wR7xG53VZRoiz8110RUBcwrN1\n",
       "KyUyNmOQ4h9Nto+l1yCNAAAAeUGbjknhDyZTAh3//qmWAAFd9xJoT1ELG3AcCNGjX62FVJFbm6B8\n",
       "njyNjhVHrmywM7IR5o2dCGmDtpZyvUvuB/ZGOa61uyGLx0czw2lMW3s5Ff4UUuWWRDushGQnFJ34\n",
       "usmF47D6zqs+7J+7nNxnm92vjWm2ah2wmmYAAABWQZuwSeEPJlMFETw7//6plgAAs3wDZHDl8KuC\n",
       "Pew3zoAWhbqVg0rrQKDdLVGXhj4FGZ02emi6QB5iclSDN7Bf1alT6PN9GpO508gAaeTles6YQXu+\n",
       "sC0AAAAZAZ/PakK/AAEdkJyWqGgwMYSrPUj0Miy83QAAAEBBm9RJ4Q8mUwId//6plgAArjWNnwot\n",
       "9Xh2CMoThV4AafdAfM3Qma7o4LIpG/bU4eqXHVxDPqLoAvbXtnRyWrOAAAAAIEGf8kURPDP/AACW\n",
       "3EA/jvRfk1K9LqPCxfmU8EnMNOJgAAAAFQGeEXRCvwAAjrmxQjJKcmqke1egTwAAAB4BnhNqQr8A\n",
       "ARXXcwtV3HaLVoq36hEsch1zIycbZOEAAABCQZoWSahBaJlMFPDv/qmWAAFb+QrhFoJQH4fm///r\n",
       "5h+3Rt2zwHP7wVwIslFpatwsq5e7HeWnarvNuFRFXuiGIHvxAAAAHAGeNWpCvwACK67mFpM4Gy3H\n",
       "yKDy/dFHmjvpY8AAAAA3QZo4SeEKUmUwUsO//qmWAAVLfRQ3jshHp7nMVclFGSIaurfadot/go3a\n",
       "7DHe10NQk8Rm6coPIAAAAB4BnldqQr8ABHddf4Icso5k8n7zBjGRMH1UIJG1OmEAAABIQZpaSeEO\n",
       "iZTBRMN//qeEABYfRfVmADijreHj/zZdDHZvwEvr0QFbODMyw/2iDuzqhdyCCaGA9i8SU8y53AR1\n",
       "T8DMzrqVGpHIAAAAHgGeeWpCvwAR3XcqOWF/qEVMPJuhDA3JiNZerVhQgAAAAClBmntJ4Q8mUwId\n",
       "//6plgAWT49wRZTsZnB0MIfajntz3Brfe/iFkpJNwQAAAFdBmp1J4Q8mUwURPDv//qmWACyfITz2\n",
       "AC+o4vMtvYdxYuRtWPIlLCCWJj0nJWNOGIbIcsRPetL4hOs35fzf412OvPWl6++9wtbcZuwVHICZ\n",
       "K7U3u+JdXSQAAAAeAZ68akK/AEd11/KzxAPn7rwA+B05/b23GWc+cNmBAAAAREGaoUnhDyZTAhv/\n",
       "/qeEAKz/IwiXz8jorymc6Ft6/vdBD8KWc62fQ9jg2oKVUC1VTyaUdnZEvWprXTZNAmOK+4uqowGB\n",
       "AAAAHkGe30URPDP/AEtpIURodcQKxemURLrt1cuQd08JWAAAACMBnv50Qr8AivgyO8WS7CErOx+i\n",
       "l6uxEkdXfiAAJxb/UuiImQAAABgBnuBqQr8AivVjH1Fe1Em9GFnDRzrSEUkAAABRQZriSahBaJlM\n",
       "CG///qeEAFiE7G2AHD0GTKbbudZq6RD/mV9td9gsdhCacaEzdWiLfGGeEspvpjYlUm6jhnV2ol+C\n",
       "kn+pSbYCUVeogdrzrPRBAAAAW0GbA0nhClJlMCG//qeEAFj94DzF7U++a1WAHerMQlcwEqkkImfH\n",
       "+HhEQCn3Mb+zdoUtmChUBLKsfhJs++ySRTkc80bNewTdzhLLS0m/cfGz6I2N3qby2g4ToMEAAABC\n",
       "QZskSeEOiZTAhv/+p4QAVH8cHrERe9h6XgB2ngKEKPW1bb2IbvmlqAklOMofqvHr7dS/fIzkv/G8\n",
       "xOrJFdOXgLggAAAATkGbRUnhDyZTAhv//qeEACshUtBiCiy9o7f0wBU2mS7BuJ1Vxj3DSSdErarx\n",
       "UMn5zNyrmoxyG3qYd2kz44AAwqYmtWlv/CcOlzAx/iYapgAAADNBm2ZJ4Q8mUwIb//6nhAAWP3FO\n",
       "oCsGeYIMD0AiQtLxc7zGSQs4pOGA7CWaeYPU8tFuimkAAAA8QZuHSeEPJlMCHf/+qZYABZvgC+wJ\n",
       "8cSm+0WsPSA9cci7eRLaJCKXouspbqRVO+ch+WAqpV6FbWeHnzyAAAAAV0GbqUnhDyZTBRE8O//+\n",
       "qZYAAs3wDZHHnU4N3VIG0tjvlFC7kFhwFEGSLEhD6O0aXhZHgEeNq9oadCT+Ke43pwCgl4wrNZGo\n",
       "0QaOS3ev/ZBqp0FzuwJ+wQAAAB0Bn8hqQr8ABHZCcj8W75FcxFc3g2RCcGlZ6yKIBAAAAGRBm8pJ\n",
       "4Q8mUwId//6plgABXfcSaE9RCxtwHAVw4nxlboye1hDl1H9FxsCtcLTqr1MKxq34qhcGZP/hlMng\n",
       "4/qQq+xZLKo2GOhBT1vzo8pGivebkOP/eYCxE3ewNAIBHOl5r2XNAAAAVEGb7EnhDyZTBRE8O//+\n",
       "qZYAALN8A2Rx52AewKaC3gOEwA4KLnV/i82qlM0lJfjGeLwCz30nOkqORANJe35lolQhUtpTz70L\n",
       "RMpzB8fEVSi27rfnvwAAABkBngtqQr8AAR2QnJaoaDAxhKs9SPQyLLzdAAAATkGaEEnhDyZTAh3/\n",
       "/qmWAACt76HPXoOqyuCnY9fhdBhvt/KioWuuZDH5Okf4gBpZfewA2x6lRqvqsMfvHFFjU9N6mUhg\n",
       "hblNdMic5ZqOcQAAACBBni5FETwz/wAATXB0vq7O13r/ot8DbizfSnHmtqMXwAAAABUBnk10Qr8A\n",
       "AI65sUIySnJqpHtXoE4AAAAZAZ5PakK/AACPBlPlioysERCq/3xqwB+k4QAAAD1BmlJJqEFomUwU\n",
       "8O/+qZYAAWb+6RBznZJ36o9imPoe7QYx5SZnufhX7gYgsGPLBzN2PirBeUcmU7kSwGzGAAAAMgGe\n",
       "cWpCvwACK67mFpM4Gy3HyKDy/dFHmjvSJsR6YgqfDvihOjeqVlmC1YNrVC5+mJsrAAAARkGadUnh\n",
       "ClJlMCHf/qmWAAre/4Sh485kan3Wb/KgVSz5Wo8o/gd6EaZpPt0d/72u4HnKU15EG3ATkES3O0ia\n",
       "aST+GQzzVdsAAAAfQZ6TRTRML/8ABplMho7s2+WWBBe5roJCJSs73DO93QAAABsBnrRqQr8ACO67\n",
       "lRywv9Qiph5N0IYG5LmF4EsAAAB0QZq5SahBaJlMCHf//qmWACyfIzYdgBGJDhNeiyWZJIAhhRFc\n",
       "bZ7X7I/ZMhNJZ08A0i9KKfxMHIhJxcBv5B7JlH5BNayBNWMLRAKFEW9duZrdVGZyOm8YMt8l31LQ\n",
       "XU3v7KUlh0rZsRXqH+DMpNbO8Y9arMAAAAAgQZ7XRREsM/8AJrcQDU5/NvQqOXwhgQdOUEylSbDW\n",
       "xYAAAAAbAZ72dEK/ACO+DGgFKgFBfSlrrDvGledoXa+ZAAAAHAGe+GpCvwBHddfys8QD5+68APgd\n",
       "UxJsHDAi13AAAAA5QZr9SahBbJlMCG///qeEAKvq9MKatZ3+asGn6u7/uLyAgxZzCzTQL2siJYoU\n",
       "fSn51/AneJxqznBAAAAAH0GfG0UVLDP/AEtpDmRodcP1BemURLrt1cuQdof4NmEAAAAYAZ86dEK/\n",
       "AIr4Mjua1OZsMxG5n8EYUoKSAAAAFQGfPGpCvwCK67mFqMFqJ01N4fsOmQAAAEFBmz9JqEFsmUwU\n",
       "TDf//qeEAFj5l2AwPP8AHKYC3Blfg1VhpdG7ZZ1NChSRWuqD7w/xgwOw2O0whf3NAeVtmwPTQQAA\n",
       "ABsBn15qQr8AR3pjEnl3ZvMumexnxpRbDNX8xQsAAABsQZtASeEKUmUwIb/+p4QAVjz7a0x3EH7i\n",
       "Y2LocWtlZdFNM1zo/wAP/epHXc4IqClSzARvanqoCdOBIxh1+78wJEkdgurqS2TqvLaPUxyZfBC3\n",
       "G2ZdP5TvpEgoGbrxqu45rh81iWHBvidLe7DBAAAASEGbYUnhDomUwIb//qeEACx+8JY+IXMhGTTQ\n",
       "SV4RUucIcnkMDea60RPesWisaVvrJq7LTENNuRVaj64sSWovIDbvxNwh5ft3oAAAAERBm4JJ4Q8m\n",
       "UwIb//6nhAAWP3hLHv/GOgHmZlcgCDriZiSaa3wkf3ZyZS59H3hm3g44k+Pqxaag1gkxFqCQjMX7\n",
       "BGBEgQAAAEFBm6NJ4Q8mUwIb//6nhAALH7wlKO1v19KcquYoL/+CrAUxOgHnL7/vByFjawSJ/A4x\n",
       "BW03al8b4AWCk26xOXejcQAAAGZBm8RJ4Q8mUwIb//6nhAAFj94C4FpegDUapSRgwZ9F0vfWBTqE\n",
       "9Xkql0Z97PfB46ZwvDlhxsPziH4+eKiP/NznwN+QUtDvJeelGxRA5dYBXZ7cy0d9O4WFOCKrUAQu\n",
       "X0tns/Qwz/IAAABGQZvlSeEPJlMCHf/+qZYAArvuJNCeo/xgAbjfwK0QwpQxFe+r00eprcmefz8Q\n",
       "XsWbYHuh8Wfv45cmACIpBVx6/ElTejERzAAAAF9BmgZJ4Q8mUwId//6plgABXfcSaGjftELG29oE\n",
       "w+BIhVlz00oC0t0+RpN/5jQzWVgTfS+7dAbiZBDJzXVhZWOvnmAUTOkVuXGv44CyfobJ9Sd8vlh9\n",
       "Vy3Bw2XTZLZMIQAAADZBmipJ4Q8mUwId//6plgAAs3vLfP/L4z8Eh9yfPpoKHK9TiYvep8ADS9BM\n",
       "TOAYDs+4BMTpEMAAAAAcQZ5IRRE8M/8AAJrFT6QT0wWN4r5u3e6wJnlBmQAAAB4Bnmd0Qr8AAR1z\n",
       "yoraPAg0Fw6vu3y0+K/kr7XDPJwAAAAVAZ5pakK/AACOyE5LSc0Sk7ZjA4nBAAAAPEGabkmoQWiZ\n",
       "TAh3//6plgABZueeMEiUn6KOXNIt/2xyqNYL4pMCd88f/7XdPX9xQVCrOwsP61pZYOo/EwAAACZB\n",
       "noxFESwz/wABLbiAfx1Q2W7TzusbHpiXUHW8JdihWKvopDbOfQAAABoBnqt0Qr8AAI8HnPm5LsVV\n",
       "F0BFkRt7lRS9sQAAAB0Bnq1qQr8AAiuu5har26KokBmaEjhXrPNaavjOoAAAADVBmq9JqEFsmUwI\n",
       "d//+qZYAAqW+ihvHZCPT3OYq5KKMce1zVlNs7/BRu12HFcldfn1bKE3gzwAAAGRBmtFJ4QpSZTBR\n",
       "UsO//qmWAAre/4QDG6mcyM+bDkoDZADqpzVYO3Dvt3iqbjulnxYx6NZSzQ/GvJqq8wACsxwgWlh9\n",
       "Qt9iY7l7Y+bGBOGScDQequoBSbi82vHkvbK+l5gpOBXvAAAAHAGe8GpCvwAI7ruVHLC/1CKmIFlG\n",
       "kkmwPuMpNMAAAABaQZr0SeEOiZTAh3/+qZYAK3voeOoXzhnW5jgaJdO5ANnpdEf/mArdJ1sdyUNr\n",
       "t13TQCUyJGcjA77BrWufY6/DMGkdHfAJQkuSyjQnC9iqmgaP+P+Jlf9SlibXAAAAJUGfEkUVPC//\n",
       "ABplMjpABy+yGF3MzLhC0vs0Pv3ADfEBofKh6sEAAAAiAZ8zakK/ACO66/sK5ZRzJ4q8WS/yVCgx\n",
       "iXWsDRcc+gDXqwAAAFRBmzhJqEFomUwIb//+p4QAq/oqMhwd4AVjlX8ozPnftoxVYXu0ZGtE/URd\n",
       "MalpjaxaWLPirCVW8KaVwVS7NyhBmwGELigOyY8345KLJ0PTWet6dMEAAAAdQZ9WRREsM/8AS24g\n",
       "H8cE14sH4SPhiVCvKUIY6YAAAAAaAZ91dEK/AEeD94n+0gDnJLJhIghLvqG0F3AAAAAeAZ93akK/\n",
       "AIrbxfhFekKFyrnnNeVi2GIQAtgicQz5AAAAUkGbekmoQWyZTBRMN//+p4QAq/oWnKn3FhH2KTPA\n",
       "AlRhPOl/5+YxG2lAlIJhUZdk00coec+WRgVqogL+TDJd0jWqImiDE3ilCkf50X8Y8D7qBYAAAAAd\n",
       "AZ+ZakK/AIrIT1a+pDP2oAWUG9vvTw6+seEgNWAAAAArQZubSeEKUmUwIb/+p4QAWPmWdXCfgAE+\n",
       "lz/+9fZVPHV8lqPFa2EddsoUjQAAAEZBm7xJ4Q6JlMCG//6nhABWvaK9QNSrMYqz0CVOfzSuaSHj\n",
       "Owr4sCH30c7/+mhRI7oL+8PZirBrCAF5L1kb05eNJl84YamYAAAAMkGb3UnhDyZTAh3//qmWABZv\n",
       "gC+vahTrr149kAKB3GgngqkBj2VkC8R1HaqvVQw4dPRDAAAAT0Gb4EnhDyZTAhv//qeEABY/eEse\n",
       "/8aJLXukrS+YMEGJTQAQoBQ4T5lIozYoaez9yxFBOa5KkkcLAra56mVxjQ80cpJRdhpsLzz0ielo\n",
       "2IkAAAAgQZ4eRRE8L/8ADTBf69UPpTprEfYv7OuysU4L5r86vfsAAAAeAZ4/akK/AAjshOR+Ld+5\n",
       "ue6u5YbIhODSq6sfs7RxAAAASEGaIUmoQWiZTAhv//6nhAAFa9or1A1KrmrorK2RcTGdEpHw6vo5\n",
       "LyQrTMAYp3sM9igggkRjEWgYUlRPOZX9gh079pjj+tDNNAAAAFZBmkJJ4QpSZTAhv/6nhAACsehm\n",
       "oqfcWEfYwlMAOHhzfhnz7jWcE8cU7VBcPRf5ZpeNbxBGqYbrxkFJCarouT+Tlsx9ElcLbq0v1Y4a\n",
       "uvKKmcPl6Cz55wAAAEFBmmNJ4Q6JlMCHf/6plgAAs3PPGIOKMFmQARTuR10e5ZKtoyETfpNc9sNO\n",
       "5ivYILGTmDla+gllfFpTPHI/Q4DUwQAAAEFBmoRJ4Q8mUwId//6plgAArvuHuiD7TPXrWML2nMwo\n",
       "uv+Qv/tbXVslAEgJx7J5R2TWQwoBZJiK1AOgmeO0dj7iBgAAAEZBmqhJ4Q8mUwId//6plgAArvo8\n",
       "FZ3QvxSOtjSs9pC1IdpM2gm1aaCu/VlU7Yx1rAUjSP4tmIIIlleDLEnrt3FCStwzR5SAAAAAHEGe\n",
       "xkURPDP/AABNcHs3aLN0h5EYNdzYoeHh2LEAAAAVAZ7ldEK/AACOubFCMkpyaqR7V6BOAAAAGAGe\n",
       "52pCvwAAjvT8Le0qzCj2WRWsjDJnMQAAAE1BmupJqEFomUwU8O/+qZYAAVv5CetgCqAGce4McUTN\n",
       "kwAQUJdz3zGKe2xgWDYKG9JrEq/ZXVy+aZCqpvaf5GjeWKwZ9LEJ/v/9ImeyFAAAAB0BnwlqQr8A\n",
       "Aiuu5har26KokBmaEjhcppHA3lVYdQAAAFBBmwtJ4QpSZTAh3/6plgABZPj3BLBXmpgAIROBnSic\n",
       "YK4W4MWtLm4wXwRKXTcQWPb/4HgB5a3GNDGke/xFUf5RFAjPSl4lDfKRVhQYx+UuYQAAAEpBmy5J\n",
       "4Q6JlMCHf/6plgALJ8jF12AGteoqe+pA96YP9nq/vNKpLA03UeFXzikBu2y27fikFfFoT+xEQP/s\n",
       "YxJzZsDAZahyiJJigQAAACNBn0xFETwv/wANMpkNHdm3yywIL3Ngs+IHyHRo0b59vUwgkQAAABwB\n",
       "n21qQr8AEd13Kjlhf6hFTECyjSSTYH3FEHmqAAAAYUGbcUmoQWiZTAh3//6plgAsnyLZ/l8f4APq\n",
       "c6MhznyoOCA1sN4TA1UK8at8JryI/rA+V7DP4PXP+/XEtJT+7BQeW+O2UKzRX7rTsb/tplfLVgGv\n",
       "eqk/ik5PsiIIzJcLcdAAAAArQZ+PRREsL/8ANMpkNGtrMV8SCltxxkS8JYp5YYnsHQHuR5yWD2QC\n",
       "M4TUgQAAABwBn7BqQr8AR3XcqOaP5XWpD4icS/ry+yzEBjAgAAAATEGbtUmoQWyZTAhv//6nhACx\n",
       "cy6/1kJSefpwQPf8d6BLE2R1Vt6jdjlZe6xOijnjBOdfBteQQ150pd76b9wZvAKwVuNZVN6FUwHf\n",
       "8cAAAAAfQZ/TRRUsM/8AS2lL6aDriFc1RlES67daNL7ILsVLuQAAAB0Bn/J0Qr8AivgyO4z8Qibm\n",
       "f7eFATlnRfgEhSsqYQAAABsBn/RqQr8AivVR3xxe06m9F+rAqCtYKjHWEbEAAABQQZv2SahBbJlM\n",
       "CG///qeEAKwIZixQGzSPj7dZDVmf3tLxAqvX+xhootLUluzAcXGpf1WiDieNYlliMwW3T4p8UNx2\n",
       "Cfd/WQI7FnnXTX8Y6YAAAAA8QZoXSeEKUmUwIb/+p4QAWPmXYC/bPDyjABURvGckuf/3r7Kogy3I\n",
       "RqEaXkfuRxZ6BrCM3c4Jfr9x+6vQAAAARkGaOEnhDomUwIb//qeEAFa9or1A1KeAc3oBq+LF/H6G\n",
       "aEQL5ukX/jCi3yvmMLHdSjboMbqKpK1kz+0DxMzCuMtdn0Hpk1cAAABCQZpZSeEPJlMCHf/+qZYA\n",
       "Fm+Aa8KeHpxpS7fE1BgTuOg92+7PdzDtMS6ZZN4qdjd0Vuer38dOegXmaAk723dWTA2SAAAAYkGa\n",
       "fEnhDyZTAhv//qeEABY/eEsfA2VWavz1wMgMgCUiOc042VpbRNWHGSCS8/c7+BiuWTcWQMIG+xfF\n",
       "Lh4qOLudkdqcxgTdUDTOaPG0MK91Qc4XoJEiI8R+keGc02+Q4TtgAAAAIEGemkURPC//AA0wX+vV\n",
       "D6U6axH2NDaJz1caFzwWr8UxAAAAGQGeu2pCvwAI7IZGQc6Qpr/PArSzT6e4oo0AAABKQZq9SahB\n",
       "aJlMCHf//qmWAAK77iTQnqIWOTj2CWJi7Ism5Rsh84Gdecyl1wfUGPZiuXTw2j9ZZUAIqnGXYFBS\n",
       "lc3lOc2UR18OIGUAAABKQZreSeEKUmUwIf/+qZYAAWbnnlh3Y08YBNe0egBhA3vogb8m18RLV0rS\n",
       "YYfdUHawgglHQLoECp9gStZuoeIv2jIU1SiIT0cW9ZkAAAApQZriSeEOiZTAh3/+qZYAALN8Cv7J\n",
       "JM37gkUYOMetvtJq6LogfEmKtOEAAAAfQZ8ARRE8M/8AAJrFT6QT1uWfo2Bu3e6wJobiBZoQzQAA\n",
       "ABsBnz90Qr8AAR1zcmgtZML6LaZ7SSl/DOY1tIQAAAAcAZ8hakK/AACO26N3ZIPzPbqq/Z398xCA\n",
       "KMmMvwAAAF5BmyVJqEFomUwId//+qZYAALJ8gT9hFL8N42x0mezlAOgd59GftFisjWG6vctUO/hk\n",
       "36DgoVivERQnwyk5pyV617Xz2OFkTwUbopOt/ubALbdPm+nYP//g56MElJzBAAAAJUGfQ0URLC//\n",
       "AADTKZDR3dDNYQHYSHZJ5MgkwFysRTPtGiL5vcAAAAAfAZ9kakK/AAEd13KjlhWX7pzyxF4F0X91\n",
       "wyGTLlQ0oAAAAFNBm2hJqEFsmUwId//+qZYAAsnyLw7YAL7bgAn70IAD+Gmz4tN8EQPomEcy5fa3\n",
       "rBvibJp03a9rm/4UVZkPtrGNDb9xdNOqW1jeFmvH/NdPrrNG1QAAACBBn4ZFFSwv/wADTKZDR3Zt\n",
       "8ssCBnjXQSD6mWIKvAEwuAAAABwBn6dqQr8ABHddyo5YX+oRUxAso0kk2B9xlNTBAAAASkGbq0mo\n",
       "QWyZTAh3//6plgAVv5GH5YC9dbDyinVtAMLCrEZyjmTjMtAY+rTZVe0QxJlYAqtLTBGf1GR6/dB2\n",
       "jHNmtxNAlVHFwPhAAAAAKUGfyUUVLC//ABnFMh+HX4RAzuRlc1seTKcPmM8locuDsr9CjGWWZTvN\n",
       "AAAAHgGf6mpCvwAiuu5haiPJl2bvrm5kWn2LCvRKnL0b1wAAAC9Bm+9JqEFsmUwId//+qZYAVv5F\n",
       "mlgL11sO0f/r4xm/naZmuS7zlSmBtb5nZtxngQAAACpBng1FFSwz/wBLbiAfxwYU+bo0zoxeDRR8\n",
       "qorWpxWO4gBXHlswQOJxGW0AAAAfAZ4sdEK/AEd8GNAKU3+CwXK0HUGttFgWWGTl6utPmAAAACAB\n",
       "ni5qQr8Aiuu5haTB+/P81DHZ7Ksgoo+GecquLWCkgAAAADVBmjJJqEFsmUwIb//+p4QArAJmfwmG\n",
       "AJgMbD4NMo4L3H2jjkS66m4qftkyEmmzaOn23swfEQAAACBBnlBFFSwv/wBnGas6SBHW6bx53sOi\n",
       "aWqRvlxutwA9IAAAABoBnnFqQr8AiwmorwcYOVaPFhxVwZeIOswbMAAAAC9BmnRJqEFsmUwUTDf/\n",
       "/qeEAFj94Sx7/xjoDIsvwCiN8oYKu/lBO+NPZ8snGdSegQAAAB0BnpNqQr8AR2Q+bjkhxMNvXbwl\n",
       "iVSUXfWYj6NZdwAAADNBmpZJ4QpSZTBSwz/+nhAArXu/VP8eEv1SOqL6XcCuEQnArNNJtb2rAhnh\n",
       "9J1ADpu9xV0AAAAeAZ61akK/ACOyE5LVFIWOfrN0Ty297IsucS0DdUiAAAAAKUGat0nhDomUwIZ/\n",
       "/p4QACte71QOZQrttG1poujB93jAy5zEfxVms/KwAAAAMkGa2EnhDyZTAhn//p4QACoAAhnBU691\n",
       "tTMnyj3xF1bmEgRMzEOsNUK7/jAZN3ow9A9/AAAAL0Ga+UnhDyZTAhX//jhAAFI9YUnFfST8yzgZ\n",
       "pVQAUlsZVEZuIrYasq2ih/E8pTCAAAAW4m1vb3YAAABsbXZoZAAAAAAAAAAAAAAAAAAAA+gAAGGo\n",
       "AAEAAAEAAAAAAAAAAAAAAAABAAAAAAAAAAAAAAAAAAAAAQAAAAAAAAAAAAAAAAAAQAAAAAAAAAAA\n",
       "AAAAAAAAAAAAAAAAAAAAAAAAAAAAAAIAABYMdHJhawAAAFx0a2hkAAAAAwAAAAAAAAAAAAAAAQAA\n",
       "AAAAAGGoAAAAAAAAAAAAAAAAAAAAAAABAAAAAAAAAAAAAAAAAAAAAQAAAAAAAAAAAAAAAAAAQAAA\n",
       "AAGwAAABIAAAAAAAJGVkdHMAAAAcZWxzdAAAAAAAAAABAABhqAAABAAAAQAAAAAVhG1kaWEAAAAg\n",
       "bWRoZAAAAAAAAAAAAAAAAAAAKAAAA+gAVcQAAAAAAC1oZGxyAAAAAAAAAAB2aWRlAAAAAAAAAAAA\n",
       "AAAAVmlkZW9IYW5kbGVyAAAAFS9taW5mAAAAFHZtaGQAAAABAAAAAAAAAAAAAAAkZGluZgAAABxk\n",
       "cmVmAAAAAAAAAAEAAAAMdXJsIAAAAAEAABTvc3RibAAAALNzdHNkAAAAAAAAAAEAAACjYXZjMQAA\n",
       "AAAAAAABAAAAAAAAAAAAAAAAAAAAAAGwASAASAAAAEgAAAAAAAAAAQAAAAAAAAAAAAAAAAAAAAAA\n",
       "AAAAAAAAAAAAAAAAAAAAABj//wAAADFhdmNDAWQAFf/hABhnZAAVrNlBsJaEAAADAAQAAAMAoDxY\n",
       "tlgBAAZo6+PLIsAAAAAcdXVpZGtoQPJfJE/FujmlG88DI/MAAAAAAAAAGHN0dHMAAAAAAAAAAQAA\n",
       "AfQAAAIAAAAAGHN0c3MAAAAAAAAAAgAAAAEAAAD7AAAL8GN0dHMAAAAAAAABfAAAAAIAAAQAAAAA\n",
       "AQAACAAAAAACAAACAAAAAAEAAAQAAAAAAQAACAAAAAACAAACAAAAAAEAAAYAAAAAAQAAAgAAAAAB\n",
       "AAAKAAAAAAEAAAQAAAAAAQAAAAAAAAABAAACAAAAAAcAAAQAAAAAAQAABgAAAAABAAACAAAAAAEA\n",
       "AAYAAAAAAQAAAgAAAAABAAAGAAAAAAEAAAIAAAAAAQAACAAAAAACAAACAAAAAAEAAAYAAAAAAQAA\n",
       "AgAAAAABAAAIAAAAAAIAAAIAAAAAAQAACAAAAAACAAACAAAAAAEAAAYAAAAAAQAAAgAAAAABAAAE\n",
       "AAAAAAEAAAYAAAAAAQAAAgAAAAAFAAAEAAAAAAEAAAgAAAAAAgAAAgAAAAABAAAGAAAAAAEAAAIA\n",
       "AAAAAQAACgAAAAABAAAEAAAAAAEAAAAAAAAAAQAAAgAAAAABAAAGAAAAAAEAAAIAAAAAAQAABAAA\n",
       "AAABAAAIAAAAAAIAAAIAAAAAAgAABAAAAAABAAAGAAAAAAEAAAIAAAAAAQAACgAAAAABAAAEAAAA\n",
       "AAEAAAAAAAAAAQAAAgAAAAABAAAIAAAAAAIAAAIAAAAABQAABAAAAAABAAAGAAAAAAEAAAIAAAAA\n",
       "AQAACAAAAAACAAACAAAAAAEAAAoAAAAAAQAABAAAAAABAAAAAAAAAAEAAAIAAAAAAQAABAAAAAAB\n",
       "AAAGAAAAAAEAAAIAAAAAAQAABAAAAAABAAAKAAAAAAEAAAQAAAAAAQAAAAAAAAABAAACAAAAAAEA\n",
       "AAgAAAAAAgAAAgAAAAAFAAAEAAAAAAEAAAYAAAAAAQAAAgAAAAABAAAEAAAAAAEAAAYAAAAAAQAA\n",
       "AgAAAAABAAAKAAAAAAEAAAQAAAAAAQAAAAAAAAABAAACAAAAAAEAAAYAAAAAAQAAAgAAAAABAAAI\n",
       "AAAAAAIAAAIAAAAAAQAACgAAAAABAAAEAAAAAAEAAAAAAAAAAQAAAgAAAAABAAAIAAAAAAIAAAIA\n",
       "AAAAAQAABgAAAAABAAACAAAAAAEAAAYAAAAAAQAAAgAAAAACAAAEAAAAAAEAAAYAAAAAAQAAAgAA\n",
       "AAACAAAEAAAAAAEAAAoAAAAAAQAABAAAAAABAAAAAAAAAAEAAAIAAAAAAQAABgAAAAABAAACAAAA\n",
       "AAEAAAYAAAAAAQAAAgAAAAABAAAEAAAAAAEAAAYAAAAAAQAAAgAAAAABAAAEAAAAAAEAAAoAAAAA\n",
       "AQAABAAAAAABAAAAAAAAAAEAAAIAAAAAAQAACAAAAAACAAACAAAAAAQAAAQAAAAAAQAACAAAAAAC\n",
       "AAACAAAAAAQAAAQAAAAAAQAACgAAAAABAAAEAAAAAAEAAAAAAAAAAQAAAgAAAAABAAAKAAAAAAEA\n",
       "AAQAAAAAAQAAAAAAAAABAAACAAAAAAEAAAYAAAAAAQAAAgAAAAABAAAIAAAAAAIAAAIAAAAAAQAA\n",
       "CgAAAAABAAAEAAAAAAEAAAAAAAAAAQAAAgAAAAAEAAAEAAAAAAEAAAYAAAAAAQAAAgAAAAABAAAG\n",
       "AAAAAAEAAAIAAAAAAQAABAAAAAABAAAKAAAAAAEAAAQAAAAAAQAAAAAAAAABAAACAAAAAAEAAAgA\n",
       "AAAAAgAAAgAAAAABAAAIAAAAAAIAAAIAAAAAAQAABAAAAAABAAAIAAAAAAIAAAIAAAAAAQAACgAA\n",
       "AAABAAAEAAAAAAEAAAAAAAAAAQAAAgAAAAABAAAGAAAAAAEAAAIAAAAAAQAABgAAAAABAAACAAAA\n",
       "AAEAAAYAAAAAAQAAAgAAAAAFAAAEAAAAAAEAAAoAAAAAAQAABAAAAAABAAAAAAAAAAEAAAIAAAAA\n",
       "AQAABAAAAAABAAAIAAAAAAIAAAIAAAAAAQAABAAAAAABAAAIAAAAAAIAAAIAAAAAAQAABAAAAAAB\n",
       "AAAKAAAAAAEAAAQAAAAAAQAAAAAAAAABAAACAAAAAAEAAAYAAAAAAQAAAgAAAAABAAAGAAAAAAEA\n",
       "AAIAAAAAAQAACAAAAAACAAACAAAAAAIAAAQAAAAAAQAABgAAAAABAAACAAAAAAIAAAQAAAAAAQAA\n",
       "BgAAAAABAAACAAAAAAEAAAYAAAAAAQAAAgAAAAABAAAIAAAAAAIAAAIAAAAAAQAACAAAAAACAAAC\n",
       "AAAAAAIAAAQAAAAAAQAACAAAAAACAAACAAAAAAEAAAgAAAAAAgAAAgAAAAAGAAAEAAAAAAEAAAYA\n",
       "AAAAAQAAAgAAAAABAAAEAAAAAAEAAAgAAAAAAgAAAgAAAAABAAAGAAAAAAEAAAIAAAAAAQAACAAA\n",
       "AAACAAACAAAAAAEAAAQAAAAAAQAACAAAAAACAAACAAAAAAEAAAYAAAAAAQAAAgAAAAABAAAKAAAA\n",
       "AAEAAAQAAAAAAQAAAAAAAAABAAACAAAAAAEAAAQAAAAAAQAABgAAAAABAAACAAAAAAQAAAQAAAAA\n",
       "AQAABgAAAAABAAACAAAAAAEAAAYAAAAAAQAAAgAAAAABAAAGAAAAAAEAAAIAAAAAAQAACAAAAAAC\n",
       "AAACAAAAAAEAAAYAAAAAAQAAAgAAAAABAAAIAAAAAAIAAAIAAAAAAQAACAAAAAACAAACAAAAAAEA\n",
       "AAYAAAAAAQAAAgAAAAABAAAEAAAAAAEAAAYAAAAAAQAAAgAAAAAFAAAEAAAAAAEAAAYAAAAAAQAA\n",
       "AgAAAAABAAAEAAAAAAEAAAYAAAAAAQAAAgAAAAABAAAKAAAAAAEAAAQAAAAAAQAAAAAAAAABAAAC\n",
       "AAAAAAEAAAYAAAAAAQAAAgAAAAABAAAEAAAAAAEAAAgAAAAAAgAAAgAAAAACAAAEAAAAAAEAAAYA\n",
       "AAAAAQAAAgAAAAABAAAKAAAAAAEAAAQAAAAAAQAAAAAAAAABAAACAAAAAAEAAAgAAAAAAgAAAgAA\n",
       "AAAFAAAEAAAAAAEAAAYAAAAAAQAAAgAAAAABAAAKAAAAAAEAAAQAAAAAAQAAAAAAAAABAAACAAAA\n",
       "AAEAAAYAAAAAAQAAAgAAAAABAAAGAAAAAAEAAAIAAAAAAQAABgAAAAABAAACAAAAAAEAAAQAAAAA\n",
       "AQAABgAAAAABAAACAAAAAAEAAAoAAAAAAQAABAAAAAABAAAAAAAAAAEAAAIAAAAABgAABAAAAAAB\n",
       "AAAGAAAAAAEAAAIAAAAAAQAABAAAAAABAAAGAAAAAAEAAAIAAAAAAQAACgAAAAABAAAEAAAAAAEA\n",
       "AAAAAAAAAQAAAgAAAAABAAAGAAAAAAEAAAIAAAAAAQAACAAAAAACAAACAAAAAAEAAAoAAAAAAQAA\n",
       "BAAAAAABAAAAAAAAAAEAAAIAAAAAAQAACgAAAAABAAAEAAAAAAEAAAAAAAAAAQAAAgAAAAABAAAG\n",
       "AAAAAAEAAAIAAAAABwAABAAAAAABAAAKAAAAAAEAAAQAAAAAAQAAAAAAAAABAAACAAAAAAEAAAoA\n",
       "AAAAAQAABAAAAAABAAAAAAAAAAEAAAIAAAAAAQAABAAAAAABAAAGAAAAAAEAAAIAAAAAAQAACAAA\n",
       "AAACAAACAAAAAAEAAAoAAAAAAQAABAAAAAABAAAAAAAAAAEAAAIAAAAAAQAABgAAAAABAAACAAAA\n",
       "AAMAAAQAAAAAAQAACAAAAAACAAACAAAAAAQAAAQAAAAAAQAACgAAAAABAAAEAAAAAAEAAAAAAAAA\n",
       "AQAAAgAAAAABAAAGAAAAAAEAAAIAAAAAAQAABAAAAAABAAAIAAAAAAIAAAIAAAAAAQAACAAAAAAC\n",
       "AAACAAAAAAEAAAoAAAAAAQAABAAAAAABAAAAAAAAAAEAAAIAAAAABAAABAAAAAABAAAIAAAAAAIA\n",
       "AAIAAAAAAgAABAAAAAABAAAKAAAAAAEAAAQAAAAAAQAAAAAAAAABAAACAAAAAAEAAAgAAAAAAgAA\n",
       "AgAAAAABAAAIAAAAAAIAAAIAAAAAAQAACAAAAAACAAACAAAAAAEAAAoAAAAAAQAABAAAAAABAAAA\n",
       "AAAAAAEAAAIAAAAAAQAACAAAAAACAAACAAAAAAEAAAYAAAAAAQAAAgAAAAABAAAGAAAAAAEAAAIA\n",
       "AAAAAwAABAAAAAAcc3RzYwAAAAAAAAABAAAAAQAAAfQAAAABAAAH5HN0c3oAAAAAAAAAAAAAAfQA\n",
       "AA1RAAABlgAAAJkAAAA2AAAAKwAAAFEAAAB2AAAALAAAAB8AAABCAAAAHwAAAFkAAAAqAAAAIAAA\n",
       "ABwAAABOAAAAPAAAADwAAAA7AAAAQAAAADgAAABhAAAARwAAAB4AAABKAAAAHwAAAFMAAAAfAAAA\n",
       "NAAAACUAAAAeAAAAUAAAACEAAABeAAAAJgAAACAAAABaAAAARQAAAB4AAAA9AAAAHQAAAD8AAAA5\n",
       "AAAAJAAAAEMAAAA2AAAASQAAAE0AAAA6AAAAfwAAACcAAAAmAAAAVwAAAB0AAABfAAAAKgAAABkA\n",
       "AAAgAAAATgAAACAAAABYAAAAbwAAACQAAAAiAAAAVQAAADcAAABiAAAAHgAAAC4AAAAjAAAAHgAA\n",
       "AB8AAABSAAAANQAAACgAAABCAAAAOAAAAEIAAAA5AAAAbwAAAEwAAAAeAAAAPQAAACIAAAAaAAAA\n",
       "TgAAACQAAAAdAAAAKwAAAGYAAABTAAAAKgAAAFIAAABCAAAANQAAAB0AAAAdAAAANwAAACAAAAAd\n",
       "AAAAVwAAADEAAAA2AAAAQAAAADsAAAA+AAAAIQAAAGwAAABPAAAAHQAAAFMAAAArAAAAGQAAABwA\n",
       "AABOAAAANgAAAEkAAAAkAAAAHwAAAJgAAAAzAAAAHwAAACAAAABVAAAAIQAAABgAAAA7AAAAHwAA\n",
       "ADkAAAAdAAAALwAAADYAAABmAAAAIgAAADcAAABbAAAAPAAAACMAAAAhAAAAGQAAAE0AAAAcAAAA\n",
       "OgAAAB8AAAA9AAAAXgAAACAAAABVAAAAYgAAADEAAAAeAAAAHwAAAEwAAAAeAAAAIwAAAEsAAAAx\n",
       "AAAAOQAAAEMAAABcAAAAIQAAAB8AAAA/AAAAQQAAAHYAAABUAAAAPgAAACEAAAAZAAAAHAAAADYA\n",
       "AAAlAAAAIAAAAB8AAABEAAAAKQAAAEoAAAAxAAAAIAAAAFIAAAAzAAAAIAAAAB0AAABbAAAARwAA\n",
       "AEoAAABlAAAATwAAAB4AAABXAAAAJgAAAEoAAAA2AAAAIAAAAB8AAAAgAAAAagAAACEAAAAhAAAA\n",
       "WQAAACwAAAAgAAAAXwAAAH4AAAA2AAAAIAAAAEcAAAAvAAAAHwAAABsAAABPAAAAHgAAADoAAAAj\n",
       "AAAAVQAAACIAAABRAAAATAAAAFYAAABXAAAAUAAAAGAAAAAvAAAAHwAAAB8AAAA9AAAAOwAAACUA\n",
       "AAAgAAAAbwAAAFQAAAAsAAAAJAAAAEwAAABFAAAAMQAAACQAAAAfAAAAUAAAACIAAAA7AAAAIgAA\n",
       "AGkAAAAoAAAAHQAAAD8AAABKAAAAVAAAAB4AAAAsAAAMQQAAAVoAAAA1AAAAUwAAACoAAAA9AAAA\n",
       "MAAAACUAAABxAAAALwAAACIAAABKAAAAOgAAAEYAAAAsAAAAIAAAAFUAAAAnAAAAIwAAAE4AAABS\n",
       "AAAAVAAAADwAAABHAAAANgAAAFoAAAAeAAAATAAAAFcAAAAcAAAAHwAAAGkAAAAeAAAAXgAAACcA\n",
       "AAAiAAAAPQAAAGcAAAAjAAAAIAAAAD8AAAAfAAAAUwAAACkAAAAfAAAAHAAAADcAAABLAAAAHgAA\n",
       "AD4AAABAAAAATwAAAEIAAAAwAAAAIAAAAFAAAAAfAAAALwAAABwAAAAyAAAAMwAAAB8AAABDAAAA\n",
       "HwAAAGAAAAAjAAAAIAAAAE0AAAAtAAAAHgAAAD0AAAAeAAAATQAAADcAAAAjAAAAPAAAAEQAAABH\n",
       "AAAAQwAAADcAAAB8AAAAHgAAADsAAAB8AAAAHgAAAFIAAAAtAAAAGQAAACAAAAAzAAAAIAAAAEYA\n",
       "AABdAAAAIwAAACIAAABTAAAALAAAAF0AAAAeAAAALQAAACUAAAAdAAAAHwAAAFIAAAAnAAAAMAAA\n",
       "AEMAAABDAAAALQAAADkAAAB9AAAAWgAAAB0AAABEAAAAJAAAABkAAAAiAAAARgAAACAAAAA7AAAA\n",
       "IgAAAEwAAAAiAAAALQAAAFsAAAAiAAAASAAAACIAAAAnAAAAHAAAAFUAAABfAAAARgAAAFIAAAA3\n",
       "AAAAQAAAAFsAAAAhAAAAaAAAAFgAAAAdAAAAUgAAACQAAAAZAAAAHQAAAEEAAAA2AAAASgAAACMA\n",
       "AAAfAAAAeAAAACQAAAAfAAAAIAAAAD0AAAAjAAAAHAAAABkAAABFAAAAHwAAAHAAAABMAAAASAAA\n",
       "AEUAAABqAAAASgAAAGMAAAA6AAAAIAAAACIAAAAZAAAAQAAAACoAAAAeAAAAIQAAADkAAABoAAAA\n",
       "IAAAAF4AAAApAAAAJgAAAFgAAAAhAAAAHgAAACIAAABWAAAAIQAAAC8AAABKAAAANgAAAFMAAAAk\n",
       "AAAAIgAAAEwAAABaAAAARQAAAEUAAABKAAAAIAAAABkAAAAcAAAAUQAAACEAAABUAAAATgAAACcA\n",
       "AAAgAAAAZQAAAC8AAAAgAAAAUAAAACMAAAAhAAAAHwAAAFQAAABAAAAASgAAAEYAAABmAAAAJAAA\n",
       "AB0AAABOAAAATgAAAC0AAAAjAAAAHwAAACAAAABiAAAAKQAAACMAAABXAAAAJAAAACAAAABOAAAA\n",
       "LQAAACIAAAAzAAAALgAAACMAAAAkAAAAOQAAACQAAAAeAAAAMwAAACEAAAA3AAAAIgAAAC0AAAA2\n",
       "AAAAMwAAABRzdGNvAAAAAAAAAAEAAAAsAAAAYnVkdGEAAABabWV0YQAAAAAAAAAhaGRscgAAAAAA\n",
       "AAAAbWRpcmFwcGwAAAAAAAAAAAAAAAAtaWxzdAAAACWpdG9vAAAAHWRhdGEAAAABAAAAAExhdmY1\n",
       "Ny41Ni4xMDE=\n",
       "\">\n",
       "  Your browser does not support the video tag.\n",
       "</video>"
      ],
      "text/plain": [
       "<matplotlib.animation.FuncAnimation at 0x7fe01130af28>"
      ]
     },
     "execution_count": 30,
     "metadata": {},
     "output_type": "execute_result"
    },
    {
     "data": {
      "image/png": "[encoded data removed]",
      "text/plain": [
       "<matplotlib.figure.Figure at 0x7fe0112bf470>"
      ]
     },
     "metadata": {},
     "output_type": "display_data"
    }
   ],
   "source": [
    "# 1. Create a figure window.\n",
    "fig = plt.figure()\n",
    "\n",
    "# 2. Create axes within the window\n",
    "ax = plt.axes(xlim=(-2, 2), ylim=(-3.5,3.5))\n",
    "\n",
    "# 3. Two objects to animate\n",
    "line,   = ax.plot([2,1], [4,3], marker=\"\" , ls=\"-\")  # a line\n",
    "point, = ax.plot([1], [1], marker='o', ms=40)        # a point\n",
    "\n",
    "# Spring data\n",
    "k = 100\n",
    "m = 20\n",
    "w = np.sqrt(k/m)\n",
    "phi = 2\n",
    "A = 2\n",
    "\n",
    "# Position of mass as function of time\n",
    "def fun(t):\n",
    "    return A*np.sin(w * t + phi)\n",
    "\n",
    "# 4. Animation function\n",
    "def animate(i):    \n",
    "    x = fun(i/10)     \n",
    "    line.set_data([0,0], [4, -x])    \n",
    "    point.set_data(0, -x)    \n",
    "    return line, point\n",
    "  \n",
    "# 5. Create animation; 500 frames, 50ms delay between frames, blit=True : only re-draw the parts that have changed.\n",
    "anim = animation.FuncAnimation(fig, animate, frames=500, interval=50, blit=True)\n",
    "\n",
    "# 6. Play animation\n",
    "anim\n",
    "\n",
    "# 7. Save animation\n",
    "# writer = animation.writers['ffmpeg'](fps=15, bitrate=1800)\n",
    "# anim.save('img/spring_movie.mp4', writer=writer)\n"
   ]
  },
  {
   "cell_type": "markdown",
   "metadata": {
    "collapsed": true,
    "slideshow": {
     "slide_type": "slide"
    }
   },
   "source": [
    "## Visualising 2D Arrays\n",
    "\n",
    "Two-dimensonal arrays can be visualized with the `plt.matshow` function.\n",
    "\n",
    "Each square cell represents one element of the array.\n",
    "\n",
    "A colour scale (`plot.colorbar`) is used to indicate the value of each cell.\n",
    "\n"
   ]
  },
  {
   "cell_type": "markdown",
   "metadata": {
    "slideshow": {
     "slide_type": "subslide"
    }
   },
   "source": [
    "Note that the first row of the matrix (with index 0), is plotted at the top, which corresponds to the location of the first row in the matrix."
   ]
  },
  {
   "cell_type": "code",
   "execution_count": 31,
   "metadata": {},
   "outputs": [
    {
     "data": {
      "text/plain": [
       "<matplotlib.colorbar.Colorbar at 0x7fe01185df28>"
      ]
     },
     "execution_count": 31,
     "metadata": {},
     "output_type": "execute_result"
    },
    {
     "data": {
      "image/png": "[encoded data removed]",
      "text/plain": [
       "<matplotlib.figure.Figure at 0x7fe01185dc88>"
      ]
     },
     "metadata": {},
     "output_type": "display_data"
    }
   ],
   "source": [
    "x = np.array([[8, 7, 6, 8],\n",
    "              [8, 7, 6, 3],\n",
    "              [6, 6, 5, 2],\n",
    "              [4, 3, 2, 1]])\n",
    "plt.matshow(x)\n",
    "\n",
    "plt.colorbar()"
   ]
  },
  {
   "cell_type": "markdown",
   "metadata": {
    "slideshow": {
     "slide_type": "subslide"
    }
   },
   "source": [
    "The default colour map is used (it is called `viridis`).\n",
    "\n",
    "The highest value in the array is mapped to yellow.\n",
    "<br>The lowest value is mapped to purple. \n",
    "<br>The number is between vary between blue and green. \n",
    "\n"
   ]
  },
  {
   "cell_type": "markdown",
   "metadata": {
    "slideshow": {
     "slide_type": "subslide"
    }
   },
   "source": [
    "There are many other colour maps available.\n",
    "\n",
    "Doumentation of availble colour maps can be found here: http://matplotlib.org/users/colormaps.html. \n",
    "\n"
   ]
  },
  {
   "cell_type": "markdown",
   "metadata": {
    "slideshow": {
     "slide_type": "subslide"
    }
   },
   "source": [
    "To change the color map, the `matplotlib.cm` package is used, which we imported and renamed at the strt of the notebook. \n",
    ">`import matplotlib.cm as cm`\n",
    "\n",
    "Specify the name of any of the available color maps with the `cmap` keyword. "
   ]
  },
  {
   "cell_type": "code",
   "execution_count": 32,
   "metadata": {
    "slideshow": {
     "slide_type": "subslide"
    }
   },
   "outputs": [
    {
     "data": {
      "image/png": "[encoded data removed]",
      "text/plain": [
       "<matplotlib.figure.Figure at 0x7fe011806128>"
      ]
     },
     "metadata": {},
     "output_type": "display_data"
    }
   ],
   "source": [
    "plt.matshow(x, cmap=cm.Wistia)\n",
    "plt.colorbar();"
   ]
  },
  {
   "cell_type": "markdown",
   "metadata": {
    "slideshow": {
     "slide_type": "subslide"
    }
   },
   "source": [
    "The keywords `vmin` and `vmax` can be used to explicitly set the maximum and minimum value for the colour scale. "
   ]
  },
  {
   "cell_type": "code",
   "execution_count": 33,
   "metadata": {},
   "outputs": [
    {
     "data": {
      "image/png": "[encoded data removed]",
      "text/plain": [
       "<matplotlib.figure.Figure at 0x7fe011070908>"
      ]
     },
     "metadata": {},
     "output_type": "display_data"
    }
   ],
   "source": [
    "plt.matshow(x, cmap=cm.bone, vmin=0, vmax=20)\n",
    "plt.colorbar();"
   ]
  },
  {
   "cell_type": "markdown",
   "metadata": {
    "slideshow": {
     "slide_type": "subslide"
    }
   },
   "source": [
    "The standard colormaps also all have reversed versions. They have the same names with `_r` tacked on to the end."
   ]
  },
  {
   "cell_type": "code",
   "execution_count": 34,
   "metadata": {},
   "outputs": [
    {
     "data": {
      "image/png": "[encoded data removed]",
      "text/plain": [
       "<matplotlib.figure.Figure at 0x7fe010f81240>"
      ]
     },
     "metadata": {},
     "output_type": "display_data"
    }
   ],
   "source": [
    "plt.matshow(x, cmap=cm.bone_r, vmin=0, vmax=20)\n",
    "plt.colorbar();"
   ]
  },
  {
   "cell_type": "markdown",
   "metadata": {
    "slideshow": {
     "slide_type": "subslide"
    }
   },
   "source": [
    "__Try it yourself__\n",
    "<br>Find a colour map you like using the link provided. Change the colours of the examples above to colours that you prefer."
   ]
  },
  {
   "cell_type": "markdown",
   "metadata": {},
   "source": [
    "If you have a specific range for the x and y axis of the plot, it can be more convenient to use plot types `pcolor` and `fcontour`.\n"
   ]
  },
  {
   "cell_type": "code",
   "execution_count": 42,
   "metadata": {},
   "outputs": [],
   "source": [
    "import numpy as np\n",
    "\n",
    "x = np.array([[8, 7, 6, 8],\n",
    "              [8, 7, 6, 3],\n",
    "              [6, 6, 5, 2],\n",
    "              [4, 3, 2, 1]])\n",
    "\n",
    "y = range(25, 29)\n",
    "z = range(31, 35)\n"
   ]
  },
  {
   "cell_type": "markdown",
   "metadata": {},
   "source": [
    "For example if you want to overlay the data wiht another type of plot."
   ]
  },
  {
   "cell_type": "code",
   "execution_count": 43,
   "metadata": {},
   "outputs": [
    {
     "data": {
      "image/png": "[encoded data removed]",
      "text/plain": [
       "<matplotlib.figure.Figure at 0x7fe010f9c438>"
      ]
     },
     "metadata": {},
     "output_type": "display_data"
    }
   ],
   "source": [
    "plt.pcolor(y, z, x, cmap=cm.Reds, vmin=3, vmax=7)\n",
    "plt.colorbar();"
   ]
  },
  {
   "cell_type": "code",
   "execution_count": 46,
   "metadata": {},
   "outputs": [
    {
     "data": {
      "image/png": "[encoded data removed]",
      "text/plain": [
       "<matplotlib.figure.Figure at 0x7fe010b64cf8>"
      ]
     },
     "metadata": {},
     "output_type": "display_data"
    }
   ],
   "source": [
    "plt.contourf(y, z, x, cmap=cm.Reds)\n",
    "plt.plot(25.5, 32, 'bo')\n",
    "plt.plot(27, 33, 'yo')\n",
    "plt.colorbar();"
   ]
  },
  {
   "cell_type": "markdown",
   "metadata": {
    "slideshow": {
     "slide_type": "slide"
    }
   },
   "source": [
    "## 3D Plotting\n",
    "An advantage of plotting compuationally is that we can easily produce more complex figures such as 3D plots.  \n",
    "\n",
    "This can be useful, for example, when visualiing the form of a function with two independent variables.\n",
    "\n"
   ]
  },
  {
   "cell_type": "markdown",
   "metadata": {
    "collapsed": true,
    "slideshow": {
     "slide_type": "subslide"
    }
   },
   "source": [
    "Many different styles of 3D plot are available.\n",
    "\n",
    "A number of examples can be found here: https://matplotlib.org/examples/mplot3d/index.html "
   ]
  },
  {
   "cell_type": "markdown",
   "metadata": {
    "slideshow": {
     "slide_type": "subslide"
    }
   },
   "source": [
    "Today, we will go through just one example. \n",
    "\n",
    "You can then explore further, using today's seminar as a basis."
   ]
  },
  {
   "cell_type": "markdown",
   "metadata": {
    "slideshow": {
     "slide_type": "subslide"
    }
   },
   "source": [
    "We will plot the function: \n",
    "$$\n",
    "f(x, y) = \\sin(x) \\cos\\left(\\frac{xy^2}{10}\\right)\n",
    "$$\n",
    "as a 3D surface."
   ]
  },
  {
   "cell_type": "markdown",
   "metadata": {
    "slideshow": {
     "slide_type": "subslide"
    }
   },
   "source": [
    "Plotting in 3D requires another package which was imported at the start of this notebook. \n",
    ">`from mpl_toolkits.mplot3d import axes3d`"
   ]
  },
  {
   "cell_type": "markdown",
   "metadata": {
    "slideshow": {
     "slide_type": "subslide"
    }
   },
   "source": [
    "First we create points in the $x$ and $y$ directions at which we want to evaluate the function: "
   ]
  },
  {
   "cell_type": "code",
   "execution_count": null,
   "metadata": {
    "collapsed": true
   },
   "outputs": [],
   "source": [
    "N = 50  # 50 points in each direction\n",
    "x = np.linspace(-np.pi, np.pi, N)\n",
    "y = np.linspace(-np.pi, np.pi, N)"
   ]
  },
  {
   "cell_type": "markdown",
   "metadata": {
    "slideshow": {
     "slide_type": "subslide"
    }
   },
   "source": [
    "Next, we use NumPy to create a 'grid' of $(x, y$) points: "
   ]
  },
  {
   "cell_type": "code",
   "execution_count": null,
   "metadata": {
    "collapsed": true
   },
   "outputs": [],
   "source": [
    "X, Y = np.meshgrid(x, y)"
   ]
  },
  {
   "cell_type": "markdown",
   "metadata": {
    "slideshow": {
     "slide_type": "subslide"
    }
   },
   "source": [
    "When printing you may want to round the value of each element.\n",
    "\n",
    "You can do this using the `np.around` function. \n",
    "\n",
    "Example:\n",
    "<br>`print(np.around(X,2), np.around(Y,2))`\n",
    "<br>rounds each value to 2 decimal places."
   ]
  },
  {
   "cell_type": "markdown",
   "metadata": {
    "slideshow": {
     "slide_type": "subslide"
    }
   },
   "source": [
    "__Try it yourself__\n",
    "<br>The easiest way to visualise how `meshgrid` work is to:\n",
    "- try making `N` smaller (fewer points along each axis) in the cell above.\n",
    "\n",
    "<br>\n",
    "In the cell below:\n",
    "- print `X` and `Y` using <br>`print(np.around(X,2))`<br>`print(np.around(Y,2))`<br><br>\n",
    "- print the shape of `X` and `Y` using<br>`print(X.shape)`<br>`print(Y.shape)`<br><br>\n",
    "- What happens if N is different for `X` than for `Y`?"
   ]
  },
  {
   "cell_type": "code",
   "execution_count": null,
   "metadata": {
    "collapsed": true
   },
   "outputs": [],
   "source": [
    "# How does meshgrid work?"
   ]
  },
  {
   "cell_type": "markdown",
   "metadata": {
    "slideshow": {
     "slide_type": "subslide"
    }
   },
   "source": [
    "Hopefully, you can see that by overlaying `X` and `Y` we can dscribe the x,y coordinates of every point on the 3D surface."
   ]
  },
  {
   "cell_type": "markdown",
   "metadata": {
    "slideshow": {
     "slide_type": "subslide"
    }
   },
   "source": [
    "Change the value of `N` to it's original value `N = 50`."
   ]
  },
  {
   "cell_type": "markdown",
   "metadata": {
    "slideshow": {
     "slide_type": "subslide"
    }
   },
   "source": [
    "We now evaluate the function $f$ at each point:"
   ]
  },
  {
   "cell_type": "code",
   "execution_count": null,
   "metadata": {
    "collapsed": true
   },
   "outputs": [],
   "source": [
    "f = np.sin(X)*np.cos((X*Y**2)/10)"
   ]
  },
  {
   "cell_type": "markdown",
   "metadata": {
    "slideshow": {
     "slide_type": "subslide"
    }
   },
   "source": [
    "The 3D figure is plotted using:"
   ]
  },
  {
   "cell_type": "code",
   "execution_count": null,
   "metadata": {},
   "outputs": [],
   "source": [
    "# Create a figure\n",
    "fig = plt.figure()\n",
    "\n",
    "# Specify 3D axes\n",
    "ax = plt.axes(projection='3d')\n",
    "\n",
    "# Plot the function as a surface\n",
    "surf = ax.plot_surface(X, Y, f ,cmap=cm.Reds)\n",
    "\n",
    "# Label the axes\n",
    "ax.set_xlabel('X', fontsize=20)\n",
    "ax.set_ylabel('Y', fontsize=20)\n",
    "ax.set_zlabel('Z', fontsize=20)"
   ]
  },
  {
   "cell_type": "markdown",
   "metadata": {
    "collapsed": true,
    "slideshow": {
     "slide_type": "slide"
    }
   },
   "source": [
    "## Review Exercises\n",
    "Below are some exercises for you to practise producing plots and figures.\n",
    "<br>Some of the examples require you to generate data using methods we have studied in previous seminars.\n",
    "\n"
   ]
  },
  {
   "cell_type": "markdown",
   "metadata": {
    "collapsed": true
   },
   "source": [
    "### Review Exercise: Simple Plot\n",
    "In the cell below, write a program to:\n",
    "- Plot $y=x^{3}-x^{2}-4x+4$ for $x = -3$ to $x= 3$.\n",
    "- Use a red, dashed line.\n",
    "- On the same figure, plot a black square at every point where $y$ equals zero. \n",
    "- Set the size of the markers to 10.\n",
    "- Label the axes as 'x-axis' and 'y-axis'. \n",
    "- Add a title of your choice.  \n",
    "\n",
    "*Hint: You may have to search online for the function argunents needed for some of these manipulations.* "
   ]
  },
  {
   "cell_type": "code",
   "execution_count": 31,
   "metadata": {},
   "outputs": [
    {
     "ename": "TypeError",
     "evalue": "'int' object is not callable",
     "output_type": "error",
     "traceback": [
      "\u001b[1;31m---------------------------------------------------------------------------\u001b[0m",
      "\u001b[1;31mTypeError\u001b[0m                                 Traceback (most recent call last)",
      "\u001b[1;32m<ipython-input-31-5d37fb4d5ef6>\u001b[0m in \u001b[0;36m<module>\u001b[1;34m()\u001b[0m\n\u001b[1;32m----> 1\u001b[1;33m \u001b[0mf\u001b[0m\u001b[1;33m=\u001b[0m\u001b[1;33m(\u001b[0m\u001b[0mx\u001b[0m\u001b[1;33m**\u001b[0m\u001b[1;36m3\u001b[0m\u001b[1;33m)\u001b[0m\u001b[1;33m-\u001b[0m\u001b[1;33m(\u001b[0m\u001b[0mx\u001b[0m\u001b[1;33m**\u001b[0m\u001b[1;36m2\u001b[0m\u001b[1;33m)\u001b[0m\u001b[1;33m-\u001b[0m\u001b[1;36m4\u001b[0m\u001b[1;33m(\u001b[0m\u001b[0mx\u001b[0m\u001b[1;33m)\u001b[0m\u001b[1;33m+\u001b[0m\u001b[1;36m4\u001b[0m\u001b[1;33m\u001b[0m\u001b[0m\n\u001b[0m\u001b[0;32m      2\u001b[0m \u001b[0mh\u001b[0m\u001b[1;33m=\u001b[0m\u001b[0mnp\u001b[0m\u001b[1;33m.\u001b[0m\u001b[0mlinspace\u001b[0m\u001b[1;33m(\u001b[0m\u001b[1;33m-\u001b[0m\u001b[1;36m3\u001b[0m\u001b[1;33m,\u001b[0m\u001b[1;36m3\u001b[0m\u001b[1;33m)\u001b[0m\u001b[1;33m\u001b[0m\u001b[0m\n\u001b[0;32m      3\u001b[0m \u001b[0mplt\u001b[0m\u001b[1;33m.\u001b[0m\u001b[0mplot\u001b[0m\u001b[1;33m(\u001b[0m\u001b[0mf\u001b[0m\u001b[1;33m,\u001b[0m\u001b[0mh\u001b[0m\u001b[1;33m)\u001b[0m\u001b[1;33m\u001b[0m\u001b[0m\n\u001b[0;32m      4\u001b[0m \u001b[1;31m# Simple Plot\u001b[0m\u001b[1;33m\u001b[0m\u001b[1;33m\u001b[0m\u001b[0m\n",
      "\u001b[1;31mTypeError\u001b[0m: 'int' object is not callable"
     ]
    }
   ],
   "source": [
    "f=(x**3)-(x**2)-4(x)+4\n",
    "h=np.linspace(-3,3)\n",
    "plt.plot(f,h)\n",
    "# Simple Plot"
   ]
  },
  {
   "cell_type": "code",
   "execution_count": null,
   "metadata": {
    "collapsed": true
   },
   "outputs": [],
   "source": [
    "# Example Solution\n",
    "x = np.linspace(-5, 5, 100)\n",
    "y = x**3 - x**2 - 4*x + 4\n",
    "\n",
    "plt.plot(x, y, 'r--')\n",
    "\n",
    "r = np.roots([1, -1, -4, 4])\n",
    "z = np.zeros(len(r))\n",
    "             \n",
    "plt.plot(r, z, 'ks', markersize=10)\n",
    "plt.xlim(x[0], x[-1]);\n",
    "\n",
    "plt.xlabel('x-axis')\n",
    "plt.ylabel('y-axis')\n",
    "\n",
    "plt.title('First Graph');"
   ]
  },
  {
   "cell_type": "markdown",
   "metadata": {
    "collapsed": true
   },
   "source": [
    "### Review Exercise: Plotting with Conditionals\n",
    "Create an array, `x` with 100 values from 0 to 20, inclusive. \n",
    "\n",
    "Compute $y=\\sin(x)$.\n",
    "\n",
    "Plot $y$ vs. $x$ with a blue line. \n",
    "\n",
    "Replace all values of $y$ that are larger than 0.5 with 0.5.\n",
    "\n",
    "Replace all values of $y$ that are smaller than $-$0.75 with $-0.75$.\n",
    "\n",
    "Plot $x$ vs. $y$ using a red line on the same graph. "
   ]
  },
  {
   "cell_type": "code",
   "execution_count": 50,
   "metadata": {},
   "outputs": [
    {
     "ename": "SyntaxError",
     "evalue": "can't assign to comparison (<ipython-input-50-6b6274480fb9>, line 5)",
     "output_type": "error",
     "traceback": [
      "\u001b[1;36m  File \u001b[1;32m\"<ipython-input-50-6b6274480fb9>\"\u001b[1;36m, line \u001b[1;32m5\u001b[0m\n\u001b[1;33m    y>0.5=0.5\u001b[0m\n\u001b[1;37m             ^\u001b[0m\n\u001b[1;31mSyntaxError\u001b[0m\u001b[1;31m:\u001b[0m can't assign to comparison\n"
     ]
    }
   ],
   "source": [
    "# Plotting with conditionals\n",
    "x = np.array([0,20,100])\n",
    "y=np.sin(x)\n",
    "plt.plot(x,y,)\n",
    "y>0.5=0.5\n",
    "y<-0.75=-0.75\n",
    "plt.plot(x,y,)\n"
   ]
  },
  {
   "cell_type": "code",
   "execution_count": null,
   "metadata": {
    "collapsed": true
   },
   "outputs": [],
   "source": [
    "# Example Solution\n",
    "x = np.linspace(0, 20, 100)\n",
    "y = np.sin(x)\n",
    "plt.plot(x, y, 'b')\n",
    "y[y > 0.5] = 0.5\n",
    "y[y < -0.75] = -0.75\n",
    "plt.plot(x, y, 'r');\n",
    "plt.xlim(x[0], x[-1])"
   ]
  },
  {
   "cell_type": "markdown",
   "metadata": {},
   "source": [
    "### Review Exercise: Bar Chart\n",
    "\n",
    "Write a Python programming to display a bar chart of the popularity of programming Languages.\n",
    "\n",
    "Set the bar colour green.\n",
    "\n",
    "Sample data: \n",
    "<br>Programming languages: Java, Python, PHP, JavaScript, C#, C++\n",
    "<br>Popularity: 22.2, 17.6, 8.8, 8, 7.7, 6.7\n",
    "\n",
    "Label the x and y axes and add a title."
   ]
  },
  {
   "cell_type": "code",
   "execution_count": 46,
   "metadata": {},
   "outputs": [
    {
     "data": {
      "text/plain": [
       "<matplotlib.text.Text at 0xe154d0>"
      ]
     },
     "execution_count": 46,
     "metadata": {},
     "output_type": "execute_result"
    },
    {
     "data": {
      "image/png": "[encoded data removed]",
      "text/plain": [
       "<matplotlib.figure.Figure at 0xf11870>"
      ]
     },
     "metadata": {},
     "output_type": "display_data"
    }
   ],
   "source": [
    "# Bar Chart\n",
    "\n",
    "    \n",
    "Proglang=('Java','Python', 'PHP', 'JavaScript', 'C', 'CPlus')\n",
    "x_pos=np.arange(len(Proglang))\n",
    "Popularity=(22.2, 17.6, 8.8, 8.0, 7.7, 6.7)\n",
    "plt.bar(x_pos,Popularity)\n",
    "plt.xticks(x_pos, Proglang, rotation=30)\n",
    "plt.xlabel('Programming Language')\n",
    "plt.ylabel('Popularity')\n",
    "plt.title('Sup')"
   ]
  },
  {
   "cell_type": "code",
   "execution_count": null,
   "metadata": {
    "collapsed": true
   },
   "outputs": [],
   "source": [
    "# Example Solution\n",
    "languages = ['Java', 'Python', 'PHP', 'JavaScript', 'C#', 'C++']\n",
    "popularity = [22.2, 17.6, 8.8, 8, 7.7, 6.7]\n",
    "\n",
    "# Create an array with the position of each bar along the x-axis\n",
    "x_pos = np.arange(len(languages))\n",
    "\n",
    "# Produce bar plot\n",
    "plt.bar(x_pos, popularity, color='green')\n",
    "\n",
    "# Replace the x ticks with the year language name\n",
    "plt.xticks(x_pos, languages)\n",
    "\n",
    "# Title and axes labels\n",
    "plt.xlabel(\"Languages\")\n",
    "plt.ylabel(\"Popularity\")\n",
    "plt.title(\"Popularity of\\n Programming Languages\" );"
   ]
  },
  {
   "cell_type": "markdown",
   "metadata": {},
   "source": [
    "### Review Exercise: Plotting Functions Interactively\n",
    "\n",
    "Consider the function we used earlier:\n",
    "\n",
    "$x(t) = A cos(\\omega t - \\phi)$\n",
    "\n",
    "The position of a mass $x$ (relative to it's start position), attached to a spring, as a function of time, depends on the angular frequency $\\omega$ and the phase $ \\phi$ of the system. \n",
    "\n",
    "1. Plot the function from from $t = 0$ to $t = 10$, when $A$ = 5 and $\\omega = \\phi = 2$. Label the axes.\n",
    "1. Create an interactive plot with sliders for $\\omega$ and $\\phi$, varying from 0 to 4.\n",
    "1. Label the axes\n",
    "1. Observe the change in the position of $x$ as a function of time $t$ as you change $\\omega$ and $\\phi$ \n",
    "\n"
   ]
  },
  {
   "cell_type": "code",
   "execution_count": 58,
   "metadata": {},
   "outputs": [
    {
     "ename": "SyntaxError",
     "evalue": "can't assign to function call (<ipython-input-58-9a8291ec6294>, line 2)",
     "output_type": "error",
     "traceback": [
      "\u001b[1;36m  File \u001b[1;32m\"<ipython-input-58-9a8291ec6294>\"\u001b[1;36m, line \u001b[1;32m2\u001b[0m\n\u001b[1;33m    x(t)=Acos(ω(t))\u001b[0m\n\u001b[1;37m                   ^\u001b[0m\n\u001b[1;31mSyntaxError\u001b[0m\u001b[1;31m:\u001b[0m can't assign to function call\n"
     ]
    }
   ],
   "source": [
    "# Interactive Plot\n",
    "x(t)=Acos(ω(t)−ϕ)\n",
    "A=5\n",
    "ω=ϕ=2\n",
    "y=np.arange([0,10,1])\n",
    "plt.plot(x(t), y)"
   ]
  },
  {
   "cell_type": "code",
   "execution_count": null,
   "metadata": {
    "collapsed": true
   },
   "outputs": [],
   "source": [
    "# Example Solution\n",
    "A = 5\n",
    "\n",
    "def plot(ω=2, ϕ=2):\n",
    "\n",
    "    t = np.linspace(0, 10, 200)\n",
    "    plt.xlabel('$t$')\n",
    "    plt.ylabel('$x$')\n",
    "    \n",
    "\n",
    "    x = A * np.cos(ω * t - ϕ)\n",
    "    \n",
    "    plt.plot(t, x)\n",
    "    \n",
    "    plt.xlim(t[0], t[-1]);\n",
    "\n",
    "    \n",
    "interact(plot, a=(0, 4, 0.25), b=(0, 4, 0.25));"
   ]
  },
  {
   "cell_type": "markdown",
   "metadata": {},
   "source": [
    "### Review Exercise: Plotting Functions Interactively\n",
    "\n",
    "Consider the function \n",
    "$$\n",
    "f(x) = e^{x/10} \\sin(ax)\\cos(bx)\n",
    "$$\n",
    "from $x = -4\\pi$ to $x = 4\\pi$.  \n",
    "\n",
    "1. Plot the function when $a = b = 1$. Label the axes.\n",
    "1. Create an interactive plot with sliders for $a$ and $b$, varying from 0 to 2."
   ]
  },
  {
   "cell_type": "code",
   "execution_count": 61,
   "metadata": {},
   "outputs": [
    {
     "ename": "SyntaxError",
     "evalue": "can't assign to function call (<ipython-input-61-58a913dd87b7>, line 2)",
     "output_type": "error",
     "traceback": [
      "\u001b[1;36m  File \u001b[1;32m\"<ipython-input-61-58a913dd87b7>\"\u001b[1;36m, line \u001b[1;32m2\u001b[0m\n\u001b[1;33m    f(x)=(e**x/10)*np.sin(ax)*np.cos(bx)\u001b[0m\n\u001b[1;37m                                        ^\u001b[0m\n\u001b[1;31mSyntaxError\u001b[0m\u001b[1;31m:\u001b[0m can't assign to function call\n"
     ]
    }
   ],
   "source": [
    "# Interactive plot\n",
    "f(x)=(e**x/10)*np.sin(ax)*np.cos(bx)\n",
    "a=b=1\n",
    "y=np.arange([-4*np.pi, 4*np.pi])\n",
    "plt.plot(f(x),y)\n",
    "interact(plot, a=(0, 2, 0.25), b=(0,2, 0.25))\n"
   ]
  },
  {
   "cell_type": "code",
   "execution_count": null,
   "metadata": {
    "collapsed": true
   },
   "outputs": [],
   "source": [
    "# Example Solution\n",
    "\n",
    "def plot(a=1, b=1):\n",
    "\n",
    "    x = np.linspace(-4*np.pi, 4*np.pi, 200)\n",
    "    plt.xlabel('$x$')\n",
    "    plt.ylabel('$f$')\n",
    "    \n",
    "\n",
    "    f = np.exp(x/10) * np.sin(a * x) * np.cos(b * x)\n",
    "    \n",
    "    plt.plot(x, f)\n",
    "    \n",
    "    plt.xlim(x[0], x[-1]);\n",
    "\n",
    "    \n",
    "interact(plot, a=(0, 2, 0.25), b=(0, 2, 0.25));"
   ]
  },
  {
   "cell_type": "markdown",
   "metadata": {
    "collapsed": true
   },
   "source": [
    "### Review Exercise: Visualising 2D Arrays \n",
    "Create:\n",
    "- a Numpy 30 by 30 array\n",
    "- with randomly selected integer values for all elements\n",
    "- with an allowable range for each element of 1 to 50\n",
    "\n",
    "Represent the array using `matshow`:\n",
    "- Use a colour map of your choice\n",
    "- Set the colour scale minimum to 1\n",
    "- Set the colour scale maximum to 25\n",
    "- Display a colour scale on the plot"
   ]
  },
  {
   "cell_type": "code",
   "execution_count": null,
   "metadata": {
    "collapsed": true
   },
   "outputs": [],
   "source": [
    "# 2D Array plot"
   ]
  },
  {
   "cell_type": "code",
   "execution_count": null,
   "metadata": {
    "collapsed": true
   },
   "outputs": [],
   "source": [
    "# Example Solution\n",
    "a = np.random.randint(1, 50, size=(30,30))\n",
    "\n",
    "plt.matshow(a, cmap=cm.BuPu_r, vmin=0, vmax=25)\n",
    "\n",
    "plt.colorbar();"
   ]
  },
  {
   "cell_type": "markdown",
   "metadata": {},
   "source": [
    "### Review Exercise: Animated Plot - Projectile Trajectory\n",
    "\n",
    "A projectile is launched with initial velocity $v$, at an angle of $\\theta$.\n",
    "\n",
    "If we neglect the force of drag on the projectile, it will travel in an arc. \n",
    "\n",
    "It's position in the horizontal (x) and vertical (y) direction at time $t$ can be found by.\n",
    "\n",
    "$x= vt\\cos(\\theta)$\n",
    "<br>$y= vt\\sin(\\theta) - \\frac{1}{2}gt^2$\n",
    "\n",
    "where gravity, $g=9.81$ms$^{-2}$ \n",
    "\n",
    "<img src=\"img/projectile2.png\" alt=\"Drawing\" style=\"width: 300px;\"/>\n",
    "\n",
    "In the cell below write a program to create an animation of the particle animate the motion of an ideal projectile when launched:\n",
    " - from an angle of $\\theta = \\pi/2$\n",
    " - with an initial velocity of $v=10$ms$^{-1}$ \n",
    " \n",
    "*Hint*\n",
    "1. Create a figure window\n",
    "1. Create axes within the figure window.\n",
    "1. Create a point to animate\n",
    "1. Create variables for $g$, $v$, and $\\theta$\n",
    "1. Write a function, `fun` to find x and y position as a function of time, t (function argument = t)\n",
    "1. To animate the motion of the particle create a function, `animate`. Within animate call the function, `func`. Use a timestep of i/10.\n",
    "1. Use the function `animation.FuncAnimation` to create the animation. Use 50 frames and an interval of 50ms between each frame.\n",
    "\n"
   ]
  },
  {
   "cell_type": "code",
   "execution_count": null,
   "metadata": {},
   "outputs": [],
   "source": [
    "# Trajectory Plot"
   ]
  },
  {
   "cell_type": "code",
   "execution_count": null,
   "metadata": {
    "collapsed": true
   },
   "outputs": [],
   "source": [
    "# Example Solution\n",
    "\n",
    "# Creates a figure window.\n",
    "fig = plt.figure()\n",
    "\n",
    "# Creates axes within the window\n",
    "ax = plt.axes(xlim=(0, 10), ylim=(0, 5))\n",
    "\n",
    "# Object to animate\n",
    "point, = ax.plot([1], [1], marker='o', ms=40)  # for points\n",
    "\n",
    "g = 9.81\n",
    "v = 10\n",
    "theta = np.pi/4\n",
    "\n",
    "# Position of mass as function of time\n",
    "def fun(t):\n",
    "    x = v * t * np.cos(theta)\n",
    "    y = v * t * np.sin(theta) - (0.5 * g * t**2)\n",
    "    return x, y\n",
    "\n",
    "def animate(i):   \n",
    "    x, y = fun(i/10)   \n",
    "    point.set_data(x, y)    \n",
    "    return  (point,)\n",
    "    \n",
    "# Animates the data; 50 frames, 50ms delay between frames, blit=True : only re-draw the parts that have changed.\n",
    "anim = animation.FuncAnimation(fig, animate, frames=50, interval=50, blit=True)\n",
    "\n",
    "anim"
   ]
  },
  {
   "cell_type": "markdown",
   "metadata": {
    "collapsed": true
   },
   "source": [
    "### Review Exercise: 3D plotting"
   ]
  },
  {
   "cell_type": "code",
   "execution_count": null,
   "metadata": {
    "collapsed": true
   },
   "outputs": [],
   "source": []
  },
  {
   "cell_type": "markdown",
   "metadata": {},
   "source": [
    "### Extension Exercise: Plotting System of Simultaneous Equations Interactively. \n",
    "\n"
   ]
  },
  {
   "cell_type": "code",
   "execution_count": null,
   "metadata": {
    "collapsed": true
   },
   "outputs": [],
   "source": []
  },
  {
   "cell_type": "markdown",
   "metadata": {
    "slideshow": {
     "slide_type": "slide"
    }
   },
   "source": [
    "# Summary\n",
    "\n",
    "- Matplotlib can be used to produce a wide range of styles of figures and plots of your data.\n",
    "- Simple line and scatter plots can be customised using a `formatstring`\n",
    "- Additional features such as a figure legend and axis labels can be set as arguments when creating plots.\n",
    "- We can \"vectorise\" other functions so that they accept data structure as arguments.\n",
    "- Broasdcasting is a useful tool for applying information in one numpy array to another without having to repeat or reshape the arrays to match one another.  \n",
    "- The matplotlib library can be used to quicky produce simple plots to visualise and check your solutions to mathematical problems.  \n",
    "- This includes fitting a curve or a relationship to a dataset."
   ]
  },
  {
   "cell_type": "markdown",
   "metadata": {
    "slideshow": {
     "slide_type": "slide"
    }
   },
   "source": [
    "# Homework \n",
    "\n",
    "1. __PULL__ the changes you made in-class today to your personal computer.\n",
    "1. __COMPLETE__ any unfinished Review Exercises.\n",
    "1. __PUSH__ the changes you make at home to your online repository. "
   ]
  }
 ],
 "metadata": {
  "kernelspec": {
   "display_name": "Python 3",
   "language": "python",
   "name": "python3"
  },
  "language_info": {
   "codemirror_mode": {
    "name": "ipython",
    "version": 3
   },
   "file_extension": ".py",
   "mimetype": "text/x-python",
   "name": "python",
   "nbconvert_exporter": "python",
   "pygments_lexer": "ipython3",
   "version": "3.6.2"
  }
 },
 "nbformat": 4,
 "nbformat_minor": 2
}
