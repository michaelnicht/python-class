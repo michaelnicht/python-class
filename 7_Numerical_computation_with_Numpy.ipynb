{
 "cells": [
  {
   "cell_type": "markdown",
   "metadata": {
    "slideshow": {
     "slide_type": "slide"
    }
   },
   "source": [
    "### BEFORE YOU DO ANYTHING...\n",
    "In the terminal:\n",
    "1. Navigate to __inside__ your ILAS_Python repository.\n",
    "2. __COMMIT__ any un-commited work on your personal computer.\n",
    "3. __PULL__ any changes *you* have made using another computer.\n",
    "4. __PULL__ textbook updates (including homework answers)."
   ]
  },
  {
   "cell_type": "markdown",
   "metadata": {
    "slideshow": {
     "slide_type": "slide"
    }
   },
   "source": [
    "1. __Open Jupyter notebook:__   Start >> Programs (すべてのプログラム) >> Programming >> Anaconda3 >> JupyterNotebook\n",
    "1. __Navigate to the ILAS_Python folder__. \n",
    "1. __Open today's seminar__  by clicking on 7_Numerical_computation_with_Numpy."
   ]
  },
  {
   "cell_type": "markdown",
   "metadata": {
    "slideshow": {
     "slide_type": "slide"
    }
   },
   "source": [
    "<h1>Numerical Computation with Numpy</h1> \n",
    "\n",
    "<h1>Lesson Goal</h1> \n",
    "\n",
    "To make solutions to mathematical problems involving large data sets, multiple repeated computations and simultaneous solutions more efficient using programming.  \n",
    "\n",
    "To acheive this we will cover an overview of some widely used tools from the Python Numpy package and related packages such as Matplotlib (plotting), Scipy (scientific computation) and Sympy (symbolic)."
   ]
  },
  {
   "cell_type": "markdown",
   "metadata": {
    "collapsed": true,
    "slideshow": {
     "slide_type": "slide"
    }
   },
   "source": [
    "## Lesson Structure\n",
    "- The `array` data structure for numerical computation.\n",
    "- Subpackages\n",
    "- Array manipulation (independent study)\n",
    "- Introduction to plotting.\n",
    "- Mathematics with arrays\n",
    " - Mathematics with vectors\n",
    " - Mathematics with matrices\n",
    " - Useful matrix operations (independent study)\n",
    " - Simultaneous equations\n",
    " - Rates of change\n",
    "- Vectorised functions \n",
    "- Broadcasting\n",
    "- Reshaping and resizing"
   ]
  },
  {
   "cell_type": "markdown",
   "metadata": {
    "slideshow": {
     "slide_type": "slide"
    }
   },
   "source": [
    "## Why are we studying this?\n",
    "Numerical computation is central to almost all scientific and engineering problems.\n",
    "\n",
    "There are programming languages specifically designed for numerical computation:\n",
    "- Fortran\n",
    "- MATLAB\n",
    "\n",
    "There are libraries dedicated to efficient numerical computations:\n",
    "- Numpy\n",
    "- Scipy\n",
    "- Sympy ..."
   ]
  },
  {
   "cell_type": "markdown",
   "metadata": {
    "slideshow": {
     "slide_type": "subslide"
    }
   },
   "source": [
    "NumPy (http://www.numpy.org/) \n",
    " - The most widely used Python library for numerical computations. \n",
    " - Large, extensive library of data structures and functions for numerical computation.\n",
    " - Useful for perfoming operation you will learn on mathematics-based courses.\n",
    "\n",
    "\n",
    "Scipy (https://www.scipy.org/)\n",
    "- Builds on Numpy, additional functionality\n",
    "- More specialised data structures and functions over NumPy.\n",
    "\n",
    "Matplotlib (https://matplotlib.org/)\n",
    "- A library for generating plots.\n",
    "- Complementary to numerical computation libraries."
   ]
  },
  {
   "cell_type": "markdown",
   "metadata": {
    "slideshow": {
     "slide_type": "subslide"
    }
   },
   "source": [
    "If you are familiar with MATLAB, NumPy and SciPy provide similar functionality. \n",
    "\n"
   ]
  },
  {
   "cell_type": "markdown",
   "metadata": {
    "slideshow": {
     "slide_type": "subslide"
    }
   },
   "source": [
    "Last week we covered an introduction to some basic functions of Numpy.\n",
    "\n",
    "NumPy is a very extensive library.\n",
    "\n",
    "This seminar will:\n",
    "- Introduce some useful functions\n",
    "- Briefly discuss how to search for additional functions you may need. \n",
    "\n",
    "Use online resources to search for functions you need e.g.  http://stackoverflow.com/.\n",
    "\n"
   ]
  },
  {
   "cell_type": "markdown",
   "metadata": {
    "collapsed": true,
    "slideshow": {
     "slide_type": "slide"
    }
   },
   "source": [
    "## Importing the NumPy module\n",
    "\n",
    "To make NumPy functions and variables available to use in our program in our programs, we need to __import__ it using.\n",
    "\n",
    "`import numpy`\n",
    "\n",
    "We typically import all modules at the start of a program or notebook. "
   ]
  },
  {
   "cell_type": "code",
   "execution_count": 2,
   "metadata": {
    "collapsed": true,
    "slideshow": {
     "slide_type": "subslide"
    }
   },
   "outputs": [],
   "source": [
    "import numpy as np"
   ]
  },
  {
   "cell_type": "markdown",
   "metadata": {
    "slideshow": {
     "slide_type": "subslide"
    }
   },
   "source": [
    "The shortened name `np` is often used for numpy. "
   ]
  },
  {
   "cell_type": "markdown",
   "metadata": {
    "slideshow": {
     "slide_type": "subslide"
    }
   },
   "source": [
    "All Numpy functions can be called using `np.function()`. "
   ]
  },
  {
   "cell_type": "markdown",
   "metadata": {
    "slideshow": {
     "slide_type": "slide"
    }
   },
   "source": [
    "## Data Structure: The Numpy `array`\n",
    "\n",
    "### Why do we need another data structure?\n",
    "\n",
    "Python lists hold 'arrays' of data. \n",
    "\n",
    "Lists are very flexible. e.g. holding mixed data type.\n",
    "\n",
    "There is a trade off between flexibility and performance e.g. speed."
   ]
  },
  {
   "cell_type": "markdown",
   "metadata": {
    "slideshow": {
     "slide_type": "subslide"
    }
   },
   "source": [
    "Science engineering and mathematics problems often involve large amounts of data and numerous operations. \n",
    "\n",
    "We therefore use specialised functions and data structures for numerical computation."
   ]
  },
  {
   "cell_type": "code",
   "execution_count": null,
   "metadata": {
    "collapsed": true
   },
   "outputs": [],
   "source": []
  },
  {
   "cell_type": "markdown",
   "metadata": {
    "slideshow": {
     "slide_type": "slide"
    }
   },
   "source": [
    "## Numpy array\n",
    "\n",
    "A numpy array is a grid of values, *all of the same type*."
   ]
  },
  {
   "cell_type": "markdown",
   "metadata": {
    "slideshow": {
     "slide_type": "subslide"
    }
   },
   "source": [
    "To create an array we use the Numpy `np.array()` function.\n",
    "\n",
    "We can create an array in a number of ways.\n",
    "\n",
    "Let's start with something that is already familiar to you..."
   ]
  },
  {
   "cell_type": "markdown",
   "metadata": {
    "slideshow": {
     "slide_type": "subslide"
    }
   },
   "source": [
    "We can give a data structure (list, tuple) as an *argument* to convert it to a numpy array:"
   ]
  },
  {
   "cell_type": "code",
   "execution_count": 3,
   "metadata": {
    "slideshow": {
     "slide_type": "subslide"
    }
   },
   "outputs": [
    {
     "name": "stdout",
     "output_type": "stream",
     "text": [
      "<class 'tuple'>\n",
      "<class 'numpy.ndarray'>\n",
      "float64\n"
     ]
    }
   ],
   "source": [
    "a = (4.0,)\n",
    "\n",
    "b = np.array(a) \n",
    "\n",
    "print(type(a))\n",
    "print(type(b))\n",
    "print(b.dtype)"
   ]
  },
  {
   "cell_type": "markdown",
   "metadata": {
    "slideshow": {
     "slide_type": "subslide"
    }
   },
   "source": [
    "The method `dtype` tells us the type of the data contained in the array.\n",
    "\n"
   ]
  },
  {
   "cell_type": "markdown",
   "metadata": {
    "slideshow": {
     "slide_type": "subslide"
    }
   },
   "source": [
    "__Note:__The data type can be optionally set by the user when creating the array. This can be useful when you need more control over how your data is stored in memory and on disk. Especially in cases where you’re working with large data, it’s good that you know to control the storage type. \n"
   ]
  },
  {
   "cell_type": "code",
   "execution_count": 4,
   "metadata": {
    "slideshow": {
     "slide_type": "subslide"
    }
   },
   "outputs": [
    {
     "name": "stdout",
     "output_type": "stream",
     "text": [
      "<class 'list'>\n",
      "<class 'numpy.ndarray'>\n",
      "float64\n"
     ]
    }
   ],
   "source": [
    "c = [4.0, 5, 6.0]\n",
    "\n",
    "d = np.array(c) \n",
    "\n",
    "print(type(c))\n",
    "print(type(d))\n",
    "print(d.dtype)"
   ]
  },
  {
   "cell_type": "markdown",
   "metadata": {
    "slideshow": {
     "slide_type": "slide"
    }
   },
   "source": [
    "## Multi-dimensional arrays.\n",
    "\n",
    "Unlike the data types we have studied so far, arrays can have multiple dimensions.\n",
    "\n",
    "__`shape`:__ a *tuple* of *integers* giving the *size* of the array along each *dimension*.\n",
    "\n",
    "We define the dimensions of an array using square brackets"
   ]
  },
  {
   "cell_type": "code",
   "execution_count": 5,
   "metadata": {
    "slideshow": {
     "slide_type": "subslide"
    }
   },
   "outputs": [
    {
     "name": "stdout",
     "output_type": "stream",
     "text": [
      "(3,)\n",
      "(2, 3)\n"
     ]
    }
   ],
   "source": [
    "# 1-dimensional array\n",
    "a = np.array([1, 2, 3])\n",
    "\n",
    "# 2-dimensional array\n",
    "b = np.array([[1, 2, 3], [4, 5, 6]])\n",
    "\n",
    "b = np.array([[1, 2, 3], \n",
    "              [4, 5, 6]])\n",
    "\n",
    "print(a.shape)\n",
    "print(b.shape)\n"
   ]
  },
  {
   "cell_type": "code",
   "execution_count": 6,
   "metadata": {
    "slideshow": {
     "slide_type": "subslide"
    }
   },
   "outputs": [
    {
     "name": "stdout",
     "output_type": "stream",
     "text": [
      "(1, 3)\n",
      "(2, 1)\n"
     ]
    }
   ],
   "source": [
    "# 2-dimensional array\n",
    "c = np.array([[1, 2, 3]])\n",
    "\n",
    "# 2-dimensional array\n",
    "d = np.array([[1], \n",
    "              [4]])\n",
    "\n",
    "print(c.shape)\n",
    "print(d.shape)"
   ]
  },
  {
   "cell_type": "code",
   "execution_count": 7,
   "metadata": {
    "slideshow": {
     "slide_type": "subslide"
    }
   },
   "outputs": [
    {
     "name": "stdout",
     "output_type": "stream",
     "text": [
      "(2, 2, 2)\n",
      "(3, 2, 2)\n"
     ]
    }
   ],
   "source": [
    "# 3-dimensional array\n",
    "\n",
    "c = np.array(\n",
    "    [[[1, 1],\n",
    "      [1, 1]],\n",
    "    \n",
    "     [[1, 1],\n",
    "      [1, 1]]])\n",
    "\n",
    "print(c.shape)\n",
    "\n",
    "c = np.array(\n",
    "    [[[1, 1],\n",
    "      [1, 1]],\n",
    "     \n",
    "     [[1, 1],\n",
    "      [1, 1]],\n",
    "    \n",
    "     [[1, 1],\n",
    "      [1, 1]]])\n",
    "\n",
    "print(c.shape)"
   ]
  },
  {
   "cell_type": "code",
   "execution_count": 8,
   "metadata": {
    "slideshow": {
     "slide_type": "subslide"
    }
   },
   "outputs": [
    {
     "name": "stdout",
     "output_type": "stream",
     "text": [
      "[[[1 1]\n",
      "  [1 1]]\n",
      "\n",
      " [[1 1]\n",
      "  [1 1]]]\n",
      "(2, 2, 2, 2)\n"
     ]
    }
   ],
   "source": [
    "# 3-dimensional array\n",
    "import numpy as np\n",
    "c = np.array(\n",
    "    [[[1, 1],\n",
    "      [1, 1]],\n",
    "    \n",
    "     [[1, 1],\n",
    "      [1, 1]]])\n",
    "\n",
    "# 4-dimensional array\n",
    "d = np.array(\n",
    "    [[[[1, 1],\n",
    "       [1, 1]],\n",
    "      \n",
    "      [[1, 1],\n",
    "       [1, 1]]],\n",
    "\n",
    "\n",
    "      [[[1, 1],\n",
    "       [1, 1]],\n",
    "      \n",
    "      [[1, 1],\n",
    "       [1, 1]]]])\n",
    "\n",
    "print(c)\n",
    "print(d.shape)"
   ]
  },
  {
   "cell_type": "markdown",
   "metadata": {
    "slideshow": {
     "slide_type": "slide"
    }
   },
   "source": [
    "<a name=\"CreatingArray\"></a>\n",
    "## Creating a numpy array.\n",
    "\n",
    "We don't always have to manually create the individual elements of an array.\n",
    "\n",
    "There are several other ways to do this.\n",
    "\n",
    "For example, if you don’t know what data you want to put in your array you can initialise it with placeholders and load the data you want to use later. \n"
   ]
  },
  {
   "cell_type": "code",
   "execution_count": 9,
   "metadata": {
    "slideshow": {
     "slide_type": "subslide"
    }
   },
   "outputs": [
    {
     "name": "stdout",
     "output_type": "stream",
     "text": [
      "[ 0.  0.  0.  0.]\n",
      "\n",
      "[[  6.23042070e-307   4.67296746e-307   1.69121096e-306   7.56595733e-307]\n",
      " [  1.89146896e-307   1.37961302e-306   1.05699242e-307   1.69119330e-306]\n",
      " [  1.11261027e-306   1.11261502e-306   1.42410839e-306   7.56597770e-307]\n",
      " [  6.23059726e-307   1.42419530e-306   7.56599128e-307   0.00000000e+000]]\n"
     ]
    }
   ],
   "source": [
    "# Create an empty matrix\n",
    "# The empty() function argument is the shape.\n",
    "# Shape: tuple of integers giving the size along each dimension.\n",
    "import numpy as np\n",
    "x = np.empty((4))\n",
    "print(x)\n",
    "\n",
    "print()\n",
    "\n",
    "x = np.empty((4,4))\n",
    "print(x)"
   ]
  },
  {
   "cell_type": "code",
   "execution_count": 10,
   "metadata": {
    "slideshow": {
     "slide_type": "subslide"
    }
   },
   "outputs": [
    {
     "name": "stdout",
     "output_type": "stream",
     "text": [
      "[[3]]\n",
      "(1, 1)\n",
      "\n",
      "[[4 4]\n",
      " [4 4]]\n",
      "(2, 2)\n"
     ]
    }
   ],
   "source": [
    "# Create an array of elements with the same value \n",
    "# The full() function arguments are\n",
    "# 1) Shape: tuple of integers giving the size along each dimension.\n",
    "# 2) The constant value\n",
    "import numpy as np\n",
    "y = np.full((1,1), 3)\n",
    "print(y)\n",
    "print(y.shape)\n",
    "\n",
    "print()\n",
    "\n",
    "y = np.full((2,2), 4)   \n",
    "print(y) \n",
    "print(y.shape)"
   ]
  },
  {
   "cell_type": "code",
   "execution_count": 11,
   "metadata": {
    "slideshow": {
     "slide_type": "subslide"
    }
   },
   "outputs": [
    {
     "name": "stdout",
     "output_type": "stream",
     "text": [
      "[5 6 7 8 9]\n",
      "\n",
      "[5 7 9]\n"
     ]
    }
   ],
   "source": [
    "# Create a 1D array of evenly spaced values\n",
    "# The arange() function arguments are the same as the range() function. \n",
    "# Shape: tuple of integers giving the size along each dimension.\n",
    "\n",
    "z = np.arange(5,10)\n",
    "print(z)\n",
    "\n",
    "print()\n",
    "\n",
    "z = np.arange(5, 10, 2)   \n",
    "print(z)  "
   ]
  },
  {
   "cell_type": "code",
   "execution_count": 12,
   "metadata": {
    "slideshow": {
     "slide_type": "subslide"
    }
   },
   "outputs": [
    {
     "name": "stdout",
     "output_type": "stream",
     "text": [
      "[-4.         -3.11111111 -2.22222222 -1.33333333 -0.44444444  0.44444444\n",
      "  1.33333333  2.22222222  3.11111111  4.        ]\n"
     ]
    }
   ],
   "source": [
    "# Create a 1D array of evenly spaced values\n",
    "# The linspace() function arguments are\n",
    "# The lower limit of the range of values\n",
    "# The upper limit of the range of values (inclusive)\n",
    "# The desired number of equally spaced values\n",
    "\n",
    "z = np.linspace(-4, 4, 10)\n",
    "print(z) "
   ]
  },
  {
   "cell_type": "code",
   "execution_count": 13,
   "metadata": {
    "scrolled": true,
    "slideshow": {
     "slide_type": "subslide"
    }
   },
   "outputs": [
    {
     "name": "stdout",
     "output_type": "stream",
     "text": [
      "[ 0.  0.  0.  0.  0.]\n",
      "\n",
      "[[ 0.  0.]\n",
      " [ 0.  0.]]\n"
     ]
    }
   ],
   "source": [
    "# Create an array of all zeros\n",
    "# The zeros() function argument is the shape.\n",
    "# Shape: tuple of integers giving the size along each dimension.\n",
    "\n",
    "a = np.zeros(5)\n",
    "print(a)\n",
    "\n",
    "print()\n",
    "\n",
    "a = np.zeros((2,2))   \n",
    "print(a)  "
   ]
  },
  {
   "cell_type": "code",
   "execution_count": 14,
   "metadata": {
    "slideshow": {
     "slide_type": "subslide"
    }
   },
   "outputs": [
    {
     "name": "stdout",
     "output_type": "stream",
     "text": [
      "[ 1.  1.  1.  1.  1.]\n",
      "\n",
      "[[ 1.  1.  1.  1.]]\n"
     ]
    }
   ],
   "source": [
    "# Create an array of all ones\n",
    "\n",
    "b = np.ones(5)\n",
    "print(b)\n",
    "\n",
    "print()\n",
    "\n",
    "b = np.ones((1, 4))    \n",
    "print(b) \n"
   ]
  },
  {
   "cell_type": "code",
   "execution_count": 15,
   "metadata": {
    "slideshow": {
     "slide_type": "subslide"
    }
   },
   "outputs": [
    {
     "name": "stdout",
     "output_type": "stream",
     "text": [
      "[8 8 8 8 8 8]\n",
      "\n",
      "[[[7 7]\n",
      "  [7 7]]\n",
      "\n",
      " [[7 7]\n",
      "  [7 7]]]\n"
     ]
    }
   ],
   "source": [
    "# Create a constant array\n",
    "# The second function argument is the constant value\n",
    "\n",
    "c = np.full(6, 8)\n",
    "print(c)\n",
    "\n",
    "print()\n",
    "\n",
    "c = np.full((2,2,2), 7)  \n",
    "print(c)               \n"
   ]
  },
  {
   "cell_type": "markdown",
   "metadata": {
    "slideshow": {
     "slide_type": "slide"
    }
   },
   "source": [
    "<a name=\"Subpackages\"></a>\n",
    "## Subpackages\n",
    "Packages can also have subpackages. \n",
    "\n",
    "The `numpy` package has a subpackage called `random`.\n",
    "\n",
    "It contains functions to deal with random variables. \n",
    "\n",
    "If the `numpy` package is imported with `import numpy as np`, functions in the `random` subpackage can be called using `np.random.function()`. "
   ]
  },
  {
   "cell_type": "code",
   "execution_count": 16,
   "metadata": {
    "slideshow": {
     "slide_type": "subslide"
    }
   },
   "outputs": [
    {
     "name": "stdout",
     "output_type": "stream",
     "text": [
      "[ 0.92807895]\n",
      "\n",
      "[[[ 0.96055227]\n",
      "  [ 0.07622129]]\n",
      "\n",
      " [[ 0.05794609]\n",
      "  [ 0.36078051]]\n",
      "\n",
      " [[ 0.53688902]\n",
      "  [ 0.30828508]]]\n",
      "\n",
      "[[ 0.65979051  0.06838517]\n",
      " [ 0.86629646  0.87640925]]\n"
     ]
    }
   ],
   "source": [
    "# Create an array filled with random values in the range 0.0 to 1.0\n",
    "\n",
    "e = np.random.rand(1)\n",
    "print(e)\n",
    "print()\n",
    "\n",
    "e = np.random.rand(3,2,1)\n",
    "print(e)\n",
    "print()\n",
    "\n",
    "e = np.random.random((2,2))  \n",
    "print(e)"
   ]
  },
  {
   "cell_type": "code",
   "execution_count": 17,
   "metadata": {
    "collapsed": true,
    "slideshow": {
     "slide_type": "subslide"
    }
   },
   "outputs": [],
   "source": [
    "# Create an array filled with random integer values"
   ]
  },
  {
   "cell_type": "code",
   "execution_count": 18,
   "metadata": {
    "slideshow": {
     "slide_type": "subslide"
    }
   },
   "outputs": [
    {
     "name": "stdout",
     "output_type": "stream",
     "text": [
      "[[14  9  8 10]\n",
      " [ 8  8 15 10]\n",
      " [12 13 11 14]\n",
      " [ 8 15 13  8]]\n",
      "\n",
      "[[[1 6]\n",
      "  [7 2]]\n",
      "\n",
      " [[6 2]\n",
      "  [4 7]]]\n"
     ]
    }
   ],
   "source": [
    "# integer values between 4 and 16\n",
    "e = np.random.randint(4, 16, size=(4,4))\n",
    "print(e)\n",
    "\n",
    "print()\n",
    "\n",
    "# integer values between 1 and 8\n",
    "e = np.random.randint(1, 8, size=(2, 2, 2))\n",
    "print(e)"
   ]
  },
  {
   "cell_type": "markdown",
   "metadata": {
    "slideshow": {
     "slide_type": "slide"
    }
   },
   "source": [
    "<a id='Indexing'></a>\n",
    "## Indexing into multi-dimensional arrays.\n",
    "\n",
    "We can index into an array exactly the same way as the other data structures we have studied."
   ]
  },
  {
   "cell_type": "code",
   "execution_count": 19,
   "metadata": {
    "slideshow": {
     "slide_type": "subslide"
    }
   },
   "outputs": [
    {
     "name": "stdout",
     "output_type": "stream",
     "text": [
      "5\n",
      "[1 2 3 4]\n"
     ]
    }
   ],
   "source": [
    "import numpy as np\n",
    "\n",
    "x = np.array([1, 2, 3, 4, 5])\n",
    "\n",
    "# Select a single element\n",
    "print(x[4])\n",
    "\n",
    "# Select elements from 2 to the end\n",
    "print(x[:4])"
   ]
  },
  {
   "cell_type": "markdown",
   "metadata": {
    "slideshow": {
     "slide_type": "subslide"
    }
   },
   "source": [
    "For an n-dimensional (nD) matrix we need n index values to address an element or range of elements.\n",
    "\n",
    "Example: The index of a 2D array is specified with two values:\n",
    "- first the row index\n",
    "- then the column index.\n",
    "\n",
    "Note the order in which dimensions are addressed."
   ]
  },
  {
   "cell_type": "code",
   "execution_count": 20,
   "metadata": {
    "slideshow": {
     "slide_type": "subslide"
    }
   },
   "outputs": [
    {
     "name": "stdout",
     "output_type": "stream",
     "text": [
      "6\n",
      "[[4 5]]\n"
     ]
    }
   ],
   "source": [
    "# 2 dimensional array\n",
    "\n",
    "y = np.array([[1, 2, 3], \n",
    "              [4, 5, 6]])\n",
    "\n",
    "\n",
    "# Select a single element\n",
    "print(y[1,2])\n",
    "\n",
    "# Select elements that are both in rows 1 to the end AND columns 0 to 2 \n",
    "print(y[1:, 0:2])"
   ]
  },
  {
   "cell_type": "markdown",
   "metadata": {
    "slideshow": {
     "slide_type": "subslide"
    }
   },
   "source": [
    "We can address elements by selecting a range with a step: \n",
    "\n",
    "For example the index:\n",
    "\n",
    "`z[0, 0:]`\n",
    "\n",
    "selects every element of row 0 in array, `z`\n",
    "\n",
    "The index:\n",
    "\n",
    "`z[0, 0::2]`\n",
    "\n",
    "selects every *other* element of row 0 in array, `z`"
   ]
  },
  {
   "cell_type": "code",
   "execution_count": 21,
   "metadata": {
    "slideshow": {
     "slide_type": "subslide"
    }
   },
   "outputs": [
    {
     "name": "stdout",
     "output_type": "stream",
     "text": [
      "[[ 10.  10.  10.  10.  10.  10.  10.  10.]\n",
      " [ 10.   0.  10.   0.  10.   0.  10.   0.]\n",
      " [  0.   0.   0.   0.   0.   0.   0.   0.]\n",
      " [  0.   0.   0.   0.   0.   0.   0.   0.]]\n"
     ]
    }
   ],
   "source": [
    "# 2 dimensional array\n",
    "\n",
    "z = np.zeros((4,8))\n",
    "\n",
    "# Change every element of row 0\n",
    "z[0, 0:] = 10\n",
    "\n",
    "# Change every other element of row 1\n",
    "z[1, 0::2] = 10\n",
    "\n",
    "print(z)"
   ]
  },
  {
   "cell_type": "code",
   "execution_count": 22,
   "metadata": {
    "slideshow": {
     "slide_type": "subslide"
    }
   },
   "outputs": [
    {
     "name": "stdout",
     "output_type": "stream",
     "text": [
      "[[  0.   0.   0.   0.   0.   0.   0.   0.]\n",
      " [  0.   0.   0.   0.   0.   0.   0.   0.]\n",
      " [  0.   0.   0.   0.  10.  10.  10.  10.]\n",
      " [  0.   0.  10.   0.  10.   0.  10.   0.]]\n"
     ]
    }
   ],
   "source": [
    "z = np.zeros((4,8))\n",
    "\n",
    "# Change the last 4 elements of row 2, in negative direction\n",
    "# You MUST include a step to count in the negative direction\n",
    "z[2, -1:-5:-1] = 10\n",
    "\n",
    "# Change every other element of the last 6 elements of row 3\n",
    "# in negative direction\n",
    "z[3, -2:-7:-2] = 10\n",
    "\n",
    "print(z)"
   ]
  },
  {
   "cell_type": "code",
   "execution_count": 23,
   "metadata": {
    "slideshow": {
     "slide_type": "subslide"
    }
   },
   "outputs": [
    {
     "name": "stdout",
     "output_type": "stream",
     "text": [
      "8\n"
     ]
    }
   ],
   "source": [
    "# 3-dimensional array\n",
    "\n",
    "c = np.array(\n",
    "    [[[2, 1, 4],\n",
    "      [2, 6, 8]],\n",
    "    \n",
    "     [[0, 1, 5],\n",
    "      [7, 8, 9]]])\n",
    "\n",
    "print(c[0, 1, 2])\n",
    "\n"
   ]
  },
  {
   "cell_type": "markdown",
   "metadata": {
    "slideshow": {
     "slide_type": "subslide"
    }
   },
   "source": [
    "Where we want to select all elements in one dimension we can use :\n",
    "\n",
    "__Exception__: If it is the last element , we can omit it. "
   ]
  },
  {
   "cell_type": "code",
   "execution_count": 24,
   "metadata": {
    "slideshow": {
     "slide_type": "subslide"
    }
   },
   "outputs": [
    {
     "name": "stdout",
     "output_type": "stream",
     "text": [
      "[2 6 8]\n",
      "[1 6]\n"
     ]
    }
   ],
   "source": [
    "print(c[0, 1])\n",
    "\n",
    "print(c[0, :, 1])"
   ]
  },
  {
   "cell_type": "markdown",
   "metadata": {
    "slideshow": {
     "slide_type": "slide"
    }
   },
   "source": [
    "<a name=\"BooleanIndexing\"></a>\n",
    "### Boolean array indexing\n",
    "\n",
    "Recall that we can use *conditional operators* to check the value of a single variable against a condition.\n",
    "\n",
    "The value returned is a Boolean True or False value.\n"
   ]
  },
  {
   "cell_type": "code",
   "execution_count": 25,
   "metadata": {
    "slideshow": {
     "slide_type": "subslide"
    }
   },
   "outputs": [
    {
     "name": "stdout",
     "output_type": "stream",
     "text": [
      "a < 2: False\n",
      "a > 2: True\n"
     ]
    }
   ],
   "source": [
    "a = 4\n",
    "print('a < 2:', a < 2)\n",
    "print('a > 2:', a > 2)"
   ]
  },
  {
   "cell_type": "markdown",
   "metadata": {
    "slideshow": {
     "slide_type": "subslide"
    }
   },
   "source": [
    "If we instead use *conditional operators* to check the value of an array against a condition.\n",
    "\n",
    "The value returned is an *array* of Boolean True or False values."
   ]
  },
  {
   "cell_type": "code",
   "execution_count": 26,
   "metadata": {
    "slideshow": {
     "slide_type": "subslide"
    }
   },
   "outputs": [
    {
     "name": "stdout",
     "output_type": "stream",
     "text": [
      "[[False False]\n",
      " [ True  True]\n",
      " [ True  True]]\n"
     ]
    }
   ],
   "source": [
    "a = np.array([[1,2], \n",
    "              [3, 4], \n",
    "              [5, 6]])\n",
    "\n",
    "idx = a > 2\n",
    "\n",
    "print(idx)\n"
   ]
  },
  {
   "cell_type": "markdown",
   "metadata": {
    "slideshow": {
     "slide_type": "subslide"
    }
   },
   "source": [
    "A particular elements of an array can be are specified by using a boolean array as an index. \n",
    "\n",
    "Only the values of the array where the boolean array is `True` are selected. "
   ]
  },
  {
   "cell_type": "markdown",
   "metadata": {
    "slideshow": {
     "slide_type": "subslide"
    }
   },
   "source": [
    "The varaible `idx` can therefore now be used as the index to select all elements greater than 2."
   ]
  },
  {
   "cell_type": "code",
   "execution_count": 27,
   "metadata": {
    "slideshow": {
     "slide_type": "subslide"
    }
   },
   "outputs": [
    {
     "name": "stdout",
     "output_type": "stream",
     "text": [
      "[3 4 5 6]\n"
     ]
    }
   ],
   "source": [
    "print(a[idx])   "
   ]
  },
  {
   "cell_type": "markdown",
   "metadata": {
    "slideshow": {
     "slide_type": "subslide"
    }
   },
   "source": [
    "To do the whole process in a single step"
   ]
  },
  {
   "cell_type": "code",
   "execution_count": 28,
   "metadata": {
    "slideshow": {
     "slide_type": "subslide"
    }
   },
   "outputs": [
    {
     "name": "stdout",
     "output_type": "stream",
     "text": [
      "[3 4 5 6]\n"
     ]
    }
   ],
   "source": [
    "print(a[a > 2]) "
   ]
  },
  {
   "cell_type": "markdown",
   "metadata": {
    "slideshow": {
     "slide_type": "subslide"
    }
   },
   "source": [
    "To apply multiple conditions, use () parentheses to sperate different conditions.\n",
    "\n",
    "Use `&` for elementwise `and`.\n",
    "\n",
    "Use `|` for elementwise `or`."
   ]
  },
  {
   "cell_type": "code",
   "execution_count": 29,
   "metadata": {
    "slideshow": {
     "slide_type": "subslide"
    }
   },
   "outputs": [
    {
     "name": "stdout",
     "output_type": "stream",
     "text": [
      "[4 3 4 8 3 3 4 4]\n"
     ]
    },
    {
     "ename": "ValueError",
     "evalue": "The truth value of an array with more than one element is ambiguous. Use a.any() or a.all()",
     "output_type": "error",
     "traceback": [
      "\u001b[1;31m---------------------------------------------------------------------------\u001b[0m",
      "\u001b[1;31mValueError\u001b[0m                                Traceback (most recent call last)",
      "\u001b[1;32m<ipython-input-29-d3eccb9d3609>\u001b[0m in \u001b[0;36m<module>\u001b[1;34m()\u001b[0m\n\u001b[0;32m      8\u001b[0m \u001b[1;33m\u001b[0m\u001b[0m\n\u001b[0;32m      9\u001b[0m \u001b[1;31m# elements of x that are less then 2 OR greater than 10\u001b[0m\u001b[1;33m\u001b[0m\u001b[1;33m\u001b[0m\u001b[0m\n\u001b[1;32m---> 10\u001b[1;33m \u001b[0mprint\u001b[0m\u001b[1;33m(\u001b[0m\u001b[0mx\u001b[0m\u001b[1;33m[\u001b[0m\u001b[1;33m(\u001b[0m\u001b[1;36m2\u001b[0m \u001b[1;33m<\u001b[0m \u001b[0mx\u001b[0m\u001b[1;33m)\u001b[0m \u001b[1;32mor\u001b[0m \u001b[1;33m(\u001b[0m\u001b[0mx\u001b[0m \u001b[1;33m<\u001b[0m \u001b[1;36m10\u001b[0m\u001b[1;33m)\u001b[0m\u001b[1;33m]\u001b[0m\u001b[1;33m)\u001b[0m\u001b[1;33m\u001b[0m\u001b[0m\n\u001b[0m",
      "\u001b[1;31mValueError\u001b[0m: The truth value of an array with more than one element is ambiguous. Use a.any() or a.all()"
     ]
    }
   ],
   "source": [
    "x = np.array([[4, 2, 3, 1],\n",
    "              [2, 4, 2, 8],\n",
    "              [2, 3, 3, 27],\n",
    "              [4, 1, 4, 64]])\n",
    "\n",
    "# elements of x that are greater then 2 AND less than 10\n",
    "print(x[(2 < x) & (x < 10)])\n",
    "\n",
    "# elements of x that are less then 2 OR greater than 10\n",
    "print(x[(2 < x) or (x < 10)])"
   ]
  },
  {
   "cell_type": "markdown",
   "metadata": {
    "slideshow": {
     "slide_type": "subslide"
    }
   },
   "source": [
    "Multiple conditions can also be applied to a subsection of an array.\n",
    "<br>For example to select elements $>2$ and $<4$ in the first row of `x` only (`x[0]`):"
   ]
  },
  {
   "cell_type": "code",
   "execution_count": null,
   "metadata": {
    "slideshow": {
     "slide_type": "subslide"
    }
   },
   "outputs": [],
   "source": [
    "x = np.array([[4, 2, 3, 1],\n",
    "              [2, 4, 2, 8],\n",
    "              [2, 3, 3, 27],\n",
    "              [4, 1, 4, 64]])\n",
    "\n",
    "\n",
    "print(x[0][(2 < x[0]) & (x[0] < 4)])\n"
   ]
  },
  {
   "cell_type": "markdown",
   "metadata": {
    "slideshow": {
     "slide_type": "slide"
    }
   },
   "source": [
    "## Iterating over multi-dimensional arrays. \n",
    "We can iterate over a 1D array in the same way as the data structures we have previously studied."
   ]
  },
  {
   "cell_type": "code",
   "execution_count": null,
   "metadata": {
    "collapsed": true,
    "slideshow": {
     "slide_type": "subslide"
    }
   },
   "outputs": [],
   "source": [
    "A = np.array([1, 2, 3, 4, 5])"
   ]
  },
  {
   "cell_type": "code",
   "execution_count": null,
   "metadata": {
    "slideshow": {
     "slide_type": "subslide"
    }
   },
   "outputs": [],
   "source": [
    "for a in A:\n",
    "    print(a)"
   ]
  },
  {
   "cell_type": "markdown",
   "metadata": {
    "slideshow": {
     "slide_type": "subslide"
    }
   },
   "source": [
    "To loop through individual elements of a multi-dimensional array, we use a nested loop for each dimension of the array."
   ]
  },
  {
   "cell_type": "code",
   "execution_count": null,
   "metadata": {
    "slideshow": {
     "slide_type": "subslide"
    }
   },
   "outputs": [],
   "source": [
    "B = np.array([[1, 2, 3], \n",
    "              [4, 5, 6]])\n",
    "\n",
    "for row in B:\n",
    "    print(\"-----\")\n",
    "    for col in row:\n",
    "        print(col)"
   ]
  },
  {
   "cell_type": "markdown",
   "metadata": {
    "slideshow": {
     "slide_type": "slide"
    }
   },
   "source": [
    "## Manipulating arrays\n",
    "We can use many of the same operations to manipulate arrays as we use for lists.\n",
    "\n",
    "However, it is important to note a few subtle differences in how array manipulations behave. "
   ]
  },
  {
   "cell_type": "code",
   "execution_count": null,
   "metadata": {
    "scrolled": true,
    "slideshow": {
     "slide_type": "subslide"
    }
   },
   "outputs": [],
   "source": [
    "# Length of an array\n",
    "\n",
    "a = np.array([1, 3, 4, 17, 3, 21, 2, 12])\n",
    "\n",
    "b = np.array([[1, 3, 4, 17],\n",
    "              [3, 21, 2, 12]])\n",
    "\n",
    "\n",
    "print(len(a))\n",
    "print(len(b))\n",
    "\n"
   ]
  },
  {
   "cell_type": "markdown",
   "metadata": {
    "slideshow": {
     "slide_type": "subslide"
    }
   },
   "source": [
    "Note the length is the length of the first dimension (e.g. indexing). "
   ]
  },
  {
   "cell_type": "code",
   "execution_count": null,
   "metadata": {
    "slideshow": {
     "slide_type": "subslide"
    }
   },
   "outputs": [],
   "source": [
    "# Sort an array\n",
    "\n",
    "a = np.array([1, 3, 4, 17, 3, 21, 2, 12])\n",
    "\n",
    "b = np.array([[1, 3, 4, 17],\n",
    "              [3, 12, 2, 12]])\n",
    "\n",
    "# The function sorted applies to 1D data structures only\n",
    "print(sorted(a))\n",
    "print(sorted(b[1]))\n",
    "\n",
    "# The method sort() applies to arrays of any size\n",
    "a.sort()\n",
    "b.sort()\n",
    "\n",
    "print(a)\n",
    "print(b)"
   ]
  },
  {
   "cell_type": "markdown",
   "metadata": {
    "slideshow": {
     "slide_type": "subslide"
    }
   },
   "source": [
    "Arrays are *immutable* (unchangeable).\n",
    "\n",
    "Technically you cannot add or delete items of an array. \n",
    "\n",
    "However, you can make a *new* array (which may have the same name as the original array), with the values ammended as required: "
   ]
  },
  {
   "cell_type": "markdown",
   "metadata": {
    "slideshow": {
     "slide_type": "subslide"
    }
   },
   "source": [
    "#### Appending Arrays \n",
    "Appending connects array-like (integer, list....) value  to the *end* of the original array. "
   ]
  },
  {
   "cell_type": "markdown",
   "metadata": {
    "slideshow": {
     "slide_type": "subslide"
    }
   },
   "source": [
    "By default, 2D arrays are appended as if joining lists.\n",
    "The new array is a 1D array"
   ]
  },
  {
   "cell_type": "code",
   "execution_count": null,
   "metadata": {
    "slideshow": {
     "slide_type": "subslide"
    }
   },
   "outputs": [],
   "source": [
    "# 2D array\n",
    "a = np.array([[0], [1], [2]])\n",
    "print(a)\n",
    "print()\n",
    "\n",
    "# 2D array\n",
    "b = np.array([[3], [4]])\n",
    "print(b)\n",
    "print()\n",
    "\n",
    "# 1D array\n",
    "c = np.array([3, 4])\n",
    "print(b)\n",
    "print()\n",
    "\n",
    "# integer\n",
    "d = 1\n",
    "\n",
    "print(f\"original 2D array shapes: a = {a.shape}, b = {b.shape}\")\n",
    "print()\n",
    "\n",
    "X = np.append(a, b)\n",
    "print(X)\n",
    "print(f\"new array shape: {a.shape}\")\n",
    "print()\n",
    "\n",
    "X = np.append(b, d)\n",
    "print(X)\n",
    "print(f\"new array shape: {a.shape}\")\n",
    "print()\n",
    "\n",
    "X = np.append(c, d)\n",
    "print(X)\n",
    "print(f\"new array shape: {a.shape}\")\n",
    "print()"
   ]
  },
  {
   "cell_type": "markdown",
   "metadata": {
    "slideshow": {
     "slide_type": "subslide"
    }
   },
   "source": [
    "The axis on which to append an array can be optionally specified.\n",
    "\n",
    "e.g. 2D array:\n",
    " - 0: columns\n",
    " - 1: rows\n",
    "\n",
    "The arrays must have the same shape, except in the dimension corresponding to the specified axis "
   ]
  },
  {
   "cell_type": "code",
   "execution_count": null,
   "metadata": {
    "slideshow": {
     "slide_type": "subslide"
    }
   },
   "outputs": [],
   "source": [
    "# 2D array\n",
    "a = np.array([[0], [1], [2]])\n",
    "print(a)\n",
    "print()\n",
    "\n",
    "# 2D array\n",
    "b = np.array([[3], [4]])\n",
    "print(b)\n",
    "print()\n",
    "\n",
    "new2d = np.append(a, b, axis=0)\n",
    "print(new2d)\n",
    "print(f\"new array shape: {new2d.shape}\")"
   ]
  },
  {
   "cell_type": "markdown",
   "metadata": {
    "slideshow": {
     "slide_type": "subslide"
    }
   },
   "source": [
    "For example, in the cell above, if you change `axis=0` to `axis=1`, \n",
    "<br>you are trying to connect the side of `a` with length=3 to the side of `b` with length=2."
   ]
  },
  {
   "cell_type": "markdown",
   "metadata": {
    "slideshow": {
     "slide_type": "subslide"
    }
   },
   "source": [
    "There are dedicated functions to simplify joining or merging arrays.\n",
    "<br>If you are interested to expeirment further with joiing arrays you can try out the following functions:\n",
    " - `np.concatenate()` : Joins a sequence of arrays along an existing axis.\n",
    " - `np.vstack()` or `np.r_[]`: Stacks arrays row-wise\n",
    " - `np.hstack()` : Stacks arrays horizontally\n",
    " - `np.column_stack()` or `np.c_[]` : Stacks arrays column-wise\n",
    "Refer to last week's seminar for how to inpterpret the function documentation. "
   ]
  },
  {
   "cell_type": "markdown",
   "metadata": {
    "slideshow": {
     "slide_type": "subslide"
    }
   },
   "source": [
    "It can also be useful to remove individual (single or multiple) elements.\n",
    "\n",
    "For example, the following expand the locations within the array that you can change beyond the location at the *end* of the array."
   ]
  },
  {
   "cell_type": "markdown",
   "metadata": {
    "slideshow": {
     "slide_type": "subslide"
    }
   },
   "source": [
    "#### Adding elements to an array"
   ]
  },
  {
   "cell_type": "code",
   "execution_count": null,
   "metadata": {
    "slideshow": {
     "slide_type": "subslide"
    }
   },
   "outputs": [],
   "source": [
    "# Add items to an array\n",
    "# The insert() function arguments are\n",
    "# 1) The array to insert to\n",
    "# 2) The index of the inserted element\n",
    "# 3) The value of the inserted element\n",
    "\n",
    "a = ([1, 2, 3])\n",
    "a = np.insert(a, 1, 4)\n",
    "print(a)"
   ]
  },
  {
   "cell_type": "markdown",
   "metadata": {
    "slideshow": {
     "slide_type": "subslide"
    }
   },
   "source": [
    "Notice that, again, the output is a 1D aray by default"
   ]
  },
  {
   "cell_type": "code",
   "execution_count": null,
   "metadata": {
    "slideshow": {
     "slide_type": "subslide"
    }
   },
   "outputs": [],
   "source": [
    "# Add items to an array\n",
    "\n",
    "b = np.array([[1, 1], \n",
    "              [2, 2], \n",
    "              [3, 3]])\n",
    "\n",
    "print(f\"original array shape: {b.shape}\")\n",
    "\n",
    "b = np.insert(b, 1, [4, 4])\n",
    "\n",
    "print(b)\n",
    "\n",
    "print(f\"new array shape: {b.shape}\")"
   ]
  },
  {
   "cell_type": "markdown",
   "metadata": {
    "slideshow": {
     "slide_type": "subslide"
    }
   },
   "source": [
    "To preserve the multi-dimensional structure of an array, we can specify the axis on which to insert an element or range of elements. \n",
    "<br> In the example below, a column is inserted at element 1 of axis 1. "
   ]
  },
  {
   "cell_type": "code",
   "execution_count": null,
   "metadata": {
    "slideshow": {
     "slide_type": "subslide"
    }
   },
   "outputs": [],
   "source": [
    "# Add items to an array\n",
    "\n",
    "b = np.array([[1, 1], \n",
    "              [2, 2], \n",
    "              [3, 3]])\n",
    "\n",
    "b = np.insert(b, 1, [3, 2, 1], axis=1)\n",
    "print(b)"
   ]
  },
  {
   "cell_type": "markdown",
   "metadata": {
    "slideshow": {
     "slide_type": "subslide"
    }
   },
   "source": [
    "Notice what happens when we insert a *single* value on a specified axis"
   ]
  },
  {
   "cell_type": "code",
   "execution_count": null,
   "metadata": {
    "slideshow": {
     "slide_type": "subslide"
    }
   },
   "outputs": [],
   "source": [
    "b = np.insert(b, 1, 4, axis=1)\n",
    "print(b)"
   ]
  },
  {
   "cell_type": "markdown",
   "metadata": {
    "slideshow": {
     "slide_type": "subslide"
    }
   },
   "source": [
    "This behaviour is due to a very useful property called *broadcasting*. \n",
    "<br>We will study the rules governing broadcasting later in this seminar. "
   ]
  },
  {
   "cell_type": "markdown",
   "metadata": {
    "slideshow": {
     "slide_type": "subslide"
    }
   },
   "source": [
    "#### Deleting items from an array"
   ]
  },
  {
   "cell_type": "code",
   "execution_count": null,
   "metadata": {
    "slideshow": {
     "slide_type": "subslide"
    }
   },
   "outputs": [],
   "source": [
    "# Items are deleted from their position in a 1D array by default\n",
    "\n",
    "z = np.array([1, 3, 4, 5, 6, 7, 8, 9])\n",
    "\n",
    "\n",
    "z = np.delete(z, 3)\n",
    "print(z)\n",
    "\n",
    "z = np.delete(z, [0, 1, 2])\n",
    "print(z)\n"
   ]
  },
  {
   "cell_type": "code",
   "execution_count": null,
   "metadata": {
    "slideshow": {
     "slide_type": "subslide"
    }
   },
   "outputs": [],
   "source": [
    "# Again, axes to delete can be optionally specified:\n",
    "\n",
    "z = np.array([[1, 3, 4, 5], [6, 7, 8, 9]])\n",
    "print(z)\n",
    "print()\n",
    "\n",
    "z = np.delete(z, 3, axis=1)\n",
    "print(z)\n",
    "print()\n",
    "\n",
    "z = np.delete(z, [0, 1, 2], axis=1)\n",
    "print(z)\n",
    "print()"
   ]
  },
  {
   "cell_type": "markdown",
   "metadata": {
    "slideshow": {
     "slide_type": "subslide"
    }
   },
   "source": [
    "<a name=\"Changing\"></a>\n",
    "#### Changing items in an array\n"
   ]
  },
  {
   "cell_type": "code",
   "execution_count": null,
   "metadata": {
    "slideshow": {
     "slide_type": "subslide"
    }
   },
   "outputs": [],
   "source": [
    "c = np.array([1, 2, 3])\n",
    "c[1] = 4\n",
    "print(c)"
   ]
  },
  {
   "cell_type": "markdown",
   "metadata": {
    "slideshow": {
     "slide_type": "slide"
    }
   },
   "source": [
    "<a id='Plotting'></a>\n",
    "## Introduction to Plotting\n",
    "It is often useful to represent data visually.\n",
    "\n",
    "Matplotlib is a library for creating beautiful graphics.\n",
    "\n"
   ]
  },
  {
   "cell_type": "markdown",
   "metadata": {
    "slideshow": {
     "slide_type": "subslide"
    }
   },
   "source": [
    "First we will import the plotting part of `matplotlib`, renaming it  `plt`. \n",
    "\n",
    "Second we will use a command which tells Python to show any graphs inside the Notebook(not in a separate window). "
   ]
  },
  {
   "cell_type": "code",
   "execution_count": null,
   "metadata": {
    "collapsed": true
   },
   "outputs": [],
   "source": [
    "import matplotlib.pyplot as plt\n",
    "%matplotlib inline"
   ]
  },
  {
   "cell_type": "markdown",
   "metadata": {
    "slideshow": {
     "slide_type": "subslide"
    }
   },
   "source": [
    "<a id='LinePlot'></a>\n",
    "### A simple line plot\n",
    "It is very easy to generate simlpe plots from arrays or other data structures."
   ]
  },
  {
   "cell_type": "markdown",
   "metadata": {
    "slideshow": {
     "slide_type": "subslide"
    }
   },
   "source": [
    "A single parameter is automatically plotted against the index of each element."
   ]
  },
  {
   "cell_type": "code",
   "execution_count": null,
   "metadata": {},
   "outputs": [],
   "source": [
    "x = np.array([1,7,2,3,3,4,5])\n",
    "plt.plot(x)"
   ]
  },
  {
   "cell_type": "markdown",
   "metadata": {
    "slideshow": {
     "slide_type": "subslide"
    }
   },
   "source": [
    "To plot one parameter against another parameter:"
   ]
  },
  {
   "cell_type": "code",
   "execution_count": null,
   "metadata": {},
   "outputs": [],
   "source": [
    "x = [1, 2, 5, 7, 12]\n",
    "y = [3, 2, 0.7, 0.6, 0.1]\n",
    "plt.plot(x, y)"
   ]
  },
  {
   "cell_type": "markdown",
   "metadata": {
    "slideshow": {
     "slide_type": "subslide"
    }
   },
   "source": [
    "<a id='ScatterPlot'></a>\n",
    "### A scatter plot\n",
    "To plot a scatter plot of points instead of a connected line add a `formatstring`:"
   ]
  },
  {
   "cell_type": "code",
   "execution_count": null,
   "metadata": {},
   "outputs": [],
   "source": [
    "x = [1, 2, 5, 7, 12]\n",
    "y = [3, 2, 0.7, 0.6, 0.1]\n",
    "plt.plot(x, y, 'o')"
   ]
  },
  {
   "cell_type": "markdown",
   "metadata": {
    "slideshow": {
     "slide_type": "slide"
    }
   },
   "source": [
    "## Mathematics with arrays.\n",
    "\n",
    "Unlike lists, NumPy arrays support common arithmetic operations, such as addition of two arrays."
   ]
  },
  {
   "cell_type": "code",
   "execution_count": null,
   "metadata": {
    "slideshow": {
     "slide_type": "subslide"
    }
   },
   "outputs": [],
   "source": [
    "# To add the elements of two lists we need the Numpy function: add\n",
    "a = [1, 2, 3]\n",
    "b = [4, 5, 6]\n",
    "\n",
    "c = a + b\n",
    "print(c)\n",
    "\n",
    "c = np.add(a, b)\n",
    "print(c)"
   ]
  },
  {
   "cell_type": "markdown",
   "metadata": {
    "slideshow": {
     "slide_type": "subslide"
    }
   },
   "source": [
    "To add the elements of two arrays we can just use regular arithmetic operators.\n",
    "\n",
    "The two arrays should have the same dimensions."
   ]
  },
  {
   "cell_type": "code",
   "execution_count": null,
   "metadata": {},
   "outputs": [],
   "source": [
    "a = np.array([1, 2, 3])\n",
    "b = np.ones((1,3))\n",
    "\n",
    "c = a + b\n",
    "print(c)\n",
    "\n"
   ]
  },
  {
   "cell_type": "markdown",
   "metadata": {
    "slideshow": {
     "slide_type": "subslide"
    }
   },
   "source": [
    "Algebraic operations are appled *elementwise* to an array.\n",
    "\n",
    "This means the function is applied individually to each element in the list."
   ]
  },
  {
   "cell_type": "code",
   "execution_count": null,
   "metadata": {},
   "outputs": [],
   "source": [
    "a = np.array([1.0, 0.2, 1.2])\n",
    "b = np.array([2.0, 0.1, 2.1])\n",
    "\n",
    "print(a - b)\n",
    "\n",
    "print(np.subtract(a, b))"
   ]
  },
  {
   "cell_type": "code",
   "execution_count": null,
   "metadata": {
    "slideshow": {
     "slide_type": "subslide"
    }
   },
   "outputs": [],
   "source": [
    "a = np.array([[1.0, 0.2, 1],\n",
    "              [1.0, 0.2, 1]])\n",
    "\n",
    "b = np.array([[2.0, 0.1, 2],\n",
    "              [1.0, 0.2, 1]])\n",
    "\n",
    "# Elementwise multiplication of a and b\n",
    "print(a * b)\n",
    "print()\n",
    "print(np.multiply(a, b))\n",
    "\n",
    "print(),print()\n",
    "\n",
    "# Elementwise division of a and b\n",
    "print(a / b)\n",
    "print()\n",
    "print(np.divide(a, b))"
   ]
  },
  {
   "cell_type": "markdown",
   "metadata": {
    "slideshow": {
     "slide_type": "subslide"
    }
   },
   "source": [
    "Apply a mathematical function to a range of values.\n",
    "\n",
    "Example: Evaluate $y = x^4 - 16$ between $x=-10$ and $x=10$"
   ]
  },
  {
   "cell_type": "code",
   "execution_count": null,
   "metadata": {},
   "outputs": [],
   "source": [
    "x = np.linspace(-10, 10, 100)\n",
    "y = x**4 - 16\n",
    "plt.plot(x, y)\n",
    "\n"
   ]
  },
  {
   "cell_type": "code",
   "execution_count": null,
   "metadata": {
    "slideshow": {
     "slide_type": "subslide"
    }
   },
   "outputs": [],
   "source": [
    "x = np.linspace(-2*np.pi, 2*np.pi, 100)\n",
    "y = np.cos(x)\n",
    "plt.plot(x, y)"
   ]
  },
  {
   "cell_type": "markdown",
   "metadata": {
    "slideshow": {
     "slide_type": "slide"
    }
   },
   "source": [
    "## Mathematics with Vectors (1D arrays)\n",
    "1D arrays are a useful ways to represent vectors. \n",
    "\n",
    "A vector is a quantity with a direction and a magnitude.\n",
    "\n",
    "Let's look at a  previous example for computing the dot product of two vectors."
   ]
  },
  {
   "cell_type": "markdown",
   "metadata": {
    "slideshow": {
     "slide_type": "subslide"
    }
   },
   "source": [
    "The dot product of two $n$-length-vectors:\n",
    "<br> $ \\mathbf{A} = [A_1, A_2, ... A_n]$\n",
    "<br> $ \\mathbf{B} = [B_1, B_2, ... B_n]$\n",
    "\n",
    "\\begin{align}\n",
    "\\mathbf{A} \\cdot \\mathbf{B} = \\sum_{i=1}^n A_i B_i.\n",
    "\\end{align}"
   ]
  },
  {
   "cell_type": "markdown",
   "metadata": {
    "slideshow": {
     "slide_type": "subslide"
    }
   },
   "source": [
    "We learnt to solve this very easily using a Python `for` loop.\n",
    "\n",
    "With each iteration of the loop we increase the value of `dot_product` (initial value = 0.0) by the product of `a` and `b`.  \n",
    "\n",
    "```python\n",
    "A = [1.0, 3.0, -5.0]\n",
    "B = [4.0, -2.0, -1.0]\n",
    "\n",
    "# Create a variable called dot_product with value, 0.\n",
    "dot_product = 0.0\n",
    "\n",
    "for a, b in zip(A, B): \n",
    "    dot_product += a * b\n",
    "\n",
    "print(dot_product)\n",
    "```"
   ]
  },
  {
   "cell_type": "markdown",
   "metadata": {
    "slideshow": {
     "slide_type": "subslide"
    }
   },
   "source": [
    "Numpy makes solving the dot product even easier. \n",
    "\n",
    "We can use the Numpy function `dot()`.\n",
    "<br>`dot()` can also takes lists as inputs.\n",
    "\n",
    "We can also use `@`\n",
    "<br>`@` does not work on lists or in Python 2"
   ]
  },
  {
   "cell_type": "markdown",
   "metadata": {
    "slideshow": {
     "slide_type": "subslide"
    }
   },
   "source": [
    "Example: Computing the dot product of two vectors.\n",
    "<img src=\"img/dot-product-diagram.gif\" alt=\"Drawing\" style=\"width: 300px;\"/>"
   ]
  },
  {
   "cell_type": "code",
   "execution_count": null,
   "metadata": {
    "slideshow": {
     "slide_type": "subslide"
    }
   },
   "outputs": [],
   "source": [
    "import numpy as np\n",
    "A = [9, 2, 7]\n",
    "B = [4, 8, 10]\n",
    "print(np.dot(A,B))\n",
    "\n",
    "A = np.array([9, 2, 7])\n",
    "B = np.array([4, 8, 10])\n",
    "print(np.dot(A,B))\n",
    "print(A @ B)"
   ]
  },
  {
   "cell_type": "markdown",
   "metadata": {
    "slideshow": {
     "slide_type": "subslide"
    }
   },
   "source": [
    "__Try it yourself__\n",
    "\n",
    "In the cell below write a user-defined function that takes two lists and returns the dot product.\n",
    "\n",
    "*Hint: use the code from Seminar 4: Data Structures (shown above).*\n",
    "\n",
    "Use the magic function `%timeit` to compare the speed of the for loop with the Numpy `dot()` function for solving the dot product."
   ]
  },
  {
   "cell_type": "code",
   "execution_count": null,
   "metadata": {},
   "outputs": [],
   "source": [
    "# Write a function for the dot product of two vectors expressed as lists\n",
    "# Compare the speed of your function to the Numpy function\n",
    "A = [1.0, 3.0, -5.0]\n",
    "B = [4.0, -2.0, -1.0]\n",
    "\n",
    "# Create a variable called dot_product with value, 0.\n",
    "dot_product = 0.0\n",
    "\n",
    "for a, b in zip(A, B): \n",
    "    dot_product += a * b\n",
    "\n",
    "%timeit dot_product\n",
    "\n",
    "import numpy as np \n",
    "\n",
    "%timeit np.dot(A,B)\n"
   ]
  },
  {
   "cell_type": "markdown",
   "metadata": {
    "collapsed": true,
    "slideshow": {
     "slide_type": "slide"
    }
   },
   "source": [
    "## Mathematics with Matrices (2D arrays)\n",
    "If you have previously studied matrices, the operations in this section will be familiar. \n",
    "\n",
    "If you have not yet studied matrices, you may want to refer back to this section once matrices have been covered in your mathematics classes.\n",
    "\n",
    "Matrix operations will not be  included in the exam."
   ]
  },
  {
   "cell_type": "markdown",
   "metadata": {
    "slideshow": {
     "slide_type": "subslide"
    }
   },
   "source": [
    "2D arrays are a convenient way to represents matrices.\n",
    "\n",
    "For example, the  2x3 matrix\n",
    "\n",
    "$$\n",
    "A = \n",
    "\\begin{bmatrix} \n",
    "3 & 5 & 7\\\\ \n",
    "2 & 4 & 6\n",
    "\\end{bmatrix} \n",
    "$$\n",
    "\n",
    "can be represented as a 2D array. "
   ]
  },
  {
   "cell_type": "code",
   "execution_count": null,
   "metadata": {},
   "outputs": [],
   "source": [
    "A = np.array([[3, 5, 7], \n",
    "              [2, 4, 6]])\n",
    "print(A)"
   ]
  },
  {
   "cell_type": "markdown",
   "metadata": {
    "slideshow": {
     "slide_type": "subslide"
    }
   },
   "source": [
    "We can use shape to return the matrix dimensions."
   ]
  },
  {
   "cell_type": "code",
   "execution_count": null,
   "metadata": {},
   "outputs": [],
   "source": [
    "print(A.shape)\n",
    "print(f\"Number of rows is {A.shape[0]}, number of columns is {A.shape[1]}\")\n",
    "print(f\"A is an {A.shape[0]} by {A.shape[1]} matrix\")"
   ]
  },
  {
   "cell_type": "markdown",
   "metadata": {
    "collapsed": true,
    "slideshow": {
     "slide_type": "subslide"
    }
   },
   "source": [
    "#### Matrix multiplication rules.\n",
    "If the number of __columns in A__ \n",
    "<br>is the same as number of __rows in B__, \n",
    "<br>we can find the matrix product of $\\mathbf{A}$ and $\\mathbf{B}$.\n",
    "<br> $\\mathbf{C} = \\mathbf{A} \\cdot \\mathbf{B}$\n",
    "\n"
   ]
  },
  {
   "cell_type": "markdown",
   "metadata": {
    "slideshow": {
     "slide_type": "subslide"
    }
   },
   "source": [
    "For example:\n",
    "<br>$\\mathbf{A}$ has 3 rows and __3 columns__\n",
    "<br>$\\mathbf{B}$ has __3 rows__ and 1 column \n",
    "<br>($\\mathbf{B}$ is a vector represented as a matrix)\n",
    "\n",
    "\\begin{equation*}\n",
    "\\underbrace{\n",
    "\\begin{bmatrix}\n",
    "1 & 2 & 3 \\\\\n",
    "4 & 5 & 6 \\\\\n",
    "7 & 8 & 9 \\\\\n",
    "\\end{bmatrix}\n",
    "}_{\\mathbf{A} \\text{ 3 rows} \\text{ 3 columns}}\n",
    "\\cdot\n",
    "\\underbrace{\n",
    "\\begin{bmatrix}\n",
    "10 \\\\\n",
    "20 \\\\\n",
    "30 \\\\\n",
    "\\end{bmatrix}\n",
    "}_{\\mathbf{B} \\text{  3 rows} \\text{  1 column}}\n",
    "\\end{equation*}\n",
    "\n",
    "So we can multiply them..."
   ]
  },
  {
   "cell_type": "markdown",
   "metadata": {
    "slideshow": {
     "slide_type": "subslide"
    }
   },
   "source": [
    "In matrix $\\mathbf{C}$, the element in __row $i$__, __column $j$__ \n",
    "\n",
    "is equal to the dot product of the $i$th __row__ of $\\mathbf{A}$, $j$th __column__ of $\\mathbf{B}$.m"
   ]
  },
  {
   "cell_type": "markdown",
   "metadata": {
    "collapsed": true,
    "slideshow": {
     "slide_type": "subslide"
    }
   },
   "source": [
    "\n",
    "\n",
    "\\begin{equation*}\n",
    "\\underbrace{\n",
    "\\begin{bmatrix}\n",
    "\\color{red}1 & \\color{red}2 & \\color{red}3 \\\\\n",
    "4 & 5 & 6 \\\\\n",
    "7 & 8 & 9 \\\\\n",
    "\\end{bmatrix}\n",
    "}_{\\mathbf{A} \\text{ 3 rows} \\text{ 3 columns}}\n",
    "\\cdot\n",
    "\\underbrace{\n",
    "\\begin{bmatrix}\n",
    "\\color{red}{10} \\\\\n",
    "\\color{red}{20} \\\\\n",
    "\\color{red}{30} \\\\\n",
    "\\end{bmatrix}\n",
    "}_{\\mathbf{B} \\text{  3 rows} \\text{  1 column}}\n",
    "=\\underbrace{\n",
    "\\begin{bmatrix}\n",
    "\\color{red}{1 \\cdot 10 \\quad + \\quad 2 \\cdot 20 \\quad + \\quad 3 \\cdot 30} \\\\\n",
    "4 \\cdot 10 \\quad + \\quad 5 \\cdot 20 \\quad + \\quad 6 \\cdot 30 \\\\\n",
    "7 \\cdot 10 \\quad + \\quad 8 \\cdot 20 \\quad + \\quad 9 \\cdot 30 \\\\\n",
    "\\end{bmatrix}\n",
    "}_{\\mathbf{C} \\text{  3 rows} \\text{  1 column}}\n",
    "=\\underbrace{\n",
    "\\begin{bmatrix}\n",
    "\\color{red}{140} \\\\\n",
    "320 \\\\\n",
    "500 \\\\\n",
    "\\end{bmatrix}\n",
    "}_{\\mathbf{C} \\text{  3 rows} \\text{  1 column1}}\n",
    "\\end{equation*}"
   ]
  },
  {
   "cell_type": "markdown",
   "metadata": {
    "collapsed": true,
    "slideshow": {
     "slide_type": "subslide"
    }
   },
   "source": [
    "\\begin{equation*}\n",
    "\\underbrace{\n",
    "\\begin{bmatrix}\n",
    "1 & 2 & 3 \\\\\n",
    "\\color{red}4 & \\color{red}5 & \\color{red}6 \\\\\n",
    "7 & 8 & 9 \\\\\n",
    "\\end{bmatrix}\n",
    "}_{\\mathbf{A} \\text{ 3 rows} \\text{ 3 columns}}\n",
    "\\cdot\n",
    "\\underbrace{\n",
    "\\begin{bmatrix}\n",
    "\\color{red}{10} \\\\\n",
    "\\color{red}{20} \\\\\n",
    "\\color{red}{30} \\\\\n",
    "\\end{bmatrix}\n",
    "}_{\\mathbf{B} \\text{  3 rows} \\text{  1 column}}\n",
    "=\\underbrace{\n",
    "\\begin{bmatrix}\n",
    "1 \\cdot 10 \\quad + \\quad 2 \\cdot 20 \\quad + \\quad 3 \\cdot 30 \\\\\n",
    "\\color{red}{4 \\cdot 10 \\quad + \\quad 5 \\cdot 20 \\quad + \\quad 6 \\cdot 30} \\\\\n",
    "7 \\cdot 10 \\quad + \\quad 8 \\cdot 20 \\quad + \\quad 9 \\cdot 30 \\\\\n",
    "\\end{bmatrix}\n",
    "}_{\\mathbf{C} \\text{  3 rows} \\text{  1 column}}\n",
    "=\\underbrace{\n",
    "\\begin{bmatrix}\n",
    "140 \\\\\n",
    "\\color{red}{320} \\\\\n",
    "500 \\\\\n",
    "\\end{bmatrix}\n",
    "}_{\\mathbf{C} \\text{  3 rows} \\text{  1 column1}}\n",
    "\\end{equation*}"
   ]
  },
  {
   "cell_type": "markdown",
   "metadata": {
    "collapsed": true,
    "slideshow": {
     "slide_type": "subslide"
    }
   },
   "source": [
    "\\begin{equation*}\n",
    "\\underbrace{\n",
    "\\begin{bmatrix}\n",
    "1 & 2 & 3 \\\\\n",
    "4 & 5 & 6 \\\\\n",
    "\\color{red}7 & \\color{red}8 & \\color{red}9 \\\\\n",
    "\\end{bmatrix}\n",
    "}_{\\mathbf{A} \\text{ 3 rows} \\text{ 3 columns}}\n",
    "\\cdot\n",
    "\\underbrace{\n",
    "\\begin{bmatrix}\n",
    "\\color{red}{10} \\\\\n",
    "\\color{red}{20} \\\\\n",
    "\\color{red}{30} \\\\\n",
    "\\end{bmatrix}\n",
    "}_{\\mathbf{B} \\text{  3 rows} \\text{  1 column}}\n",
    "=\\underbrace{\n",
    "\\begin{bmatrix}\n",
    "1 \\cdot 10 \\quad + \\quad 2 \\cdot 20 \\quad + \\quad 3 \\cdot 30 \\\\\n",
    "4 \\cdot 10 \\quad + \\quad 5 \\cdot 20 \\quad + \\quad 6 \\cdot 30 \\\\\n",
    "\\color{red}{7 \\cdot 10 \\quad + \\quad 8 \\cdot 20 \\quad + \\quad 9 \\cdot 30} \\\\\n",
    "\\end{bmatrix}\n",
    "}_{\\mathbf{C} \\text{  3 rows} \\text{  1 column}}\n",
    "=\\underbrace{\n",
    "\\begin{bmatrix}\n",
    "140 \\\\\n",
    "320 \\\\\n",
    "\\color{red}{500} \\\\\n",
    "\\end{bmatrix}\n",
    "}_{\\mathbf{C} \\text{  3 rows} \\text{  1 column1}}\n",
    "\\end{equation*}"
   ]
  },
  {
   "cell_type": "markdown",
   "metadata": {
    "slideshow": {
     "slide_type": "subslide"
    }
   },
   "source": [
    "\\begin{equation*}\n",
    "\\underbrace{\n",
    "\\begin{bmatrix}\n",
    "1 & 2 & 3 \\\\\n",
    "4 & 5 & 6 \\\\\n",
    "7 & 8 & 9 \\\\\n",
    "\\end{bmatrix}\n",
    "}_{\\mathbf{A} \\text{ 3 rows} \\text{ 3 columns}}\n",
    "\\cdot\n",
    "\\underbrace{\n",
    "\\begin{bmatrix}\n",
    "10 \\\\\n",
    "20 \\\\\n",
    "30 \\\\\n",
    "\\end{bmatrix}\n",
    "}_{\\mathbf{B} \\text{  3 rows} \\text{  1 column}}\n",
    "=\\underbrace{\n",
    "\\begin{bmatrix}\n",
    "1 \\cdot 10 \\quad + \\quad 2 \\cdot 20 \\quad + \\quad 3 \\cdot 30 \\\\\n",
    "4 \\cdot 10 \\quad + \\quad 5 \\cdot 20 \\quad + \\quad 6 \\cdot 30 \\\\\n",
    "7 \\cdot 10 \\quad + \\quad 8 \\cdot 20 \\quad + \\quad 9 \\cdot 30 \\\\\n",
    "\\end{bmatrix}\n",
    "}_{\\mathbf{C} \\text{  3 rows} \\text{  1 column}}\n",
    "=\\underbrace{\n",
    "\\begin{bmatrix}\n",
    "140 \\\\\n",
    "320 \\\\\n",
    "500 \\\\\n",
    "\\end{bmatrix}\n",
    "}_{\\mathbf{C} \\text{  3 rows} \\text{  1 column1}}\n",
    "\\end{equation*}\n",
    "\n",
    "Matrix $\\mathbf{C}$ therefore has: \n",
    "- the same number of __rows__ as $\\mathbf{A}$,\n",
    "- the same number of __columns__ as $\\mathbf{B}$."
   ]
  },
  {
   "cell_type": "code",
   "execution_count": null,
   "metadata": {
    "slideshow": {
     "slide_type": "subslide"
    }
   },
   "outputs": [],
   "source": [
    "# In the equation above, vector B must be represented as a column vector\n",
    "A = np.array([[1, 2, 3], \n",
    "              [4, 5, 6],\n",
    "              [7, 8, 9]])\n",
    "\n",
    "\n",
    "# In Python, 1D arrays are ALWAYS represented horizontally \n",
    "# This does not define the array as a row vector\n",
    "B = np.array([10, 20, 30])\n",
    "\n",
    "\n",
    "# For example, C is represented horizontally \n",
    "C = np.dot(A,B)\n",
    "print(C)\n"
   ]
  },
  {
   "cell_type": "markdown",
   "metadata": {
    "slideshow": {
     "slide_type": "subslide"
    }
   },
   "source": [
    "As an example, if $\\mathbf{B}$ were a row vector: \n",
    "\n",
    "\\begin{equation*}\n",
    "\\underbrace{\n",
    "\\begin{bmatrix}\n",
    "1 & 2 & 3 \\\\\n",
    "4 & 5 & 6 \\\\\n",
    "7 & 8 & 9 \\\\\n",
    "\\end{bmatrix}\n",
    "}_{\\mathbf{A} \\text{ 3 rows} \\text{ 3 columns}}\n",
    "\\cdot\n",
    "\\underbrace{\n",
    "\\begin{bmatrix}\n",
    "10 & 20 & 30 \\\\\n",
    "\\end{bmatrix}\n",
    "}_{\\mathbf{B} \\text{  1 row} \\text{  3 columns}}\n",
    "\\end{equation*}\n",
    "\n",
    "We *cannot* find the dot product $\\mathbf{B}\\cdot\\mathbf{A}$.\n",
    "<br>The number of columns in $\\mathbf{A}$ __is not__ the same as number of rows in $\\mathbf{B}$."
   ]
  },
  {
   "cell_type": "markdown",
   "metadata": {
    "slideshow": {
     "slide_type": "subslide"
    }
   },
   "source": [
    "We can swap the order of $\\mathbf{A}$ and $\\mathbf{B}$.\n",
    "<br>The multiplication is now possible.\n",
    "<br>However, the outcome is different.\n",
    "\n",
    "\n",
    "\\begin{equation*}\n",
    "\\underbrace{\n",
    "\\begin{bmatrix}\n",
    "10 & 20 & 30 \\\\\n",
    "\\end{bmatrix}\n",
    "}_{\\mathbf{B} \\text{ 1 row} \\text{ 3 columns}}\n",
    "\\cdot\n",
    "\\underbrace{\n",
    "\\begin{bmatrix}\n",
    "\\color{red}1 & \\color{blue}2 & \\color{green}3 \\\\\n",
    "\\color{red}4 & \\color{blue}5 & \\color{green}6 \\\\\n",
    "\\color{red}7 & \\color{blue}8 & \\color{green}9 \\\\\n",
    "\\end{bmatrix}\n",
    "}_{\\mathbf{A} \\text{  3 rows} \\text{  3 columns}}\n",
    "=\\underbrace{\n",
    "\\begin{bmatrix}\n",
    "\\color{red}{10 \\cdot 1 + 20 \\cdot 4 + 30 \\cdot 7} &\n",
    "\\color{blue}{4 \\cdot 10 + 5 \\cdot 20 + 6 \\cdot 30} &\n",
    "\\color{green}{7 \\cdot 10 + 8 \\cdot 20 + 9 \\cdot 30} \\\\\n",
    "\\end{bmatrix}\n",
    "}_{\\mathbf{C} \\text{  1 row} \\text{  3 columns}}\n",
    "=\\underbrace{\n",
    "\\begin{bmatrix}\n",
    "\\color{red}{140} &\n",
    "\\color{blue}{320} &\n",
    "\\color{green}{500} \\\\\n",
    "\\end{bmatrix}\n",
    "}_{\\mathbf{C} \\text{  3 rows} \\text{  1 column1}}\n",
    "\\end{equation*}"
   ]
  },
  {
   "cell_type": "markdown",
   "metadata": {
    "slideshow": {
     "slide_type": "subslide"
    }
   },
   "source": [
    "In Python, normal matrix multiplication rules apply to 2D arrays.\n",
    "<br>This holds even if the length of one of the dimensions of the 2D array is equal to 1.\n",
    "\n"
   ]
  },
  {
   "cell_type": "code",
   "execution_count": null,
   "metadata": {},
   "outputs": [],
   "source": [
    "A = np.array([[1, 2, 3], \n",
    "              [4, 5, 6],\n",
    "              [7, 8, 9]])\n",
    "\n",
    "# 2D array\n",
    "X = np.array([[10, 20, 30]])\n",
    "\n",
    "# 2D array\n",
    "Y = np.array([[10],\n",
    "              [20], \n",
    "              [30]])\n",
    "\n",
    "print(np.dot(X, A)) #, print(np.dot(A, X))\n",
    "print(np.dot(A, Y)) #, print(np.dot(Y, A))"
   ]
  },
  {
   "cell_type": "markdown",
   "metadata": {
    "slideshow": {
     "slide_type": "subslide"
    }
   },
   "source": [
    "However, the orientation with which 1D arrays are shown (always horizontal) does not impact their allowbale placement in an expression. \n",
    "\n",
    "Python will automatially treat the 1D as a column where appropriate."
   ]
  },
  {
   "cell_type": "code",
   "execution_count": null,
   "metadata": {
    "slideshow": {
     "slide_type": "-"
    }
   },
   "outputs": [],
   "source": [
    "A = np.array([[1, 2, 3], \n",
    "              [4, 5, 6],\n",
    "              [7, 8, 9]])\n",
    "\n",
    "# 1D array\n",
    "Z = np.array([10, 20, 30])\n",
    "\n",
    "print(np.dot(Z, A))\n",
    "print(np.dot(A, Z))"
   ]
  },
  {
   "cell_type": "markdown",
   "metadata": {
    "slideshow": {
     "slide_type": "slide"
    }
   },
   "source": [
    "### Useful Matrix Operations\n",
    "#### Inverse of a square matrix"
   ]
  },
  {
   "cell_type": "code",
   "execution_count": null,
   "metadata": {
    "slideshow": {
     "slide_type": "subslide"
    }
   },
   "outputs": [],
   "source": [
    "A = np.array([[1,2], \n",
    "              [3, 4]]) \n",
    "\n",
    "Ainv = np.linalg.inv(A)\n",
    "\n",
    "print(f\"A = \\n {A}\")\n",
    "print(f\"Inverse of A = \\n {Ainv}\")"
   ]
  },
  {
   "cell_type": "markdown",
   "metadata": {
    "slideshow": {
     "slide_type": "subslide"
    }
   },
   "source": [
    "#### Determinant of a square matrix"
   ]
  },
  {
   "cell_type": "code",
   "execution_count": null,
   "metadata": {},
   "outputs": [],
   "source": [
    "A = np.array([[1,2], \n",
    "              [3, 4]]) \n",
    "\n",
    "Adet = np.linalg.det(A)\n",
    "\n",
    "print(f\"A = \\n {A}\")\n",
    "print(f\"Determinant of A = {round(Adet, 2)}\")"
   ]
  },
  {
   "cell_type": "markdown",
   "metadata": {
    "slideshow": {
     "slide_type": "subslide"
    }
   },
   "source": [
    "#### Transpose of a matrix\n",
    "\n",
    "- The columns of the transpose matrix are the rows of the original matrix.\n",
    "- The rows of the transopse matrix are the columns of the original matrix.  "
   ]
  },
  {
   "cell_type": "code",
   "execution_count": null,
   "metadata": {},
   "outputs": [],
   "source": [
    "a = np.zeros((2,4))\n",
    "print(a)\n",
    "print()\n",
    "\n",
    "\n",
    "print(a.T)\n",
    "print()\n",
    "\n",
    "#or \n",
    "\n",
    "print(np.transpose(a))"
   ]
  },
  {
   "cell_type": "markdown",
   "metadata": {
    "slideshow": {
     "slide_type": "subslide"
    }
   },
   "source": [
    "#### Generate Identity Matrix"
   ]
  },
  {
   "cell_type": "code",
   "execution_count": null,
   "metadata": {
    "scrolled": true
   },
   "outputs": [],
   "source": [
    "I = np.eye(2)\n",
    "print(I)\n",
    "\n",
    "print()\n",
    "\n",
    "I = np.eye(4)\n",
    "print(I)"
   ]
  },
  {
   "cell_type": "markdown",
   "metadata": {
    "slideshow": {
     "slide_type": "slide"
    }
   },
   "source": [
    "<a id='SimultaneousEqtns'></a>\n",
    "\n",
    "### Useful Matrix Applications: Solving Simultaneous Equations\n",
    "\n",
    "A mathematical problem that arises in a wide range of engineering applications; the simultaneous solution to a set of n linear equations with n unknown values.\n",
    "\n",
    "Matrices are a widely used and popular technique for solving this type of problem."
   ]
  },
  {
   "cell_type": "markdown",
   "metadata": {
    "slideshow": {
     "slide_type": "subslide"
    }
   },
   "source": [
    "Solving problems of this __computationally__ is particularly useful where:\n",
    "- we need to solve a large number of equations simultaneously e.g.\n",
    " - the force distribution in a truss structure <img src=\"img/truss.gif\" alt=\"Drawing\" style=\"width: 300px;\"/> \n",
    " - the electrical current flowing in and out of each node in a circuit.\n",
    "<img src=\"img/current_flow.png\" alt=\"Drawing\" style=\"width: 150px;\"/> \n",
    "- we need to solve the equations over multiple steps<br>e.g. observing the progression of a system over time."
   ]
  },
  {
   "cell_type": "markdown",
   "metadata": {
    "slideshow": {
     "slide_type": "slide"
    }
   },
   "source": [
    "### Systems of Equations Example: An Electrical Circuit\n",
    "\n",
    "In electrical systems, network theory is the study of how to solve circuit problems. \n",
    "<br>The voltage and current in a closed circuit obey two simple rules;  \n",
    "- Kirchoff's current law (first law)\n",
    "- Kirchhoff's voltage law (second law)\n",
    "<img src=\"img/kirchhoffLaws.png\" alt=\"Drawing\" style=\"width: 300px;\"/> \n"
   ]
  },
  {
   "cell_type": "markdown",
   "metadata": {
    "slideshow": {
     "slide_type": "subslide"
    }
   },
   "source": [
    "#### Kichoff's Current Law\n",
    "\n",
    "The algebraic sum of ALL the currents entering and leaving a junction must be equal to zero.\n",
    "\n",
    "$\\sum i_{in} - \\sum i_{out} = 0 $\n",
    "\n",
    "\n",
    "<img src=\"img/kirchhoffCurrentLaw.png\" alt=\"Drawing\" style=\"width: 200px;\"/>"
   ]
  },
  {
   "cell_type": "markdown",
   "metadata": {
    "slideshow": {
     "slide_type": "subslide"
    }
   },
   "source": [
    "#### Kirchhoff's Voltage Law\n",
    "For a closed loop series path the algebraic sum of all the *voltages* and *voltage drops* around any closed loop in a circuit is equal to zero.\n",
    "\n",
    "$\\sum E - \\sum V = 0 $\n",
    "\n",
    "<img src=\"img/kirchhoffVoltageLaw.png\" alt=\"Drawing\" style=\"width: 200px;\"/> \n"
   ]
  },
  {
   "cell_type": "markdown",
   "metadata": {
    "slideshow": {
     "slide_type": "subslide"
    }
   },
   "source": [
    "#### Electrical Elements Obey Ohm's Law \n",
    "The current through a conductor (I, units amps) is the voltage measured across the conductor (V, units volts) divided by the resistance (R, units Ohms).\n",
    "\n",
    "$$V = IR$$\n"
   ]
  },
  {
   "cell_type": "markdown",
   "metadata": {
    "slideshow": {
     "slide_type": "subslide"
    }
   },
   "source": [
    "A Wheatstone bridge circuit is a very widely used circuit in scientific equipment.\n",
    "\n",
    "It is found in strain gauges, heart rate monitors, wind tunnels....etc.\n",
    "\n",
    "Fundamentally, it is used to measure resistance.\n",
    "\n",
    "<img src=\"img/Wheat4.png\" alt=\"Drawing\" style=\"width: 200px;\"/> "
   ]
  },
  {
   "cell_type": "markdown",
   "metadata": {
    "slideshow": {
     "slide_type": "subslide"
    }
   },
   "source": [
    "A wheatstone bridge circuit has mutiple loops and nodes. \n",
    "\n",
    "<img src=\"img/Wheat1.png\" alt=\"Drawing\" style=\"width: 200px;\"/> \n",
    "\n",
    "It has one voltage source, $E$.  \n",
    "\n",
    "It has five resisters $R_1, R_2, R_3, R_4, R_5, R_6$.\n",
    "\n",
    "<br>\n",
    "*Let's say we want to find the current in each branch $i_{1-6}$...*\n",
    "\n"
   ]
  },
  {
   "cell_type": "markdown",
   "metadata": {
    "slideshow": {
     "slide_type": "subslide"
    }
   },
   "source": [
    "The circuit has:\n",
    " - 4 loops (A-D)\n",
    " - a nodes (a-d)\n",
    " \n",
    "\n",
    "<img src=\"img/Wheat2.png\" alt=\"Drawing\" style=\"width: 200px;\"/> \n",
    "\n",
    " \n"
   ]
  },
  {
   "cell_type": "markdown",
   "metadata": {
    "slideshow": {
     "slide_type": "subslide"
    }
   },
   "source": [
    "\n",
    "We can use Kirchhoff's laws and Ohm's law with $E$ and $R_{1-6}$.\n",
    "\n",
    "$\\sum i_{in} - \\sum i_{out} = 0 $\n",
    "\n",
    "$\\sum E - \\sum V = 0 $\n",
    "\n",
    "$V = IR$\n",
    "\n",
    "<img src=\"img/Wheat2.png\" alt=\"Drawing\" style=\"width: 200px;\"/> \n",
    "\n",
    " \n"
   ]
  },
  {
   "cell_type": "markdown",
   "metadata": {
    "slideshow": {
     "slide_type": "subslide"
    }
   },
   "source": [
    "6 unknown values ($i_{1-6}$), 6 simultaneous equations.\n",
    "<img src=\"img/Wheat3.png\" alt=\"Drawing\" style=\"width: 200px;\"/>\n",
    "\n",
    "__Loop A:__ &nbsp; $R_1 i_1 + R_2 i_2 + R_5 i_5 = E$<br>\n",
    "__Loop B:__ &nbsp; $R_4 i_4 - R_5 i_5 + R_6 i_6 = 0$<br>\n",
    "__Loop C:__ &nbsp; $R_2 i_2 - R_3 i_3 + R_4 i_4 = 0$\n",
    "\n",
    "__Node a:__ &nbsp; $i_2 - i_4 - i_5 = 0$<br>\n",
    "__Node b:__ &nbsp; $i_1 - i_2 - i_3 = 0$<br>\n",
    "__Node c:__ &nbsp; $i_5 + i_6 - i_1 = 0$<br>\n",
    "\n"
   ]
  },
  {
   "cell_type": "markdown",
   "metadata": {
    "slideshow": {
     "slide_type": "subslide"
    }
   },
   "source": [
    "We can express these equations as matrices:\n",
    "\n",
    "\\begin{equation*}\n",
    "\\underbrace{\n",
    "\\begin{bmatrix}\n",
    "R_1 & R_2 & 0    & 0   &  R_5 & 0   \\\\\n",
    "0   & 0   & 0    & R_4 & -R_5 & R_6 \\\\\n",
    "0   & R_2 & -R_3 & R_4 &  0   & 0   \\\\\n",
    "0   & 1   & 0    & -1  &  -1  & 0   \\\\\n",
    "1   & -1  & -1   & 0   &  0   & 0   \\\\\n",
    "-1  & 0   & 0    & 0   &  1   & 1   \\\\\n",
    "\\end{bmatrix}\n",
    "}_{\\mathbf{R}}\n",
    "\\cdot\n",
    "\\underbrace{\n",
    "\\begin{bmatrix}\n",
    "i_1 \\\\\n",
    "i_2 \\\\\n",
    "i_3 \\\\\n",
    "i_4 \\\\\n",
    "i_5 \\\\\n",
    "i_6 \\\\\n",
    "\\end{bmatrix}\n",
    "}_{\\mathbf{I}}\n",
    "=\\underbrace{\n",
    "\\begin{bmatrix}\n",
    "E \\\\\n",
    "0 \\\\\n",
    "0 \\\\\n",
    "0 \\\\\n",
    "0 \\\\\n",
    "0 \\\\\n",
    "\\end{bmatrix}\n",
    "}_{\\mathbf{V}}\n",
    "\\end{equation*}"
   ]
  },
  {
   "cell_type": "code",
   "execution_count": null,
   "metadata": {
    "collapsed": true,
    "slideshow": {
     "slide_type": "subslide"
    }
   },
   "outputs": [],
   "source": [
    "# Let's assign some values to our known variables:\n",
    "E = 5\n",
    "\n",
    "R1, R2, R3, R4, R5, R6 = 300, 500, 1000, 500, 1000, 500\n",
    "\n",
    "R = np.array([[R1, R2,  0,   0,   R5, 0 ],\n",
    "              [0,  0,   0,   R4, -R5, R6],\n",
    "              [0,  R2, -R3,  R4,  0,  0 ], \n",
    "              [0,  1,   0,  -1,  -1,  0 ],\n",
    "              [1, -1,  -1,   0,   0,  0 ],              \n",
    "              [-1, 0,   0,   0,   1,  1]])\n",
    "\n",
    "V = np.array([E, 0, 0, 0, 0, 0])"
   ]
  },
  {
   "cell_type": "markdown",
   "metadata": {
    "slideshow": {
     "slide_type": "subslide"
    }
   },
   "source": [
    "We can find $\\mathbf{I}$ by matrix multiplication:\n",
    "\\begin{align*}\n",
    "\\mathbf{R}\\cdot\\mathbf{I}&=\\mathbf{V}\\\\\n",
    "\\end{align*}\n",
    "\n",
    "but we have to rearrange the equation.\n",
    "\n",
    "\\begin{align*}\n",
    "\\mathbf{I}  &=\\frac{\\mathbf{V}}{\\mathbf{R}}\\\\\n",
    "            &=\\mathbf{R^{-1}}\\cdot\\mathbf{V}\\\\\n",
    "\\end{align*}\n"
   ]
  },
  {
   "cell_type": "code",
   "execution_count": null,
   "metadata": {
    "slideshow": {
     "slide_type": "subslide"
    }
   },
   "outputs": [],
   "source": [
    "R_inv = np.linalg.inv(R)\n",
    "\n",
    "I = np.dot(R_inv, V)\n",
    "\n",
    "print(I)"
   ]
  },
  {
   "cell_type": "markdown",
   "metadata": {
    "slideshow": {
     "slide_type": "subslide"
    }
   },
   "source": [
    "Numpy conveniently solves linear matrix equations of the form `ax = b` so we don't need to rearrange. "
   ]
  },
  {
   "cell_type": "code",
   "execution_count": null,
   "metadata": {
    "slideshow": {
     "slide_type": "subslide"
    }
   },
   "outputs": [],
   "source": [
    "I = np.linalg.solve(R, V)\n",
    "print(I)"
   ]
  },
  {
   "cell_type": "markdown",
   "metadata": {},
   "source": [
    "You can check your answer by confirming that the dot product, $\\mathbf{R}\\cdot\\mathbf{I}$ is equal to $\\mathbf{V}$."
   ]
  },
  {
   "cell_type": "code",
   "execution_count": null,
   "metadata": {
    "slideshow": {
     "slide_type": "subslide"
    }
   },
   "outputs": [],
   "source": [
    "print(R @ I)\n",
    "print(np.around(R @ I, 2))"
   ]
  },
  {
   "cell_type": "markdown",
   "metadata": {
    "slideshow": {
     "slide_type": "subslide"
    }
   },
   "source": [
    "This process is a fast and simple way to solve simultaneous linear equations, for example when compared to eilimination methods. "
   ]
  },
  {
   "cell_type": "markdown",
   "metadata": {
    "slideshow": {
     "slide_type": "slide"
    }
   },
   "source": [
    "<a id='DiffEqtns'></a>\n",
    "\n",
    "### Systems of Equations Example: Rates of Change\n",
    "A well known problem concerns an imaginary country with three cities, A, B and C. \n",
    "<br>At the end of each year, a fraction, $n$ of the people must leave each city.\n",
    "<br>Half of the people leaving a city move to one of the two options, and half to the other.\n",
    "\n",
    "<img src=\"img/cities3.png\" alt=\"Drawing\" style=\"width: 400px;\"/> "
   ]
  },
  {
   "cell_type": "markdown",
   "metadata": {
    "slideshow": {
     "slide_type": "subslide"
    }
   },
   "source": [
    "This gives us a system of simultaneous equations\n",
    "\n",
    "\\begin{align*}\n",
    "\\Delta A = \\frac{Bn}{2} + \\frac{Cn}{2} - An \\\\\n",
    "\\Delta B = \\frac{An}{2} + \\frac{Cn}{2} - Bn\\\\\n",
    "\\Delta C = \\frac{An}{2} + \\frac{Bn}{2} -Cn \\\\\n",
    "\\end{align*}\n",
    "\n",
    "\n"
   ]
  },
  {
   "cell_type": "markdown",
   "metadata": {
    "slideshow": {
     "slide_type": "subslide"
    }
   },
   "source": [
    "Matrices are a convenient way to represent this problem.  "
   ]
  },
  {
   "cell_type": "markdown",
   "metadata": {
    "slideshow": {
     "slide_type": "subslide"
    }
   },
   "source": [
    "\\begin{equation*}\n",
    "\\begin{bmatrix}\n",
    "\\Delta A \\\\\n",
    "\\Delta B \\\\\n",
    "\\Delta C \\\\\n",
    "\\end{bmatrix}\n",
    "=\n",
    "\\underbrace{\n",
    "\\begin{bmatrix}\n",
    "-n & \\frac{n}{2} & \\frac{n}{2} \\\\\n",
    "\\frac{n}{2} & -n & \\frac{n}{2} \\\\\n",
    "\\frac{n}{2} & \\frac{n}{2} & -n \\\\\n",
    "\\end{bmatrix}\n",
    "}_{\\mathbf{migration}}\n",
    "\\cdot\n",
    "\\underbrace{\n",
    "\\begin{bmatrix}\n",
    "A \\\\\n",
    "B \\\\\n",
    "C \\\\\n",
    "\\end{bmatrix}\n",
    "}_{\\mathbf{population}}\n",
    "\\end{equation*}\n",
    "\n"
   ]
  },
  {
   "cell_type": "markdown",
   "metadata": {
    "slideshow": {
     "slide_type": "subslide"
    }
   },
   "source": [
    "Assigning values to $\\mathbf{M}$ and $\\mathbf{P}$."
   ]
  },
  {
   "cell_type": "markdown",
   "metadata": {},
   "source": [
    "\\begin{equation*}\n",
    "\\begin{bmatrix}\n",
    "\\Delta a \\\\\n",
    "\\Delta b \\\\\n",
    "\\Delta c \\\\\n",
    "\\end{bmatrix}\n",
    "=\n",
    "\\underbrace{\n",
    "\\begin{bmatrix}\n",
    "-0.2 & 0.1 & 0.1 \\\\\n",
    "0.1 & -0.2 & 0.1 \\\\\n",
    "0.1 & 0.1 & -0.2 \\\\\n",
    "\\end{bmatrix}\n",
    "}_{\\mathbf{M}}\n",
    "\\cdot\n",
    "\\underbrace{\n",
    "\\begin{bmatrix}\n",
    "A \\\\\n",
    "B \\\\\n",
    "C \\\\\n",
    "\\end{bmatrix}\n",
    "}_{\\mathbf{P}}\n",
    "\\end{equation*}\n",
    "\n"
   ]
  },
  {
   "cell_type": "markdown",
   "metadata": {
    "slideshow": {
     "slide_type": "subslide"
    }
   },
   "source": [
    "By solving the problem computationally, we can quickly solve multiple iterations. \n",
    "\n",
    "In the example below there are two functions.\n",
    "\n",
    "The first, `pop_change` computes the rate of change of the population. \n",
    "\n",
    "The second, `pop_plot`:\n",
    "- calls `pop_change` inside of it\n",
    "- generates a line plot showing the population change over time"
   ]
  },
  {
   "cell_type": "code",
   "execution_count": null,
   "metadata": {
    "collapsed": true,
    "slideshow": {
     "slide_type": "subslide"
    }
   },
   "outputs": [],
   "source": [
    "# Initial population\n",
    "P0 = np.array([190.0, 500.0, 30.0])\n",
    "\n",
    "# Matrix migration or M\n",
    "migration = np.full((3, 3), 0.01)\n",
    "np.fill_diagonal(migration, -0.02)\n",
    "\n",
    "\n",
    "def pop_change(P, M=migration):\n",
    "    \"Computes the change in population of three cities\"\n",
    "    return np.dot(P, M)\n",
    "\n",
    "\n",
    "\n",
    "    \n",
    "\n"
   ]
  },
  {
   "cell_type": "code",
   "execution_count": null,
   "metadata": {
    "collapsed": true,
    "slideshow": {
     "slide_type": "subslide"
    }
   },
   "outputs": [],
   "source": [
    "def pop_plot(iterations, population):\n",
    "    \"Plots the population over the number of iterations specified\"\n",
    "    \n",
    "    # make 2D array to append values to a column for each city\n",
    "    record_pop = population.reshape((1,3))  \n",
    "    \n",
    "    for i in range(iterations):\n",
    "        \n",
    "        # Increment population size\n",
    "        population = population + pop_change(population) \n",
    "        \n",
    "        # Save the population data\n",
    "        record_pop = (np.append(record_pop, \n",
    "                                population.reshape((1,3)), # make 2D array\n",
    "                                axis = 0))\n",
    "        \n",
    "\n",
    "    \n",
    "    plt.plot(record_pop[:,0] , label=\"A\")\n",
    "    plt.plot(record_pop[:,1] , label=\"B\")\n",
    "    plt.plot(record_pop[:,2] , label=\"C\")\n",
    "    plt.xlabel(\"Years\")\n",
    "    plt.ylabel(\"Population\")\n",
    "    plt.legend();\n",
    "    #plt.plot(record_pop)\n",
    "    #print(record_pop)"
   ]
  },
  {
   "cell_type": "code",
   "execution_count": null,
   "metadata": {
    "slideshow": {
     "slide_type": "subslide"
    }
   },
   "outputs": [],
   "source": [
    "# Plot the change in the populations of the cities over time\n",
    "pop_plot(iterations=120, population=P0) \n",
    "\n",
    "print(f\"total population = {np.sum(P0)}\")"
   ]
  },
  {
   "cell_type": "markdown",
   "metadata": {
    "slideshow": {
     "slide_type": "subslide"
    }
   },
   "source": [
    "In the example above the array `migration` or `M` just describes the change in a quantity; the population of each city.\n",
    "\n",
    "When a change in quantity is measured against a change in __time__ it describes the rate of change or flow of that quantity. "
   ]
  },
  {
   "cell_type": "markdown",
   "metadata": {
    "slideshow": {
     "slide_type": "subslide"
    }
   },
   "source": [
    "Rates are expressed as differential equations: the change in one parameter in relation to a change in another parameter. e.g. \n",
    " - velocity = change in position / change in time\n",
    " - acceleration = change in velocity / change in time"
   ]
  },
  {
   "cell_type": "markdown",
   "metadata": {
    "slideshow": {
     "slide_type": "subslide"
    }
   },
   "source": [
    "The Scipy library has easy to use tools for estimating the solutions to systems of (or single) differential equations like the example we just looked at.\n",
    "\n",
    "The function `odeint` solves first order differential equations."
   ]
  },
  {
   "cell_type": "code",
   "execution_count": null,
   "metadata": {
    "collapsed": true,
    "slideshow": {
     "slide_type": "-"
    }
   },
   "outputs": [],
   "source": [
    "from scipy.integrate import odeint"
   ]
  },
  {
   "cell_type": "markdown",
   "metadata": {
    "slideshow": {
     "slide_type": "subslide"
    }
   },
   "source": [
    "The function `odeint` takes a user-defined function as an argument.\n",
    "\n",
    "This input function should simply define the derivative (e.g. rate of change) you want to solve.\n",
    "\n",
    "For example, a function to calculate the derivative:\n",
    "\n",
    "$\\frac{dx}{dt} = t - x$\n",
    "\n",
    "with initial value $x(0) = 1$\n",
    "\n",
    "we can use:"
   ]
  },
  {
   "cell_type": "code",
   "execution_count": null,
   "metadata": {
    "collapsed": true
   },
   "outputs": [],
   "source": [
    "def dx_dt(x,t):\n",
    "    return t - x"
   ]
  },
  {
   "cell_type": "markdown",
   "metadata": {
    "slideshow": {
     "slide_type": "subslide"
    }
   },
   "source": [
    "Two additional arguments are needed:\n",
    "- the value(s) of t at which to evaluate x, starting with the initial value\n",
    "- the initial value\n",
    "- (if `dx_dt` takes any other argumemts they are entered as a tuple as the third argument)"
   ]
  },
  {
   "cell_type": "code",
   "execution_count": null,
   "metadata": {
    "collapsed": true,
    "slideshow": {
     "slide_type": "subslide"
    }
   },
   "outputs": [],
   "source": [
    "ts = np.linspace(0,5,100) # the value(s) of t at which to evaluate x\n",
    "x0 = 1.0                  # the initial value\n",
    "\n",
    "# odeint returns x at each value of t\n",
    "xs = odeint(dx_dt, x0, ts)"
   ]
  },
  {
   "cell_type": "markdown",
   "metadata": {
    "slideshow": {
     "slide_type": "subslide"
    }
   },
   "source": [
    "The function `odeint` returns an nx1 array (2D column).\n",
    "<br>To plot the output we have to \"flatten\" it to a 1D array."
   ]
  },
  {
   "cell_type": "code",
   "execution_count": null,
   "metadata": {
    "slideshow": {
     "slide_type": "subslide"
    }
   },
   "outputs": [],
   "source": [
    "# The function\n",
    "#print(xs)\n",
    "xs = np.array(xs).flatten()\n",
    "#print(xs)\n",
    "\n",
    "# plot the function  \n",
    "plt.xlabel(\"x\")\n",
    "plt.ylabel(\"t\")\n",
    "plt.plot(ts, xs);"
   ]
  },
  {
   "cell_type": "markdown",
   "metadata": {
    "slideshow": {
     "slide_type": "subslide"
    }
   },
   "source": [
    "We can use `odeint` to solve mulitple ordinary differential equations simultaneously (systems of ODEs).\n",
    "\n",
    "In this case the value of each variable at the initial position should be input as a single data structure.\n",
    "\n",
    "The function should output the rate of change of each variable as a single list.\n",
    "\n"
   ]
  },
  {
   "cell_type": "markdown",
   "metadata": {
    "slideshow": {
     "slide_type": "subslide"
    }
   },
   "source": [
    "For example we can use `odeint` to solve the population problem from earlier.\n",
    "\n",
    "The function dP_dt is exactly the same as the function `change_pop` that we used  earlier. The only difference is that `dP_dt` returns the individual rates of chnage of each population as a list. "
   ]
  },
  {
   "cell_type": "code",
   "execution_count": null,
   "metadata": {
    "slideshow": {
     "slide_type": "subslide"
    }
   },
   "outputs": [],
   "source": [
    "migration = np.full((3, 3), 0.01)\n",
    "np.fill_diagonal(migration, -0.02)\n",
    "\n",
    "# Initial population\n",
    "P0 = np.array([190.0, 500.0, 30.0])\n",
    "\n",
    "# Time steps to evaluate\n",
    "ts = np.arange(0, 150)\n",
    "\n",
    "def dP_dt(P, t, M):\n",
    "    \n",
    "    dP_dt = np.dot(P, M)\n",
    "    \n",
    "    return [dP_dt[0], \n",
    "            dP_dt[1], \n",
    "            dP_dt[2]]\n",
    "\n",
    "Ps = odeint(dP_dt, P0, ts, args=(migration,))\n",
    "\n",
    "plt.plot(ts, Ps[:,0], label=\"A\")\n",
    "plt.plot(ts, Ps[:,1], label=\"B\")\n",
    "plt.plot(ts, Ps[:,2], label=\"C\")\n",
    "plt.xlabel(\"Time\")\n",
    "plt.ylabel(\"Population\")\n",
    "plt.legend();"
   ]
  },
  {
   "cell_type": "markdown",
   "metadata": {
    "slideshow": {
     "slide_type": "subslide"
    }
   },
   "source": [
    "For comparison, here is the original solution, generated using the user-defined `pop_plot`function.  "
   ]
  },
  {
   "cell_type": "code",
   "execution_count": null,
   "metadata": {},
   "outputs": [],
   "source": [
    "pop_init = np.array([190.0, 500.0, 30.0])\n",
    "pop_plot(iterations=150, population=pop_init)"
   ]
  },
  {
   "cell_type": "markdown",
   "metadata": {
    "slideshow": {
     "slide_type": "slide"
    }
   },
   "source": [
    "## Curve Fitting\n",
    "When using functions to produce mathematical models of practical problems we often need to 'fit' the function to experimental data.\n",
    "\n",
    "Python has several tools to find the curve which best describes the data set."
   ]
  },
  {
   "cell_type": "markdown",
   "metadata": {
    "slideshow": {
     "slide_type": "subslide"
    }
   },
   "source": [
    "An example of this might be the data read from a sensor during an experiment.\n",
    "\n",
    "In the experiment shown below, the bend in the arm is used to control the LED light.\n",
    "\n",
    "<img src=\"img/wearable_tech.png\" alt=\"Drawing\" style=\"width: 400px;\"/> \n",
    "The sensor used to detect the bend in the arm is made from conductive paint.\n",
    "\n",
    "The resistance of the paint changes with the bend in the arm.\n",
    "\n",
    "This change in resistance is detected as a voltage.\n",
    "\n",
    "A microcontroller adjusts the light in repsonse to the voltage."
   ]
  },
  {
   "cell_type": "markdown",
   "metadata": {
    "slideshow": {
     "slide_type": "subslide"
    }
   },
   "source": [
    "The circuit on which the sensor is based is very similar to the Wheatsone bridge circuit. \n",
    "\n",
    "When calibrating a sensor like this, we need to find a relationship between the bend in the arm and the change in resisitance. \n",
    "\n",
    "After that the voltage alone can be used to 'read' the bend in the arm."
   ]
  },
  {
   "cell_type": "markdown",
   "metadata": {
    "slideshow": {
     "slide_type": "subslide"
    }
   },
   "source": [
    "This section will cover some useful Numpy features for curve fitting.\n",
    "\n"
   ]
  },
  {
   "cell_type": "markdown",
   "metadata": {
    "slideshow": {
     "slide_type": "slide"
    }
   },
   "source": [
    "### Root mean square error (RMSE)\n",
    "One way to quantify the fit between data and a model is to compute the RMSE. \n",
    "\n",
    "__Error/residual:__ the difference between the observed value $y_i$ at $x$ and the modeled value $a(x_i)$\n",
    "\n",
    "$$\n",
    "\\varepsilon_i = a(x_i) - y_i\n",
    "$$"
   ]
  },
  {
   "cell_type": "markdown",
   "metadata": {
    "slideshow": {
     "slide_type": "subslide"
    }
   },
   "source": [
    "For $N$ data points, the *sum* of the squared errors is \n",
    "\n",
    "$$S = \\sum_{i=1}^{N}\\varepsilon_i^2$$\n",
    "\n",
    "The RMSE $E$ is computed as\n",
    "\n",
    "$$E=\\sqrt{\\frac{1}{N}S}=\\sqrt{\\frac{1}{N}\\sum{\\varepsilon_i^2}}$$"
   ]
  },
  {
   "cell_type": "markdown",
   "metadata": {
    "slideshow": {
     "slide_type": "subslide"
    }
   },
   "source": [
    "The RMSE can be computed for any model and any data set  as an indicator of the \"goodness of fit\". \n",
    "\n",
    "We will use it to assess the fit of the curves that we generate using Numpy.\n",
    "\n",
    "The optimisation approach that involves minimising the sum of the squared errors (minimising the RMSE) is often referred to as a *least squares* approach. "
   ]
  },
  {
   "cell_type": "code",
   "execution_count": null,
   "metadata": {
    "collapsed": true,
    "slideshow": {
     "slide_type": "subslide"
    }
   },
   "outputs": [],
   "source": [
    "# Example data set\n",
    "x = [0.000000000000000000e+00, 1.052631578947368363e+00, 2.105263157894736725e+00, 3.157894736842105310e+00,4.210526315789473450e+00, 5.263157894736841591e+00, 6.315789473684210620e+00,7.368421052631578760e+00,8.421052631578946901e+00,9.473684210526315042e+00,1.052631578947368318e+01,1.157894736842105132e+01,1.263157894736842124e+01,1.368421052631578938e+01,1.473684210526315752e+01, 1.578947368421052566e+01,1.684210526315789380e+01,1.789473684210526372e+01,1.894736842105263008e+01,2.000000000000000000e+01]\n",
    "y = [7.445192947240600745e+01, 4.834835792411828947e+01, 6.873305436340778840e+01, 5.979576407972768948e+01,6.404530772390434379e+01,6.090548420541189500e+01, 7.157546008677115879e+01, 8.620253336570679892e+01, 1.138154622045899913e+02, 8.493639813028174501e+01, 9.783457330550828601e+01, 1.082064229481453594e+02, 1.063876210674365979e+02, 1.001971993955305038e+02, 1.061496321788094832e+02, 1.279575585921491836e+02, 1.556956405962417875e+02, 1.584164804859289859e+02, 1.753888794716459358e+02, 1.980941276403034124e+02]\n",
    "x = np.array(x)\n",
    "y = np.array(y)"
   ]
  },
  {
   "cell_type": "markdown",
   "metadata": {
    "slideshow": {
     "slide_type": "subslide"
    }
   },
   "source": [
    "<a id='FittingLinear'></a>\n",
    "### Fitting a Linear Function\n",
    "A straight line can be fitted through a data set using the `linregress` function from `scipy.stats`. \n",
    "\n"
   ]
  },
  {
   "cell_type": "code",
   "execution_count": null,
   "metadata": {
    "collapsed": true
   },
   "outputs": [],
   "source": [
    "from scipy.stats import linregress"
   ]
  },
  {
   "cell_type": "markdown",
   "metadata": {
    "slideshow": {
     "slide_type": "subslide"
    }
   },
   "source": [
    "Example: `linregress(x, y)` returns the components of an equation of the form:\n",
    "$$\n",
    "y = mx + c\n",
    "$$\n",
    "\n",
    "It returns five values. \n",
    "<br>The first two are the gradient $m$ and y-intercept $c$ of the line.\n",
    "<br>The last three are statistical parameters that are outside of the scope of this class."
   ]
  },
  {
   "cell_type": "code",
   "execution_count": null,
   "metadata": {},
   "outputs": [],
   "source": [
    "m, c, r_value, p_value, std_err = linregress(x, y)\n",
    "\n",
    "yfit = float(m) * x + c\n",
    "\n",
    "# plot a scatter plot by setting 'o' as the marker \n",
    "plt.plot(x, y, 'o', label='experiment data')\n",
    "\n",
    "# plot the fitted linear function \n",
    "plt.plot(x, yfit, label='fit');"
   ]
  },
  {
   "cell_type": "markdown",
   "metadata": {
    "slideshow": {
     "slide_type": "subslide"
    }
   },
   "source": [
    "<a id='RMSE'></a>\n",
    "\n",
    "The \"goodness of fit\" than then be assessed by calculating the RMSE.\n",
    "\n",
    "Error, $\\varepsilon_i = a(x_i) - y_i$\n",
    "\n",
    "RMSE, $E=\\sqrt{\\frac{1}{N}\\sum{\\varepsilon_i^2}}$\n",
    "\n"
   ]
  },
  {
   "cell_type": "code",
   "execution_count": null,
   "metadata": {
    "collapsed": true,
    "slideshow": {
     "slide_type": "subslide"
    }
   },
   "outputs": [],
   "source": [
    "# error\n",
    "e = (yfit - y)\n",
    "\n",
    "# RMSE\n",
    "rmse = np.sqrt(np.sum(e**2)/ len(y))\n"
   ]
  },
  {
   "cell_type": "markdown",
   "metadata": {
    "slideshow": {
     "slide_type": "subslide"
    }
   },
   "source": [
    "<a id='Title'></a>\n",
    "#### Adding a title\n",
    "We can then a title."
   ]
  },
  {
   "cell_type": "code",
   "execution_count": null,
   "metadata": {},
   "outputs": [],
   "source": [
    "plt.plot(x, y, 'o', label='experiment data')\n",
    "plt.plot(x, yfit, label='fit')\n",
    "\n",
    "# print the RMSE as the title \n",
    "plt.title('RMSE: '+str(rmse))"
   ]
  },
  {
   "cell_type": "markdown",
   "metadata": {
    "slideshow": {
     "slide_type": "subslide"
    }
   },
   "source": [
    "<a id='FittingPolynomial'></a>\n",
    "### Fitting a polynomial function\n",
    "A polynomial curve can be fitted through a data set using the `polyfit` function from `numpy`. \n",
    "\n",
    "The function arguments are:\n",
    "- the two variables to analyse\n",
    "- the order of the polynomial \n",
    "\n"
   ]
  },
  {
   "cell_type": "markdown",
   "metadata": {
    "slideshow": {
     "slide_type": "subslide"
    }
   },
   "source": [
    "The function returns:\n",
    "<br>the coefficients of each term of the polynomial. <br> e.g. if we request a polynomial of order 2, we will have terms for, - x^2, x and x^0 and we should expect 3 return arguments."
   ]
  },
  {
   "cell_type": "code",
   "execution_count": null,
   "metadata": {
    "collapsed": true
   },
   "outputs": [],
   "source": [
    "c, d, e = np.polyfit(x, y, 2)\n",
    "\n",
    "f, g, h, i = np.polyfit(x, y, 3)\n",
    "\n",
    "j, k, l, m, n = np.polyfit(x, y, 4)"
   ]
  },
  {
   "cell_type": "markdown",
   "metadata": {
    "slideshow": {
     "slide_type": "subslide"
    }
   },
   "source": [
    "The function `poly1D` can then be used to find the solution to y for all x, using the polynomial generated. "
   ]
  },
  {
   "cell_type": "code",
   "execution_count": null,
   "metadata": {
    "collapsed": true
   },
   "outputs": [],
   "source": [
    "yfit2 = np.poly1d([c, d, e])(x)\n",
    "yfit3 = np.poly1d([f, g, h, i])(x)\n",
    "yfit4 = np.poly1d([j, k, l, m, n])(x)\n",
    "\n",
    "# Which produces the same output as \n",
    "yfit2 = c*x**2 + d*x + e\n",
    "yfit3 = f*x**3 + g*x**2 + h*x + i\n",
    "yfit4 = j*x**4 + k*x**3 + l*x**2 + m*x + n"
   ]
  },
  {
   "cell_type": "markdown",
   "metadata": {
    "slideshow": {
     "slide_type": "subslide"
    }
   },
   "source": [
    "The RMSE can be found as before.\n",
    "<br>__NOTE__ It is neater to write a function to do this."
   ]
  },
  {
   "cell_type": "code",
   "execution_count": null,
   "metadata": {
    "collapsed": true
   },
   "outputs": [],
   "source": [
    "# error\n",
    "rmse2 = round(np.sqrt(np.sum((yfit2 - y)**2)/ len(y)), 2)\n",
    "rmse3 = round(np.sqrt(np.sum((yfit3 - y)**2)/ len(y)), 2)\n",
    "rmse4 = round(np.sqrt(np.sum((yfit4 - y)**2)/ len(y)), 2)"
   ]
  },
  {
   "cell_type": "markdown",
   "metadata": {
    "slideshow": {
     "slide_type": "subslide"
    }
   },
   "source": [
    "<a id='Legend'></a>\n",
    "#### Adding a legend\n",
    "We can add a legend to label each line on the graph. \n",
    "<br>Add a `label` when creating each plot.\n",
    "<br>Finally add the `legend` to the plot. \n",
    "<br>The argument `loc='best'` chooses the 'best' location for the legend to avoid obscuring your plotted data."
   ]
  },
  {
   "cell_type": "code",
   "execution_count": null,
   "metadata": {
    "slideshow": {
     "slide_type": "subslide"
    }
   },
   "outputs": [],
   "source": [
    "# plot a scatter plot by setting 'o' as the marker \n",
    "plt.plot(x, y, 'o', label='experiment data')\n",
    "\n",
    "# plot the fitted 2nd order function \n",
    "plt.plot(x, yfit2, label= f'2nd order RMSE{rmse2}')\n",
    "\n",
    "# plot the fitted 3rd order function \n",
    "plt.plot(x, yfit3, label= f'3rd order RMSE{rmse3}')\n",
    "\n",
    "# plot the fitted 4th order function \n",
    "plt.plot(x, yfit4, label= f'4th order RMSE{rmse4}')\n",
    "\n",
    "# add a legend\n",
    "plt.legend(loc='best')"
   ]
  },
  {
   "cell_type": "markdown",
   "metadata": {
    "slideshow": {
     "slide_type": "subslide"
    }
   },
   "source": [
    "<a id='FittingArbitrary'></a>\n",
    "### Fitting an arbitrary function\n",
    "There are many Python functions available for curve fitting. \n",
    "\n",
    "The function `curve_fit` can be used to fit a user-defined fuction. \n",
    "\n",
    "We first define a function that we want to fit.\n",
    "\n",
    "__Example 1__\n",
    "```Python\n",
    "def linear(x, a, b):\n",
    "    return a * x + b\n",
    "```\n",
    ">`curve_fit(func, x, y)` will find values of `a` and `b` that fits the curve $y = ax + b$ to our data. \n"
   ]
  },
  {
   "cell_type": "markdown",
   "metadata": {
    "slideshow": {
     "slide_type": "subslide"
    }
   },
   "source": [
    "__Example 2__\n",
    "```Python\n",
    "def exponential(x, a, b):\n",
    "    y = a * np.exp(b*x) \n",
    "    return y\n",
    "```\n",
    ">`curve_fit(func, x, y)` will find values of `a` and `b` that fits the curve $y = a e^{bx}$ to our data. \n",
    "\n",
    "\n"
   ]
  },
  {
   "cell_type": "markdown",
   "metadata": {
    "slideshow": {
     "slide_type": "subslide"
    }
   },
   "source": [
    "`curve_fit` then returns two arguments:\n",
    " - an array with the optimised parameters\n",
    " - the covariance of the parameters (a statistical measure of accuracy)"
   ]
  },
  {
   "cell_type": "code",
   "execution_count": null,
   "metadata": {
    "slideshow": {
     "slide_type": "subslide"
    }
   },
   "outputs": [],
   "source": [
    "from scipy.optimize import curve_fit\n",
    "\n",
    "def exponential(x, a, b):\n",
    "    y = a * np.exp(b*x) \n",
    "    return y\n",
    "\n",
    "opt, cov = curve_fit(exponential, x, y)\n",
    "\n",
    "# value of x for all x investigated\n",
    "yfit = exponential(x, *opt)\n",
    "\n",
    "plt.plot(x, y, 'o', label='experiment data')\n",
    "plt.plot(x, yfit, 'r', label='fit')\n",
    "plt.legend(loc='best')\n",
    "\n",
    "rmse = np.sqrt(np.sum((yfit - y) ** 2) / len(y))\n",
    "plt.title('RMSE: '+str(rmse));\n",
    "\n",
    "print(f\"y = {round(opt[0],2)} * e**({round(opt[1],2)}*x)\")"
   ]
  },
  {
   "cell_type": "markdown",
   "metadata": {
    "slideshow": {
     "slide_type": "slide"
    }
   },
   "source": [
    "<a name=\"Vectorising\"></a>\n",
    "\n",
    "## Vectorising Functions\n",
    "\n",
    "Numpy functions applied to a single array, will be performed on each element in the array. \n",
    "\n",
    "The function takes an array of values as an input argument."
   ]
  },
  {
   "cell_type": "code",
   "execution_count": null,
   "metadata": {
    "slideshow": {
     "slide_type": "-"
    }
   },
   "outputs": [],
   "source": [
    "print(np.sqrt(a))\n",
    "print(a ** (1/2))"
   ]
  },
  {
   "cell_type": "markdown",
   "metadata": {
    "slideshow": {
     "slide_type": "subslide"
    }
   },
   "source": [
    "For example, we can apply trigonometric functions, elementwise, to arrays, lists and tuples."
   ]
  },
  {
   "cell_type": "code",
   "execution_count": null,
   "metadata": {},
   "outputs": [],
   "source": [
    "x = np.array([0.0, np.pi/2, np.pi, 3*np.pi/2])\n",
    "y = [0.0, np.pi/2, np.pi, 3*np.pi/2]\n",
    "z = (0.0, np.pi/2, np.pi, 3*np.pi/2)\n",
    "\n",
    "print(np.sin(x))\n",
    "print(np.cos(y))\n",
    "print(np.tan(z))"
   ]
  },
  {
   "cell_type": "markdown",
   "metadata": {
    "slideshow": {
     "slide_type": "subslide"
    }
   },
   "source": [
    "An array of values does not work as an input for all functions."
   ]
  },
  {
   "cell_type": "code",
   "execution_count": null,
   "metadata": {
    "collapsed": true
   },
   "outputs": [],
   "source": [
    "def func(x):\n",
    "    if x < 0:\n",
    "        f = 2 * x\n",
    "    else:\n",
    "        f = 3 * x\n",
    "    return f\n",
    "\n",
    "x = np.array([2, -2])\n",
    "# y = func(x) # Run this line after removing the # to see the error generated"
   ]
  },
  {
   "cell_type": "markdown",
   "metadata": {
    "slideshow": {
     "slide_type": "subslide"
    }
   },
   "source": [
    "This doesn't work because Python doesn't know what to do with the line \n",
    "\n",
    "`if x < 0` \n",
    "\n",
    "when `x` contains many values. \n",
    "\n",
    "For some values of `x` the `if` statement may be `True`, for others it may be `False`. \n",
    "\n"
   ]
  },
  {
   "cell_type": "markdown",
   "metadata": {
    "slideshow": {
     "slide_type": "subslide"
    }
   },
   "source": [
    "A simple way around this problem is to vectorise the function. \n",
    "\n",
    "We create a new function that is a *vectorized* form of the original function.\n",
    "\n",
    "The new function and can be called with an array as an argument.  "
   ]
  },
  {
   "cell_type": "code",
   "execution_count": null,
   "metadata": {},
   "outputs": [],
   "source": [
    "funcvec = np.vectorize(func)\n",
    "\n",
    "print(funcvec(x))"
   ]
  },
  {
   "cell_type": "markdown",
   "metadata": {
    "slideshow": {
     "slide_type": "subslide"
    }
   },
   "source": [
    "### Functions as function arguments\n",
    "Functions that receive vectorised arguments are automatically applied to all elements of array inputs. \n",
    "\n",
    "This is better exlpained with an example.\n",
    "\n"
   ]
  },
  {
   "cell_type": "markdown",
   "metadata": {
    "slideshow": {
     "slide_type": "subslide"
    }
   },
   "source": [
    "Recall the function `is_positive` from Seminar 5: Functions"
   ]
  },
  {
   "cell_type": "code",
   "execution_count": null,
   "metadata": {
    "slideshow": {
     "slide_type": "-"
    }
   },
   "outputs": [],
   "source": [
    "def is_positive(f, a):\n",
    "    \"Checks if the function value f(x) is positive\"\n",
    "    return f(a) > 0\n",
    "\n",
    "# Apply is_positive to a non-vectorised function\n",
    "print(is_positive(func, -3))\n",
    "print()\n",
    "\n",
    "# Apply is_positive to a vectorised function\n",
    "print(x)\n",
    "is_positive(funcvec, x)"
   ]
  },
  {
   "cell_type": "markdown",
   "metadata": {
    "slideshow": {
     "slide_type": "slide"
    }
   },
   "source": [
    "<a name=\"Broadcasting\"></a>\n",
    "## Broadcasting\n",
    "\n",
    "Another source of incompatibility that you are likely to encounter is in trying to use arrays with different shapes for arithmetic operations. \n",
    "\n",
    "For example, you have one array that larger and another array that is smaller.\n",
    "<br>You may want to use the smaller array multiple times to perform an operation (such as a sum, multiplication, etc.) on the larger array.\n",
    "\n",
    "This is achieved using the broadcasting mechanism. \n",
    "\n",
    "The arrays can be broadcast together if all dimensions of the arrays are *compatible*\n"
   ]
  },
  {
   "cell_type": "markdown",
   "metadata": {
    "collapsed": true,
    "slideshow": {
     "slide_type": "subslide"
    }
   },
   "source": [
    "##### Dimensions are compatible when they are equal.\n",
    "\n",
    "Consider the example below. `x` and `y` are the same shape, so we can addd them."
   ]
  },
  {
   "cell_type": "code",
   "execution_count": null,
   "metadata": {},
   "outputs": [],
   "source": [
    "x = np.ones((3,4))\n",
    "print(x.shape)\n",
    "\n",
    "y = np.full((3,4), 4)\n",
    "print(y.shape)\n",
    "\n",
    "# Add `x` and `y`\n",
    "x + y"
   ]
  },
  {
   "cell_type": "markdown",
   "metadata": {
    "slideshow": {
     "slide_type": "subslide"
    }
   },
   "source": [
    "##### Dimensions are compatible when the length of at least one of them is equal to 1.\n",
    "\n",
    "<img src=\"img/broadcasting1x3.gif\" alt=\"Drawing\" style=\"width: 300px;\"/>\n"
   ]
  },
  {
   "cell_type": "code",
   "execution_count": null,
   "metadata": {},
   "outputs": [],
   "source": [
    "# 1 x 3 array\n",
    "a = np.arange(1,4)\n",
    "\n",
    "# integer\n",
    "b = 2\n",
    "\n",
    "# 1 x 3 array\n",
    "result = a * b\n",
    "\n",
    "print(a)\n",
    "print()\n",
    "print(b)\n",
    "print()\n",
    "print(result)"
   ]
  },
  {
   "cell_type": "markdown",
   "metadata": {
    "slideshow": {
     "slide_type": "subslide"
    }
   },
   "source": [
    "In the dimension where `b` has size 1 and `a` has a size greater than 1 (i.e. 3), `b` behaves as if it were copied along that dimension."
   ]
  },
  {
   "cell_type": "code",
   "execution_count": null,
   "metadata": {},
   "outputs": [],
   "source": [
    "# 4 x 1 array\n",
    "x = np.array([[0],\n",
    "              [10],\n",
    "              [20],\n",
    "              [30]])\n",
    "\n",
    "# 1 x 3 array\n",
    "y = np.ones(3)\n",
    "\n",
    "# 4 x 3 array\n",
    "a = x * y\n",
    "\n",
    "print(x)\n",
    "print()\n",
    "print(y)\n",
    "print()\n",
    "print(a)\n"
   ]
  },
  {
   "cell_type": "markdown",
   "metadata": {
    "slideshow": {
     "slide_type": "subslide"
    }
   },
   "source": [
    "<img src=\"img/broadcasting4x3.gif\" alt=\"Drawing\" style=\"width: 300px;\"/>"
   ]
  },
  {
   "cell_type": "code",
   "execution_count": null,
   "metadata": {},
   "outputs": [],
   "source": [
    "# a: 4 x 3 array (see cell above)\n",
    "\n",
    "# 1 x 3 array\n",
    "b = np.arange(3)\n",
    "\n",
    "# 4 x 3 array\n",
    "result = a + b\n",
    "\n",
    "print(a)\n",
    "print()\n",
    "print(b)\n",
    "print()\n",
    "print(result)"
   ]
  },
  {
   "cell_type": "markdown",
   "metadata": {
    "slideshow": {
     "slide_type": "subslide"
    }
   },
   "source": [
    "The size of the output array is the maximum size along each dimension of the input arrays."
   ]
  },
  {
   "cell_type": "markdown",
   "metadata": {
    "slideshow": {
     "slide_type": "subslide"
    }
   },
   "source": [
    "The 4x3 and 1x4 arrays shown in the cell below cannot be broadcast together.\n",
    "<br>The dimensions 3 and 4 are incompatible."
   ]
  },
  {
   "cell_type": "markdown",
   "metadata": {},
   "source": [
    "<img src=\"img/broadcasting_mismatch.gif\" alt=\"Drawing\" style=\"width: 300px;\"/>"
   ]
  },
  {
   "cell_type": "markdown",
   "metadata": {
    "slideshow": {
     "slide_type": "subslide"
    }
   },
   "source": [
    "Note that if the array dimensions are incompatible, it will generate a ValueError."
   ]
  },
  {
   "cell_type": "markdown",
   "metadata": {
    "slideshow": {
     "slide_type": "subslide"
    }
   },
   "source": [
    "Recall, the function `np.insert` that we used earlier.\n",
    "\n",
    "An integer (length=1) can be broadcast into an array of any size. "
   ]
  },
  {
   "cell_type": "code",
   "execution_count": null,
   "metadata": {
    "slideshow": {
     "slide_type": "-"
    }
   },
   "outputs": [],
   "source": [
    "# Add items to an array\n",
    "b = np.array([[1, 1], \n",
    "              [2, 2], \n",
    "              [3, 3]])\n",
    "\n",
    "b = np.insert(b, 1, 4, axis=1)\n",
    "print(b)"
   ]
  },
  {
   "cell_type": "markdown",
   "metadata": {
    "collapsed": true,
    "slideshow": {
     "slide_type": "subslide"
    }
   },
   "source": [
    "Here are some examples of practical applications of broadcasting."
   ]
  },
  {
   "cell_type": "markdown",
   "metadata": {
    "slideshow": {
     "slide_type": "subslide"
    }
   },
   "source": [
    "### Broadcasting Example: Calorie Calculator\n",
    "\n",
    "Let's say we have a large data set; each datum is a list of parameters.\n",
    "\n",
    "Example datum: a type of food and the the amount of fat, protein and carbohydrate in a serving of that food.\n",
    "\n",
    "Our data set of food nutrients might look something like the table below:\n",
    "\n",
    "|Food (100g) |Fat(g)|Protein (g)|Carbohydrate (g)|\n",
    "|------------|----- |-----------|----------------|\n",
    "|Almonds     |    49|         21|              22|                         \n",
    "|Peas        |     0|          5|              14|   \n",
    "|Avocado     |    15|          2|               9|\n",
    "|Kale        |     1|          3|              10|  \n",
    "\n",
    "   \n"
   ]
  },
  {
   "cell_type": "markdown",
   "metadata": {
    "slideshow": {
     "slide_type": "subslide"
    }
   },
   "source": [
    "By applying the following sclaing factors, we can calculate the number of calories in a food type due to fat, protein and carbohydrate:\n",
    " -  fat: 9 cal/g\n",
    " -  protein: 4 cal/g\n",
    " -  carbohydrate 4 cal/g\n",
    " \n",
    "Using what we have studied so far, we could convert the table to calories using a loop:\n"
   ]
  },
  {
   "cell_type": "markdown",
   "metadata": {
    "slideshow": {
     "slide_type": "subslide"
    }
   },
   "source": [
    "```python\n",
    "\n",
    "nutrients = np.array([[49, 21, 22],\n",
    "                      [0,   5, 14],\n",
    "                      [15,  2,  9],\n",
    "                      [ 1,  3, 10]])\n",
    "\n",
    "cal_convert = np.array([9, 4, 4])\n",
    "\n",
    "calories = np.empty((4,3))\n",
    "\n",
    "for index, value in enumerate(nutrients):\n",
    "    calories[index] = value * cal_convert\n",
    "    \n",
    "```\n",
    "    "
   ]
  },
  {
   "cell_type": "markdown",
   "metadata": {
    "slideshow": {
     "slide_type": "subslide"
    }
   },
   "source": [
    "However, it is faster and more concise to broadcast the two arrays together: "
   ]
  },
  {
   "cell_type": "code",
   "execution_count": null,
   "metadata": {
    "slideshow": {
     "slide_type": "subslide"
    }
   },
   "outputs": [],
   "source": [
    "nutrients = np.array([[49, 21, 22],\n",
    "                      [0,   5, 14],\n",
    "                      [15,  2,  9],\n",
    "                      [ 1,  3, 10]])\n",
    "\n",
    "cal_convert = np.array([9, 4, 4])\n",
    "\n",
    "calories = nutrients * cal_convert\n",
    "\n",
    "print(calories)"
   ]
  },
  {
   "cell_type": "markdown",
   "metadata": {
    "slideshow": {
     "slide_type": "subslide"
    }
   },
   "source": [
    "### Broadcasting Example: Vector Quantisation Algorithm\n",
    "This is a simple algorithm used for catagorisation.\n",
    "<br>It determines which catagory a data point should belong to from its closest proximity to a set of values representing possible catagories.\n",
    "<br>Each value represents the mean of the corresponding catagory.\n",
    "\n",
    "\n",
    "\n"
   ]
  },
  {
   "cell_type": "markdown",
   "metadata": {
    "slideshow": {
     "slide_type": "subslide"
    }
   },
   "source": [
    "<br>For example, colour quantisation is used in image processing reduces the number of distinct colors used in an image, while maintianing visual similarity to the original image. \n",
    "\n",
    "<table><tr><td> \n",
    "<img src=\"img/un_quantised_cat.png\" alt=\"Drawing\" style=\"width: 300px;\"/> </td><td> \n",
    "<img src=\"img/quantised_cat.png\" alt=\"Drawing\" style=\"width: 300px;\"/> </td><td> \n",
    "</table>\n",
    "\n",
    "CC BY-SA 3.0, https://commons.wikimedia.org/w/index.php?curid=1477223"
   ]
  },
  {
   "cell_type": "markdown",
   "metadata": {
    "slideshow": {
     "slide_type": "subslide"
    }
   },
   "source": [
    "<br>In the plot below, each of the circles represents the mean height and weight of athletes grouped by type. \n",
    "<br>The square represents the height and weight of an athlete to be classified. \n",
    "<img src=\"img/vector_quantisation.png\" alt=\"Drawing\" style=\"width: 500px;\"/>"
   ]
  },
  {
   "cell_type": "markdown",
   "metadata": {
    "slideshow": {
     "slide_type": "subslide"
    }
   },
   "source": [
    "\n",
    "To find the closet point:\n",
    "1. Use broadcasting to find the difference between the position of the __square__ and the position of each __circle__ in the x and y directions. <br>\n",
    "1. Find the distance, $d$ from the square, $s$ to each circle, $c$ using: <br>$d = \\sqrt{(x_{c}-x_{s})^2 + (y_{c}-y_{s})^2}$ <br>\n",
    "1. Choose the group corresponding to the minimum distance, $d_{min}$"
   ]
  },
  {
   "cell_type": "code",
   "execution_count": null,
   "metadata": {
    "slideshow": {
     "slide_type": "subslide"
    }
   },
   "outputs": [],
   "source": [
    "athlete = np.array([111.0,188.0])\n",
    "\n",
    "categories = np.array([[102.0, 203.0],\n",
    "                       [132.0, 193.0],\n",
    "                       [45.0, 155.0],\n",
    "                       [57.0, 173.0]])\n",
    "\n",
    "# 1. broadcast\n",
    "diff = categories - athlete\n",
    "\n",
    "# 2. distance to each point (magnitude of values along axis 1 for each datum)\n",
    "# dist = np.linalg.norm(diff,axis=1)\n",
    "dist = np.sqrt(np.sum(diff**2,axis=1))\n",
    "\n",
    "# 3. which group?\n",
    "nearest = np.argmin(dist)\n",
    "print(nearest)"
   ]
  },
  {
   "cell_type": "markdown",
   "metadata": {
    "slideshow": {
     "slide_type": "subslide"
    }
   },
   "source": [
    "The nearest group is index 0 of the array `catagories`.\n",
    "<br>Based on mean height and weight, the athlete is most likely to be a basketball player."
   ]
  },
  {
   "cell_type": "markdown",
   "metadata": {
    "slideshow": {
     "slide_type": "slide"
    }
   },
   "source": [
    "## Resizing and Reshaping\n",
    "We can change the size of an array in each dimension.\n",
    "\n",
    "For example, you may want to edit the length of a dimension of an array to make it compatible with another array for broadcasting.\n",
    "\n"
   ]
  },
  {
   "cell_type": "markdown",
   "metadata": {
    "slideshow": {
     "slide_type": "subslide"
    }
   },
   "source": [
    "### Resizing\n",
    "We can resize an array. \n",
    "<br>If the new array size is smaller, the original array will be trimmed to the new size."
   ]
  },
  {
   "cell_type": "code",
   "execution_count": null,
   "metadata": {},
   "outputs": [],
   "source": [
    "a=np.array([[0,1],\n",
    "            [2,3]])\n",
    "\n",
    "b = np.resize(a,(2,1))\n",
    "print(b)\n",
    "print()\n",
    "\n",
    "a.resize(2,1)\n",
    "print(a)"
   ]
  },
  {
   "cell_type": "markdown",
   "metadata": {
    "slideshow": {
     "slide_type": "subslide"
    }
   },
   "source": [
    "If the new array size is larger, the extra space can either be filled with repeating copies of the original array."
   ]
  },
  {
   "cell_type": "code",
   "execution_count": null,
   "metadata": {},
   "outputs": [],
   "source": [
    "a=np.array([[0,1],\n",
    "            [2,3]])\n",
    "\n",
    "b = np.resize(a,(4,4))\n",
    "print(b)"
   ]
  },
  {
   "cell_type": "markdown",
   "metadata": {
    "slideshow": {
     "slide_type": "subslide"
    }
   },
   "source": [
    "or with zeros."
   ]
  },
  {
   "cell_type": "code",
   "execution_count": null,
   "metadata": {},
   "outputs": [],
   "source": [
    "a=np.array([[0,1],\n",
    "            [2,3]])\n",
    "\n",
    "a.resize(4,4)\n",
    "print(a)"
   ]
  },
  {
   "cell_type": "markdown",
   "metadata": {
    "slideshow": {
     "slide_type": "subslide"
    }
   },
   "source": [
    "### Reshaping\n",
    "You can re-shape the array. \n",
    "The new array must have the __same number of elements__ as the original array.\n",
    "\n"
   ]
  },
  {
   "cell_type": "markdown",
   "metadata": {
    "slideshow": {
     "slide_type": "subslide"
    }
   },
   "source": [
    "__Example:__ Using range to create a column vector:"
   ]
  },
  {
   "cell_type": "code",
   "execution_count": null,
   "metadata": {},
   "outputs": [],
   "source": [
    "x = np.arange(0, 31, 10)\n",
    "y = x.reshape((4,1))\n",
    "\n",
    "# which can be written in one line as:\n",
    "z = np.arange(0, 31, 10).reshape((4,1))\n",
    "\n",
    "print(x)\n",
    "print()\n",
    "print(y)\n",
    "print()\n",
    "print(z)"
   ]
  },
  {
   "cell_type": "markdown",
   "metadata": {
    "collapsed": true,
    "slideshow": {
     "slide_type": "subslide"
    }
   },
   "source": [
    "## Review Exercises\n",
    "\n",
    "The folowing exercises are provided to practise what you have learnt in today's seminar.\n",
    "\n",
    "The extension excercises cover topics that will not be included inthe exam but may be useful to you if you are familiar with using matrices and want to practise matrix manipulation using Python.\n",
    "\n",
    "If you have not yet studied matrices, you can come back to this section when the mathematics used is more familiar to you. \n",
    "\n"
   ]
  },
  {
   "cell_type": "markdown",
   "metadata": {
    "slideshow": {
     "slide_type": "subslide"
    }
   },
   "source": [
    "### Review Exercise: 1D Arrays - Indexing and changing values.\n",
    "\n",
    "In the cell below:\n",
    "\n",
    "1. Create an array of zeros with length 25. <br> <a href=\"#Zeros\">Jump to Creating a Numpy Array of Zeros.</a>\n",
    "\n",
    "2. Change the first 10 values to 5. <br> <a href=\"#Changing\">Jump to Changing items in an array.</a>\n",
    "\n",
    "3. Change the next 10 values to a sequence starting at 12 and increasig with steps of 2 to 30 - do this with one command. \n",
    "\n",
    "4. Change the final 5 values to 30. "
   ]
  },
  {
   "cell_type": "code",
   "execution_count": null,
   "metadata": {},
   "outputs": [],
   "source": [
    "# 1D array\n",
    "x=np.zeros(25)\n",
    "x[: 10]=5\n",
    "x[10:20]=12:2:30\n",
    "x[20: ]=30\n",
    "print(x)\n"
   ]
  },
  {
   "cell_type": "code",
   "execution_count": null,
   "metadata": {},
   "outputs": [],
   "source": [
    "# Example Solution\n",
    "\n",
    "# 1\n",
    "a = np.zeros(25)\n",
    "\n",
    "#2\n",
    "a[: 10] = 5\n",
    "\n",
    "#3\n",
    "a[10: 20] = range(12, 31, 2)\n",
    "\n",
    "#4\n",
    "a[20:] = 30\n",
    "\n",
    "print(a)"
   ]
  },
  {
   "cell_type": "markdown",
   "metadata": {
    "slideshow": {
     "slide_type": "subslide"
    }
   },
   "source": [
    "### Review Exercise: 1D Arrays - Correct the error\n",
    "\n",
    "The code below, is supposed to:\n",
    " - change the last 5 values of the array x to the values [50, 52, 54, 56, 58]\n",
    " - print the result\n",
    "There are some errors in the code.\n",
    "\n",
    "Remove the comment markers and run the code to see the error message.\n",
    "\n",
    "Then fix the code and run it again."
   ]
  },
  {
   "cell_type": "code",
   "execution_count": null,
   "metadata": {},
   "outputs": [],
   "source": [
    "x = np.ones(10)\n",
    "x[5:] = np.arange(50, 59, 2)\n",
    "print(x)\n",
    "print(\"There are some errors in the code\")"
   ]
  },
  {
   "cell_type": "code",
   "execution_count": null,
   "metadata": {},
   "outputs": [],
   "source": [
    "# Example Solution\n",
    "import numpy as np\n",
    "x = np.ones(10)\n",
    "x[-5:] = range(50, 59, 2)\n",
    "print(x)"
   ]
  },
  {
   "cell_type": "markdown",
   "metadata": {
    "slideshow": {
     "slide_type": "subslide"
    }
   },
   "source": [
    "### Review Exercise:  Creating 2D Arrays \n",
    "\n",
    "Print:\n",
    "\n",
    "__(A)__ An array with 3 rows and 2 columns (3 by 2), where all elements are 1.0.\n",
    "\n",
    "<a href=\"#CreatingArray\">Jump to Creating a Numpy Array.</a>\n",
    "\n",
    "__(B)__ An array of randomly generated integers, in the range 1 to 10, with 4 rows and one column (4 by 1).\n",
    "\n",
    "<a href=\"#Subpackages\">Jump to Subpackages.</a>\n",
    "\n",
    "__(C)__ An array with 2 rows and 2 columns (2 by 2), where all elements are 4.\n",
    "\n",
    "\n"
   ]
  },
  {
   "cell_type": "code",
   "execution_count": null,
   "metadata": {},
   "outputs": [],
   "source": [
    "# 2D arrays\n",
    "a = np.full((3,2), 1.0)\n",
    "print(a)\n",
    "b = np.random.randint(1, 10, size=(4,1))\n",
    "print(b)\n",
    "c = np.full((2,2), 4)\n",
    "print(c)"
   ]
  },
  {
   "cell_type": "code",
   "execution_count": null,
   "metadata": {},
   "outputs": [],
   "source": [
    "### Example Solution\n",
    "# A\n",
    "print(np.ones((3,2)))\n",
    "\n",
    "# B\n",
    "print(np.random.randint(1, 10, size=(4,1)))\n",
    "\n",
    "# C\n",
    "print(np.full((2,2), 4))"
   ]
  },
  {
   "cell_type": "markdown",
   "metadata": {
    "slideshow": {
     "slide_type": "subslide"
    }
   },
   "source": [
    "### Review Exercise:  2D Arrays - Indexing and Basic Plotting\n",
    "\n",
    "__(A)__ In the cell below, for the array `x`, write code to print: \n",
    "\n",
    "* the first row of `x`\n",
    "* the first column of `x`\n",
    "* the third row of `x`\n",
    "* the four values in the upper right hand corner of `x`\n",
    "* the four values at the center of `x`\n",
    "* the last two columns (third and fourth column) of `x`\n",
    "\n",
    "<a href=\"#Indexing\">Jump to Indexing into multi-dimensional arrays.</a>\n",
    "\n",
    "__(B)__ You have just *printed* the last two columns of `x`. \n",
    "<br>Now plot the third column of `x` against the fourth column of `x` as a line graph.\n",
    "\n",
    "<a href=\"#Plotting\">Jump to Introduction to Plotting.</a>"
   ]
  },
  {
   "cell_type": "code",
   "execution_count": null,
   "metadata": {},
   "outputs": [],
   "source": [
    "# 2D array \n",
    "x = np.array([[4, 2, 1, 1],\n",
    "              [2, 4, 2, 8],\n",
    "              [2, 4, 3, 27],\n",
    "              [4, 1, 4, 64]])\n",
    "print(x[0])\n",
    "print(x[0:,0])\n",
    "print(x[2])\n",
    "print(x[0:2, 2:4])\n",
    "print(x[1:3, 1:3])\n",
    "print(x[0:4, 2:4])\n",
    "plt.plot(x[0:4, 2:4])"
   ]
  },
  {
   "cell_type": "code",
   "execution_count": null,
   "metadata": {},
   "outputs": [],
   "source": [
    "# Example Solution\n",
    "\n",
    "x = np.array([[4, 2, 1, 1],\n",
    "              [2, 4, 2, 8],\n",
    "              [2, 4, 3, 27],\n",
    "              [4, 1, 4, 64]])\n",
    "\n",
    "print(x[0])\n",
    "\n",
    "print(x[:, 0])\n",
    "\n",
    "print(x[2])\n",
    "\n",
    "print(x[0:2, 2:4])\n",
    "\n",
    "print(x[1:3, 1:3])\n",
    "\n",
    "print(x[:, 2:4])\n",
    "\n",
    "plt.plot(x[:, 2], x[:, 3])"
   ]
  },
  {
   "cell_type": "markdown",
   "metadata": {
    "slideshow": {
     "slide_type": "subslide"
    }
   },
   "source": [
    "### Review Exercise:  Boolean array indexing\n",
    "\n",
    "Print the values of array `x` in the cell below that are...\n",
    "\n",
    "__(A)__ ...greater than 3.\n",
    "\n",
    "__(B)__ ...greater than 2 and less than 8.\n",
    "\n",
    "__(C)__ ...less than 2 or greater than 8.\n",
    "\n",
    "__(D)__ ...a multiple of `y`.\n",
    "\n",
    "<br>\n",
    "__(E)__ Change all odd numbers in x to 0\n",
    "\n",
    "<a href=\"#BooleanIndexing\">Jump to Boolean Array Indexing.</a>"
   ]
  },
  {
   "cell_type": "code",
   "execution_count": null,
   "metadata": {},
   "outputs": [],
   "source": [
    "x = np.arange(10)\n",
    "y = 2\n",
    "idx= x >3\n",
    "for n in x:\n",
    "    if n < 2 or n > 8:\n",
    "        print(n)\n",
    "for d in x:\n",
    "    if d > 2 and d < 8:\n",
    "        print(d)\n",
    "for a in x:\n",
    "    if a % 2 == 0:\n",
    "        print(a)\n",
    "    else:\n",
    "        print(0)\n",
    "\n"
   ]
  },
  {
   "cell_type": "markdown",
   "metadata": {
    "collapsed": true,
    "slideshow": {
     "slide_type": "subslide"
    }
   },
   "source": [
    "### Review Exercise: Curve Fitting\n",
    "\n",
    "Using the example data set `a`,`b`:\n",
    "\n",
    "__(A)__ Plot a scatter graph of `a` against `b`, with `a` on the horizontal axis and `b` on the vertical axis. \n",
    "<br><a href=\"#ScatterPlot\">Jump to Scatter plot.</a>\n",
    "\n",
    "__(B)__ Fit __three different__ curves to the data. You can choose from:\n",
    " - a linear relationship. <a href=\"#FittingLinear\">Jump to Fitting a linear relationship.</a>\n",
    " - a polynomial curve. <a href=\"#FittingPolynomial\">Jump to Fitting a polynomial curve.</a>\n",
    " - an arbitrary function <a href=\"#FittingArbitrary\">Jump to Fitting an arbitrary curve.</a>\n",
    "\n",
    "__(C)__ Plot each curve as a line of on the graph.\n",
    "<br><a href=\"#LinePlot\">Jump to Line plot.</a>\n",
    "\n",
    "__(D)__ Find the route mean square error (RMSE) of each curve relative to the data set.\n",
    "<br><a href=\"#RMSE\">Jump to Route mean square error.</a>\n",
    "\n",
    "__(E)__ Display the RMSE of each curve as a figure legend.\n",
    "<br><a href=\"#Legend\">Jump to Adding a legend.</a>\n",
    "\n",
    "__(F)__ Print the equation of the *optimal* curve i.e. the curve with the *smallest* RMSE. "
   ]
  },
  {
   "cell_type": "code",
   "execution_count": null,
   "metadata": {},
   "outputs": [],
   "source": [
    "a = np.array([88438,45505,75127,115571,89911,87432,100083,85589,73104,86890,78580,70785,41050,57610,107537,59262,73038,87891,75368,111638,74911,71599,96774,79667,90725,93816,75859,64969,205688,71500,53098,71250,89615,94747,50400,63673,78257,72785,83015,150000,84699,67191,86298,117705,88935,89643,106678,97894,132164,59387,60684,96151,68794,74559,29430,88362,111792,57205,83651,87518,80129,86801,110761,63274,66143,110694,52590,59994,80460,103589,68298,59056,40294,161848,103100,86354,37428,43307,80792,77368,109159,71538,84783,86250,82900,74728,48597,75549,106942,102167,62708,60630,70273,84918,88693,74141,46627,119112,88260,97262,86095,110472,82734,84761,91715,103292,86339,147993,77560,100625,68094,78250,75426,86138,112344,115000,98846,90499,80029,61959,76779,68833,81026,66361,92737,76692,64974,103869,51951,108854,61038,75938,75346,40639,73156,80067,82322,52353,\n",
    "              62832,207262,160106,77740,72011,167094,58458,41639,79528,66583,83993,138082,77366])\n",
    "b = np.array([1.7,-0.4,0.5,2.6,1.4,1.5,1.5,1.7,-0.5,1.6,0.9,1.1,-1.7,0.3,1.8,0.5,1,1.9,0.1,2,1.7,1,1.2,1.5,1,1.1,1.2,0,2.6,1.4,-0.8,1.6,1.1,1.2,-1.4,-0.5,1.9,0,1.5,2.4,1.5,0.7,1.8,2,2.4,1.6,2,2.3,2,0.1,0.3,2.3,0,0,-1.7,1.9,2,0,0.9,1.3,0.4,1.6,2.3,-0.1,1.7,2.1,-0.9,0.1,1,1.9,0.4,-0.3,-2.4,2.7,1.3,2,-1.3,-1.5,0.7,1.1,2.3,1.1,0.7,0.9,1.1,0.1,-0.9,1.4,2.1,1.2,0.1,0.8,0.3,1.4,1.5,1,-0.5,2.4,0.9,1.5,1.6,1.2,1.3,1.8,0.8,1.8,1.9,2.6,1.5,1.8,1.8,0.6,0.7,1.2,1.5,2.5,1.1,1.6,1.6,1,0,0,1,0.5,1.7,0.6,0.1,1.7,0.2,2.1,0.1,0.9,0.8,-1.3,1.3,0.5,1.5,-0.6,1.2,2.4,2.6,1.1,0.8,2.5,-0.2,-2,0.1,0.1,1.6,2.6,1.2])\n",
    "plt.plot(a, b, 'o')\n",
    " \n",
    "c, d, e = np.polyfit(a, b, 2)\n",
    "\n",
    "f, g, h, i = np.polyfit(a, b, 3)\n",
    "\n",
    "j, k, l, m, z = np.polyfit(a, b, 4)\n",
    "\n",
    "yfit2 = np.poly1d([c, d, e])(a)\n",
    "yfit3 = np.poly1d([f, g, h, i])(a)\n",
    "yfit4 = np.poly1d([j, k, l, m, z])(a)\n",
    "\n",
    "plt.plot(a, yfit2, 'o')\n",
    "plt.plot(a, yfit3, 'o')\n",
    "plt.plot(a, yfit4, 'o')\n",
    "\n",
    "def RMSE(ideal, real):\n",
    "    return round(\n",
    "        np.sqrt\n",
    "        (np.sum\n",
    "         ((ideal - real)**2)/ len(real))\n",
    "        , 4)\n",
    "    \n",
    "\n",
    "rmse2 = RMSE(yfit2,b)\n",
    "rmse3 = RMSE(yfit3,b)\n",
    "rmse4 = RMSE(yfit4,b)    \n",
    "plt.legend(loc='best')\n",
    "\n",
    "print(np.min([rmse2, rmse3, rmse4]))"
   ]
  },
  {
   "cell_type": "code",
   "execution_count": null,
   "metadata": {},
   "outputs": [],
   "source": [
    "### Example solution\n",
    "\n",
    "a = np.array([88438,45505,75127,115571,89911,87432,100083,85589,73104,86890,78580,70785,41050,57610,107537,59262,73038,87891,75368,111638,74911,71599,96774,79667,90725,93816,75859,64969,205688,71500,53098,71250,89615,94747,50400,63673,78257,72785,83015,150000,84699,67191,86298,117705,88935,89643,106678,97894,132164,59387,60684,96151,68794,74559,29430,88362,111792,57205,83651,87518,80129,86801,110761,63274,66143,110694,52590,59994,80460,103589,68298,59056,40294,161848,103100,86354,37428,43307,80792,77368,109159,71538,84783,86250,82900,74728,48597,75549,106942,102167,62708,60630,70273,84918,88693,74141,46627,119112,88260,97262,86095,110472,82734,84761,91715,103292,86339,147993,77560,100625,68094,78250,75426,86138,112344,115000,98846,90499,80029,61959,76779,68833,81026,66361,92737,76692,64974,103869,51951,108854,61038,75938,75346,40639,73156,80067,82322,52353,\n",
    "              62832,207262,160106,77740,72011,167094,58458,41639,79528,66583,83993,138082,77366])\n",
    "b = np.array([1.7,-0.4,0.5,2.6,1.4,1.5,1.5,1.7,-0.5,1.6,0.9,1.1,-1.7,0.3,1.8,0.5,1,1.9,0.1,2,1.7,1,1.2,1.5,1,1.1,1.2,0,2.6,1.4,-0.8,1.6,1.1,1.2,-1.4,-0.5,1.9,0,1.5,2.4,1.5,0.7,1.8,2,2.4,1.6,2,2.3,2,0.1,0.3,2.3,0,0,-1.7,1.9,2,0,0.9,1.3,0.4,1.6,2.3,-0.1,1.7,2.1,-0.9,0.1,1,1.9,0.4,-0.3,-2.4,2.7,1.3,2,-1.3,-1.5,0.7,1.1,2.3,1.1,0.7,0.9,1.1,0.1,-0.9,1.4,2.1,1.2,0.1,0.8,0.3,1.4,1.5,1,-0.5,2.4,0.9,1.5,1.6,1.2,1.3,1.8,0.8,1.8,1.9,2.6,1.5,1.8,1.8,0.6,0.7,1.2,1.5,2.5,1.1,1.6,1.6,1,0,0,1,0.5,1.7,0.6,0.1,1.7,0.2,2.1,0.1,0.9,0.8,-1.3,1.3,0.5,1.5,-0.6,1.2,2.4,2.6,1.1,0.8,2.5,-0.2,-2,0.1,0.1,1.6,2.6,1.2])\n",
    "\n",
    "# A\n",
    "plt.plot(a, b,'o')\n",
    "\n",
    "# B\n",
    "c, d, e = np.polyfit(a, b, 2)\n",
    "\n",
    "f, g, h, i = np.polyfit(a, b, 3)\n",
    "\n",
    "j, k, l, m, n = np.polyfit(a, b, 4)\n",
    "\n",
    "# C\n",
    "yfit2 = np.poly1d([c, d, e])(a)\n",
    "yfit3 = np.poly1d([f, g, h, i])(a)\n",
    "yfit4 = np.poly1d([j, k, l, m, n])(a)\n",
    "\n",
    "# yfit2 = c*a**2 + d*a + e\n",
    "# yfit3 = f*a**3 + g*a**2 + h*a + i\n",
    "# yfit4 = j*a**4 + k*a**3 + l*a**2 + m*a + n\n",
    "\n",
    "plt.plot(a, yfit2,'o')\n",
    "plt.plot(a, yfit3,'o')\n",
    "plt.plot(a, yfit4,'o')\n",
    "\n",
    "# D\n",
    "# Define a function\n",
    "def RMSE(ideal, real):\n",
    "    return round(\n",
    "        np.sqrt\n",
    "        (np.sum\n",
    "         ((ideal - real)**2)/ len(real))\n",
    "        , 4)\n",
    "#ask where ideal and real come from\n",
    "# error\n",
    "rmse2 = RMSE(yfit2, b)\n",
    "rmse3 = RMSE(yfit3, b)\n",
    "rmse4 = RMSE(yfit4, b)\n",
    "\n",
    "# E\n",
    "# You don't need to replot the data as shown here, you can just add the labels to your answer to part C\n",
    "plt.plot(a, yfit2,'o', label = f\"RMSE={rmse2}\")\n",
    "plt.plot(a, yfit3,'o', label = f\"RMSE={rmse3}\")\n",
    "plt.plot(a, yfit4,'o', label = f\"RMSE={rmse4}\")\n",
    "plt.legend(loc='best')\n",
    "\n",
    "# F\n",
    "print(np.min([rmse2, rmse3, rmse4]))"
   ]
  },
  {
   "cell_type": "markdown",
   "metadata": {
    "collapsed": true,
    "slideshow": {
     "slide_type": "subslide"
    }
   },
   "source": [
    "### Review Exercise:  Vectorising a function\n",
    "\n",
    "Recall the function `is_positive` that we looked at in Seminar 5: Functions.\n",
    "\n",
    "A similar function is shown in the cell below.\n",
    "\n",
    "It takes an argument, `x` and returns:\n",
    "- `True` if `x` is positive.\n",
    "- `False` if `x` is negative. \n",
    "\n",
    "Write a vectorised version of the function that will accept a Numpy array as an argument.\n",
    "\n",
    "<br><a href=\"#Vectorising\">Jump to Vectorising a function.</a>\n",
    "\n",
    "Demonstrate your function works by calling it.  "
   ]
  },
  {
   "cell_type": "code",
   "execution_count": null,
   "metadata": {},
   "outputs": [],
   "source": [
    "X = np.array(0,10)\n",
    "def is_positive(x):\n",
    "    \"Checks if the function value f(x) is positive\"\n",
    "    for x in X:\n",
    "        return x > 0\n",
    "posreturn = np.vectorize(is_positive)\n",
    "print(posreturn(6))"
   ]
  },
  {
   "cell_type": "code",
   "execution_count": null,
   "metadata": {
    "collapsed": true
   },
   "outputs": [],
   "source": [
    "# Example Solution\n",
    "\n",
    "def is_positive(x):\n",
    "    \"Checks if the function value f(x) is positive\"\n",
    "    return x > 0\n",
    "\n",
    "is_positive_vec = np.vectorize(is_positive)\n",
    "\n",
    "z = [1, 2, 3]\n",
    "\n",
    "is_positive_vec(z)"
   ]
  },
  {
   "cell_type": "markdown",
   "metadata": {
    "collapsed": true,
    "slideshow": {
     "slide_type": "subslide"
    }
   },
   "source": [
    "### Review Exercise: Broadcasting\n",
    "Use a single broadcasting operation to:\n",
    "- add 2 to every element in the first column of `a`\n",
    "- add 3 to every element in the second column of `a`\n",
    "- subtract 1 from every element in the third column of `a`"
   ]
  },
  {
   "cell_type": "code",
   "execution_count": null,
   "metadata": {},
   "outputs": [],
   "source": [
    "a = np.array([  [49, 21, 22],\n",
    "                [0,   5, 14],\n",
    "                [15,  2,  9],\n",
    "                [ 1,  3, 10]])\n",
    "print(a)\n",
    "b=np.array([[2, 3, -1], \n",
    "            [2, 3, -1],\n",
    "            [2, 3, -1],\n",
    "            [2, 3, -1]])\n",
    "print(a+b)"
   ]
  },
  {
   "cell_type": "code",
   "execution_count": null,
   "metadata": {
    "collapsed": true
   },
   "outputs": [],
   "source": [
    "# Example Solution\n",
    "print(a + np.array([2, 3, -1]))"
   ]
  },
  {
   "cell_type": "markdown",
   "metadata": {
    "slideshow": {
     "slide_type": "subslide"
    }
   },
   "source": [
    "### Extension Exercise:  Broadcasting and Mathematics with matrices - Simultaneous Equations, Polynomial Coeffcients\n",
    "\n",
    "The equation of a parabola can be fully defined using three points that lie on the curve (provided the curve is not a  straight line). \n",
    "\n",
    "The equation for a parabola is $y=ax^2+bx+c$, where $a$, $b$, and $c$ are constants.\n",
    "\n",
    "__(A)__Given three points $(x_1,y_1)$, $(x_2,y_2)$, $(x_3,y_3)$,\n",
    "<br>three simultaneous equation may be written: \n",
    "$$\n",
    "\\begin{split}\n",
    "x_1^2a+x_1b+c&=y_1 \\\\\n",
    "x_2^2a+x_2b+c&=y_2 \\\\\n",
    "x_3^2a+x_3b+c&=y_3 \\\\\n",
    "\\end{split}\n",
    "$$\n",
    "\n",
    "Given that:\n",
    "<br>$(x_1,y_1)=(-2,2)$ \n",
    "<br>$(x_2,y_2)=(1,-1)$ \n",
    "<br>$(x_3,y_3)=(4,4)$\n",
    "<br>use matrix multiplication to find $a$,$b$ and $c$.\n",
    "\n",
    "<a href=\"#SimultaneousEqtns\">Jump to Simultaneous Equations.</a>\n",
    "<br><a href=\"#Broadcasting\">Jump to Broadcasting.</a>\n",
    "\n",
    "Hint: \n",
    "<br>Build a 1D array, `y`,  containing values $y_1$, $y_2$ and $y_3$.\n",
    "<br>Build a 2D array, `x`, with which to multiply `y` to find a 1D array containing $a$, $b$ and $c$.\n",
    "\n",
    "\n",
    "__(B)__ Show that your solution is correct by:\n",
    " - plotting a graph of $y=ax^2+bx+c$ against $x$ for range of x.\n",
    " - plotting the three points: <br>$(x_1,y_1)=(-2,2)$ <br>$(x_2,y_2)=(1,-1)$ <br>$(x_3,y_3)=(4,4)$ <br>as points to check that they lie on the curve.\n",
    "\n",
    "\n",
    "\n"
   ]
  },
  {
   "cell_type": "code",
   "execution_count": null,
   "metadata": {
    "collapsed": true
   },
   "outputs": [],
   "source": [
    "# Solve the simultaneous equations to find a, b and c"
   ]
  },
  {
   "cell_type": "code",
   "execution_count": null,
   "metadata": {
    "collapsed": true
   },
   "outputs": [],
   "source": [
    "# Example solution\n",
    "\n",
    "# 1D array, y\n",
    "y = np.array([2, -1, 4])\n",
    "\n",
    "# 2D array, x\n",
    "x = np.array([[(-2**2), -2, 1],\n",
    "              [(1**2),   1, 1],\n",
    "              [(4**2),   4, 1]])\n",
    "\n",
    "abc = np.linalg.solve(x, y)\n",
    "print(abc)\n",
    "\n",
    "\n",
    "\n",
    "# Another way to create matrix x without writing it out explicitly is to use:\n",
    "# - broadcasting\n",
    "# - the numpy function, power (raises first argument to power of second)\n",
    "xs = np.array([-2, 1, 4])\n",
    "xs = xs.reshape((3,1))\n",
    "power = np.array([2, 1, 0])\n",
    "x = np.power(xs, power)"
   ]
  },
  {
   "cell_type": "markdown",
   "metadata": {
    "slideshow": {
     "slide_type": "subslide"
    }
   },
   "source": [
    "### Extension Exercise:  Solving systems of first order differential equations - Predator & prey\n",
    "\n",
    "The predator-prey equations represent a simplified model of two species interacting; for example:\n",
    " - rabbits $x$(prey)\n",
    " - population $y$: foxes (predators) \n",
    "\n",
    "*The more foxes there are*, the more rabbits get eaten by foxes and the population of rabbits gets smaller...\n",
    "<br>...so there is less food for the foxes so the population of foxes gets smaller...\n",
    "<br>...so there is less danger to the rabbits, so the population fo rabbits gets bigger...\n",
    "<br>...so there is more food for the foxes, so the population of foxes gets bigger...\n",
    "<br>...*The more foxes there are*....\n",
    "\n",
    "We can expect to see the two populations rise and fall cyclically with time. \n",
    "\n",
    "The two related populations can be described by a pair of first-order non-linear ordinary differential equations. \n",
    "\n",
    "\\begin{align*}\n",
    "\\frac{dx}{dt}&=x(a-by)\\\\\n",
    "\\frac{dy}{dt}&=-y(c-dx)\\\\\n",
    "\\end{align*}\n",
    "\n",
    "Where:\n",
    "<br>$a$ represents rabbit births\n",
    "<br>$b$ represents rabbit deaths due to foxes\n",
    "<br>$c$ represents fox deaths in the absence of rabbits\n",
    "<br>$d$ represents foxes kept alive by feeding on rabbits\n",
    "\n",
    "<br>($a,b,c,d$ are assumed to be positive)\n",
    "\n",
    "__(A)__ Use `odeint` to estimate the solution to the couple differntial equations:\n",
    " - between time = 0 and time = 20 units (suggested time step = 0.1 unit) \n",
    " - where $a=b=c=d=1$\n",
    " - for initial conditions:<br>$x(0)=150$ <br>$y(0)=100$\n",
    "\n",
    "<a href=\"#DiffEqtns\">Jump to  Systems of Equations for Rates of Change.</a>\n",
    "\n",
    "__(B)__ Plot the two populations using a graph. <br>Include a legend to label the two populations.\n",
    "\n",
    "__(C)__ Try changing the values of $a,b,c,d$ and the initial number of rabbits and foxes and observe the output in your graph."
   ]
  },
  {
   "cell_type": "code",
   "execution_count": null,
   "metadata": {
    "collapsed": true
   },
   "outputs": [],
   "source": [
    "# Predator-prey equations"
   ]
  },
  {
   "cell_type": "code",
   "execution_count": null,
   "metadata": {
    "collapsed": true
   },
   "outputs": [],
   "source": [
    "# Example solution\n",
    "\n",
    "# A\n",
    "# Between time = 0 and time = 100\n",
    "ts = np.linspace(0, 100, 100)\n",
    "\n",
    "a,b,c,d = 1,1,1,1\n",
    "\n",
    "# Define function that returns differential \n",
    "def dP_dt(P, t):\n",
    "    \n",
    "    return [P[0]*(a - b*P[1]), \n",
    "           -P[1]*(c - d*P[0])]\n",
    "\n",
    "# Initial conditions\n",
    "P0 = [150, 100]\n",
    "\n",
    "# Solve using odeint\n",
    "Ps = odeint(dP_dt, P0, ts)\n",
    "\n",
    "\n",
    "# B \n",
    "# plot the two populations using a graph\n",
    "foxes = Ps[:,0]\n",
    "rabbits = Ps[:,1]\n",
    "\n",
    "plt.plot(ts, rabbits, label=\"rabbits\")\n",
    "plt.plot(ts, foxes,label=\"foxes\")\n",
    "\n",
    "t = ts[0:50:4]\n",
    "r = rabbits[0:50:4]\n",
    "f = foxes[0:50:4]\n",
    "\n",
    "plt.xlabel(\"Time\")\n",
    "plt.ylabel(\"Population\")\n",
    "# Include a legend\n",
    "plt.legend();\n",
    "\n",
    "print(t)\n",
    "print(r)\n",
    "print(f)"
   ]
  },
  {
   "cell_type": "markdown",
   "metadata": {
    "slideshow": {
     "slide_type": "slide"
    }
   },
   "source": [
    "# Summary\n",
    "\n",
    "- Numpy arrays are a type of data structure optimised for numerical computations.\n",
    "- Unlike data structure such as lists and tuples, an array can store data in multiple dimensions.\n",
    "- Numpy array are a convenient way to represent vectors and matrices.\n",
    "- Numpy funcions generally behave in an \"elementwise\" way.\n",
    "- We can \"vectorise\" other functions so that they accept data structure as arguments.\n",
    "- Broasdcasting is a useful tool for applying information in one numpy array to another without having to repeat or reshape the arrays to match one another.  \n",
    "- The matplotlib library can be used to quicky produce simple plots to visualise and check your solutions to mathematical problems.  \n",
    "- This includes fitting a curve or a relationship to a dataset."
   ]
  },
  {
   "cell_type": "markdown",
   "metadata": {
    "slideshow": {
     "slide_type": "slide"
    }
   },
   "source": [
    "###### Homework \n",
    "\n",
    "1. __PULL__ the changes you made in-class today to your personal computer.\n",
    "1. __COMPLETE__ any unfinished Review Exercises.\n",
    "1. __PUSH__ the changes you make at home to your online repository. \n",
    "1. Install __ffmpeg__...\n",
    "\n",
    "#### Installing FFmpeg\n",
    "FFmpeg is software for handling multimedia data.\n",
    "<br>You must have it installed to view the animatied figures we will produce in next week's seminar. \n",
    "\n",
    "###### Installing FFmpeg on mac\n",
    "Open a terminal.\n",
    "Copy and paste the following command into the terminal to install homebrew (a linux-like package manager): \n",
    ">`ruby -e \"$(curl -fsSL https://raw.githubusercontent.com/Homebrew/install/master/install)\"`\n",
    "\n",
    "Copy and paste the following command into the terminal to install FFmpeg: \n",
    ">`brew install ffmpeg` \n",
    "\n",
    "To check ffmpeg has installed copy and paste the following command into the terminal:\n",
    ">`ffmpeg -version`\n",
    "\n",
    "If FFmpeg has installed a few lines of code will appear, starting with the version number which will be something like:\n",
    ">`ffmpeg version 3.4 Copyright (c) 2000-2017 `\n",
    "\n"
   ]
  },
  {
   "cell_type": "markdown",
   "metadata": {
    "collapsed": true
   },
   "source": [
    "###### Installing FFmpeg on linux\n",
    "Open a terminal.\n",
    "Copy and paste the following commands into the terminal (one-by-one, pressing enter after one) to install ffmpeg: \n",
    ">`sudo add-apt-repository ppa:kirillshkrogalev/ffmpeg-next\n",
    "sudo apt-get update\n",
    "sudo apt-get install ffmpeg`\n",
    "\n",
    "To check ffmpeg has installed copy and paste the following command into the terminal:\n",
    ">`ffmpeg -version`\n",
    "\n",
    "If FFmpeg has installed a few lines of code will appear, starting with the version number which will be something like:\n",
    ">`ffmpeg version 3.4 Copyright (c) 2000-2017 `\n",
    "\n",
    "\n",
    "\n"
   ]
  },
  {
   "cell_type": "markdown",
   "metadata": {},
   "source": [
    "###### Installing FFmpeg on  windows\n",
    "\n",
    "Open a terminal.\n",
    "\n",
    "To find out what version of windows you have, copy and paste the following command into the terminal to see if your computer has a 32 or 64 bit CPU:\n",
    ">`wmic os get osarchitecture`\n",
    "\n",
    "Go to ffmpeg.zeranoe.com/builds/ \n",
    " - Click the appropraite __Architecture__ for your computer.\n",
    " - Click Static __Linking__\n",
    " - Leave __Version__ as the default.\n",
    " - Click __Download Build__\n",
    "\n",
    "Go to your computer's Downloads folder.\n",
    " - Right click on the newly downloaded .zip folder (it's name will start with `ffmpeg`).\n",
    " - Choose __Extract All__ from the drop-down menu.\n",
    " - If given the option to choose a location to extract the files to, choose your Program Files folder.<br>Otherwise, a non-.zip folder of the same name as the one you downloaded will appear in the Downloads folder. <br>Copy the folder to your Program Files folder.\n",
    " - Change rename of the folder you just copied into Program Files with the name:\n",
    " <br>`ffmpeg`\n",
    " \n",
    "Go back to the terminal and copy and paste the following command into the terminal to add ffmpeg to the windows path: \n",
    ">`PATH=C:\\Program Files\\ffmpeg\\bin;%PATH%`\n",
    "\n",
    "To check ffmpeg has installed copy and paste the following command into the terminal:\n",
    ">`ffmpeg -version`\n",
    "\n",
    "If FFmpeg has installed a few lines of code will appear, starting with the version number which will be something like:\n",
    ">`ffmpeg version 3.4 Copyright (c) 2000-2017 `\n",
    "\n"
   ]
  },
  {
   "cell_type": "markdown",
   "metadata": {},
   "source": [
    "Please do this before next week's class."
   ]
  },
  {
   "cell_type": "code",
   "execution_count": null,
   "metadata": {
    "collapsed": true
   },
   "outputs": [],
   "source": []
  }
 ],
 "metadata": {
  "celltoolbar": "Slideshow",
  "kernelspec": {
   "display_name": "Python 3",
   "language": "python",
   "name": "python3"
  },
  "language_info": {
   "codemirror_mode": {
    "name": "ipython",
    "version": 3
   },
   "file_extension": ".py",
   "mimetype": "text/x-python",
   "name": "python",
   "nbconvert_exporter": "python",
   "pygments_lexer": "ipython3",
   "version": "3.6.2"
  }
 },
 "nbformat": 4,
 "nbformat_minor": 2
}
