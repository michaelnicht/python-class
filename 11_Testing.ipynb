{
 "cells": [
  {
   "cell_type": "code",
   "execution_count": 5,
   "metadata": {},
   "outputs": [
    {
     "data": {
      "text/html": [
       "<style>\n",
       "\n",
       "body {\n",
       " counter-reset: h2counter;\n",
       "}\n",
       "h1 {\n",
       " counter-reset: h2counter;\n",
       "}\n",
       "h2:before {\n",
       " content: counter(h2counter) \".\\0000a0\\0000a0\";\n",
       " counter-increment: h2counter;\n",
       " counter-reset: h3counter;\n",
       "}\n",
       "\n",
       "\n",
       "</style>\n"
      ],
      "text/plain": [
       "<IPython.core.display.HTML object>"
      ]
     },
     "execution_count": 5,
     "metadata": {},
     "output_type": "execute_result"
    }
   ],
   "source": [
    "from IPython.core.display import HTML\n",
    "def css_styling():\n",
    "    styles = open(\"./styles/custom.css\", \"r\").read()\n",
    "    return HTML(styles)\n",
    "css_styling()"
   ]
  },
  {
   "cell_type": "markdown",
   "metadata": {},
   "source": [
    "### BEFORE YOU DO ANYTHING...\n",
    "In the terminal:\n",
    "1. Navigate to __inside__ your ILAS_Python repository.\n",
    "2. __COMMIT__ any un-commited work on your personal computer.\n",
    "3. __PULL__ any changes *you* have made using another computer.\n",
    "4. __PULL__ textbook updates (including homework answers).\n",
    "\n",
    "Then:\n",
    "1. __Open Jupyter notebook:__   Start >> Programs (すべてのプログラム) >> Programming >> Anaconda3 >> JupyterNotebook\n",
    "1. __Navigate to the ILAS_Python folder__. \n",
    "1. __Open today's seminar__  by clicking on 11_Testing."
   ]
  },
  {
   "cell_type": "markdown",
   "metadata": {},
   "source": [
    "Some packages we will use today..."
   ]
  },
  {
   "cell_type": "code",
   "execution_count": 6,
   "metadata": {
    "collapsed": true
   },
   "outputs": [],
   "source": [
    "import numpy as np\n",
    "import matplotlib.pyplot as plt\n",
    "%matplotlib inline"
   ]
  },
  {
   "cell_type": "markdown",
   "metadata": {},
   "source": [
    "# Dealing with Errors and Exceptions"
   ]
  },
  {
   "cell_type": "markdown",
   "metadata": {},
   "source": [
    "# Lesson Goal\n",
    "To write code that tests the code you have written by using a standard format to present your program with a range of possible inputs."
   ]
  },
  {
   "cell_type": "markdown",
   "metadata": {},
   "source": [
    "# Objectives\n",
    " - Understand the meaning of some of the most prevalent *syntax* errors and be able to take logical steps to solve them."
   ]
  },
  {
   "cell_type": "markdown",
   "metadata": {},
   "source": [
    "# Why we are studying this\n",
    "\n",
    "Testing is a critical part of software engineering:\n",
    " - enhancing program quality.\n",
    " - builds the confidence we (and others) have in a program to run.\n",
    " \n",
    "The programming examples in the preceding notebooks included little or no checking/testing. \n",
    "\n",
    "By including tests in any programs you develop independently, you can avoid future failures of your code and debuging after the development stage. "
   ]
  },
  {
   "cell_type": "markdown",
   "metadata": {},
   "source": [
    "# Lesson Structure\n",
    " - \n",
    "  - "
   ]
  },
  {
   "cell_type": "markdown",
   "metadata": {},
   "source": [
    "# Testing\n",
    "\n",
    "Testing is useful in developing a new program. \n",
    "\n",
    "Programs with dynamically changing input should also come with a *suite* of tests that can be run regularly."
   ]
  },
  {
   "cell_type": "markdown",
   "metadata": {},
   "source": [
    "For example, any program used for engineering analysis should have a *suite* of tests.\n",
    "\n",
    "The data input by the user or imported, for example from the results of an experiment, may vary so the program's ability to repspond to this should be tested."
   ]
  },
  {
   "cell_type": "markdown",
   "metadata": {},
   "source": [
    "When testing a program, we should test for:\n",
    " - valid input data. \n",
    " - invalid input data.\n",
    " \n",
    "For the valid cases the computed result should be checked against a known correct solution. \n",
    "\n",
    "For the invalid data cases, tests should check that an exception is raised. "
   ]
  },
  {
   "cell_type": "markdown",
   "metadata": {},
   "source": [
    "## `assert` : Checking your code against a *known* solution."
   ]
  },
  {
   "cell_type": "markdown",
   "metadata": {},
   "source": [
    "Let's look again at an example from Seminar 5: Functions; a recursive function used to generate the Fibonacci number series; an integer sequence characterised by the fact that every number (after the first two) is the sum of the two preceding numbers in the sequence. \n",
    "\n",
    "$$\n",
    "f_n = f_{n-1} + f_{n-2}\n",
    "$$"
   ]
  },
  {
   "cell_type": "code",
   "execution_count": 1,
   "metadata": {
    "collapsed": true
   },
   "outputs": [],
   "source": [
    "def f(n): \n",
    "    \"Compute the nth Fibonacci number using recursion\"\n",
    "    if n == 0:\n",
    "        return 0  # Breaks out of the recursion loop\n",
    "    elif n == 1:\n",
    "        return 1  # Breaks out of the recursion loop\n",
    "    else:\n",
    "        return f(n - 1) + f(n - 2)  # Calls f for n-1 and n-2 (recursion)    "
   ]
  },
  {
   "cell_type": "markdown",
   "metadata": {},
   "source": [
    "We can check a number of computed terms in the series against\n",
    "known results. \n",
    "\n",
    "| Term | 1 | 2 | 3 | 4 | 5 | 6 | 7 | 8 | 9 | 10 | 11 | 12 | 13 | 14 | 15 | 16 |\n",
    "|---|---|---|---|---|---|---|---|---|---|---|---|---|---|---|---|---|\n",
    "| Output | 0 | 1 | 1 | 2 | 3 | 5 | 8 | 13 | 21 | 34 | 55 | 89 | 144 | 233 | 377 | 610 |\n",
    "\n",
    "A useful tool for this is the `assert` keyword:"
   ]
  },
  {
   "cell_type": "code",
   "execution_count": 4,
   "metadata": {},
   "outputs": [],
   "source": [
    "assert f(0) == 0\n",
    "assert f(1) == 1\n",
    "assert f(2) == 1\n",
    "assert f(3) == 2\n",
    "assert f(10) == 55\n",
    "assert f(15) == 610"
   ]
  },
  {
   "cell_type": "markdown",
   "metadata": {},
   "source": [
    "If all the assertions are true, there should be no output. \n",
    "\n",
    "__Try it yourself__\n",
    "<br>Try changing one of the checks to trigger an assertion failure."
   ]
  },
  {
   "cell_type": "markdown",
   "metadata": {},
   "source": [
    "## Test frameworks : Checking your code against *invalid* solutions."
   ]
  },
  {
   "cell_type": "markdown",
   "metadata": {},
   "source": [
    "Testing is so important to good software engineering that many packages have been developed to help write and run tests. \n",
    "\n",
    "A popular and powerful testing library for Python is `pytest` (http://doc.pytest.org/en/latest/). \n",
    "\n"
   ]
  },
  {
   "cell_type": "markdown",
   "metadata": {},
   "source": [
    "Before using `pytest`, we need to check that it is installed. \n",
    "\n",
    "Do do this we can use `try` and `except` (Seminar 10: Error Handling)\n",
    "\n",
    "We try to import `pytest`, and if that fails we install it:"
   ]
  },
  {
   "cell_type": "code",
   "execution_count": 10,
   "metadata": {
    "collapsed": true
   },
   "outputs": [],
   "source": [
    "try: \n",
    "    import pytest\n",
    "except:\n",
    "    try:\n",
    "        !{sys.executable} -m pip -q install pytest\n",
    "        import pytest\n",
    "    except ImportError:\n",
    "        !{sys.executable} -m pip -q --user install pytest"
   ]
  },
  {
   "cell_type": "code",
   "execution_count": null,
   "metadata": {
    "collapsed": true
   },
   "outputs": [],
   "source": []
  },
  {
   "cell_type": "markdown",
   "metadata": {},
   "source": [
    "We have seen some simple testing of the Fibonacci series that checks for __correctness__. \n",
    "\n",
    "Now let's look at the hydrostatic pressure function that we studied in:\n",
    " - Seminar 5: Functions\n",
    " - Seminar 10: Error Handling; where we studied how to raise an exception if the arguments to the function were invalid."
   ]
  },
  {
   "cell_type": "code",
   "execution_count": 8,
   "metadata": {
    "collapsed": true
   },
   "outputs": [],
   "source": [
    "def hp(h, *, rho = 1000, g = 9.81):\n",
    "    \"\"\"\n",
    "    Computes the hydrostatic pressure acting on a submerged object given:\n",
    "        - the height of fluid above the object, h\n",
    "        - the density of the fluid in which is it submerged, rho\n",
    "        - the acceleration due to gravity, g\n",
    "\n",
    "    \"\"\"\n",
    "    if h < 0:\n",
    "        raise ValueError(\"Height of fluid, h, must be greater than or equal to zero\")\n",
    "    if rho < 0:\n",
    "        raise ValueError(\"Density of fluid, rho, must be greater than or equal to zero\")\n",
    "    if g < 0:\n",
    "        raise ValueError(\"Acceleeration due to gravity, g, must be greater than or equal to zero\")\n",
    "\n",
    "    return rho * g * h"
   ]
  },
  {
   "cell_type": "markdown",
   "metadata": {},
   "source": [
    "To test the new feature we have added to our function (to check a `ValueError` error *is*  rasied if invalid data is input).\n",
    "\n",
    " We can do this with PyTest:"
   ]
  },
  {
   "cell_type": "code",
   "execution_count": 9,
   "metadata": {},
   "outputs": [],
   "source": [
    "# Use PyTest to check that ValueError is raised for invalid input data\n",
    "import pytest\n",
    "\n",
    "# Check that h < zero raises a ValueError\n",
    "with pytest.raises(ValueError):\n",
    "    hp(-10)\n",
    "\n",
    "# Check that rho < zero raises a ValueError\n",
    "with pytest.raises(ValueError):\n",
    "    hp(10, rho=-10)\n",
    "\n",
    "# Check that g < zero raises a ValueError\n",
    "with pytest.raises(ValueError):\n",
    "    hp(10, g=-9.81)"
   ]
  },
  {
   "cell_type": "code",
   "execution_count": null,
   "metadata": {
    "collapsed": true
   },
   "outputs": [],
   "source": []
  }
 ],
 "metadata": {
  "kernelspec": {
   "display_name": "Python 3",
   "language": "python",
   "name": "python3"
  },
  "language_info": {
   "codemirror_mode": {
    "name": "ipython",
    "version": 3
   },
   "file_extension": ".py",
   "mimetype": "text/x-python",
   "name": "python",
   "nbconvert_exporter": "python",
   "pygments_lexer": "ipython3",
   "version": "3.6.2"
  }
 },
 "nbformat": 4,
 "nbformat_minor": 2
}
